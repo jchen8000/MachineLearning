{
  "nbformat": 4,
  "nbformat_minor": 0,
  "metadata": {
    "colab": {
      "name": "LogisticRegressionWithOpenCVonIRIS.ipynb",
      "provenance": [],
      "authorship_tag": "ABX9TyOt8rGOslPxBjTR874h9kNl",
      "include_colab_link": true
    },
    "kernelspec": {
      "name": "python3",
      "display_name": "Python 3"
    },
    "language_info": {
      "name": "python"
    }
  },
  "cells": [
    {
      "cell_type": "markdown",
      "metadata": {
        "id": "view-in-github",
        "colab_type": "text"
      },
      "source": [
        "<a href=\"https://colab.research.google.com/github/jchen8000/MachineLearning/blob/master/2%20Logistic%20Regression/LogisticRegressionWithOpenCVonIRIS.ipynb\" target=\"_parent\"><img src=\"https://colab.research.google.com/assets/colab-badge.svg\" alt=\"Open In Colab\"/></a>"
      ]
    },
    {
      "cell_type": "code",
      "metadata": {
        "id": "OukUFNP_Wq4J"
      },
      "source": [
        "import numpy as np\n",
        "import cv2\n",
        "from sklearn import datasets\n",
        "from sklearn import model_selection\n",
        "from sklearn import metrics\n",
        "import matplotlib.pyplot as plt\n",
        "\n",
        "# plt.style.use('ggplot')\n",
        "iris=datasets.load_iris()         # 载入训练数据集\n"
      ],
      "execution_count": 1,
      "outputs": []
    },
    {
      "cell_type": "code",
      "metadata": {
        "colab": {
          "base_uri": "https://localhost:8080/"
        },
        "id": "oRxFQ0e6XSp5",
        "outputId": "189c8182-2368-493e-c59e-fdbeaca37a48"
      },
      "source": [
        "print (dir(iris))             #字典结构\n",
        "print (iris.data.shape)       #数据大小和特征\n",
        "print (iris.feature_names)     #特征\n",
        "print (iris.target.shape)\n",
        "print (np.unique(iris.target))    #标签"
      ],
      "execution_count": 2,
      "outputs": [
        {
          "output_type": "stream",
          "text": [
            "['DESCR', 'data', 'feature_names', 'filename', 'target', 'target_names']\n",
            "(150, 4)\n",
            "['sepal length (cm)', 'sepal width (cm)', 'petal length (cm)', 'petal width (cm)']\n",
            "(150,)\n",
            "[0 1 2]\n"
          ],
          "name": "stdout"
        }
      ]
    },
    {
      "cell_type": "code",
      "metadata": {
        "id": "IMEfFfRsXkxy"
      },
      "source": [
        "# 简化二分类问题   因为仅关注二分类问题，忽略不需要的标签\n",
        "idx=iris.target !=2     # 得到标签为0和1的数据\n",
        "data=iris.data[idx].astype(np.float32)\n",
        "target=iris.target[idx].astype(np.float32)"
      ],
      "execution_count": 3,
      "outputs": []
    },
    {
      "cell_type": "code",
      "metadata": {
        "colab": {
          "base_uri": "https://localhost:8080/",
          "height": 285
        },
        "id": "7NO4DuaPXmO2",
        "outputId": "cd677e7e-bae6-48fd-a8e3-1cb4788df351"
      },
      "source": [
        "# 检查数据\n",
        "plt.scatter(data[:,0],data[:,1],c=target,cmap='viridis',s=80)\n",
        "plt.xlabel(iris.feature_names[0])\n",
        "plt.ylabel(iris.feature_names[1])\n",
        "plt.show()"
      ],
      "execution_count": 8,
      "outputs": [
        {
          "output_type": "display_data",
          "data": {
            "image/png": "[encoded data removed]",
            "text/plain": [
              "<Figure size 432x288 with 1 Axes>"
            ]
          },
          "metadata": {
            "tags": [],
            "needs_background": "light"
          }
        }
      ]
    },
    {
      "cell_type": "code",
      "metadata": {
        "colab": {
          "base_uri": "https://localhost:8080/"
        },
        "id": "Ae53UU5KXdR5",
        "outputId": "eebe5682-534a-4dbe-821e-32d70b9aa529"
      },
      "source": [
        "# 把数据分为训练集和测试集\n",
        "X_train,X_test,Y_train,Y_test=model_selection.train_test_split(data,target,test_size=0.1,random_state=42)   #42 表示随机状态\n",
        "\n",
        "# 训练分类器\n",
        "lr=cv2.ml.LogisticRegression_create()   # 创建分类器\n",
        "lr.setTrainMethod(cv2.ml.LogisticRegression_MINI_BATCH)          # 指定训练方法\n",
        "lr.setMiniBatchSize(1)                                           # 使用每个数据的之后都更新一次模型\n",
        "lr.setIterations(100)                                            # 算法结束之前的迭代次数\n",
        "lr.train(X_train,cv2.ml.ROW_SAMPLE,Y_train)                      # 调用对象的训练方法\n",
        "lr.get_learnt_thetas()                                           # 检索得到的权重　ｘ＝ｗ０ｆ０＋ｗ１ｆ１＋ｗ２ｆ２＋ｗ３ｆ３＋ｗ４ｆ４＋ｗ４　　四个特征ｆ，偏差ｗ４\n",
        "#　print(lr.get_learnt_thetas())\n",
        "\n",
        "\n"
      ],
      "execution_count": 5,
      "outputs": [
        {
          "output_type": "execute_result",
          "data": {
            "text/plain": [
              "array([[-0.04090132, -0.01910266, -0.16340332,  0.28743777,  0.11909772]],\n",
              "      dtype=float32)"
            ]
          },
          "metadata": {
            "tags": []
          },
          "execution_count": 5
        }
      ]
    },
    {
      "cell_type": "code",
      "metadata": {
        "colab": {
          "base_uri": "https://localhost:8080/"
        },
        "id": "-b6rkXeZXqZg",
        "outputId": "0416824e-2e50-4e48-bb28-f44cd634b8bf"
      },
      "source": [
        "# 测试分类器\n",
        "ret1, y_pred = lr.predict (X_train)\n",
        "print (metrics.accuracy_score(Y_train,y_pred))      # 训练数据集上的准确度\n",
        "\n",
        "ret2, Y_pred= lr.predict(X_test)\n",
        "print (metrics.accuracy_score(Y_test,Y_pred))        # 测试集上的准确度"
      ],
      "execution_count": 6,
      "outputs": [
        {
          "output_type": "stream",
          "text": [
            "1.0\n",
            "1.0\n"
          ],
          "name": "stdout"
        }
      ]
    }
  ]
}