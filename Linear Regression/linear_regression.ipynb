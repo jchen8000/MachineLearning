{
  "nbformat": 4,
  "nbformat_minor": 0,
  "metadata": {
    "colab": {
      "name": "linear_regression.ipynb",
      "version": "0.3.2",
      "provenance": [],
      "include_colab_link": true
    },
    "kernelspec": {
      "name": "python3",
      "display_name": "Python 3"
    }
  },
  "cells": [
    {
      "cell_type": "markdown",
      "metadata": {
        "id": "view-in-github",
        "colab_type": "text"
      },
      "source": [
        "<a href=\"https://colab.research.google.com/github/jchen8000/MachineLearning/blob/master/Linear%20Regression/linear_regression.ipynb\" target=\"_parent\"><img src=\"https://colab.research.google.com/assets/colab-badge.svg\" alt=\"Open In Colab\"/></a>"
      ]
    },
    {
      "metadata": {
        "id": "JOioekHEPUvl",
        "colab_type": "text"
      },
      "cell_type": "markdown",
      "source": [
        "# Linear Regression"
      ]
    },
    {
      "metadata": {
        "id": "XRX-y2CJO3F3",
        "colab_type": "code",
        "outputId": "e474a4db-b1fe-46b0-d0fb-69598f69db0c",
        "colab": {
          "base_uri": "https://localhost:8080/",
          "height": 71
        }
      },
      "cell_type": "code",
      "source": [
        "%matplotlib inline \n",
        "\n",
        "import numpy as np\n",
        "import pandas as pd\n",
        "import scipy.stats as stats\n",
        "import matplotlib.pyplot as plt\n",
        "import sklearn\n",
        "from sklearn.model_selection import train_test_split\n",
        "import statsmodels.api as sm\n",
        "\n",
        "import seaborn as sns\n",
        "sns.set_style(\"whitegrid\")\n",
        "sns.set_context(\"poster\")\n",
        "\n",
        "# special matplotlib argument for improved plots\n",
        "from matplotlib import rcParams"
      ],
      "execution_count": 0,
      "outputs": [
        {
          "output_type": "stream",
          "text": [
            "/usr/local/lib/python3.6/dist-packages/statsmodels/compat/pandas.py:56: FutureWarning: The pandas.core.datetools module is deprecated and will be removed in a future version. Please use the pandas.tseries module instead.\n",
            "  from pandas.core import datetools\n"
          ],
          "name": "stderr"
        }
      ]
    },
    {
      "metadata": {
        "id": "gA7z6DO9Pb_8",
        "colab_type": "text"
      },
      "cell_type": "markdown",
      "source": [
        "## 1. Boston Dataset"
      ]
    },
    {
      "metadata": {
        "id": "Y-rWhd2YQQ6m",
        "colab_type": "text"
      },
      "cell_type": "markdown",
      "source": [
        "### 1.1 Boston Data Details"
      ]
    },
    {
      "metadata": {
        "id": "Yf7tOC1sPi3t",
        "colab_type": "code",
        "colab": {}
      },
      "cell_type": "code",
      "source": [
        "from sklearn.datasets import load_boston\n",
        "boston = load_boston()"
      ],
      "execution_count": 0,
      "outputs": []
    },
    {
      "metadata": {
        "id": "5AhnCP2LPyJp",
        "colab_type": "code",
        "outputId": "88d79a42-6e45-4ccb-c10d-1d938fe15088",
        "colab": {
          "base_uri": "https://localhost:8080/",
          "height": 972
        }
      },
      "cell_type": "code",
      "source": [
        "print(boston.keys())\n",
        "print(boston.data.shape)\n",
        "print(boston.feature_names)\n",
        "print(boston.DESCR)"
      ],
      "execution_count": 0,
      "outputs": [
        {
          "output_type": "stream",
          "text": [
            "dict_keys(['data', 'target', 'feature_names', 'DESCR', 'filename'])\n",
            "(506, 13)\n",
            "['CRIM' 'ZN' 'INDUS' 'CHAS' 'NOX' 'RM' 'AGE' 'DIS' 'RAD' 'TAX' 'PTRATIO'\n",
            " 'B' 'LSTAT']\n",
            ".. _boston_dataset:\n",
            "\n",
            "Boston house prices dataset\n",
            "---------------------------\n",
            "\n",
            "**Data Set Characteristics:**  \n",
            "\n",
            "    :Number of Instances: 506 \n",
            "\n",
            "    :Number of Attributes: 13 numeric/categorical predictive. Median Value (attribute 14) is usually the target.\n",
            "\n",
            "    :Attribute Information (in order):\n",
            "        - CRIM     per capita crime rate by town\n",
            "        - ZN       proportion of residential land zoned for lots over 25,000 sq.ft.\n",
            "        - INDUS    proportion of non-retail business acres per town\n",
            "        - CHAS     Charles River dummy variable (= 1 if tract bounds river; 0 otherwise)\n",
            "        - NOX      nitric oxides concentration (parts per 10 million)\n",
            "        - RM       average number of rooms per dwelling\n",
            "        - AGE      proportion of owner-occupied units built prior to 1940\n",
            "        - DIS      weighted distances to five Boston employment centres\n",
            "        - RAD      index of accessibility to radial highways\n",
            "        - TAX      full-value property-tax rate per $10,000\n",
            "        - PTRATIO  pupil-teacher ratio by town\n",
            "        - B        1000(Bk - 0.63)^2 where Bk is the proportion of blacks by town\n",
            "        - LSTAT    % lower status of the population\n",
            "        - MEDV     Median value of owner-occupied homes in $1000's\n",
            "\n",
            "    :Missing Attribute Values: None\n",
            "\n",
            "    :Creator: Harrison, D. and Rubinfeld, D.L.\n",
            "\n",
            "This is a copy of UCI ML housing dataset.\n",
            "https://archive.ics.uci.edu/ml/machine-learning-databases/housing/\n",
            "\n",
            "\n",
            "This dataset was taken from the StatLib library which is maintained at Carnegie Mellon University.\n",
            "\n",
            "The Boston house-price data of Harrison, D. and Rubinfeld, D.L. 'Hedonic\n",
            "prices and the demand for clean air', J. Environ. Economics & Management,\n",
            "vol.5, 81-102, 1978.   Used in Belsley, Kuh & Welsch, 'Regression diagnostics\n",
            "...', Wiley, 1980.   N.B. Various transformations are used in the table on\n",
            "pages 244-261 of the latter.\n",
            "\n",
            "The Boston house-price data has been used in many machine learning papers that address regression\n",
            "problems.   \n",
            "     \n",
            ".. topic:: References\n",
            "\n",
            "   - Belsley, Kuh & Welsch, 'Regression diagnostics: Identifying Influential Data and Sources of Collinearity', Wiley, 1980. 244-261.\n",
            "   - Quinlan,R. (1993). Combining Instance-Based and Model-Based Learning. In Proceedings on the Tenth International Conference of Machine Learning, 236-243, University of Massachusetts, Amherst. Morgan Kaufmann.\n",
            "\n"
          ],
          "name": "stdout"
        }
      ]
    },
    {
      "metadata": {
        "id": "z8JJEPEMP931",
        "colab_type": "code",
        "outputId": "eeacdc65-ced5-4388-de14-7e1b9623622d",
        "colab": {
          "base_uri": "https://localhost:8080/",
          "height": 731
        }
      },
      "cell_type": "code",
      "source": [
        "bos = pd.DataFrame(boston.data)\n",
        "bos.columns = boston.feature_names\n",
        "bos['PRICE'] = boston.target\n",
        "print(bos.head())\n",
        "print(bos.describe())"
      ],
      "execution_count": 0,
      "outputs": [
        {
          "output_type": "stream",
          "text": [
            "      CRIM    ZN  INDUS  CHAS    NOX     RM   AGE     DIS  RAD    TAX  \\\n",
            "0  0.00632  18.0   2.31   0.0  0.538  6.575  65.2  4.0900  1.0  296.0   \n",
            "1  0.02731   0.0   7.07   0.0  0.469  6.421  78.9  4.9671  2.0  242.0   \n",
            "2  0.02729   0.0   7.07   0.0  0.469  7.185  61.1  4.9671  2.0  242.0   \n",
            "3  0.03237   0.0   2.18   0.0  0.458  6.998  45.8  6.0622  3.0  222.0   \n",
            "4  0.06905   0.0   2.18   0.0  0.458  7.147  54.2  6.0622  3.0  222.0   \n",
            "\n",
            "   PTRATIO       B  LSTAT  PRICE  \n",
            "0     15.3  396.90   4.98   24.0  \n",
            "1     17.8  396.90   9.14   21.6  \n",
            "2     17.8  392.83   4.03   34.7  \n",
            "3     18.7  394.63   2.94   33.4  \n",
            "4     18.7  396.90   5.33   36.2  \n",
            "             CRIM          ZN       INDUS        CHAS         NOX          RM  \\\n",
            "count  506.000000  506.000000  506.000000  506.000000  506.000000  506.000000   \n",
            "mean     3.613524   11.363636   11.136779    0.069170    0.554695    6.284634   \n",
            "std      8.601545   23.322453    6.860353    0.253994    0.115878    0.702617   \n",
            "min      0.006320    0.000000    0.460000    0.000000    0.385000    3.561000   \n",
            "25%      0.082045    0.000000    5.190000    0.000000    0.449000    5.885500   \n",
            "50%      0.256510    0.000000    9.690000    0.000000    0.538000    6.208500   \n",
            "75%      3.677083   12.500000   18.100000    0.000000    0.624000    6.623500   \n",
            "max     88.976200  100.000000   27.740000    1.000000    0.871000    8.780000   \n",
            "\n",
            "              AGE         DIS         RAD         TAX     PTRATIO           B  \\\n",
            "count  506.000000  506.000000  506.000000  506.000000  506.000000  506.000000   \n",
            "mean    68.574901    3.795043    9.549407  408.237154   18.455534  356.674032   \n",
            "std     28.148861    2.105710    8.707259  168.537116    2.164946   91.294864   \n",
            "min      2.900000    1.129600    1.000000  187.000000   12.600000    0.320000   \n",
            "25%     45.025000    2.100175    4.000000  279.000000   17.400000  375.377500   \n",
            "50%     77.500000    3.207450    5.000000  330.000000   19.050000  391.440000   \n",
            "75%     94.075000    5.188425   24.000000  666.000000   20.200000  396.225000   \n",
            "max    100.000000   12.126500   24.000000  711.000000   22.000000  396.900000   \n",
            "\n",
            "            LSTAT       PRICE  \n",
            "count  506.000000  506.000000  \n",
            "mean    12.653063   22.532806  \n",
            "std      7.141062    9.197104  \n",
            "min      1.730000    5.000000  \n",
            "25%      6.950000   17.025000  \n",
            "50%     11.360000   21.200000  \n",
            "75%     16.955000   25.000000  \n",
            "max     37.970000   50.000000  \n"
          ],
          "name": "stdout"
        }
      ]
    },
    {
      "metadata": {
        "id": "olibk1FyQ32x",
        "colab_type": "text"
      },
      "cell_type": "markdown",
      "source": [
        "## 2. Linear Regression from scratch"
      ]
    },
    {
      "metadata": {
        "id": "fv34c7Xee00l",
        "colab_type": "text"
      },
      "cell_type": "markdown",
      "source": [
        "### 2.1 Cost Function and Gradient Descent\n",
        "\n",
        "> The **hypothesis** of Linear Regression is:  \n",
        "\n",
        ">> $ h_\\theta(x) =  \\theta_0 +  \\theta_1x_1 + \\theta_2x_2 + ... + \\theta_nx_n $\n",
        "\n",
        ">> Or: $ h_\\theta(x)  =  \\theta ^ T x $\n",
        "\n",
        "> The **Cost Function** is:\n",
        "\n",
        ">> $ J( \\theta ) = \\frac{\\mathrm{1} }{2m}  \\sum_{i=1}^{m} (h_ \\theta (x^i) - y^i )^2 +    \\frac{\\mathrm{\\lambda} }{2m} \\sum_{j=1}^{n} \\theta_j^2   $\n",
        "\n",
        "> The **Gradient Descent** is the partial derivative of the cost function, as below:\n",
        "\n",
        ">> $  \\frac{\\partial J( \\theta ) }{\\partial \\theta_j} = \\frac{\\mathrm{1} }{m}  \\sum_{i=1}^{m} ( h_\\theta(x^i) - y^i ) x^i_j  $"
      ]
    },
    {
      "metadata": {
        "id": "Eaxv8wM5YYI-",
        "colab_type": "code",
        "colab": {}
      },
      "cell_type": "code",
      "source": [
        "def prediction(X, theta):\n",
        "    return X @ theta\n",
        "\n",
        "def costFunction(X, y, theta, lmbda):\n",
        "    temp = prediction(X, theta) - y\n",
        "    return np.sum(np.power(temp, 2)) / (2*len(X)) + np.sum(theta[1:]**2) * lmbda / (2*len(X))\n",
        "  \n",
        "def gradientDescent(X, y, theta, alpha, lmbda, iterations):\n",
        "    cost_history = [] #Used to plot cost as function of iteration\n",
        "    theta_history = [] #Used to visualize the minimization path later on\n",
        "    m = len(y)\n",
        "    for _ in range(iterations):\n",
        "        temp = prediction(X, theta) - y\n",
        "        temp = X.T @ temp\n",
        "        theta = theta - (alpha/m) * temp\n",
        "        theta = theta + theta * lmbda / m\n",
        "        theta[0] = theta[0] - theta[0] * lmbda / m\n",
        "        theta_history.append(list(theta[:,0]))\n",
        "        cost_history.append(costFunction(X, y, theta, lmbda))\n",
        "    return theta, cost_history, theta_history\n",
        "\n",
        "\n",
        "#Plot the convergence of the cost function\n",
        "def plotConvergence(cost_history, iterations):\n",
        "    plt.figure(figsize=(10,6))\n",
        "    plt.plot(range(len(cost_history)),cost_history,'b.')\n",
        "    plt.grid(True)\n",
        "    plt.title(\"Convergence of Cost Function\")\n",
        "    plt.xlabel(\"Iteration number\")\n",
        "    plt.ylabel(\"Cost function\")\n",
        "    dummy = plt.xlim([-0.05*iterations,1.05*iterations])\n",
        "    dummy = plt.ylim([min(cost_history)-0.2*(max(cost_history)-min(cost_history)), max(cost_history)+0.2*(max(cost_history)-min(cost_history))])\n"
      ],
      "execution_count": 0,
      "outputs": []
    },
    {
      "metadata": {
        "id": "xIAQ9St-gIHd",
        "colab_type": "text"
      },
      "cell_type": "markdown",
      "source": [
        "### 2.2 Feature Scaling and Add Bias vector"
      ]
    },
    {
      "metadata": {
        "id": "3n0NjPn8gGAF",
        "colab_type": "code",
        "colab": {}
      },
      "cell_type": "code",
      "source": [
        "from sklearn.preprocessing import StandardScaler\n",
        "\n",
        "X = boston.data\n",
        "y = boston.target\n",
        "\n",
        "sc = StandardScaler()\n",
        "X = sc.fit_transform(X)\n",
        "\n",
        "m = X.shape[0]\n",
        "X = np.hstack((np.ones((m,1)), X))\n",
        "\n",
        "#y shape looks like (m,), make it looks like (m,1)\n",
        "#the below gradientDescent function requires it to be like (m,1)\n",
        "y = y[:,np.newaxis]"
      ],
      "execution_count": 0,
      "outputs": []
    },
    {
      "metadata": {
        "id": "F8njefDSfnjG",
        "colab_type": "text"
      },
      "cell_type": "markdown",
      "source": [
        "### 2.2 Split the train and test data"
      ]
    },
    {
      "metadata": {
        "id": "z_sWhVQxRYRO",
        "colab_type": "code",
        "outputId": "3487450e-c5bb-4626-a5de-08b057ce16f7",
        "colab": {
          "base_uri": "https://localhost:8080/",
          "height": 85
        }
      },
      "cell_type": "code",
      "source": [
        "from sklearn.model_selection import train_test_split\n",
        "X_train, X_test, y_train, y_test = train_test_split(X, y, test_size = 0.2, random_state = 0)\n",
        "\n",
        "print(X.shape)\n",
        "print(y.shape)\n",
        "print(X_train.shape, y_train.shape)\n",
        "print(X_test.shape, y_test.shape)"
      ],
      "execution_count": 0,
      "outputs": [
        {
          "output_type": "stream",
          "text": [
            "(506, 14)\n",
            "(506, 1)\n",
            "(404, 14) (404, 1)\n",
            "(102, 14) (102, 1)\n"
          ],
          "name": "stdout"
        }
      ]
    },
    {
      "metadata": {
        "id": "EQzufaebufqC",
        "colab_type": "text"
      },
      "cell_type": "markdown",
      "source": [
        "### 2.3 Compute initial cost"
      ]
    },
    {
      "metadata": {
        "id": "ZX5NqD90uir2",
        "colab_type": "code",
        "outputId": "3e8acdfb-1136-4d48-cbf7-6fbda5b62fb7",
        "colab": {
          "base_uri": "https://localhost:8080/",
          "height": 34
        }
      },
      "cell_type": "code",
      "source": [
        "m, n = X_train.shape\n",
        "theta = np.zeros([n,1])\n",
        "iterations = 500\n",
        "alpha = 0.02\n",
        "lmbda = 0.01\n",
        "\n",
        "\n",
        "J = costFunction(X_train, y_train, theta, lmbda)\n",
        "print(J)"
      ],
      "execution_count": 0,
      "outputs": [
        {
          "output_type": "stream",
          "text": [
            "298.2204455445544\n"
          ],
          "name": "stdout"
        }
      ]
    },
    {
      "metadata": {
        "id": "5vjaIm6fvQwX",
        "colab_type": "text"
      },
      "cell_type": "markdown",
      "source": [
        "### 2.4 Run Gradient Descent"
      ]
    },
    {
      "metadata": {
        "id": "972RsGfWvZQP",
        "colab_type": "code",
        "outputId": "22e29efb-f8eb-496f-f08e-1bc114861ada",
        "colab": {
          "base_uri": "https://localhost:8080/",
          "height": 423
        }
      },
      "cell_type": "code",
      "source": [
        "theta, cost_history, theta_history = gradientDescent(X_train, y_train, theta, alpha, lmbda, iterations)\n",
        "plotConvergence(cost_history, iterations)"
      ],
      "execution_count": 0,
      "outputs": [
        {
          "output_type": "display_data",
          "data": {
            "image/png": "[encoded data removed]",
            "text/plain": [
              "<Figure size 720x432 with 1 Axes>"
            ]
          },
          "metadata": {
            "tags": []
          }
        }
      ]
    },
    {
      "metadata": {
        "id": "88JfPVymxT5S",
        "colab_type": "text"
      },
      "cell_type": "markdown",
      "source": [
        "### 2.5 Final Cost ans Predictions"
      ]
    },
    {
      "metadata": {
        "id": "wkLihUhSxwUR",
        "colab_type": "code",
        "outputId": "8f2fe58a-4de1-4fce-d91b-128b566bb6e0",
        "colab": {
          "base_uri": "https://localhost:8080/",
          "height": 622
        }
      },
      "cell_type": "code",
      "source": [
        "J = costFunction(X_train, y_train, theta, lmbda)\n",
        "print(\"Final Cost: \", J)\n",
        "\n",
        "\n",
        "#y_pred = np.dot(X_test, theta)\n",
        "y_pred = prediction(X_test, theta)\n",
        "\n",
        "plt.scatter(y_test, y_pred)\n",
        "plt.xlabel(\"Prices: $Y_i$\")\n",
        "plt.ylabel(\"Predicted prices: $\\hat{Y}_i$\")\n",
        "plt.title(\"Prices vs Predicted prices: $Y_i$ vs $\\hat{Y}_i$\")\n"
      ],
      "execution_count": 0,
      "outputs": [
        {
          "output_type": "stream",
          "text": [
            "Final Cost:  9.75897639413963\n"
          ],
          "name": "stdout"
        },
        {
          "output_type": "execute_result",
          "data": {
            "text/plain": [
              "Text(0.5, 1.0, 'Prices vs Predicted prices: $Y_i$ vs $\\\\hat{Y}_i$')"
            ]
          },
          "metadata": {
            "tags": []
          },
          "execution_count": 124
        },
        {
          "output_type": "display_data",
          "data": {
            "image/png": "[encoded data removed]",
            "text/plain": [
              "<Figure size 921.6x633.6 with 1 Axes>"
            ]
          },
          "metadata": {
            "tags": []
          }
        }
      ]
    },
    {
      "metadata": {
        "id": "z5mTyG_96r9e",
        "colab_type": "code",
        "outputId": "120fe5f2-f40f-4f5b-a31d-9fce77633007",
        "colab": {
          "base_uri": "https://localhost:8080/",
          "height": 34
        }
      },
      "cell_type": "code",
      "source": [
        "mse = sklearn.metrics.mean_squared_error(y_test, y_pred)\n",
        "print(mse)"
      ],
      "execution_count": 0,
      "outputs": [
        {
          "output_type": "stream",
          "text": [
            "34.61327922801189\n"
          ],
          "name": "stdout"
        }
      ]
    },
    {
      "metadata": {
        "id": "iormyvYu64mI",
        "colab_type": "text"
      },
      "cell_type": "markdown",
      "source": [
        "## 3. Linear Regression with sklearn"
      ]
    },
    {
      "metadata": {
        "id": "r1dQSqes7DNR",
        "colab_type": "code",
        "colab": {}
      },
      "cell_type": "code",
      "source": [
        "from sklearn.linear_model import LinearRegression\n",
        "\n",
        "lm = LinearRegression()\n",
        "lm.fit(X_train, y_train)\n",
        "\n",
        "y_pred = lm.predict(X_test)\n"
      ],
      "execution_count": 0,
      "outputs": []
    },
    {
      "metadata": {
        "id": "YC1tU39u7LrY",
        "colab_type": "code",
        "outputId": "772c5aaf-6f72-468a-f275-2c1890328242",
        "colab": {
          "base_uri": "https://localhost:8080/",
          "height": 34
        }
      },
      "cell_type": "code",
      "source": [
        "mse = sklearn.metrics.mean_squared_error(y_test, y_pred)\n",
        "print(mse)"
      ],
      "execution_count": 0,
      "outputs": [
        {
          "output_type": "stream",
          "text": [
            "33.44897999767657\n"
          ],
          "name": "stdout"
        }
      ]
    }
  ]
}