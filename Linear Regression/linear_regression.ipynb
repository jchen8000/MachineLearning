{
  "nbformat": 4,
  "nbformat_minor": 0,
  "metadata": {
    "colab": {
      "name": "linear_regression.ipynb",
      "version": "0.3.2",
      "provenance": [],
      "include_colab_link": true
    },
    "kernelspec": {
      "name": "python3",
      "display_name": "Python 3"
    }
  },
  "cells": [
    {
      "cell_type": "markdown",
      "metadata": {
        "id": "view-in-github",
        "colab_type": "text"
      },
      "source": [
        "<a href=\"https://colab.research.google.com/github/jchen8000/MachineLearning/blob/master/Linear%20Regression/linear_regression.ipynb\" target=\"_parent\"><img src=\"https://colab.research.google.com/assets/colab-badge.svg\" alt=\"Open In Colab\"/></a>"
      ]
    },
    {
      "cell_type": "markdown",
      "metadata": {
        "id": "JOioekHEPUvl",
        "colab_type": "text"
      },
      "source": [
        "# Linear Regression"
      ]
    },
    {
      "cell_type": "code",
      "metadata": {
        "id": "XRX-y2CJO3F3",
        "colab_type": "code",
        "colab": {}
      },
      "source": [
        "%matplotlib inline \n",
        "\n",
        "import numpy as np\n",
        "import pandas as pd\n",
        "import scipy.stats as stats\n",
        "import matplotlib.pyplot as plt\n",
        "import sklearn\n",
        "from sklearn.model_selection import train_test_split\n",
        "from sklearn.metrics import r2_score\n",
        "from sklearn.metrics import mean_squared_error\n",
        "import seaborn as sns\n",
        "sns.set_style(\"whitegrid\")\n",
        "sns.set_context(\"poster\")\n",
        "\n",
        "# special matplotlib argument for improved plots\n",
        "from matplotlib import rcParams"
      ],
      "execution_count": 0,
      "outputs": []
    },
    {
      "cell_type": "markdown",
      "metadata": {
        "id": "gA7z6DO9Pb_8",
        "colab_type": "text"
      },
      "source": [
        "## 1. Boston Dataset"
      ]
    },
    {
      "cell_type": "markdown",
      "metadata": {
        "id": "Y-rWhd2YQQ6m",
        "colab_type": "text"
      },
      "source": [
        "### 1.1 Boston Data Details"
      ]
    },
    {
      "cell_type": "code",
      "metadata": {
        "id": "Yf7tOC1sPi3t",
        "colab_type": "code",
        "colab": {}
      },
      "source": [
        "from sklearn.datasets import load_boston\n",
        "boston = load_boston()"
      ],
      "execution_count": 0,
      "outputs": []
    },
    {
      "cell_type": "code",
      "metadata": {
        "id": "5AhnCP2LPyJp",
        "colab_type": "code",
        "outputId": "c3c63982-e9de-4982-c125-a256c7ab4835",
        "colab": {
          "base_uri": "https://localhost:8080/",
          "height": 972
        }
      },
      "source": [
        "print(boston.keys())\n",
        "print(boston.data.shape)\n",
        "print(boston.feature_names)\n",
        "print(boston.DESCR)"
      ],
      "execution_count": 3,
      "outputs": [
        {
          "output_type": "stream",
          "text": [
            "dict_keys(['data', 'target', 'feature_names', 'DESCR', 'filename'])\n",
            "(506, 13)\n",
            "['CRIM' 'ZN' 'INDUS' 'CHAS' 'NOX' 'RM' 'AGE' 'DIS' 'RAD' 'TAX' 'PTRATIO'\n",
            " 'B' 'LSTAT']\n",
            ".. _boston_dataset:\n",
            "\n",
            "Boston house prices dataset\n",
            "---------------------------\n",
            "\n",
            "**Data Set Characteristics:**  \n",
            "\n",
            "    :Number of Instances: 506 \n",
            "\n",
            "    :Number of Attributes: 13 numeric/categorical predictive. Median Value (attribute 14) is usually the target.\n",
            "\n",
            "    :Attribute Information (in order):\n",
            "        - CRIM     per capita crime rate by town\n",
            "        - ZN       proportion of residential land zoned for lots over 25,000 sq.ft.\n",
            "        - INDUS    proportion of non-retail business acres per town\n",
            "        - CHAS     Charles River dummy variable (= 1 if tract bounds river; 0 otherwise)\n",
            "        - NOX      nitric oxides concentration (parts per 10 million)\n",
            "        - RM       average number of rooms per dwelling\n",
            "        - AGE      proportion of owner-occupied units built prior to 1940\n",
            "        - DIS      weighted distances to five Boston employment centres\n",
            "        - RAD      index of accessibility to radial highways\n",
            "        - TAX      full-value property-tax rate per $10,000\n",
            "        - PTRATIO  pupil-teacher ratio by town\n",
            "        - B        1000(Bk - 0.63)^2 where Bk is the proportion of blacks by town\n",
            "        - LSTAT    % lower status of the population\n",
            "        - MEDV     Median value of owner-occupied homes in $1000's\n",
            "\n",
            "    :Missing Attribute Values: None\n",
            "\n",
            "    :Creator: Harrison, D. and Rubinfeld, D.L.\n",
            "\n",
            "This is a copy of UCI ML housing dataset.\n",
            "https://archive.ics.uci.edu/ml/machine-learning-databases/housing/\n",
            "\n",
            "\n",
            "This dataset was taken from the StatLib library which is maintained at Carnegie Mellon University.\n",
            "\n",
            "The Boston house-price data of Harrison, D. and Rubinfeld, D.L. 'Hedonic\n",
            "prices and the demand for clean air', J. Environ. Economics & Management,\n",
            "vol.5, 81-102, 1978.   Used in Belsley, Kuh & Welsch, 'Regression diagnostics\n",
            "...', Wiley, 1980.   N.B. Various transformations are used in the table on\n",
            "pages 244-261 of the latter.\n",
            "\n",
            "The Boston house-price data has been used in many machine learning papers that address regression\n",
            "problems.   \n",
            "     \n",
            ".. topic:: References\n",
            "\n",
            "   - Belsley, Kuh & Welsch, 'Regression diagnostics: Identifying Influential Data and Sources of Collinearity', Wiley, 1980. 244-261.\n",
            "   - Quinlan,R. (1993). Combining Instance-Based and Model-Based Learning. In Proceedings on the Tenth International Conference of Machine Learning, 236-243, University of Massachusetts, Amherst. Morgan Kaufmann.\n",
            "\n"
          ],
          "name": "stdout"
        }
      ]
    },
    {
      "cell_type": "code",
      "metadata": {
        "id": "z8JJEPEMP931",
        "colab_type": "code",
        "outputId": "0f8dd366-95ea-4003-ab4e-7551bbc9ad8e",
        "colab": {
          "base_uri": "https://localhost:8080/",
          "height": 340
        }
      },
      "source": [
        "bos = pd.DataFrame(boston.data)\n",
        "bos.columns = boston.feature_names\n",
        "bos['PRICE'] = boston.target\n",
        "print(bos.head())\n",
        "print(bos.describe())"
      ],
      "execution_count": 4,
      "outputs": [
        {
          "output_type": "stream",
          "text": [
            "      CRIM    ZN  INDUS  CHAS    NOX  ...    TAX  PTRATIO       B  LSTAT  PRICE\n",
            "0  0.00632  18.0   2.31   0.0  0.538  ...  296.0     15.3  396.90   4.98   24.0\n",
            "1  0.02731   0.0   7.07   0.0  0.469  ...  242.0     17.8  396.90   9.14   21.6\n",
            "2  0.02729   0.0   7.07   0.0  0.469  ...  242.0     17.8  392.83   4.03   34.7\n",
            "3  0.03237   0.0   2.18   0.0  0.458  ...  222.0     18.7  394.63   2.94   33.4\n",
            "4  0.06905   0.0   2.18   0.0  0.458  ...  222.0     18.7  396.90   5.33   36.2\n",
            "\n",
            "[5 rows x 14 columns]\n",
            "             CRIM          ZN       INDUS  ...           B       LSTAT       PRICE\n",
            "count  506.000000  506.000000  506.000000  ...  506.000000  506.000000  506.000000\n",
            "mean     3.613524   11.363636   11.136779  ...  356.674032   12.653063   22.532806\n",
            "std      8.601545   23.322453    6.860353  ...   91.294864    7.141062    9.197104\n",
            "min      0.006320    0.000000    0.460000  ...    0.320000    1.730000    5.000000\n",
            "25%      0.082045    0.000000    5.190000  ...  375.377500    6.950000   17.025000\n",
            "50%      0.256510    0.000000    9.690000  ...  391.440000   11.360000   21.200000\n",
            "75%      3.677083   12.500000   18.100000  ...  396.225000   16.955000   25.000000\n",
            "max     88.976200  100.000000   27.740000  ...  396.900000   37.970000   50.000000\n",
            "\n",
            "[8 rows x 14 columns]\n"
          ],
          "name": "stdout"
        }
      ]
    },
    {
      "cell_type": "markdown",
      "metadata": {
        "id": "olibk1FyQ32x",
        "colab_type": "text"
      },
      "source": [
        "## 2. Linear Regression from scratch"
      ]
    },
    {
      "cell_type": "markdown",
      "metadata": {
        "id": "fv34c7Xee00l",
        "colab_type": "text"
      },
      "source": [
        "### 2.1 Cost Function and Gradient Descent\n",
        "\n",
        "> The **hypothesis** of Linear Regression is:  \n",
        "\n",
        ">> $ h_\\theta(x) =  \\theta_0 +  \\theta_1x_1 + \\theta_2x_2 + ... + \\theta_nx_n $\n",
        "\n",
        ">> Or: $ h_\\theta(x)  =  \\theta ^ T x $\n",
        "\n",
        "> The **Cost Function** is:\n",
        "\n",
        ">> $ J( \\theta ) = \\frac{\\mathrm{1} }{2m}  \\sum_{i=1}^{m} (h_ \\theta (x^i) - y^i )^2 +    \\frac{\\mathrm{\\lambda} }{2m} \\sum_{j=1}^{n} \\theta_j^2   $\n",
        "\n",
        "> The **Gradient Descent** is the partial derivative of the cost function, as below:\n",
        "\n",
        ">> $  \\frac{\\partial J( \\theta ) }{\\partial \\theta_0} = \\frac{\\mathrm{1} }{m}  \\sum_{i=1}^{m} ( h_\\theta(x^i) - y^i ) x^i_0  $  (where j = 0)\n",
        "\n",
        ">> $  \\frac{\\partial J( \\theta ) }{\\partial \\theta_j} = \\frac{\\mathrm{1} }{m}  \\sum_{i=1}^{m} ( h_\\theta(x^i) - y^i ) x^i_j  + \\frac{\\mathrm{\\lambda} }{m} \\sum_{j=1}^{n} \\theta_j$ (where j >= 1)"
      ]
    },
    {
      "cell_type": "code",
      "metadata": {
        "id": "Eaxv8wM5YYI-",
        "colab_type": "code",
        "colab": {}
      },
      "source": [
        "def prediction(X, theta):\n",
        "    return X @ theta\n",
        "\n",
        "def costFunction(X, y, theta, lmbda):\n",
        "    temp = prediction(X, theta) - y\n",
        "    return np.sum(np.power(temp, 2)) / (2*len(X)) + np.sum(theta[1:]**2) * lmbda / (2*len(X))\n",
        "  \n",
        "def gradientDescent(X, y, theta, alpha, lmbda, iterations):\n",
        "    cost_history = [] #Used to plot cost as function of iteration\n",
        "    theta_history = [] #Used to visualize the minimization path later on\n",
        "    m = len(y)\n",
        "    for _ in range(iterations):\n",
        "        temp = prediction(X, theta) - y\n",
        "        temp = X.T @ temp\n",
        "        theta = theta - (alpha/m) * temp\n",
        "        theta = theta + theta * lmbda / m\n",
        "        theta[0] = theta[0] - theta[0] * lmbda / m\n",
        "        theta_history.append(list(theta[:,0]))\n",
        "        cost_history.append(costFunction(X, y, theta, lmbda))\n",
        "    return theta, cost_history, theta_history\n"
      ],
      "execution_count": 0,
      "outputs": []
    },
    {
      "cell_type": "markdown",
      "metadata": {
        "id": "xIAQ9St-gIHd",
        "colab_type": "text"
      },
      "source": [
        "### 2.2 Feature Scaling and Add Bias vector"
      ]
    },
    {
      "cell_type": "code",
      "metadata": {
        "id": "3n0NjPn8gGAF",
        "colab_type": "code",
        "colab": {}
      },
      "source": [
        "from sklearn.preprocessing import StandardScaler\n",
        "\n",
        "X = boston.data\n",
        "y = boston.target\n",
        "\n",
        "sc = StandardScaler()\n",
        "X = sc.fit_transform(X)\n",
        "\n",
        "m = X.shape[0]\n",
        "X = np.hstack((np.ones((m,1)), X))\n",
        "\n",
        "#y shape looks like (m,), make it looks like (m,1)\n",
        "#the below gradientDescent function requires it to be like (m,1)\n",
        "y = y[:,np.newaxis]"
      ],
      "execution_count": 0,
      "outputs": []
    },
    {
      "cell_type": "markdown",
      "metadata": {
        "id": "F8njefDSfnjG",
        "colab_type": "text"
      },
      "source": [
        "### 2.2 Split the train and test data"
      ]
    },
    {
      "cell_type": "code",
      "metadata": {
        "id": "z_sWhVQxRYRO",
        "colab_type": "code",
        "outputId": "a8fdb1c0-a2e5-4447-9d91-d00f57b32497",
        "colab": {
          "base_uri": "https://localhost:8080/",
          "height": 85
        }
      },
      "source": [
        "from sklearn.model_selection import train_test_split\n",
        "X_train, X_test, y_train, y_test = train_test_split(X, y, test_size = 0.2, random_state = 0)\n",
        "\n",
        "print(X.shape)\n",
        "print(y.shape)\n",
        "print(X_train.shape, y_train.shape)\n",
        "print(X_test.shape, y_test.shape)"
      ],
      "execution_count": 7,
      "outputs": [
        {
          "output_type": "stream",
          "text": [
            "(506, 14)\n",
            "(506, 1)\n",
            "(404, 14) (404, 1)\n",
            "(102, 14) (102, 1)\n"
          ],
          "name": "stdout"
        }
      ]
    },
    {
      "cell_type": "markdown",
      "metadata": {
        "id": "EQzufaebufqC",
        "colab_type": "text"
      },
      "source": [
        "### 2.3 Compute initial cost"
      ]
    },
    {
      "cell_type": "code",
      "metadata": {
        "id": "ZX5NqD90uir2",
        "colab_type": "code",
        "outputId": "f1c70792-656a-4d0b-d14b-0def55b92ba6",
        "colab": {
          "base_uri": "https://localhost:8080/",
          "height": 34
        }
      },
      "source": [
        "m, n = X_train.shape\n",
        "theta = np.zeros([n,1])\n",
        "iterations = 500\n",
        "alpha = 0.02\n",
        "lmbda = 0.01\n",
        "\n",
        "\n",
        "J = costFunction(X_train, y_train, theta, lmbda)\n",
        "print(J)"
      ],
      "execution_count": 8,
      "outputs": [
        {
          "output_type": "stream",
          "text": [
            "298.2204455445544\n"
          ],
          "name": "stdout"
        }
      ]
    },
    {
      "cell_type": "markdown",
      "metadata": {
        "id": "5vjaIm6fvQwX",
        "colab_type": "text"
      },
      "source": [
        "### 2.4 Run Gradient Descent"
      ]
    },
    {
      "cell_type": "code",
      "metadata": {
        "id": "972RsGfWvZQP",
        "colab_type": "code",
        "colab": {}
      },
      "source": [
        "theta, cost_history, theta_history = gradientDescent(X_train, y_train, theta, alpha, lmbda, iterations)\n"
      ],
      "execution_count": 0,
      "outputs": []
    },
    {
      "cell_type": "markdown",
      "metadata": {
        "id": "88JfPVymxT5S",
        "colab_type": "text"
      },
      "source": [
        "### 2.5 Final Cost ans Predictions"
      ]
    },
    {
      "cell_type": "code",
      "metadata": {
        "id": "wkLihUhSxwUR",
        "colab_type": "code",
        "outputId": "edadbda4-f4e8-4497-ccbe-f7dae93e0526",
        "colab": {
          "base_uri": "https://localhost:8080/",
          "height": 68
        }
      },
      "source": [
        "J = costFunction(X_train, y_train, theta, lmbda)\n",
        "\n",
        "y_pred = prediction(X_test, theta)\n",
        "R2_score = r2_score(y_test, y_pred)\n",
        "mse = mean_squared_error(y_test, y_pred)\n",
        "\n",
        "print(\"Final Cost: \", J)\n",
        "print(\"MSE: \", mse)\n",
        "print(\"R2 Score:\", R2_score)"
      ],
      "execution_count": 10,
      "outputs": [
        {
          "output_type": "stream",
          "text": [
            "Final Cost:  9.75897639413963\n",
            "MSE:  34.61327922801189\n",
            "R2 Score: 0.57492395007474\n"
          ],
          "name": "stdout"
        }
      ]
    },
    {
      "cell_type": "markdown",
      "metadata": {
        "id": "EHXeexrWpxSm",
        "colab_type": "text"
      },
      "source": [
        "### 2.6 Plot Results"
      ]
    },
    {
      "cell_type": "code",
      "metadata": {
        "id": "IA1NNU2Mpuza",
        "colab_type": "code",
        "colab": {
          "base_uri": "https://localhost:8080/",
          "height": 537
        },
        "outputId": "9652bd41-6092-4680-e19c-95e194e7693a"
      },
      "source": [
        "fig = plt.figure(1, figsize=(20,8))\n",
        "\n",
        "plt.subplot(1, 2, 1)\n",
        "plt.plot(range(len(cost_history)),cost_history,'b.')\n",
        "plt.grid(True)\n",
        "plt.text(300,300, \"MSE =%f\" % mse, size='large')\n",
        "plt.text(300,280, \"Final Cost =%f\" % J, size='large')\n",
        "plt.title(\"Convergence of Cost Function\", fontsize=20)\n",
        "plt.xlabel(\"Iteration number\", fontsize=16)\n",
        "plt.ylabel(\"Cost function\", fontsize=16)\n",
        "dummy = plt.xlim([-0.05*iterations,1.05*iterations])\n",
        "dummy = plt.ylim([min(cost_history)-0.2*(max(cost_history)-min(cost_history)), max(cost_history)+0.2*(max(cost_history)-min(cost_history))])\n",
        "    \n",
        "  \n",
        "plt.subplot(1, 2, 2)\n",
        "sns.set(color_codes=True)\n",
        "plt.text(10,43, \"$R^2 = $%f\" % R2_score, size='large')\n",
        "ax = sns.regplot(x=y_test, y=y_pred.reshape(y_pred.shape[0]), color=\"b\")\n",
        "ax.set_title( \"Prices vs Predicted prices: $Y_i$ vs $\\hat{Y}_i$\", fontsize=20 )\n",
        "ax.set_ylabel(\"Predicted prices: $\\hat{Y}_i$\", fontsize=16)\n",
        "ax.set_xlabel(\"Prices: $Y_i$\", fontsize=16)\n",
        "\n",
        "\n",
        "plt.show()"
      ],
      "execution_count": 32,
      "outputs": [
        {
          "output_type": "display_data",
          "data": {
            "image/png": "[encoded data removed]",
            "text/plain": [
              "<Figure size 1440x576 with 2 Axes>"
            ]
          },
          "metadata": {
            "tags": []
          }
        }
      ]
    },
    {
      "cell_type": "markdown",
      "metadata": {
        "id": "iormyvYu64mI",
        "colab_type": "text"
      },
      "source": [
        "## 3. Linear Regression with sklearn"
      ]
    },
    {
      "cell_type": "code",
      "metadata": {
        "id": "r1dQSqes7DNR",
        "colab_type": "code",
        "colab": {}
      },
      "source": [
        "from sklearn.linear_model import LinearRegression\n",
        "\n",
        "lm = LinearRegression()\n",
        "lm.fit(X_train, y_train)\n",
        "\n",
        "y_pred = lm.predict(X_test)\n",
        "\n",
        "\n"
      ],
      "execution_count": 0,
      "outputs": []
    },
    {
      "cell_type": "code",
      "metadata": {
        "id": "YC1tU39u7LrY",
        "colab_type": "code",
        "outputId": "ddf4a0bb-6b26-4319-a32e-86539a45504d",
        "colab": {
          "base_uri": "https://localhost:8080/",
          "height": 51
        }
      },
      "source": [
        "mse = mean_squared_error(y_test, y_pred)\n",
        "R2_score = r2_score(y_test, y_pred)\n",
        "\n",
        "print(\"MSE: \", mse)\n",
        "print(\"R2 Score:\", R2_score)"
      ],
      "execution_count": 13,
      "outputs": [
        {
          "output_type": "stream",
          "text": [
            "MSE:  33.44897999767657\n",
            "R2 Score: 0.5892223849182503\n"
          ],
          "name": "stdout"
        }
      ]
    }
  ]
}