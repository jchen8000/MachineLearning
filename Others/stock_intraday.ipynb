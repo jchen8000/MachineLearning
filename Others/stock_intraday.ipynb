{
  "nbformat": 4,
  "nbformat_minor": 0,
  "metadata": {
    "colab": {
      "name": "stock_intraday.ipynb",
      "version": "0.3.2",
      "provenance": [],
      "include_colab_link": true
    },
    "kernelspec": {
      "name": "python3",
      "display_name": "Python 3"
    }
  },
  "cells": [
    {
      "cell_type": "markdown",
      "metadata": {
        "id": "view-in-github",
        "colab_type": "text"
      },
      "source": [
        "<a href=\"https://colab.research.google.com/github/jchen8000/MachineLearning/blob/master/Others/stock_intraday.ipynb\" target=\"_parent\"><img src=\"https://colab.research.google.com/assets/colab-badge.svg\" alt=\"Open In Colab\"/></a>"
      ]
    },
    {
      "cell_type": "markdown",
      "metadata": {
        "id": "ehQsKpCWbH6a",
        "colab_type": "text"
      },
      "source": [
        "# Intraday Stock"
      ]
    },
    {
      "cell_type": "code",
      "metadata": {
        "id": "3Kz7stk9bVZK",
        "colab_type": "code",
        "colab": {
          "base_uri": "https://localhost:8080/",
          "height": 275
        },
        "outputId": "5dfb6768-0069-41a6-fc6f-630820cc503b"
      },
      "source": [
        "!pip install alpha_vantage"
      ],
      "execution_count": 2,
      "outputs": [
        {
          "output_type": "stream",
          "text": [
            "Collecting alpha_vantage\n",
            "  Downloading https://files.pythonhosted.org/packages/7a/6c/81c7f1c58064cb2ce808edc6c4cdb3241f70bf8cd158289540cdf9fe0204/alpha_vantage-2.1.0.tar.gz\n",
            "Requirement already satisfied: requests in /usr/local/lib/python3.6/dist-packages (from alpha_vantage) (2.21.0)\n",
            "Requirement already satisfied: idna<2.9,>=2.5 in /usr/local/lib/python3.6/dist-packages (from requests->alpha_vantage) (2.8)\n",
            "Requirement already satisfied: urllib3<1.25,>=1.21.1 in /usr/local/lib/python3.6/dist-packages (from requests->alpha_vantage) (1.24.3)\n",
            "Requirement already satisfied: chardet<3.1.0,>=3.0.2 in /usr/local/lib/python3.6/dist-packages (from requests->alpha_vantage) (3.0.4)\n",
            "Requirement already satisfied: certifi>=2017.4.17 in /usr/local/lib/python3.6/dist-packages (from requests->alpha_vantage) (2019.6.16)\n",
            "Building wheels for collected packages: alpha-vantage\n",
            "  Building wheel for alpha-vantage (setup.py) ... \u001b[?25l\u001b[?25hdone\n",
            "  Created wheel for alpha-vantage: filename=alpha_vantage-2.1.0-cp36-none-any.whl size=14347 sha256=0825e33dc861d909d10794c0de932f473421e894caec7dd2a01e5dad51c0998b\n",
            "  Stored in directory: /root/.cache/pip/wheels/21/9c/02/b7cfae63f7119f4089f229ba1a09ce90fabbaf96199c2890be\n",
            "Successfully built alpha-vantage\n",
            "Installing collected packages: alpha-vantage\n",
            "Successfully installed alpha-vantage-2.1.0\n"
          ],
          "name": "stdout"
        }
      ]
    },
    {
      "cell_type": "code",
      "metadata": {
        "id": "9v3gEvHicQZr",
        "colab_type": "code",
        "colab": {
          "base_uri": "https://localhost:8080/",
          "height": 292
        },
        "outputId": "694a88e0-fa24-4da3-b564-f89e959ddea3"
      },
      "source": [
        "!pip install plotly==4.1.0"
      ],
      "execution_count": 8,
      "outputs": [
        {
          "output_type": "stream",
          "text": [
            "Collecting plotly==4.1.0\n",
            "\u001b[?25l  Downloading https://files.pythonhosted.org/packages/63/2b/4ca10995bfbdefd65c4238f9a2d3fde33705d18dd50914dd13302ec1daf1/plotly-4.1.0-py2.py3-none-any.whl (7.1MB)\n",
            "\u001b[K     |████████████████████████████████| 7.1MB 4.8MB/s \n",
            "\u001b[?25hRequirement already satisfied: retrying>=1.3.3 in /usr/local/lib/python3.6/dist-packages (from plotly==4.1.0) (1.3.3)\n",
            "Requirement already satisfied: six in /usr/local/lib/python3.6/dist-packages (from plotly==4.1.0) (1.12.0)\n",
            "Installing collected packages: plotly\n",
            "  Found existing installation: plotly 3.6.1\n",
            "    Uninstalling plotly-3.6.1:\n",
            "      Successfully uninstalled plotly-3.6.1\n",
            "Successfully installed plotly-4.1.0\n"
          ],
          "name": "stdout"
        },
        {
          "output_type": "display_data",
          "data": {
            "application/vnd.colab-display-data+json": {
              "pip_warning": {
                "packages": [
                  "_plotly_utils",
                  "plotly"
                ]
              }
            }
          },
          "metadata": {
            "tags": []
          }
        }
      ]
    },
    {
      "cell_type": "code",
      "metadata": {
        "id": "WRNC9l2JarCu",
        "colab_type": "code",
        "colab": {}
      },
      "source": [
        "from alpha_vantage.timeseries import TimeSeries\n",
        "import plotly.graph_objects as go\n",
        "import matplotlib.pyplot as plt\n",
        "import pandas as pd\n",
        "\n"
      ],
      "execution_count": 0,
      "outputs": []
    },
    {
      "cell_type": "code",
      "metadata": {
        "id": "jCt87qBca5VE",
        "colab_type": "code",
        "colab": {}
      },
      "source": [
        "alphavantage_key = ''\n",
        "\n",
        "ts = TimeSeries(key=alphavantage_key,output_format='pandas')\n",
        "data, meta_data = ts.get_intraday(symbol='SPY',interval='1min', outputsize='compact')\n",
        "#print(data.head())\n",
        "\n",
        "#data['4. close'].plot()\n",
        "#plt.title('Intraday TimeSeries Google')\n",
        "#plt.show()\n"
      ],
      "execution_count": 0,
      "outputs": []
    },
    {
      "cell_type": "code",
      "metadata": {
        "id": "OYnKk2ZcdMys",
        "colab_type": "code",
        "colab": {}
      },
      "source": [
        "data.reset_index(inplace=True)"
      ],
      "execution_count": 0,
      "outputs": []
    },
    {
      "cell_type": "code",
      "metadata": {
        "id": "Tk-85M7Xc_zI",
        "colab_type": "code",
        "colab": {
          "base_uri": "https://localhost:8080/",
          "height": 542
        },
        "outputId": "0a759081-bfc5-495e-fba8-aff032c0f4f9"
      },
      "source": [
        "fig = go.Figure(data=[go.Candlestick(x=data['date'],\n",
        "                open=data['1. open'],\n",
        "                high=data['2. high'],\n",
        "                low=data['3. low'],\n",
        "                close=data['4. close'])])\n",
        "fig.show()"
      ],
      "execution_count": 27,
      "outputs": [
        {
          "output_type": "display_data",
          "data": {
            "text/html": [
              "<html>\n",
              "<head><meta charset=\"utf-8\" /></head>\n",
              "<body>\n",
              "    <div>\n",
              "            <script src=\"https://cdnjs.cloudflare.com/ajax/libs/mathjax/2.7.5/MathJax.js?config=TeX-AMS-MML_SVG\"></script><script type=\"text/javascript\">if (window.MathJax) {MathJax.Hub.Config({SVG: {font: \"STIX-Web\"}});}</script>\n",
              "                <script type=\"text/javascript\">window.PlotlyConfig = {MathJaxConfig: 'local'};</script>\n",
              "        <script src=\"https://cdn.plot.ly/plotly-latest.min.js\"></script>    \n",
              "            <div id=\"285a72fd-0992-45f4-8c51-00601a940e3d\" class=\"plotly-graph-div\" style=\"height:525px; width:100%;\"></div>\n",
              "            <script type=\"text/javascript\">\n",
              "                \n",
              "                    window.PLOTLYENV=window.PLOTLYENV || {};\n",
              "                    \n",
              "                if (document.getElementById(\"285a72fd-0992-45f4-8c51-00601a940e3d\")) {\n",
              "                    Plotly.newPlot(\n",
              "                        '285a72fd-0992-45f4-8c51-00601a940e3d',\n",
              "                        [{\"close\": [286.595, 286.61, 286.56, 286.58, 286.73, 286.87, 286.86, 286.845, 286.81, 286.92, 287.07, 286.86, 287.02, 287.21, 287.13, 286.99, 287.06, 286.8701, 286.71, 286.78, 287.385, 287.97, 289.44, 289.44, 289.26, 289.6599, 289.3016, 289.31, 289.2, 289.16, 288.95, 289.115, 288.835, 288.75, 288.99, 288.91, 288.98, 288.63, 288.6, 288.34, 288.54, 288.202, 288.1399, 287.47, 287.6, 287.53, 287.91, 287.995, 287.92, 288.07, 287.93, 287.42, 287.07, 287.17, 287.19, 287.09, 287.245, 287.25, 286.69, 286.4775, 286.64, 286.7499, 286.3, 286.25, 286.46, 286.54, 286.3932, 286.4047, 286.59, 286.8501, 286.76, 287.3068, 287.5, 287.43, 287.275, 287.47, 287.3399, 287.11, 286.91, 287.0, 287.12, 287.0135, 286.89, 286.98, 287.06, 287.24, 287.7168, 287.65, 288.08, 287.84, 287.47, 287.42, 287.21, 287.08, 286.98, 287.23, 287.1801, 287.54, 287.0497, 286.86], \"high\": [286.69, 286.78, 286.64, 286.6, 286.81, 286.89, 287.01, 286.965, 286.9, 286.92, 287.42, 287.105, 287.09, 287.3446, 287.215, 287.16, 287.33, 287.11, 286.91, 286.94, 287.395, 287.97, 289.5, 289.72, 289.555, 289.95, 289.9575, 289.39, 289.71, 289.35, 289.27, 289.13, 289.31, 288.89, 289.02, 289.08, 289.0, 289.07, 288.705, 288.68, 288.64, 288.53, 288.22, 288.2, 287.76, 287.75, 287.94, 288.05, 288.03, 288.08, 288.07, 288.03, 287.55, 287.275, 287.28, 287.29, 287.33, 287.4, 287.29, 286.83, 286.64, 286.83, 286.745, 286.39, 286.5368, 286.605, 286.58, 286.668, 286.63, 286.8765, 286.88, 287.67, 287.58, 287.52, 287.49, 287.5, 287.69, 287.44, 287.24, 287.02, 287.2, 287.18, 287.01, 286.99, 287.06, 287.28, 287.8, 287.76, 288.14, 288.19, 287.88, 287.55, 287.41, 287.3, 287.14, 287.32, 287.49, 287.66, 287.809, 287.34], \"low\": [286.51, 286.55, 286.54, 286.49, 286.55, 286.63, 286.83, 286.84, 286.76, 286.655, 286.88, 286.72, 286.79, 286.96, 287.05, 286.97, 286.99, 286.81, 286.71, 286.7, 286.75, 287.375, 289.34, 289.425, 289.21, 289.26, 289.2934, 289.285, 289.19, 289.13, 288.87, 288.96, 288.821, 288.75, 288.71, 288.81, 288.765, 288.61, 288.53, 288.34, 288.3, 288.18, 288.04, 287.47, 287.315, 287.5, 287.47, 287.84, 287.74, 287.76, 287.84, 287.39, 287.07, 287.0, 287.19, 286.985, 287.01, 287.25, 286.69, 286.4775, 286.35, 286.58, 286.095, 286.25, 286.03, 286.37, 286.35, 286.3578, 286.35, 286.6, 286.64, 286.765, 287.3, 287.4, 287.26, 287.25, 287.2806, 287.1, 286.8, 286.77, 286.99, 286.875, 286.72, 286.78, 286.81, 286.96, 287.23, 287.61, 287.62, 287.83, 287.34, 287.34, 287.04, 287.06, 286.86, 286.85, 287.18, 287.18, 287.0384, 286.82], \"open\": [286.66, 286.59, 286.61, 286.57, 286.57, 286.74, 286.86, 286.85, 286.85, 286.81, 286.92, 287.075, 286.865, 287.03, 287.21, 287.13, 286.995, 287.065, 286.87, 286.71, 286.77, 287.39, 289.5, 289.435, 289.45, 289.265, 289.6616, 289.3, 289.3, 289.2, 289.18, 288.96, 289.13, 288.835, 288.73, 288.985, 288.91, 288.985, 288.61, 288.6, 288.35, 288.53, 288.2, 288.135, 287.47, 287.62, 287.52, 287.905, 287.99, 287.92, 288.07, 287.93, 287.425, 287.08, 287.19, 287.2, 287.1, 287.25, 287.25, 286.67, 286.48, 286.63, 286.73, 286.28, 286.25, 286.44, 286.54, 286.3947, 286.405, 286.6, 286.86, 286.77, 287.3, 287.48, 287.43, 287.28, 287.46, 287.34, 287.13, 286.87, 287.0, 287.13, 287.01, 286.92, 286.98, 287.06, 287.23, 287.71, 287.66, 288.09, 287.85, 287.48, 287.41, 287.21, 287.08, 286.98, 287.2338, 287.18, 287.5447, 287.05], \"type\": \"candlestick\", \"x\": [\"2019-08-26 14:15:00\", \"2019-08-26 14:20:00\", \"2019-08-26 14:25:00\", \"2019-08-26 14:30:00\", \"2019-08-26 14:35:00\", \"2019-08-26 14:40:00\", \"2019-08-26 14:45:00\", \"2019-08-26 14:50:00\", \"2019-08-26 14:55:00\", \"2019-08-26 15:00:00\", \"2019-08-26 15:05:00\", \"2019-08-26 15:10:00\", \"2019-08-26 15:15:00\", \"2019-08-26 15:20:00\", \"2019-08-26 15:25:00\", \"2019-08-26 15:30:00\", \"2019-08-26 15:35:00\", \"2019-08-26 15:40:00\", \"2019-08-26 15:45:00\", \"2019-08-26 15:50:00\", \"2019-08-26 15:55:00\", \"2019-08-26 16:00:00\", \"2019-08-27 09:35:00\", \"2019-08-27 09:40:00\", \"2019-08-27 09:45:00\", \"2019-08-27 09:50:00\", \"2019-08-27 09:55:00\", \"2019-08-27 10:00:00\", \"2019-08-27 10:05:00\", \"2019-08-27 10:10:00\", \"2019-08-27 10:15:00\", \"2019-08-27 10:20:00\", \"2019-08-27 10:25:00\", \"2019-08-27 10:30:00\", \"2019-08-27 10:35:00\", \"2019-08-27 10:40:00\", \"2019-08-27 10:45:00\", \"2019-08-27 10:50:00\", \"2019-08-27 10:55:00\", \"2019-08-27 11:00:00\", \"2019-08-27 11:05:00\", \"2019-08-27 11:10:00\", \"2019-08-27 11:15:00\", \"2019-08-27 11:20:00\", \"2019-08-27 11:25:00\", \"2019-08-27 11:30:00\", \"2019-08-27 11:35:00\", \"2019-08-27 11:40:00\", \"2019-08-27 11:45:00\", \"2019-08-27 11:50:00\", \"2019-08-27 11:55:00\", \"2019-08-27 12:00:00\", \"2019-08-27 12:05:00\", \"2019-08-27 12:10:00\", \"2019-08-27 12:15:00\", \"2019-08-27 12:20:00\", \"2019-08-27 12:25:00\", \"2019-08-27 12:30:00\", \"2019-08-27 12:35:00\", \"2019-08-27 12:40:00\", \"2019-08-27 12:45:00\", \"2019-08-27 12:50:00\", \"2019-08-27 12:55:00\", \"2019-08-27 13:00:00\", \"2019-08-27 13:05:00\", \"2019-08-27 13:10:00\", \"2019-08-27 13:15:00\", \"2019-08-27 13:20:00\", \"2019-08-27 13:25:00\", \"2019-08-27 13:30:00\", \"2019-08-27 13:35:00\", \"2019-08-27 13:40:00\", \"2019-08-27 13:45:00\", \"2019-08-27 13:50:00\", \"2019-08-27 13:55:00\", \"2019-08-27 14:00:00\", \"2019-08-27 14:05:00\", \"2019-08-27 14:10:00\", \"2019-08-27 14:15:00\", \"2019-08-27 14:20:00\", \"2019-08-27 14:25:00\", \"2019-08-27 14:30:00\", \"2019-08-27 14:35:00\", \"2019-08-27 14:40:00\", \"2019-08-27 14:45:00\", \"2019-08-27 14:50:00\", \"2019-08-27 14:55:00\", \"2019-08-27 15:00:00\", \"2019-08-27 15:05:00\", \"2019-08-27 15:10:00\", \"2019-08-27 15:15:00\", \"2019-08-27 15:20:00\", \"2019-08-27 15:25:00\", \"2019-08-27 15:30:00\", \"2019-08-27 15:35:00\", \"2019-08-27 15:40:00\", \"2019-08-27 15:45:00\", \"2019-08-27 15:50:00\", \"2019-08-27 15:55:00\", \"2019-08-27 16:00:00\"]}],\n",
              "                        {\"template\": {\"data\": {\"bar\": [{\"error_x\": {\"color\": \"#2a3f5f\"}, \"error_y\": {\"color\": \"#2a3f5f\"}, \"marker\": {\"line\": {\"color\": \"#E5ECF6\", \"width\": 0.5}}, \"type\": \"bar\"}], \"barpolar\": [{\"marker\": {\"line\": {\"color\": \"#E5ECF6\", \"width\": 0.5}}, \"type\": \"barpolar\"}], \"carpet\": [{\"aaxis\": {\"endlinecolor\": \"#2a3f5f\", \"gridcolor\": \"white\", \"linecolor\": \"white\", \"minorgridcolor\": \"white\", \"startlinecolor\": \"#2a3f5f\"}, \"baxis\": {\"endlinecolor\": \"#2a3f5f\", \"gridcolor\": \"white\", \"linecolor\": \"white\", \"minorgridcolor\": \"white\", \"startlinecolor\": \"#2a3f5f\"}, \"type\": \"carpet\"}], \"choropleth\": [{\"colorbar\": {\"outlinewidth\": 0, \"ticks\": \"\"}, \"type\": \"choropleth\"}], \"contour\": [{\"colorbar\": {\"outlinewidth\": 0, \"ticks\": \"\"}, \"colorscale\": [[0.0, \"#0d0887\"], [0.1111111111111111, \"#46039f\"], [0.2222222222222222, \"#7201a8\"], [0.3333333333333333, \"#9c179e\"], [0.4444444444444444, \"#bd3786\"], [0.5555555555555556, \"#d8576b\"], [0.6666666666666666, \"#ed7953\"], [0.7777777777777778, \"#fb9f3a\"], [0.8888888888888888, \"#fdca26\"], [1.0, \"#f0f921\"]], \"type\": \"contour\"}], \"contourcarpet\": [{\"colorbar\": {\"outlinewidth\": 0, \"ticks\": \"\"}, \"type\": \"contourcarpet\"}], \"heatmap\": [{\"colorbar\": {\"outlinewidth\": 0, \"ticks\": \"\"}, \"colorscale\": [[0.0, \"#0d0887\"], [0.1111111111111111, \"#46039f\"], [0.2222222222222222, \"#7201a8\"], [0.3333333333333333, \"#9c179e\"], [0.4444444444444444, \"#bd3786\"], [0.5555555555555556, \"#d8576b\"], [0.6666666666666666, \"#ed7953\"], [0.7777777777777778, \"#fb9f3a\"], [0.8888888888888888, \"#fdca26\"], [1.0, \"#f0f921\"]], \"type\": \"heatmap\"}], \"heatmapgl\": [{\"colorbar\": {\"outlinewidth\": 0, \"ticks\": \"\"}, \"colorscale\": [[0.0, \"#0d0887\"], [0.1111111111111111, \"#46039f\"], [0.2222222222222222, \"#7201a8\"], [0.3333333333333333, \"#9c179e\"], [0.4444444444444444, \"#bd3786\"], [0.5555555555555556, \"#d8576b\"], [0.6666666666666666, \"#ed7953\"], [0.7777777777777778, \"#fb9f3a\"], [0.8888888888888888, \"#fdca26\"], [1.0, \"#f0f921\"]], \"type\": \"heatmapgl\"}], \"histogram\": [{\"marker\": {\"colorbar\": {\"outlinewidth\": 0, \"ticks\": \"\"}}, \"type\": \"histogram\"}], \"histogram2d\": [{\"colorbar\": {\"outlinewidth\": 0, \"ticks\": \"\"}, \"colorscale\": [[0.0, \"#0d0887\"], [0.1111111111111111, \"#46039f\"], [0.2222222222222222, \"#7201a8\"], [0.3333333333333333, \"#9c179e\"], [0.4444444444444444, \"#bd3786\"], [0.5555555555555556, \"#d8576b\"], [0.6666666666666666, \"#ed7953\"], [0.7777777777777778, \"#fb9f3a\"], [0.8888888888888888, \"#fdca26\"], [1.0, \"#f0f921\"]], \"type\": \"histogram2d\"}], \"histogram2dcontour\": [{\"colorbar\": {\"outlinewidth\": 0, \"ticks\": \"\"}, \"colorscale\": [[0.0, \"#0d0887\"], [0.1111111111111111, \"#46039f\"], [0.2222222222222222, \"#7201a8\"], [0.3333333333333333, \"#9c179e\"], [0.4444444444444444, \"#bd3786\"], [0.5555555555555556, \"#d8576b\"], [0.6666666666666666, \"#ed7953\"], [0.7777777777777778, \"#fb9f3a\"], [0.8888888888888888, \"#fdca26\"], [1.0, \"#f0f921\"]], \"type\": \"histogram2dcontour\"}], \"mesh3d\": [{\"colorbar\": {\"outlinewidth\": 0, \"ticks\": \"\"}, \"type\": \"mesh3d\"}], \"parcoords\": [{\"line\": {\"colorbar\": {\"outlinewidth\": 0, \"ticks\": \"\"}}, \"type\": \"parcoords\"}], \"scatter\": [{\"marker\": {\"colorbar\": {\"outlinewidth\": 0, \"ticks\": \"\"}}, \"type\": \"scatter\"}], \"scatter3d\": [{\"line\": {\"colorbar\": {\"outlinewidth\": 0, \"ticks\": \"\"}}, \"marker\": {\"colorbar\": {\"outlinewidth\": 0, \"ticks\": \"\"}}, \"type\": \"scatter3d\"}], \"scattercarpet\": [{\"marker\": {\"colorbar\": {\"outlinewidth\": 0, \"ticks\": \"\"}}, \"type\": \"scattercarpet\"}], \"scattergeo\": [{\"marker\": {\"colorbar\": {\"outlinewidth\": 0, \"ticks\": \"\"}}, \"type\": \"scattergeo\"}], \"scattergl\": [{\"marker\": {\"colorbar\": {\"outlinewidth\": 0, \"ticks\": \"\"}}, \"type\": \"scattergl\"}], \"scattermapbox\": [{\"marker\": {\"colorbar\": {\"outlinewidth\": 0, \"ticks\": \"\"}}, \"type\": \"scattermapbox\"}], \"scatterpolar\": [{\"marker\": {\"colorbar\": {\"outlinewidth\": 0, \"ticks\": \"\"}}, \"type\": \"scatterpolar\"}], \"scatterpolargl\": [{\"marker\": {\"colorbar\": {\"outlinewidth\": 0, \"ticks\": \"\"}}, \"type\": \"scatterpolargl\"}], \"scatterternary\": [{\"marker\": {\"colorbar\": {\"outlinewidth\": 0, \"ticks\": \"\"}}, \"type\": \"scatterternary\"}], \"surface\": [{\"colorbar\": {\"outlinewidth\": 0, \"ticks\": \"\"}, \"colorscale\": [[0.0, \"#0d0887\"], [0.1111111111111111, \"#46039f\"], [0.2222222222222222, \"#7201a8\"], [0.3333333333333333, \"#9c179e\"], [0.4444444444444444, \"#bd3786\"], [0.5555555555555556, \"#d8576b\"], [0.6666666666666666, \"#ed7953\"], [0.7777777777777778, \"#fb9f3a\"], [0.8888888888888888, \"#fdca26\"], [1.0, \"#f0f921\"]], \"type\": \"surface\"}], \"table\": [{\"cells\": {\"fill\": {\"color\": \"#EBF0F8\"}, \"line\": {\"color\": \"white\"}}, \"header\": {\"fill\": {\"color\": \"#C8D4E3\"}, \"line\": {\"color\": \"white\"}}, \"type\": \"table\"}]}, \"layout\": {\"annotationdefaults\": {\"arrowcolor\": \"#2a3f5f\", \"arrowhead\": 0, \"arrowwidth\": 1}, \"colorscale\": {\"diverging\": [[0, \"#8e0152\"], [0.1, \"#c51b7d\"], [0.2, \"#de77ae\"], [0.3, \"#f1b6da\"], [0.4, \"#fde0ef\"], [0.5, \"#f7f7f7\"], [0.6, \"#e6f5d0\"], [0.7, \"#b8e186\"], [0.8, \"#7fbc41\"], [0.9, \"#4d9221\"], [1, \"#276419\"]], \"sequential\": [[0.0, \"#0d0887\"], [0.1111111111111111, \"#46039f\"], [0.2222222222222222, \"#7201a8\"], [0.3333333333333333, \"#9c179e\"], [0.4444444444444444, \"#bd3786\"], [0.5555555555555556, \"#d8576b\"], [0.6666666666666666, \"#ed7953\"], [0.7777777777777778, \"#fb9f3a\"], [0.8888888888888888, \"#fdca26\"], [1.0, \"#f0f921\"]], \"sequentialminus\": [[0.0, \"#0d0887\"], [0.1111111111111111, \"#46039f\"], [0.2222222222222222, \"#7201a8\"], [0.3333333333333333, \"#9c179e\"], [0.4444444444444444, \"#bd3786\"], [0.5555555555555556, \"#d8576b\"], [0.6666666666666666, \"#ed7953\"], [0.7777777777777778, \"#fb9f3a\"], [0.8888888888888888, \"#fdca26\"], [1.0, \"#f0f921\"]]}, \"colorway\": [\"#636efa\", \"#EF553B\", \"#00cc96\", \"#ab63fa\", \"#FFA15A\", \"#19d3f3\", \"#FF6692\", \"#B6E880\", \"#FF97FF\", \"#FECB52\"], \"font\": {\"color\": \"#2a3f5f\"}, \"geo\": {\"bgcolor\": \"white\", \"lakecolor\": \"white\", \"landcolor\": \"#E5ECF6\", \"showlakes\": true, \"showland\": true, \"subunitcolor\": \"white\"}, \"hoverlabel\": {\"align\": \"left\"}, \"hovermode\": \"closest\", \"mapbox\": {\"style\": \"light\"}, \"paper_bgcolor\": \"white\", \"plot_bgcolor\": \"#E5ECF6\", \"polar\": {\"angularaxis\": {\"gridcolor\": \"white\", \"linecolor\": \"white\", \"ticks\": \"\"}, \"bgcolor\": \"#E5ECF6\", \"radialaxis\": {\"gridcolor\": \"white\", \"linecolor\": \"white\", \"ticks\": \"\"}}, \"scene\": {\"xaxis\": {\"backgroundcolor\": \"#E5ECF6\", \"gridcolor\": \"white\", \"gridwidth\": 2, \"linecolor\": \"white\", \"showbackground\": true, \"ticks\": \"\", \"zerolinecolor\": \"white\"}, \"yaxis\": {\"backgroundcolor\": \"#E5ECF6\", \"gridcolor\": \"white\", \"gridwidth\": 2, \"linecolor\": \"white\", \"showbackground\": true, \"ticks\": \"\", \"zerolinecolor\": \"white\"}, \"zaxis\": {\"backgroundcolor\": \"#E5ECF6\", \"gridcolor\": \"white\", \"gridwidth\": 2, \"linecolor\": \"white\", \"showbackground\": true, \"ticks\": \"\", \"zerolinecolor\": \"white\"}}, \"shapedefaults\": {\"line\": {\"color\": \"#2a3f5f\"}}, \"ternary\": {\"aaxis\": {\"gridcolor\": \"white\", \"linecolor\": \"white\", \"ticks\": \"\"}, \"baxis\": {\"gridcolor\": \"white\", \"linecolor\": \"white\", \"ticks\": \"\"}, \"bgcolor\": \"#E5ECF6\", \"caxis\": {\"gridcolor\": \"white\", \"linecolor\": \"white\", \"ticks\": \"\"}}, \"title\": {\"x\": 0.05}, \"xaxis\": {\"automargin\": true, \"gridcolor\": \"white\", \"linecolor\": \"white\", \"ticks\": \"\", \"zerolinecolor\": \"white\", \"zerolinewidth\": 2}, \"yaxis\": {\"automargin\": true, \"gridcolor\": \"white\", \"linecolor\": \"white\", \"ticks\": \"\", \"zerolinecolor\": \"white\", \"zerolinewidth\": 2}}}},\n",
              "                        {\"responsive\": true}\n",
              "                    ).then(function(){\n",
              "                            \n",
              "var gd = document.getElementById('285a72fd-0992-45f4-8c51-00601a940e3d');\n",
              "var x = new MutationObserver(function (mutations, observer) {{\n",
              "        var display = window.getComputedStyle(gd).display;\n",
              "        if (!display || display === 'none') {{\n",
              "            console.log([gd, 'removed!']);\n",
              "            Plotly.purge(gd);\n",
              "            observer.disconnect();\n",
              "        }}\n",
              "}});\n",
              "\n",
              "// Listen for the removal of the full notebook cells\n",
              "var notebookContainer = gd.closest('#notebook-container');\n",
              "if (notebookContainer) {{\n",
              "    x.observe(notebookContainer, {childList: true});\n",
              "}}\n",
              "\n",
              "// Listen for the clearing of the current output cell\n",
              "var outputEl = gd.closest('.output');\n",
              "if (outputEl) {{\n",
              "    x.observe(outputEl, {childList: true});\n",
              "}}\n",
              "\n",
              "                        })\n",
              "                };\n",
              "                \n",
              "            </script>\n",
              "        </div>\n",
              "</body>\n",
              "</html>"
            ]
          },
          "metadata": {
            "tags": []
          }
        }
      ]
    }
  ]
}