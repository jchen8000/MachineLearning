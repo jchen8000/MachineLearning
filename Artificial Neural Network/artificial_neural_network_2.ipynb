{
  "nbformat": 4,
  "nbformat_minor": 0,
  "metadata": {
    "colab": {
      "name": "artificial_neural_network_2.ipynb",
      "version": "0.3.2",
      "provenance": [],
      "include_colab_link": true
    },
    "kernelspec": {
      "name": "python3",
      "display_name": "Python 3"
    }
  },
  "cells": [
    {
      "cell_type": "markdown",
      "metadata": {
        "id": "view-in-github",
        "colab_type": "text"
      },
      "source": [
        "<a href=\"https://colab.research.google.com/github/jchen8000/MachineLearning/blob/master/Artificial%20Neural%20Network/artificial_neural_network_2.ipynb\" target=\"_parent\"><img src=\"https://colab.research.google.com/assets/colab-badge.svg\" alt=\"Open In Colab\"/></a>"
      ]
    },
    {
      "cell_type": "markdown",
      "metadata": {
        "id": "Z6POvTBO_bwB",
        "colab_type": "text"
      },
      "source": [
        "# Artificial Neural Network, \n",
        "\n",
        "\n",
        "***ABSTRACT***\n",
        "\n",
        "***This is a hands-on practice of building an Artificial Neural Network (ANN) with Keras/Tensorflow to train the [Boston Dataset](https://www.kaggle.com/c/boston-housing). we load the dataset from Sklearn library and pre-process the data with StandardScaler function. We then build an Artificial Neural Network (ANN) with Keras library, train it and evaluate the results. At last we also build a Linear Regression model with Sklearn library processing the same dataset, and compare its results with ANN, we find out that ANN with one hidden layer is not as good as Linear Regression mode, as we add more hidden layers for the ANN the results are getting better, eventually we build the ANN with four hidden layers with 64, 128, 128, 64 units we get a better results than Linear Regression.***\n",
        "\n",
        "\n",
        "\n",
        "\n"
      ]
    },
    {
      "cell_type": "code",
      "metadata": {
        "id": "H6gRcp39_N2X",
        "colab_type": "code",
        "colab": {}
      },
      "source": [
        "%matplotlib inline \n",
        "\n",
        "import numpy as np\n",
        "import matplotlib.pyplot as plt\n",
        "import sklearn\n",
        "from sklearn.model_selection import train_test_split\n",
        "from sklearn.preprocessing import StandardScaler"
      ],
      "execution_count": 0,
      "outputs": []
    },
    {
      "cell_type": "markdown",
      "metadata": {
        "id": "40e453WI_rMU",
        "colab_type": "text"
      },
      "source": [
        "## 1. Boston Dataset"
      ]
    },
    {
      "cell_type": "markdown",
      "metadata": {
        "id": "vdyTQeYbKfKd",
        "colab_type": "text"
      },
      "source": [
        "### 1.1 Load the dataset"
      ]
    },
    {
      "cell_type": "code",
      "metadata": {
        "id": "qnQIiqIr_wRX",
        "colab_type": "code",
        "colab": {}
      },
      "source": [
        "from sklearn.datasets import load_boston\n",
        "boston = load_boston()"
      ],
      "execution_count": 0,
      "outputs": []
    },
    {
      "cell_type": "code",
      "metadata": {
        "id": "d53goSIl_6Tb",
        "colab_type": "code",
        "outputId": "a9df893d-16f7-442a-a7e0-8bfe8470c288",
        "colab": {
          "base_uri": "https://localhost:8080/",
          "height": 972
        }
      },
      "source": [
        "print(boston.keys())\n",
        "print(boston.data.shape)\n",
        "print(boston.feature_names)\n",
        "print(boston.DESCR)"
      ],
      "execution_count": 3,
      "outputs": [
        {
          "output_type": "stream",
          "text": [
            "dict_keys(['data', 'target', 'feature_names', 'DESCR', 'filename'])\n",
            "(506, 13)\n",
            "['CRIM' 'ZN' 'INDUS' 'CHAS' 'NOX' 'RM' 'AGE' 'DIS' 'RAD' 'TAX' 'PTRATIO'\n",
            " 'B' 'LSTAT']\n",
            ".. _boston_dataset:\n",
            "\n",
            "Boston house prices dataset\n",
            "---------------------------\n",
            "\n",
            "**Data Set Characteristics:**  \n",
            "\n",
            "    :Number of Instances: 506 \n",
            "\n",
            "    :Number of Attributes: 13 numeric/categorical predictive. Median Value (attribute 14) is usually the target.\n",
            "\n",
            "    :Attribute Information (in order):\n",
            "        - CRIM     per capita crime rate by town\n",
            "        - ZN       proportion of residential land zoned for lots over 25,000 sq.ft.\n",
            "        - INDUS    proportion of non-retail business acres per town\n",
            "        - CHAS     Charles River dummy variable (= 1 if tract bounds river; 0 otherwise)\n",
            "        - NOX      nitric oxides concentration (parts per 10 million)\n",
            "        - RM       average number of rooms per dwelling\n",
            "        - AGE      proportion of owner-occupied units built prior to 1940\n",
            "        - DIS      weighted distances to five Boston employment centres\n",
            "        - RAD      index of accessibility to radial highways\n",
            "        - TAX      full-value property-tax rate per $10,000\n",
            "        - PTRATIO  pupil-teacher ratio by town\n",
            "        - B        1000(Bk - 0.63)^2 where Bk is the proportion of blacks by town\n",
            "        - LSTAT    % lower status of the population\n",
            "        - MEDV     Median value of owner-occupied homes in $1000's\n",
            "\n",
            "    :Missing Attribute Values: None\n",
            "\n",
            "    :Creator: Harrison, D. and Rubinfeld, D.L.\n",
            "\n",
            "This is a copy of UCI ML housing dataset.\n",
            "https://archive.ics.uci.edu/ml/machine-learning-databases/housing/\n",
            "\n",
            "\n",
            "This dataset was taken from the StatLib library which is maintained at Carnegie Mellon University.\n",
            "\n",
            "The Boston house-price data of Harrison, D. and Rubinfeld, D.L. 'Hedonic\n",
            "prices and the demand for clean air', J. Environ. Economics & Management,\n",
            "vol.5, 81-102, 1978.   Used in Belsley, Kuh & Welsch, 'Regression diagnostics\n",
            "...', Wiley, 1980.   N.B. Various transformations are used in the table on\n",
            "pages 244-261 of the latter.\n",
            "\n",
            "The Boston house-price data has been used in many machine learning papers that address regression\n",
            "problems.   \n",
            "     \n",
            ".. topic:: References\n",
            "\n",
            "   - Belsley, Kuh & Welsch, 'Regression diagnostics: Identifying Influential Data and Sources of Collinearity', Wiley, 1980. 244-261.\n",
            "   - Quinlan,R. (1993). Combining Instance-Based and Model-Based Learning. In Proceedings on the Tenth International Conference of Machine Learning, 236-243, University of Massachusetts, Amherst. Morgan Kaufmann.\n",
            "\n"
          ],
          "name": "stdout"
        }
      ]
    },
    {
      "cell_type": "markdown",
      "metadata": {
        "id": "WLb2pS06KkGu",
        "colab_type": "text"
      },
      "source": [
        "### 1.2 Scale the data and split it to training and testing set"
      ]
    },
    {
      "cell_type": "code",
      "metadata": {
        "id": "DXhItUVzGERB",
        "colab_type": "code",
        "colab": {}
      },
      "source": [
        "X = boston.data\n",
        "y = boston.target\n",
        "\n",
        "sc = StandardScaler()\n",
        "X = sc.fit_transform(X)"
      ],
      "execution_count": 0,
      "outputs": []
    },
    {
      "cell_type": "code",
      "metadata": {
        "id": "Y--H8-VcBHg5",
        "colab_type": "code",
        "outputId": "98a9e669-eee0-45bd-af34-65b3132727f3",
        "colab": {
          "base_uri": "https://localhost:8080/",
          "height": 85
        }
      },
      "source": [
        "X_train, X_test, y_train, y_test = train_test_split(X, y, test_size = 0.2, random_state = 0)\n",
        "\n",
        "print(boston.data.shape)\n",
        "print(boston.target.shape)\n",
        "print(X_train.shape, y_train.shape)\n",
        "print(X_test.shape, y_test.shape)"
      ],
      "execution_count": 5,
      "outputs": [
        {
          "output_type": "stream",
          "text": [
            "(506, 13)\n",
            "(506,)\n",
            "(404, 13) (404,)\n",
            "(102, 13) (102,)\n"
          ],
          "name": "stdout"
        }
      ]
    },
    {
      "cell_type": "markdown",
      "metadata": {
        "id": "X5JO89r3CLC2",
        "colab_type": "text"
      },
      "source": [
        "## 2. Artificial Neural Network"
      ]
    },
    {
      "cell_type": "markdown",
      "metadata": {
        "id": "5yvq-k96IA5S",
        "colab_type": "text"
      },
      "source": [
        "### 2.1 Build Artificial Neural Network\n",
        "\n"
      ]
    },
    {
      "cell_type": "code",
      "metadata": {
        "id": "vuctxWEPCQwF",
        "colab_type": "code",
        "outputId": "afcda21f-e9c2-46f3-9d6b-450742dfb6e9",
        "colab": {
          "base_uri": "https://localhost:8080/",
          "height": 105
        }
      },
      "source": [
        "import tensorflow as tf\n",
        "from tensorflow import keras\n",
        "from keras import Sequential\n",
        "from keras.layers import Dense\n",
        "\n",
        "#build our model\n",
        "model = Sequential()\n",
        "\n",
        "model.add(Dense(64, activation='relu', input_shape=(X_train.shape[1],)))\n",
        "model.add(Dense(128, activation='relu'))\n",
        "model.add(Dense(128, activation='relu'))\n",
        "model.add(Dense(64, activation='relu'))\n",
        "model.add(Dense(1))\n",
        "\n",
        "model.compile(loss='mean_squared_error', optimizer='adam', metrics=['mae'])"
      ],
      "execution_count": 6,
      "outputs": [
        {
          "output_type": "stream",
          "text": [
            "WARNING:tensorflow:From /usr/local/lib/python3.6/dist-packages/tensorflow/python/framework/op_def_library.py:263: colocate_with (from tensorflow.python.framework.ops) is deprecated and will be removed in a future version.\n",
            "Instructions for updating:\n",
            "Colocations handled automatically by placer.\n"
          ],
          "name": "stdout"
        },
        {
          "output_type": "stream",
          "text": [
            "Using TensorFlow backend.\n"
          ],
          "name": "stderr"
        }
      ]
    },
    {
      "cell_type": "markdown",
      "metadata": {
        "id": "8DWG8y3PIKaW",
        "colab_type": "text"
      },
      "source": [
        "### 2.2 Train the ANN Model"
      ]
    },
    {
      "cell_type": "code",
      "metadata": {
        "id": "_Ly5L0DwIUZD",
        "colab_type": "code",
        "outputId": "5968bb45-0bda-462b-9401-c91fa25af8aa",
        "colab": {
          "base_uri": "https://localhost:8080/",
          "height": 3505
        }
      },
      "source": [
        "history = model.fit(\n",
        "                      X_train,\n",
        "                      y_train,\n",
        "                      epochs=100,\n",
        "                      shuffle=True,\n",
        "                      verbose=2,\n",
        "                      validation_data=(X_test, y_test)\n",
        "                  )"
      ],
      "execution_count": 7,
      "outputs": [
        {
          "output_type": "stream",
          "text": [
            "WARNING:tensorflow:From /usr/local/lib/python3.6/dist-packages/tensorflow/python/ops/math_ops.py:3066: to_int32 (from tensorflow.python.ops.math_ops) is deprecated and will be removed in a future version.\n",
            "Instructions for updating:\n",
            "Use tf.cast instead.\n",
            "Train on 404 samples, validate on 102 samples\n",
            "Epoch 1/100\n",
            " - 0s - loss: 560.5614 - mean_absolute_error: 21.8210 - val_loss: 475.4586 - val_mean_absolute_error: 19.8231\n",
            "Epoch 2/100\n",
            " - 0s - loss: 365.1852 - mean_absolute_error: 16.7148 - val_loss: 175.4168 - val_mean_absolute_error: 10.4861\n",
            "Epoch 3/100\n",
            " - 0s - loss: 123.9205 - mean_absolute_error: 8.7562 - val_loss: 94.4687 - val_mean_absolute_error: 7.2454\n",
            "Epoch 4/100\n",
            " - 0s - loss: 50.5047 - mean_absolute_error: 5.3470 - val_loss: 69.2885 - val_mean_absolute_error: 5.9287\n",
            "Epoch 5/100\n",
            " - 0s - loss: 28.8292 - mean_absolute_error: 3.9072 - val_loss: 43.6388 - val_mean_absolute_error: 4.7055\n",
            "Epoch 6/100\n",
            " - 0s - loss: 21.0194 - mean_absolute_error: 3.3577 - val_loss: 37.1735 - val_mean_absolute_error: 4.3259\n",
            "Epoch 7/100\n",
            " - 0s - loss: 17.3651 - mean_absolute_error: 3.0335 - val_loss: 33.6805 - val_mean_absolute_error: 4.0783\n",
            "Epoch 8/100\n",
            " - 0s - loss: 14.7861 - mean_absolute_error: 2.7510 - val_loss: 30.4100 - val_mean_absolute_error: 3.8662\n",
            "Epoch 9/100\n",
            " - 0s - loss: 13.3141 - mean_absolute_error: 2.6444 - val_loss: 27.7351 - val_mean_absolute_error: 3.6792\n",
            "Epoch 10/100\n",
            " - 0s - loss: 12.1379 - mean_absolute_error: 2.5001 - val_loss: 27.5277 - val_mean_absolute_error: 3.6253\n",
            "Epoch 11/100\n",
            " - 0s - loss: 11.4050 - mean_absolute_error: 2.4360 - val_loss: 25.2917 - val_mean_absolute_error: 3.4861\n",
            "Epoch 12/100\n",
            " - 0s - loss: 10.5388 - mean_absolute_error: 2.3317 - val_loss: 25.6603 - val_mean_absolute_error: 3.4789\n",
            "Epoch 13/100\n",
            " - 0s - loss: 10.1120 - mean_absolute_error: 2.2882 - val_loss: 24.5558 - val_mean_absolute_error: 3.4092\n",
            "Epoch 14/100\n",
            " - 0s - loss: 9.5130 - mean_absolute_error: 2.2272 - val_loss: 25.0745 - val_mean_absolute_error: 3.4188\n",
            "Epoch 15/100\n",
            " - 0s - loss: 9.3515 - mean_absolute_error: 2.2162 - val_loss: 24.0992 - val_mean_absolute_error: 3.3630\n",
            "Epoch 16/100\n",
            " - 0s - loss: 8.7029 - mean_absolute_error: 2.1265 - val_loss: 23.8134 - val_mean_absolute_error: 3.3445\n",
            "Epoch 17/100\n",
            " - 0s - loss: 8.5353 - mean_absolute_error: 2.1168 - val_loss: 23.4659 - val_mean_absolute_error: 3.3250\n",
            "Epoch 18/100\n",
            " - 0s - loss: 8.2127 - mean_absolute_error: 2.1004 - val_loss: 22.9530 - val_mean_absolute_error: 3.3152\n",
            "Epoch 19/100\n",
            " - 0s - loss: 8.1157 - mean_absolute_error: 2.0544 - val_loss: 23.5959 - val_mean_absolute_error: 3.3113\n",
            "Epoch 20/100\n",
            " - 0s - loss: 8.1535 - mean_absolute_error: 2.1036 - val_loss: 22.8440 - val_mean_absolute_error: 3.3148\n",
            "Epoch 21/100\n",
            " - 0s - loss: 7.4703 - mean_absolute_error: 1.9998 - val_loss: 22.6506 - val_mean_absolute_error: 3.3049\n",
            "Epoch 22/100\n",
            " - 0s - loss: 7.5592 - mean_absolute_error: 2.0170 - val_loss: 21.5395 - val_mean_absolute_error: 3.2685\n",
            "Epoch 23/100\n",
            " - 0s - loss: 7.3399 - mean_absolute_error: 1.9961 - val_loss: 21.8205 - val_mean_absolute_error: 3.2736\n",
            "Epoch 24/100\n",
            " - 0s - loss: 6.9200 - mean_absolute_error: 1.9355 - val_loss: 21.3205 - val_mean_absolute_error: 3.2461\n",
            "Epoch 25/100\n",
            " - 0s - loss: 6.8413 - mean_absolute_error: 1.9273 - val_loss: 21.5907 - val_mean_absolute_error: 3.2377\n",
            "Epoch 26/100\n",
            " - 0s - loss: 6.6641 - mean_absolute_error: 1.8952 - val_loss: 21.0528 - val_mean_absolute_error: 3.2372\n",
            "Epoch 27/100\n",
            " - 0s - loss: 6.5948 - mean_absolute_error: 1.9057 - val_loss: 21.2655 - val_mean_absolute_error: 3.2147\n",
            "Epoch 28/100\n",
            " - 0s - loss: 6.4573 - mean_absolute_error: 1.8941 - val_loss: 20.7426 - val_mean_absolute_error: 3.2235\n",
            "Epoch 29/100\n",
            " - 0s - loss: 6.1801 - mean_absolute_error: 1.8613 - val_loss: 20.5634 - val_mean_absolute_error: 3.2191\n",
            "Epoch 30/100\n",
            " - 0s - loss: 6.1901 - mean_absolute_error: 1.8661 - val_loss: 20.4255 - val_mean_absolute_error: 3.1968\n",
            "Epoch 31/100\n",
            " - 0s - loss: 5.8935 - mean_absolute_error: 1.8339 - val_loss: 20.2459 - val_mean_absolute_error: 3.2007\n",
            "Epoch 32/100\n",
            " - 0s - loss: 5.9810 - mean_absolute_error: 1.8345 - val_loss: 20.0971 - val_mean_absolute_error: 3.1632\n",
            "Epoch 33/100\n",
            " - 0s - loss: 5.6178 - mean_absolute_error: 1.7977 - val_loss: 19.8359 - val_mean_absolute_error: 3.1503\n",
            "Epoch 34/100\n",
            " - 0s - loss: 5.3669 - mean_absolute_error: 1.7572 - val_loss: 20.1439 - val_mean_absolute_error: 3.1991\n",
            "Epoch 35/100\n",
            " - 0s - loss: 5.3285 - mean_absolute_error: 1.7633 - val_loss: 19.7042 - val_mean_absolute_error: 3.1646\n",
            "Epoch 36/100\n",
            " - 0s - loss: 5.3403 - mean_absolute_error: 1.7582 - val_loss: 19.2315 - val_mean_absolute_error: 3.1228\n",
            "Epoch 37/100\n",
            " - 0s - loss: 5.4166 - mean_absolute_error: 1.7883 - val_loss: 18.6564 - val_mean_absolute_error: 3.0821\n",
            "Epoch 38/100\n",
            " - 0s - loss: 5.1505 - mean_absolute_error: 1.7492 - val_loss: 19.0291 - val_mean_absolute_error: 3.1064\n",
            "Epoch 39/100\n",
            " - 0s - loss: 4.9396 - mean_absolute_error: 1.7040 - val_loss: 18.3149 - val_mean_absolute_error: 3.1033\n",
            "Epoch 40/100\n",
            " - 0s - loss: 4.6972 - mean_absolute_error: 1.6578 - val_loss: 19.5646 - val_mean_absolute_error: 3.1160\n",
            "Epoch 41/100\n",
            " - 0s - loss: 4.6115 - mean_absolute_error: 1.6582 - val_loss: 18.0082 - val_mean_absolute_error: 3.0562\n",
            "Epoch 42/100\n",
            " - 0s - loss: 4.4498 - mean_absolute_error: 1.6235 - val_loss: 18.8543 - val_mean_absolute_error: 3.0671\n",
            "Epoch 43/100\n",
            " - 0s - loss: 4.3192 - mean_absolute_error: 1.6058 - val_loss: 18.1986 - val_mean_absolute_error: 3.0568\n",
            "Epoch 44/100\n",
            " - 0s - loss: 4.2549 - mean_absolute_error: 1.5753 - val_loss: 18.6414 - val_mean_absolute_error: 3.0307\n",
            "Epoch 45/100\n",
            " - 0s - loss: 4.2592 - mean_absolute_error: 1.6002 - val_loss: 18.1074 - val_mean_absolute_error: 3.0275\n",
            "Epoch 46/100\n",
            " - 0s - loss: 4.4345 - mean_absolute_error: 1.6316 - val_loss: 17.3679 - val_mean_absolute_error: 2.9965\n",
            "Epoch 47/100\n",
            " - 0s - loss: 3.9521 - mean_absolute_error: 1.5324 - val_loss: 17.6185 - val_mean_absolute_error: 2.9719\n",
            "Epoch 48/100\n",
            " - 0s - loss: 3.8478 - mean_absolute_error: 1.5244 - val_loss: 18.1430 - val_mean_absolute_error: 2.9973\n",
            "Epoch 49/100\n",
            " - 0s - loss: 3.8482 - mean_absolute_error: 1.5266 - val_loss: 17.8842 - val_mean_absolute_error: 2.9402\n",
            "Epoch 50/100\n",
            " - 0s - loss: 3.8401 - mean_absolute_error: 1.5158 - val_loss: 17.5776 - val_mean_absolute_error: 2.9522\n",
            "Epoch 51/100\n",
            " - 0s - loss: 3.7452 - mean_absolute_error: 1.4913 - val_loss: 17.0931 - val_mean_absolute_error: 2.9675\n",
            "Epoch 52/100\n",
            " - 0s - loss: 3.8108 - mean_absolute_error: 1.5040 - val_loss: 18.2285 - val_mean_absolute_error: 2.9302\n",
            "Epoch 53/100\n",
            " - 0s - loss: 3.6627 - mean_absolute_error: 1.4788 - val_loss: 18.6748 - val_mean_absolute_error: 2.9448\n",
            "Epoch 54/100\n",
            " - 0s - loss: 3.9269 - mean_absolute_error: 1.5630 - val_loss: 17.0852 - val_mean_absolute_error: 2.9035\n",
            "Epoch 55/100\n",
            " - 0s - loss: 3.8694 - mean_absolute_error: 1.5537 - val_loss: 17.4848 - val_mean_absolute_error: 2.8775\n",
            "Epoch 56/100\n",
            " - 0s - loss: 3.3040 - mean_absolute_error: 1.4101 - val_loss: 16.9104 - val_mean_absolute_error: 2.8919\n",
            "Epoch 57/100\n",
            " - 0s - loss: 3.1769 - mean_absolute_error: 1.3725 - val_loss: 16.8199 - val_mean_absolute_error: 2.8753\n",
            "Epoch 58/100\n",
            " - 0s - loss: 3.0935 - mean_absolute_error: 1.3503 - val_loss: 16.6525 - val_mean_absolute_error: 2.8621\n",
            "Epoch 59/100\n",
            " - 0s - loss: 3.0864 - mean_absolute_error: 1.3594 - val_loss: 16.6430 - val_mean_absolute_error: 2.8589\n",
            "Epoch 60/100\n",
            " - 0s - loss: 2.9296 - mean_absolute_error: 1.3131 - val_loss: 16.6303 - val_mean_absolute_error: 2.8444\n",
            "Epoch 61/100\n",
            " - 0s - loss: 2.9576 - mean_absolute_error: 1.3180 - val_loss: 16.9596 - val_mean_absolute_error: 2.8195\n",
            "Epoch 62/100\n",
            " - 0s - loss: 2.8529 - mean_absolute_error: 1.2953 - val_loss: 16.3670 - val_mean_absolute_error: 2.8421\n",
            "Epoch 63/100\n",
            " - 0s - loss: 2.8186 - mean_absolute_error: 1.2830 - val_loss: 17.2209 - val_mean_absolute_error: 2.8092\n",
            "Epoch 64/100\n",
            " - 0s - loss: 2.7754 - mean_absolute_error: 1.2751 - val_loss: 16.1093 - val_mean_absolute_error: 2.7846\n",
            "Epoch 65/100\n",
            " - 0s - loss: 2.7955 - mean_absolute_error: 1.2652 - val_loss: 17.2281 - val_mean_absolute_error: 2.8104\n",
            "Epoch 66/100\n",
            " - 0s - loss: 2.6664 - mean_absolute_error: 1.2400 - val_loss: 15.9144 - val_mean_absolute_error: 2.8027\n",
            "Epoch 67/100\n",
            " - 0s - loss: 2.9009 - mean_absolute_error: 1.3290 - val_loss: 17.1338 - val_mean_absolute_error: 2.7630\n",
            "Epoch 68/100\n",
            " - 0s - loss: 2.8577 - mean_absolute_error: 1.2938 - val_loss: 17.3024 - val_mean_absolute_error: 2.7802\n",
            "Epoch 69/100\n",
            " - 0s - loss: 2.7467 - mean_absolute_error: 1.2778 - val_loss: 16.1553 - val_mean_absolute_error: 2.7848\n",
            "Epoch 70/100\n",
            " - 0s - loss: 2.4736 - mean_absolute_error: 1.1983 - val_loss: 16.8776 - val_mean_absolute_error: 2.7048\n",
            "Epoch 71/100\n",
            " - 0s - loss: 2.4986 - mean_absolute_error: 1.2083 - val_loss: 16.2592 - val_mean_absolute_error: 2.7376\n",
            "Epoch 72/100\n",
            " - 0s - loss: 2.5063 - mean_absolute_error: 1.1887 - val_loss: 15.8797 - val_mean_absolute_error: 2.8208\n",
            "Epoch 73/100\n",
            " - 0s - loss: 2.4859 - mean_absolute_error: 1.2198 - val_loss: 15.7982 - val_mean_absolute_error: 2.7558\n",
            "Epoch 74/100\n",
            " - 0s - loss: 2.4545 - mean_absolute_error: 1.1625 - val_loss: 15.8976 - val_mean_absolute_error: 2.7330\n",
            "Epoch 75/100\n",
            " - 0s - loss: 2.3972 - mean_absolute_error: 1.1796 - val_loss: 16.2108 - val_mean_absolute_error: 2.7163\n",
            "Epoch 76/100\n",
            " - 0s - loss: 2.5288 - mean_absolute_error: 1.2203 - val_loss: 15.9482 - val_mean_absolute_error: 2.6886\n",
            "Epoch 77/100\n",
            " - 0s - loss: 2.4309 - mean_absolute_error: 1.1583 - val_loss: 16.0701 - val_mean_absolute_error: 2.7836\n",
            "Epoch 78/100\n",
            " - 0s - loss: 2.4271 - mean_absolute_error: 1.2081 - val_loss: 15.6954 - val_mean_absolute_error: 2.6560\n",
            "Epoch 79/100\n",
            " - 0s - loss: 2.5052 - mean_absolute_error: 1.2270 - val_loss: 16.6794 - val_mean_absolute_error: 2.7421\n",
            "Epoch 80/100\n",
            " - 0s - loss: 2.6945 - mean_absolute_error: 1.2520 - val_loss: 15.8975 - val_mean_absolute_error: 2.7090\n",
            "Epoch 81/100\n",
            " - 0s - loss: 2.2737 - mean_absolute_error: 1.1758 - val_loss: 16.5516 - val_mean_absolute_error: 2.7023\n",
            "Epoch 82/100\n",
            " - 0s - loss: 2.1801 - mean_absolute_error: 1.1067 - val_loss: 15.7235 - val_mean_absolute_error: 2.7294\n",
            "Epoch 83/100\n",
            " - 0s - loss: 2.2355 - mean_absolute_error: 1.1245 - val_loss: 16.4526 - val_mean_absolute_error: 2.7853\n",
            "Epoch 84/100\n",
            " - 0s - loss: 2.3714 - mean_absolute_error: 1.1621 - val_loss: 16.6442 - val_mean_absolute_error: 2.6874\n",
            "Epoch 85/100\n",
            " - 0s - loss: 2.4454 - mean_absolute_error: 1.2086 - val_loss: 16.4398 - val_mean_absolute_error: 2.6743\n",
            "Epoch 86/100\n",
            " - 0s - loss: 2.1420 - mean_absolute_error: 1.1026 - val_loss: 16.6952 - val_mean_absolute_error: 2.7104\n",
            "Epoch 87/100\n",
            " - 0s - loss: 1.9679 - mean_absolute_error: 1.0393 - val_loss: 16.2523 - val_mean_absolute_error: 2.6636\n",
            "Epoch 88/100\n",
            " - 0s - loss: 1.9935 - mean_absolute_error: 1.0500 - val_loss: 16.1322 - val_mean_absolute_error: 2.6872\n",
            "Epoch 89/100\n",
            " - 0s - loss: 1.8354 - mean_absolute_error: 1.0173 - val_loss: 15.6592 - val_mean_absolute_error: 2.6527\n",
            "Epoch 90/100\n",
            " - 0s - loss: 1.9117 - mean_absolute_error: 1.0374 - val_loss: 15.7179 - val_mean_absolute_error: 2.7192\n",
            "Epoch 91/100\n",
            " - 0s - loss: 1.9215 - mean_absolute_error: 1.0330 - val_loss: 15.9007 - val_mean_absolute_error: 2.6754\n",
            "Epoch 92/100\n",
            " - 0s - loss: 1.8903 - mean_absolute_error: 1.0196 - val_loss: 15.7356 - val_mean_absolute_error: 2.6607\n",
            "Epoch 93/100\n",
            " - 0s - loss: 1.8490 - mean_absolute_error: 1.0032 - val_loss: 16.4159 - val_mean_absolute_error: 2.7751\n",
            "Epoch 94/100\n",
            " - 0s - loss: 1.8334 - mean_absolute_error: 1.0342 - val_loss: 16.5692 - val_mean_absolute_error: 2.6735\n",
            "Epoch 95/100\n",
            " - 0s - loss: 1.9644 - mean_absolute_error: 1.0729 - val_loss: 15.5628 - val_mean_absolute_error: 2.6668\n",
            "Epoch 96/100\n",
            " - 0s - loss: 1.6333 - mean_absolute_error: 0.9435 - val_loss: 16.1699 - val_mean_absolute_error: 2.7234\n",
            "Epoch 97/100\n",
            " - 0s - loss: 1.8354 - mean_absolute_error: 0.9863 - val_loss: 15.6740 - val_mean_absolute_error: 2.7483\n",
            "Epoch 98/100\n",
            " - 0s - loss: 1.6127 - mean_absolute_error: 0.9353 - val_loss: 16.1729 - val_mean_absolute_error: 2.6747\n",
            "Epoch 99/100\n",
            " - 0s - loss: 1.5759 - mean_absolute_error: 0.9252 - val_loss: 16.1771 - val_mean_absolute_error: 2.6921\n",
            "Epoch 100/100\n",
            " - 0s - loss: 1.5356 - mean_absolute_error: 0.9145 - val_loss: 16.1866 - val_mean_absolute_error: 2.6523\n"
          ],
          "name": "stdout"
        }
      ]
    },
    {
      "cell_type": "code",
      "metadata": {
        "id": "GQQCZcad-JTf",
        "colab_type": "code",
        "colab": {
          "base_uri": "https://localhost:8080/",
          "height": 34
        },
        "outputId": "26b08d23-d445-4d49-a70a-f7feed41c214"
      },
      "source": [
        "# list all data in history\n",
        "print(history.history.keys())"
      ],
      "execution_count": 8,
      "outputs": [
        {
          "output_type": "stream",
          "text": [
            "dict_keys(['val_loss', 'val_mean_absolute_error', 'loss', 'mean_absolute_error'])\n"
          ],
          "name": "stdout"
        }
      ]
    },
    {
      "cell_type": "markdown",
      "metadata": {
        "id": "EV5DcBLiITJw",
        "colab_type": "text"
      },
      "source": [
        "### 2.3 Analyze the result\n",
        "\n",
        "Mean Absolute Error (MAE), Mean Squared Error (MSE) and Root mean squared error (RMSE) are the most common metrics used to measure accuracy for continuous variables. \n",
        "\n",
        "*   Mean Absolute Error (MAE)\n",
        "$$ MAE = \\frac{\\mathrm{1} }{m}  \\sum_{i=1}^{m} \\left|y_i-\\hat{y}_i\\right| $$\n",
        "\n",
        "\n",
        "*    Mean Squared Error (RMSE): \n",
        "$$ MSE = \\frac{\\mathrm{1} }{m}  \\sum_{i=1}^{m} (y_i-\\hat{y}_i)^2 $$\n",
        "\n",
        "*   Root mean squared error (RMSE): \n",
        "\n",
        "$$ RMSE =  \\sqrt{ \\frac{\\mathrm{1} }{m}  \\sum_{i=1}^{m} (y_i-\\hat{y}_i)^2 }$$\n"
      ]
    },
    {
      "cell_type": "code",
      "metadata": {
        "id": "tBvlVJZYKQPM",
        "colab_type": "code",
        "outputId": "2857c2c8-4083-42ad-f822-5a71caac6350",
        "colab": {
          "base_uri": "https://localhost:8080/",
          "height": 404
        }
      },
      "source": [
        "fig = plt.figure(1, figsize=(16,6))\n",
        "\n",
        "plt.subplot(1, 2, 1)\n",
        "plt.title('Model MAE(Mean Absolute Error)')\n",
        "plt.plot(history.history['mean_absolute_error'])\n",
        "plt.plot(history.history['val_mean_absolute_error'])\n",
        "plt.ylabel('MAE')\n",
        "plt.xlabel('epoch')\n",
        "plt.legend(['train', 'test'], loc='upper right')\n",
        "\n",
        "\n",
        "plt.subplot(1, 2, 2)\n",
        "plt.plot(history.history['loss'])\n",
        "plt.plot(history.history['val_loss'])\n",
        "plt.title('Model Loss - MSE(Mean Squared Error)')\n",
        "plt.ylabel('loss')\n",
        "plt.xlabel('epoch')\n",
        "plt.legend(['train loss', 'test loss'], loc='upper right')\n",
        "\n",
        "plt.show()"
      ],
      "execution_count": 9,
      "outputs": [
        {
          "output_type": "display_data",
          "data": {
            "image/png": "[encoded data removed]",
            "text/plain": [
              "<Figure size 1152x432 with 2 Axes>"
            ]
          },
          "metadata": {
            "tags": []
          }
        }
      ]
    },
    {
      "cell_type": "code",
      "metadata": {
        "id": "xGVCRVqlLllr",
        "colab_type": "code",
        "outputId": "e757b9d6-4702-42b5-ef53-5f10f53eed30",
        "colab": {
          "base_uri": "https://localhost:8080/",
          "height": 51
        }
      },
      "source": [
        "val_mse, val_mae = model.evaluate(X_test, y_test, verbose=0)\n",
        "print(\"MSE(Mean Squared Error): \", val_mse)\n",
        "print(\"MAE(Mean Absolute Error): \", val_mae)"
      ],
      "execution_count": 10,
      "outputs": [
        {
          "output_type": "stream",
          "text": [
            "MSE(Mean Squared Error):  16.186641019933365\n",
            "MAE(Mean Absolute Error):  2.652294722257876\n"
          ],
          "name": "stdout"
        }
      ]
    },
    {
      "cell_type": "markdown",
      "metadata": {
        "id": "aUdM66EyJz0x",
        "colab_type": "text"
      },
      "source": [
        "### 2.4 Make predictions and visualize it "
      ]
    },
    {
      "cell_type": "code",
      "metadata": {
        "id": "uR67ZpUqLHkB",
        "colab_type": "code",
        "colab": {}
      },
      "source": [
        "predictions = model.predict(X_test)"
      ],
      "execution_count": 0,
      "outputs": []
    },
    {
      "cell_type": "code",
      "metadata": {
        "id": "e-m__7yrMRuM",
        "colab_type": "code",
        "outputId": "49901a1a-dada-4394-d14a-a96569f3646b",
        "colab": {
          "base_uri": "https://localhost:8080/",
          "height": 540
        }
      },
      "source": [
        "plt.figure(1, figsize=(10,8))\n",
        "plt.scatter(y_test, predictions, marker='.', c=\"b\")\n",
        "plt.xlabel(\"Prices: $Y_i$\")\n",
        "plt.ylabel(\"Predicted prices: $\\hat{Y}_i$\")\n",
        "plt.title(\"Prices vs Predicted prices: $Y_i$ vs $\\hat{Y}_i$\")"
      ],
      "execution_count": 12,
      "outputs": [
        {
          "output_type": "execute_result",
          "data": {
            "text/plain": [
              "Text(0.5, 1.0, 'Prices vs Predicted prices: $Y_i$ vs $\\\\hat{Y}_i$')"
            ]
          },
          "metadata": {
            "tags": []
          },
          "execution_count": 12
        },
        {
          "output_type": "display_data",
          "data": {
            "image/png": "[encoded data removed]",
            "text/plain": [
              "<Figure size 720x576 with 1 Axes>"
            ]
          },
          "metadata": {
            "tags": []
          }
        }
      ]
    },
    {
      "cell_type": "markdown",
      "metadata": {
        "id": "eAwaeQIUMQfB",
        "colab_type": "text"
      },
      "source": [
        "## 3. Compare with Linear Regression of sklearn"
      ]
    },
    {
      "cell_type": "markdown",
      "metadata": {
        "id": "JyHyGZwvMz3e",
        "colab_type": "text"
      },
      "source": [
        "### 3.1 Build Linear Regression model with Sklearn"
      ]
    },
    {
      "cell_type": "code",
      "metadata": {
        "id": "5zK1kqv7MoTa",
        "colab_type": "code",
        "colab": {
          "base_uri": "https://localhost:8080/",
          "height": 51
        },
        "outputId": "7e7fabe1-304b-48c1-e1cd-ad9bf1d445fd"
      },
      "source": [
        "from sklearn.linear_model import LinearRegression\n",
        "\n",
        "lr = LinearRegression()\n",
        "lr.fit(X_train, y_train)"
      ],
      "execution_count": 13,
      "outputs": [
        {
          "output_type": "execute_result",
          "data": {
            "text/plain": [
              "LinearRegression(copy_X=True, fit_intercept=True, n_jobs=None,\n",
              "         normalize=False)"
            ]
          },
          "metadata": {
            "tags": []
          },
          "execution_count": 13
        }
      ]
    },
    {
      "cell_type": "markdown",
      "metadata": {
        "id": "pYiGAjGVM_Yg",
        "colab_type": "text"
      },
      "source": [
        "### 3.2 Evaluate the results of Linear Regression"
      ]
    },
    {
      "cell_type": "code",
      "metadata": {
        "id": "lq87e3ORNHA-",
        "colab_type": "code",
        "colab": {
          "base_uri": "https://localhost:8080/",
          "height": 51
        },
        "outputId": "0480b34d-a542-4fc5-abed-968799d65694"
      },
      "source": [
        "y_pred = lr.predict(X_test)\n",
        "mse = sklearn.metrics.mean_squared_error(y_test, y_pred)\n",
        "mae = sklearn.metrics.mean_absolute_error(y_test, y_pred)\n",
        "print(\"MSE(Mean Squared Error): \", mse)\n",
        "print(\"MAE(Mean Absolute Error): \", mae)\n"
      ],
      "execution_count": 14,
      "outputs": [
        {
          "output_type": "stream",
          "text": [
            "MSE(Mean Squared Error):  33.44897999767653\n",
            "MAE(Mean Absolute Error):  3.8429092204444983\n"
          ],
          "name": "stdout"
        }
      ]
    },
    {
      "cell_type": "markdown",
      "metadata": {
        "id": "a-oDwCzEORoG",
        "colab_type": "text"
      },
      "source": [
        "# 4. Conclusion\n",
        "\n",
        "If we use Sklearn Linear Regression model we get the result of \n",
        "*  MSE(Mean Squared Error):  33.44897999767653\n",
        "*  MAE(Mean Absolute Error):  3.8429092204444983\n",
        "\n",
        "\n",
        "If we use Artificial Neural Network with one hidden layer of 64 units, we get a result worse than linear regression.\n",
        "*  MSE(Mean Squared Error):  44.32422247119978\n",
        "*  MAE(Mean Absolute Error):  4.781989939072552\n",
        "\n",
        "As we keep adding the hidden layers we get better results, with 4 hidden layers of 64, 128, 128, 64 units, we get the result of,\n",
        "*  MSE(Mean Squared Error):  16.186641019933365\n",
        "*  MAE(Mean Absolute Error):  2.652294722257876\n"
      ]
    }
  ]
}