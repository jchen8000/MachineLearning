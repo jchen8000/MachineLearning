{
  "nbformat": 4,
  "nbformat_minor": 0,
  "metadata": {
    "colab": {
      "name": "artificial_neural_network_2.ipynb",
      "version": "0.3.2",
      "provenance": [],
      "include_colab_link": true
    },
    "kernelspec": {
      "name": "python3",
      "display_name": "Python 3"
    }
  },
  "cells": [
    {
      "cell_type": "markdown",
      "metadata": {
        "id": "view-in-github",
        "colab_type": "text"
      },
      "source": [
        "<a href=\"https://colab.research.google.com/github/jchen8000/MachineLearning/blob/master/Artificial%20Neural%20Network/artificial_neural_network_2.ipynb\" target=\"_parent\"><img src=\"https://colab.research.google.com/assets/colab-badge.svg\" alt=\"Open In Colab\"/></a>"
      ]
    },
    {
      "cell_type": "markdown",
      "metadata": {
        "id": "Z6POvTBO_bwB",
        "colab_type": "text"
      },
      "source": [
        "# Artificial Neural Network, \n",
        "\n",
        "\n",
        "***ABSTRACT***\n",
        "\n",
        "***This is a hands-on practice of building an Artificial Neural Network (ANN) with Keras/Tensorflow to train the [Boston Dataset](https://www.kaggle.com/c/boston-housing). we load the dataset from Sklearn library and pre-process the data with StandardScaler function. We then build an Artificial Neural Network (ANN) with Keras library, train it and evaluate the results. At last we also build a Linear Regression model with Sklearn library processing the same dataset, and compare its results with ANN, we find out that ANN with one hidden layer is not as good as Linear Regression mode, as we add more hidden layers for the ANN the results are getting better, eventually we build the ANN with four hidden layers with 64, 128, 128, 64 units we get a better results than Linear Regression.***\n",
        "\n",
        "\n",
        "\n",
        "\n"
      ]
    },
    {
      "cell_type": "code",
      "metadata": {
        "id": "H6gRcp39_N2X",
        "colab_type": "code",
        "colab": {}
      },
      "source": [
        "%matplotlib inline \n",
        "\n",
        "import numpy as np\n",
        "import matplotlib.pyplot as plt\n",
        "import sklearn\n",
        "from sklearn.model_selection import train_test_split\n",
        "from sklearn.preprocessing import StandardScaler"
      ],
      "execution_count": 0,
      "outputs": []
    },
    {
      "cell_type": "markdown",
      "metadata": {
        "id": "40e453WI_rMU",
        "colab_type": "text"
      },
      "source": [
        "## 1. Boston Dataset"
      ]
    },
    {
      "cell_type": "markdown",
      "metadata": {
        "id": "vdyTQeYbKfKd",
        "colab_type": "text"
      },
      "source": [
        "### 1.1 Load the dataset"
      ]
    },
    {
      "cell_type": "code",
      "metadata": {
        "id": "qnQIiqIr_wRX",
        "colab_type": "code",
        "colab": {}
      },
      "source": [
        "from sklearn.datasets import load_boston\n",
        "boston = load_boston()"
      ],
      "execution_count": 0,
      "outputs": []
    },
    {
      "cell_type": "code",
      "metadata": {
        "id": "d53goSIl_6Tb",
        "colab_type": "code",
        "outputId": "75aa91e4-5369-4da6-b77c-35c4d8254218",
        "colab": {
          "base_uri": "https://localhost:8080/",
          "height": 972
        }
      },
      "source": [
        "print(boston.keys())\n",
        "print(boston.data.shape)\n",
        "print(boston.feature_names)\n",
        "print(boston.DESCR)"
      ],
      "execution_count": 3,
      "outputs": [
        {
          "output_type": "stream",
          "text": [
            "dict_keys(['data', 'target', 'feature_names', 'DESCR', 'filename'])\n",
            "(506, 13)\n",
            "['CRIM' 'ZN' 'INDUS' 'CHAS' 'NOX' 'RM' 'AGE' 'DIS' 'RAD' 'TAX' 'PTRATIO'\n",
            " 'B' 'LSTAT']\n",
            ".. _boston_dataset:\n",
            "\n",
            "Boston house prices dataset\n",
            "---------------------------\n",
            "\n",
            "**Data Set Characteristics:**  \n",
            "\n",
            "    :Number of Instances: 506 \n",
            "\n",
            "    :Number of Attributes: 13 numeric/categorical predictive. Median Value (attribute 14) is usually the target.\n",
            "\n",
            "    :Attribute Information (in order):\n",
            "        - CRIM     per capita crime rate by town\n",
            "        - ZN       proportion of residential land zoned for lots over 25,000 sq.ft.\n",
            "        - INDUS    proportion of non-retail business acres per town\n",
            "        - CHAS     Charles River dummy variable (= 1 if tract bounds river; 0 otherwise)\n",
            "        - NOX      nitric oxides concentration (parts per 10 million)\n",
            "        - RM       average number of rooms per dwelling\n",
            "        - AGE      proportion of owner-occupied units built prior to 1940\n",
            "        - DIS      weighted distances to five Boston employment centres\n",
            "        - RAD      index of accessibility to radial highways\n",
            "        - TAX      full-value property-tax rate per $10,000\n",
            "        - PTRATIO  pupil-teacher ratio by town\n",
            "        - B        1000(Bk - 0.63)^2 where Bk is the proportion of blacks by town\n",
            "        - LSTAT    % lower status of the population\n",
            "        - MEDV     Median value of owner-occupied homes in $1000's\n",
            "\n",
            "    :Missing Attribute Values: None\n",
            "\n",
            "    :Creator: Harrison, D. and Rubinfeld, D.L.\n",
            "\n",
            "This is a copy of UCI ML housing dataset.\n",
            "https://archive.ics.uci.edu/ml/machine-learning-databases/housing/\n",
            "\n",
            "\n",
            "This dataset was taken from the StatLib library which is maintained at Carnegie Mellon University.\n",
            "\n",
            "The Boston house-price data of Harrison, D. and Rubinfeld, D.L. 'Hedonic\n",
            "prices and the demand for clean air', J. Environ. Economics & Management,\n",
            "vol.5, 81-102, 1978.   Used in Belsley, Kuh & Welsch, 'Regression diagnostics\n",
            "...', Wiley, 1980.   N.B. Various transformations are used in the table on\n",
            "pages 244-261 of the latter.\n",
            "\n",
            "The Boston house-price data has been used in many machine learning papers that address regression\n",
            "problems.   \n",
            "     \n",
            ".. topic:: References\n",
            "\n",
            "   - Belsley, Kuh & Welsch, 'Regression diagnostics: Identifying Influential Data and Sources of Collinearity', Wiley, 1980. 244-261.\n",
            "   - Quinlan,R. (1993). Combining Instance-Based and Model-Based Learning. In Proceedings on the Tenth International Conference of Machine Learning, 236-243, University of Massachusetts, Amherst. Morgan Kaufmann.\n",
            "\n"
          ],
          "name": "stdout"
        }
      ]
    },
    {
      "cell_type": "markdown",
      "metadata": {
        "id": "WLb2pS06KkGu",
        "colab_type": "text"
      },
      "source": [
        "### 1.2 Scale the data and split it to training and testing set"
      ]
    },
    {
      "cell_type": "code",
      "metadata": {
        "id": "DXhItUVzGERB",
        "colab_type": "code",
        "colab": {}
      },
      "source": [
        "X = boston.data\n",
        "y = boston.target\n",
        "\n",
        "sc = StandardScaler()\n",
        "X = sc.fit_transform(X)"
      ],
      "execution_count": 0,
      "outputs": []
    },
    {
      "cell_type": "code",
      "metadata": {
        "id": "Y--H8-VcBHg5",
        "colab_type": "code",
        "outputId": "5ec0ed52-9f21-44fc-e9a5-cc72afc99d4a",
        "colab": {
          "base_uri": "https://localhost:8080/",
          "height": 85
        }
      },
      "source": [
        "X_train, X_test, y_train, y_test = train_test_split(X, y, test_size = 0.2, random_state = 0)\n",
        "\n",
        "print(boston.data.shape)\n",
        "print(boston.target.shape)\n",
        "print(X_train.shape, y_train.shape)\n",
        "print(X_test.shape, y_test.shape)"
      ],
      "execution_count": 5,
      "outputs": [
        {
          "output_type": "stream",
          "text": [
            "(506, 13)\n",
            "(506,)\n",
            "(404, 13) (404,)\n",
            "(102, 13) (102,)\n"
          ],
          "name": "stdout"
        }
      ]
    },
    {
      "cell_type": "markdown",
      "metadata": {
        "id": "X5JO89r3CLC2",
        "colab_type": "text"
      },
      "source": [
        "## 2. Artificial Neural Network"
      ]
    },
    {
      "cell_type": "markdown",
      "metadata": {
        "id": "5yvq-k96IA5S",
        "colab_type": "text"
      },
      "source": [
        "### 2.1 Build Artificial Neural Network\n",
        "\n",
        "We build an ANN with Keras/Tensorflow, the input shape is the number of features of Boston Dataset, which is X_train.shape[0], there are 4 hidden layers with 64, 128, 128, 64 units respectively, the activation function for is **ReLU**. The output of the ANN has one unit which will output a linear number.\n",
        "\n",
        "\n",
        "**ReLU** function is defined as $y = max(0, x)$, shown as below,\n",
        "\n",
        "<img src=\"https://github.com/jchen8000/MachineLearning/blob/master/images/Relu.png?raw=true\" alt=\"drawing\" width=\"350\"/>\n",
        "\n"
      ]
    },
    {
      "cell_type": "code",
      "metadata": {
        "id": "vuctxWEPCQwF",
        "colab_type": "code",
        "outputId": "aa9f49b7-a4aa-4d07-a82d-bf046360324e",
        "colab": {
          "base_uri": "https://localhost:8080/",
          "height": 105
        }
      },
      "source": [
        "import tensorflow as tf\n",
        "from tensorflow import keras\n",
        "from keras import Sequential\n",
        "from keras.layers import Dense\n",
        "\n",
        "#build our model\n",
        "model = Sequential()\n",
        "\n",
        "model.add(Dense(64, activation='relu', input_shape=(X_train.shape[1],)))\n",
        "model.add(Dense(128, activation='relu'))\n",
        "model.add(Dense(128, activation='relu'))\n",
        "model.add(Dense(64, activation='relu'))\n",
        "model.add(Dense(1))\n",
        "\n",
        "model.compile(loss='mean_squared_error', optimizer='adam', metrics=['mae'])"
      ],
      "execution_count": 6,
      "outputs": [
        {
          "output_type": "stream",
          "text": [
            "WARNING:tensorflow:From /usr/local/lib/python3.6/dist-packages/tensorflow/python/framework/op_def_library.py:263: colocate_with (from tensorflow.python.framework.ops) is deprecated and will be removed in a future version.\n",
            "Instructions for updating:\n",
            "Colocations handled automatically by placer.\n"
          ],
          "name": "stdout"
        },
        {
          "output_type": "stream",
          "text": [
            "Using TensorFlow backend.\n"
          ],
          "name": "stderr"
        }
      ]
    },
    {
      "cell_type": "markdown",
      "metadata": {
        "id": "8DWG8y3PIKaW",
        "colab_type": "text"
      },
      "source": [
        "### 2.2 Train the ANN Model"
      ]
    },
    {
      "cell_type": "code",
      "metadata": {
        "id": "_Ly5L0DwIUZD",
        "colab_type": "code",
        "outputId": "798af040-5a1d-4dd4-d318-c76b8c8e75da",
        "colab": {
          "base_uri": "https://localhost:8080/",
          "height": 3505
        }
      },
      "source": [
        "history = model.fit(\n",
        "                      X_train,\n",
        "                      y_train,\n",
        "                      epochs=100,\n",
        "                      shuffle=True,\n",
        "                      verbose=2,\n",
        "                      validation_data=(X_test, y_test)\n",
        "                  )"
      ],
      "execution_count": 7,
      "outputs": [
        {
          "output_type": "stream",
          "text": [
            "WARNING:tensorflow:From /usr/local/lib/python3.6/dist-packages/tensorflow/python/ops/math_ops.py:3066: to_int32 (from tensorflow.python.ops.math_ops) is deprecated and will be removed in a future version.\n",
            "Instructions for updating:\n",
            "Use tf.cast instead.\n",
            "Train on 404 samples, validate on 102 samples\n",
            "Epoch 1/100\n",
            " - 0s - loss: 531.3078 - mean_absolute_error: 21.1068 - val_loss: 412.8015 - val_mean_absolute_error: 18.1441\n",
            "Epoch 2/100\n",
            " - 0s - loss: 265.0452 - mean_absolute_error: 13.9644 - val_loss: 117.5580 - val_mean_absolute_error: 8.1817\n",
            "Epoch 3/100\n",
            " - 0s - loss: 85.6759 - mean_absolute_error: 6.8018 - val_loss: 76.0660 - val_mean_absolute_error: 6.3067\n",
            "Epoch 4/100\n",
            " - 0s - loss: 44.7190 - mean_absolute_error: 4.9204 - val_loss: 60.6436 - val_mean_absolute_error: 5.5561\n",
            "Epoch 5/100\n",
            " - 0s - loss: 28.9781 - mean_absolute_error: 3.8403 - val_loss: 46.8892 - val_mean_absolute_error: 4.8742\n",
            "Epoch 6/100\n",
            " - 0s - loss: 22.4688 - mean_absolute_error: 3.3938 - val_loss: 39.3317 - val_mean_absolute_error: 4.4683\n",
            "Epoch 7/100\n",
            " - 0s - loss: 18.9769 - mean_absolute_error: 3.1973 - val_loss: 34.6241 - val_mean_absolute_error: 4.1539\n",
            "Epoch 8/100\n",
            " - 0s - loss: 16.2513 - mean_absolute_error: 2.9262 - val_loss: 33.5542 - val_mean_absolute_error: 4.1654\n",
            "Epoch 9/100\n",
            " - 0s - loss: 14.9531 - mean_absolute_error: 2.8233 - val_loss: 30.6782 - val_mean_absolute_error: 3.9192\n",
            "Epoch 10/100\n",
            " - 0s - loss: 12.8843 - mean_absolute_error: 2.6791 - val_loss: 29.2783 - val_mean_absolute_error: 3.8418\n",
            "Epoch 11/100\n",
            " - 0s - loss: 12.2413 - mean_absolute_error: 2.5637 - val_loss: 29.7284 - val_mean_absolute_error: 3.9623\n",
            "Epoch 12/100\n",
            " - 0s - loss: 12.1578 - mean_absolute_error: 2.6039 - val_loss: 28.0363 - val_mean_absolute_error: 3.7286\n",
            "Epoch 13/100\n",
            " - 0s - loss: 10.7741 - mean_absolute_error: 2.4435 - val_loss: 27.9722 - val_mean_absolute_error: 3.7462\n",
            "Epoch 14/100\n",
            " - 0s - loss: 9.9682 - mean_absolute_error: 2.3349 - val_loss: 26.0683 - val_mean_absolute_error: 3.6153\n",
            "Epoch 15/100\n",
            " - 0s - loss: 9.7223 - mean_absolute_error: 2.3259 - val_loss: 26.1627 - val_mean_absolute_error: 3.5836\n",
            "Epoch 16/100\n",
            " - 0s - loss: 9.1734 - mean_absolute_error: 2.2488 - val_loss: 26.2537 - val_mean_absolute_error: 3.5695\n",
            "Epoch 17/100\n",
            " - 0s - loss: 8.9197 - mean_absolute_error: 2.2179 - val_loss: 24.7850 - val_mean_absolute_error: 3.4666\n",
            "Epoch 18/100\n",
            " - 0s - loss: 8.3762 - mean_absolute_error: 2.1603 - val_loss: 24.9358 - val_mean_absolute_error: 3.4182\n",
            "Epoch 19/100\n",
            " - 0s - loss: 8.1657 - mean_absolute_error: 2.1173 - val_loss: 24.7364 - val_mean_absolute_error: 3.3936\n",
            "Epoch 20/100\n",
            " - 0s - loss: 7.9270 - mean_absolute_error: 2.0904 - val_loss: 23.9355 - val_mean_absolute_error: 3.3048\n",
            "Epoch 21/100\n",
            " - 0s - loss: 7.9126 - mean_absolute_error: 2.1088 - val_loss: 23.9041 - val_mean_absolute_error: 3.2987\n",
            "Epoch 22/100\n",
            " - 0s - loss: 7.6917 - mean_absolute_error: 2.0592 - val_loss: 23.4598 - val_mean_absolute_error: 3.2724\n",
            "Epoch 23/100\n",
            " - 0s - loss: 7.0453 - mean_absolute_error: 1.9855 - val_loss: 23.1666 - val_mean_absolute_error: 3.2509\n",
            "Epoch 24/100\n",
            " - 0s - loss: 7.0970 - mean_absolute_error: 2.0032 - val_loss: 23.2340 - val_mean_absolute_error: 3.3302\n",
            "Epoch 25/100\n",
            " - 0s - loss: 6.7778 - mean_absolute_error: 1.9666 - val_loss: 21.4722 - val_mean_absolute_error: 3.1542\n",
            "Epoch 26/100\n",
            " - 0s - loss: 6.5946 - mean_absolute_error: 1.9211 - val_loss: 22.5559 - val_mean_absolute_error: 3.2044\n",
            "Epoch 27/100\n",
            " - 0s - loss: 6.7689 - mean_absolute_error: 1.9826 - val_loss: 22.3570 - val_mean_absolute_error: 3.1630\n",
            "Epoch 28/100\n",
            " - 0s - loss: 6.3986 - mean_absolute_error: 1.9154 - val_loss: 22.0703 - val_mean_absolute_error: 3.1260\n",
            "Epoch 29/100\n",
            " - 0s - loss: 5.8823 - mean_absolute_error: 1.8055 - val_loss: 21.4158 - val_mean_absolute_error: 3.1046\n",
            "Epoch 30/100\n",
            " - 0s - loss: 5.7598 - mean_absolute_error: 1.7973 - val_loss: 20.7542 - val_mean_absolute_error: 3.0750\n",
            "Epoch 31/100\n",
            " - 0s - loss: 5.5245 - mean_absolute_error: 1.7616 - val_loss: 20.6098 - val_mean_absolute_error: 3.0358\n",
            "Epoch 32/100\n",
            " - 0s - loss: 5.4048 - mean_absolute_error: 1.7543 - val_loss: 20.6977 - val_mean_absolute_error: 3.0453\n",
            "Epoch 33/100\n",
            " - 0s - loss: 5.6332 - mean_absolute_error: 1.8083 - val_loss: 19.9883 - val_mean_absolute_error: 2.9842\n",
            "Epoch 34/100\n",
            " - 0s - loss: 5.5700 - mean_absolute_error: 1.7778 - val_loss: 20.3799 - val_mean_absolute_error: 3.0430\n",
            "Epoch 35/100\n",
            " - 0s - loss: 5.3141 - mean_absolute_error: 1.7403 - val_loss: 19.7452 - val_mean_absolute_error: 2.9822\n",
            "Epoch 36/100\n",
            " - 0s - loss: 5.0249 - mean_absolute_error: 1.7058 - val_loss: 19.9239 - val_mean_absolute_error: 3.0379\n",
            "Epoch 37/100\n",
            " - 0s - loss: 4.8103 - mean_absolute_error: 1.6735 - val_loss: 19.8121 - val_mean_absolute_error: 2.9526\n",
            "Epoch 38/100\n",
            " - 0s - loss: 4.5243 - mean_absolute_error: 1.6101 - val_loss: 19.3639 - val_mean_absolute_error: 2.9108\n",
            "Epoch 39/100\n",
            " - 0s - loss: 4.5393 - mean_absolute_error: 1.6056 - val_loss: 19.5314 - val_mean_absolute_error: 2.9412\n",
            "Epoch 40/100\n",
            " - 0s - loss: 4.3924 - mean_absolute_error: 1.5995 - val_loss: 19.7995 - val_mean_absolute_error: 2.9386\n",
            "Epoch 41/100\n",
            " - 0s - loss: 4.5626 - mean_absolute_error: 1.6406 - val_loss: 18.6104 - val_mean_absolute_error: 2.9617\n",
            "Epoch 42/100\n",
            " - 0s - loss: 4.6826 - mean_absolute_error: 1.6641 - val_loss: 19.1496 - val_mean_absolute_error: 2.9122\n",
            "Epoch 43/100\n",
            " - 0s - loss: 4.1875 - mean_absolute_error: 1.5685 - val_loss: 19.9486 - val_mean_absolute_error: 3.0672\n",
            "Epoch 44/100\n",
            " - 0s - loss: 4.4406 - mean_absolute_error: 1.5828 - val_loss: 18.1032 - val_mean_absolute_error: 2.8847\n",
            "Epoch 45/100\n",
            " - 0s - loss: 3.8344 - mean_absolute_error: 1.4855 - val_loss: 19.6602 - val_mean_absolute_error: 3.0019\n",
            "Epoch 46/100\n",
            " - 0s - loss: 4.1584 - mean_absolute_error: 1.5259 - val_loss: 18.2732 - val_mean_absolute_error: 2.9288\n",
            "Epoch 47/100\n",
            " - 0s - loss: 3.9051 - mean_absolute_error: 1.5009 - val_loss: 19.0605 - val_mean_absolute_error: 2.8890\n",
            "Epoch 48/100\n",
            " - 0s - loss: 4.0545 - mean_absolute_error: 1.5567 - val_loss: 18.4657 - val_mean_absolute_error: 2.8538\n",
            "Epoch 49/100\n",
            " - 0s - loss: 3.6316 - mean_absolute_error: 1.4506 - val_loss: 17.5258 - val_mean_absolute_error: 2.8015\n",
            "Epoch 50/100\n",
            " - 0s - loss: 3.8706 - mean_absolute_error: 1.4917 - val_loss: 18.9956 - val_mean_absolute_error: 2.8462\n",
            "Epoch 51/100\n",
            " - 0s - loss: 3.8161 - mean_absolute_error: 1.4647 - val_loss: 17.7451 - val_mean_absolute_error: 2.7819\n",
            "Epoch 52/100\n",
            " - 0s - loss: 3.5481 - mean_absolute_error: 1.4515 - val_loss: 18.7203 - val_mean_absolute_error: 2.8288\n",
            "Epoch 53/100\n",
            " - 0s - loss: 3.2875 - mean_absolute_error: 1.3386 - val_loss: 17.7660 - val_mean_absolute_error: 2.7978\n",
            "Epoch 54/100\n",
            " - 0s - loss: 3.1276 - mean_absolute_error: 1.3377 - val_loss: 18.8487 - val_mean_absolute_error: 2.8290\n",
            "Epoch 55/100\n",
            " - 0s - loss: 2.9553 - mean_absolute_error: 1.2732 - val_loss: 17.8761 - val_mean_absolute_error: 2.7978\n",
            "Epoch 56/100\n",
            " - 0s - loss: 3.1016 - mean_absolute_error: 1.3416 - val_loss: 17.4475 - val_mean_absolute_error: 2.8127\n",
            "Epoch 57/100\n",
            " - 0s - loss: 3.1392 - mean_absolute_error: 1.3247 - val_loss: 18.3717 - val_mean_absolute_error: 2.8615\n",
            "Epoch 58/100\n",
            " - 0s - loss: 3.0240 - mean_absolute_error: 1.3114 - val_loss: 19.5889 - val_mean_absolute_error: 2.8719\n",
            "Epoch 59/100\n",
            " - 0s - loss: 3.0115 - mean_absolute_error: 1.3076 - val_loss: 18.1846 - val_mean_absolute_error: 2.8447\n",
            "Epoch 60/100\n",
            " - 0s - loss: 2.8593 - mean_absolute_error: 1.2601 - val_loss: 17.9875 - val_mean_absolute_error: 2.7617\n",
            "Epoch 61/100\n",
            " - 0s - loss: 2.6742 - mean_absolute_error: 1.2286 - val_loss: 19.0152 - val_mean_absolute_error: 2.8095\n",
            "Epoch 62/100\n",
            " - 0s - loss: 2.8370 - mean_absolute_error: 1.2572 - val_loss: 17.4383 - val_mean_absolute_error: 2.7275\n",
            "Epoch 63/100\n",
            " - 0s - loss: 2.6332 - mean_absolute_error: 1.2119 - val_loss: 18.4637 - val_mean_absolute_error: 2.7881\n",
            "Epoch 64/100\n",
            " - 0s - loss: 2.7295 - mean_absolute_error: 1.2444 - val_loss: 18.0997 - val_mean_absolute_error: 2.7562\n",
            "Epoch 65/100\n",
            " - 0s - loss: 2.4409 - mean_absolute_error: 1.1731 - val_loss: 18.2169 - val_mean_absolute_error: 2.7679\n",
            "Epoch 66/100\n",
            " - 0s - loss: 2.4372 - mean_absolute_error: 1.1578 - val_loss: 17.3133 - val_mean_absolute_error: 2.7190\n",
            "Epoch 67/100\n",
            " - 0s - loss: 2.3165 - mean_absolute_error: 1.1360 - val_loss: 17.5217 - val_mean_absolute_error: 2.7430\n",
            "Epoch 68/100\n",
            " - 0s - loss: 2.2993 - mean_absolute_error: 1.1370 - val_loss: 18.2314 - val_mean_absolute_error: 2.7403\n",
            "Epoch 69/100\n",
            " - 0s - loss: 2.2261 - mean_absolute_error: 1.0966 - val_loss: 17.2328 - val_mean_absolute_error: 2.7086\n",
            "Epoch 70/100\n",
            " - 0s - loss: 2.2456 - mean_absolute_error: 1.1160 - val_loss: 17.9245 - val_mean_absolute_error: 2.7369\n",
            "Epoch 71/100\n",
            " - 0s - loss: 2.3430 - mean_absolute_error: 1.1148 - val_loss: 17.9801 - val_mean_absolute_error: 2.7174\n",
            "Epoch 72/100\n",
            " - 0s - loss: 2.0996 - mean_absolute_error: 1.0729 - val_loss: 18.4595 - val_mean_absolute_error: 2.9167\n",
            "Epoch 73/100\n",
            " - 0s - loss: 2.2368 - mean_absolute_error: 1.1305 - val_loss: 17.6085 - val_mean_absolute_error: 2.7227\n",
            "Epoch 74/100\n",
            " - 0s - loss: 2.0495 - mean_absolute_error: 1.0706 - val_loss: 18.8156 - val_mean_absolute_error: 2.8705\n",
            "Epoch 75/100\n",
            " - 0s - loss: 2.4215 - mean_absolute_error: 1.1705 - val_loss: 17.0175 - val_mean_absolute_error: 2.7147\n",
            "Epoch 76/100\n",
            " - 0s - loss: 2.2491 - mean_absolute_error: 1.1245 - val_loss: 17.4217 - val_mean_absolute_error: 2.7024\n",
            "Epoch 77/100\n",
            " - 0s - loss: 2.2093 - mean_absolute_error: 1.1114 - val_loss: 18.6375 - val_mean_absolute_error: 2.7759\n",
            "Epoch 78/100\n",
            " - 0s - loss: 2.0288 - mean_absolute_error: 1.0508 - val_loss: 17.8659 - val_mean_absolute_error: 2.7489\n",
            "Epoch 79/100\n",
            " - 0s - loss: 1.8920 - mean_absolute_error: 1.0183 - val_loss: 17.6736 - val_mean_absolute_error: 2.7068\n",
            "Epoch 80/100\n",
            " - 0s - loss: 2.0881 - mean_absolute_error: 1.0935 - val_loss: 17.7011 - val_mean_absolute_error: 2.7297\n",
            "Epoch 81/100\n",
            " - 0s - loss: 1.9821 - mean_absolute_error: 1.0797 - val_loss: 18.9743 - val_mean_absolute_error: 2.8350\n",
            "Epoch 82/100\n",
            " - 0s - loss: 1.9611 - mean_absolute_error: 1.0506 - val_loss: 17.6333 - val_mean_absolute_error: 2.7250\n",
            "Epoch 83/100\n",
            " - 0s - loss: 1.7740 - mean_absolute_error: 1.0070 - val_loss: 17.4823 - val_mean_absolute_error: 2.7169\n",
            "Epoch 84/100\n",
            " - 0s - loss: 1.7909 - mean_absolute_error: 0.9619 - val_loss: 17.6486 - val_mean_absolute_error: 2.7411\n",
            "Epoch 85/100\n",
            " - 0s - loss: 1.7274 - mean_absolute_error: 0.9637 - val_loss: 18.1224 - val_mean_absolute_error: 2.7071\n",
            "Epoch 86/100\n",
            " - 0s - loss: 1.7174 - mean_absolute_error: 0.9662 - val_loss: 16.8583 - val_mean_absolute_error: 2.7169\n",
            "Epoch 87/100\n",
            " - 0s - loss: 1.6048 - mean_absolute_error: 0.9372 - val_loss: 17.9699 - val_mean_absolute_error: 2.7250\n",
            "Epoch 88/100\n",
            " - 0s - loss: 1.5799 - mean_absolute_error: 0.9020 - val_loss: 18.1743 - val_mean_absolute_error: 2.7677\n",
            "Epoch 89/100\n",
            " - 0s - loss: 1.5785 - mean_absolute_error: 0.9475 - val_loss: 18.3904 - val_mean_absolute_error: 2.7460\n",
            "Epoch 90/100\n",
            " - 0s - loss: 1.8945 - mean_absolute_error: 1.0407 - val_loss: 18.6535 - val_mean_absolute_error: 2.8159\n",
            "Epoch 91/100\n",
            " - 0s - loss: 2.0058 - mean_absolute_error: 1.0720 - val_loss: 17.6424 - val_mean_absolute_error: 2.6874\n",
            "Epoch 92/100\n",
            " - 0s - loss: 1.6370 - mean_absolute_error: 0.9514 - val_loss: 17.4245 - val_mean_absolute_error: 2.6904\n",
            "Epoch 93/100\n",
            " - 0s - loss: 1.6216 - mean_absolute_error: 0.9296 - val_loss: 16.9200 - val_mean_absolute_error: 2.8125\n",
            "Epoch 94/100\n",
            " - 0s - loss: 1.8742 - mean_absolute_error: 1.0450 - val_loss: 17.7789 - val_mean_absolute_error: 2.7788\n",
            "Epoch 95/100\n",
            " - 0s - loss: 1.6134 - mean_absolute_error: 0.9583 - val_loss: 17.6534 - val_mean_absolute_error: 2.7258\n",
            "Epoch 96/100\n",
            " - 0s - loss: 1.8746 - mean_absolute_error: 1.0457 - val_loss: 16.7136 - val_mean_absolute_error: 2.7264\n",
            "Epoch 97/100\n",
            " - 0s - loss: 1.4343 - mean_absolute_error: 0.8974 - val_loss: 19.5828 - val_mean_absolute_error: 2.7507\n",
            "Epoch 98/100\n",
            " - 0s - loss: 1.5614 - mean_absolute_error: 0.9498 - val_loss: 17.6291 - val_mean_absolute_error: 2.7449\n",
            "Epoch 99/100\n",
            " - 0s - loss: 1.3428 - mean_absolute_error: 0.8507 - val_loss: 18.1341 - val_mean_absolute_error: 2.7373\n",
            "Epoch 100/100\n",
            " - 0s - loss: 1.3530 - mean_absolute_error: 0.8528 - val_loss: 17.9721 - val_mean_absolute_error: 2.7039\n"
          ],
          "name": "stdout"
        }
      ]
    },
    {
      "cell_type": "code",
      "metadata": {
        "id": "GQQCZcad-JTf",
        "colab_type": "code",
        "outputId": "3f3b54ec-b803-444c-d44a-02aec12c782d",
        "colab": {
          "base_uri": "https://localhost:8080/",
          "height": 34
        }
      },
      "source": [
        "# list all data in history\n",
        "print(history.history.keys())"
      ],
      "execution_count": 8,
      "outputs": [
        {
          "output_type": "stream",
          "text": [
            "dict_keys(['val_loss', 'val_mean_absolute_error', 'loss', 'mean_absolute_error'])\n"
          ],
          "name": "stdout"
        }
      ]
    },
    {
      "cell_type": "markdown",
      "metadata": {
        "id": "EV5DcBLiITJw",
        "colab_type": "text"
      },
      "source": [
        "### 2.3 Analyze the result\n",
        "\n",
        "Mean Absolute Error (MAE), Mean Squared Error (MSE) and Root mean squared error (RMSE) are the most common metrics used to measure accuracy for continuous variables. \n",
        "\n",
        "*   Mean Absolute Error (MAE)\n",
        "$$ MAE = \\frac{\\mathrm{1} }{m}  \\sum_{i=1}^{m} \\left|y_i-\\hat{y}_i\\right| $$\n",
        "\n",
        "\n",
        "*    Mean Squared Error (RMSE): \n",
        "$$ MSE = \\frac{\\mathrm{1} }{m}  \\sum_{i=1}^{m} (y_i-\\hat{y}_i)^2 $$\n",
        "\n",
        "*   Root mean squared error (RMSE): \n",
        "\n",
        "$$ RMSE =  \\sqrt{ \\frac{\\mathrm{1} }{m}  \\sum_{i=1}^{m} (y_i-\\hat{y}_i)^2 }$$\n",
        "\n",
        "\n",
        "Where,\n",
        "* $ y_i $  the ground truth values, \n",
        "* $ \\hat{y}_i $  predicted values, \n"
      ]
    },
    {
      "cell_type": "code",
      "metadata": {
        "id": "tBvlVJZYKQPM",
        "colab_type": "code",
        "outputId": "cd6a480c-9ac1-4f54-a651-85f8a6b48402",
        "colab": {
          "base_uri": "https://localhost:8080/",
          "height": 404
        }
      },
      "source": [
        "fig = plt.figure(1, figsize=(16,6))\n",
        "\n",
        "plt.subplot(1, 2, 1)\n",
        "plt.title('Model MAE(Mean Absolute Error)')\n",
        "plt.plot(history.history['mean_absolute_error'])\n",
        "plt.plot(history.history['val_mean_absolute_error'])\n",
        "plt.ylabel('MAE')\n",
        "plt.xlabel('epoch')\n",
        "plt.legend(['train', 'test'], loc='upper right')\n",
        "\n",
        "\n",
        "plt.subplot(1, 2, 2)\n",
        "plt.plot(history.history['loss'])\n",
        "plt.plot(history.history['val_loss'])\n",
        "plt.title('Model Loss - MSE(Mean Squared Error)')\n",
        "plt.ylabel('loss')\n",
        "plt.xlabel('epoch')\n",
        "plt.legend(['train loss', 'test loss'], loc='upper right')\n",
        "\n",
        "plt.show()"
      ],
      "execution_count": 9,
      "outputs": [
        {
          "output_type": "display_data",
          "data": {
            "image/png": "[encoded data removed]",
            "text/plain": [
              "<Figure size 1152x432 with 2 Axes>"
            ]
          },
          "metadata": {
            "tags": []
          }
        }
      ]
    },
    {
      "cell_type": "code",
      "metadata": {
        "id": "xGVCRVqlLllr",
        "colab_type": "code",
        "outputId": "9a84ec15-6461-403d-f365-0389657a76a7",
        "colab": {
          "base_uri": "https://localhost:8080/",
          "height": 51
        }
      },
      "source": [
        "val_mse, val_mae = model.evaluate(X_test, y_test, verbose=0)\n",
        "print(\"MSE(Mean Squared Error): \", val_mse)\n",
        "print(\"MAE(Mean Absolute Error): \", val_mae)"
      ],
      "execution_count": 10,
      "outputs": [
        {
          "output_type": "stream",
          "text": [
            "MSE(Mean Squared Error):  17.972089229845533\n",
            "MAE(Mean Absolute Error):  2.703864763764774\n"
          ],
          "name": "stdout"
        }
      ]
    },
    {
      "cell_type": "markdown",
      "metadata": {
        "id": "aUdM66EyJz0x",
        "colab_type": "text"
      },
      "source": [
        "### 2.4 Make predictions and visualize it \n",
        "\n",
        "\n",
        "We use R-squared Score or, $ R ^{2} $ score, to evaluate how good our regression model is.\n",
        "\n",
        "$$ R ^{2} \\equiv 1 - \\frac{ \\sum_{i=1}^{n} ( \\hat{y} - \\overline{y})^2}{ \\sum_{i=1}^{n} ( y_i - \\overline{y})^2}  = 1 - \\frac{residual\\space sum\\space   of\\space   squares}{total\\space   sum\\space   of\\space  squares } $$ \n",
        "\n",
        "\n",
        "* $ y_i $  the ground truth values, \n",
        "* $ \\hat{y}_i $  predicted values, \n",
        "* $ \\overline{y} = \\frac{1}{n}\\sum_{i=1}^{n}y_i $, "
      ]
    },
    {
      "cell_type": "code",
      "metadata": {
        "id": "uR67ZpUqLHkB",
        "colab_type": "code",
        "colab": {}
      },
      "source": [
        "from sklearn.metrics import r2_score\n",
        "\n",
        "predictions = model.predict(X_test)\n",
        "R2_score = r2_score(y_test, predictions)"
      ],
      "execution_count": 0,
      "outputs": []
    },
    {
      "cell_type": "code",
      "metadata": {
        "id": "e-m__7yrMRuM",
        "colab_type": "code",
        "outputId": "3d585fd0-cbb4-44ba-9f61-b5eef1a9cf5f",
        "colab": {
          "base_uri": "https://localhost:8080/",
          "height": 762
        }
      },
      "source": [
        "import seaborn as sns\n",
        "\n",
        "plt.figure(figsize=(12,12))\n",
        "sns.set(color_codes=True)\n",
        "ax = sns.regplot(x=y_test, y=predictions.reshape(predictions.shape[0]), color=\"b\")\n",
        "ax.set_title( \"Prices vs Predicted prices: $Y_i$ vs $\\hat{Y}_i$, R2 Score: %f\" % R2_score )\n",
        "ax.set_ylabel(\"Predicted prices: $\\hat{Y}_i$\")\n",
        "ax.set_xlabel(\"Prices: $Y_i$\")\n",
        "\n",
        "#plt.figure(1, figsize=(10,8))\n",
        "#plt.scatter(y_test, predictions, marker='.', c=\"b\")\n",
        "#plt.xlabel(\"Prices: $Y_i$\")\n",
        "#plt.ylabel(\"Predicted prices: $\\hat{Y}_i$\")\n",
        "#plt.title(\"Prices vs Predicted prices: $Y_i$ vs $\\hat{Y}_i$, R2 Score: %f\" % R2_score)"
      ],
      "execution_count": 12,
      "outputs": [
        {
          "output_type": "execute_result",
          "data": {
            "text/plain": [
              "Text(0.5, 0, 'Prices: $Y_i$')"
            ]
          },
          "metadata": {
            "tags": []
          },
          "execution_count": 12
        },
        {
          "output_type": "display_data",
          "data": {
            "image/png": "[encoded data removed]",
            "text/plain": [
              "<Figure size 864x864 with 1 Axes>"
            ]
          },
          "metadata": {
            "tags": []
          }
        }
      ]
    },
    {
      "cell_type": "code",
      "metadata": {
        "id": "Biru0vJrItzp",
        "colab_type": "code",
        "colab": {
          "base_uri": "https://localhost:8080/",
          "height": 34
        },
        "outputId": "c6ea0522-b4d7-42af-93ac-77298428d29c"
      },
      "source": [
        "print( \"R-squared Score is: \", R2_score)"
      ],
      "execution_count": 13,
      "outputs": [
        {
          "output_type": "stream",
          "text": [
            "R-squared Score is:  0.7792897652725115\n"
          ],
          "name": "stdout"
        }
      ]
    },
    {
      "cell_type": "markdown",
      "metadata": {
        "id": "eAwaeQIUMQfB",
        "colab_type": "text"
      },
      "source": [
        "## 3. Compare with Linear Regression of sklearn"
      ]
    },
    {
      "cell_type": "markdown",
      "metadata": {
        "id": "JyHyGZwvMz3e",
        "colab_type": "text"
      },
      "source": [
        "### 3.1 Build Linear Regression model with Sklearn"
      ]
    },
    {
      "cell_type": "code",
      "metadata": {
        "id": "5zK1kqv7MoTa",
        "colab_type": "code",
        "outputId": "52f78756-ded6-4e6d-cc54-3489085c935a",
        "colab": {
          "base_uri": "https://localhost:8080/",
          "height": 34
        }
      },
      "source": [
        "from sklearn.linear_model import LinearRegression\n",
        "\n",
        "lr = LinearRegression()\n",
        "lr.fit(X_train, y_train)"
      ],
      "execution_count": 14,
      "outputs": [
        {
          "output_type": "execute_result",
          "data": {
            "text/plain": [
              "LinearRegression(copy_X=True, fit_intercept=True, n_jobs=None, normalize=False)"
            ]
          },
          "metadata": {
            "tags": []
          },
          "execution_count": 14
        }
      ]
    },
    {
      "cell_type": "markdown",
      "metadata": {
        "id": "pYiGAjGVM_Yg",
        "colab_type": "text"
      },
      "source": [
        "### 3.2 Evaluate the results of Linear Regression"
      ]
    },
    {
      "cell_type": "code",
      "metadata": {
        "id": "lq87e3ORNHA-",
        "colab_type": "code",
        "outputId": "bc686b29-a0fb-4d5f-ff90-3246fa208b7b",
        "colab": {
          "base_uri": "https://localhost:8080/",
          "height": 51
        }
      },
      "source": [
        "y_pred = lr.predict(X_test)\n",
        "mse = sklearn.metrics.mean_squared_error(y_test, y_pred)\n",
        "mae = sklearn.metrics.mean_absolute_error(y_test, y_pred)\n",
        "print(\"MSE(Mean Squared Error): \", mse)\n",
        "print(\"MAE(Mean Absolute Error): \", mae)\n"
      ],
      "execution_count": 15,
      "outputs": [
        {
          "output_type": "stream",
          "text": [
            "MSE(Mean Squared Error):  33.44897999767653\n",
            "MAE(Mean Absolute Error):  3.8429092204444983\n"
          ],
          "name": "stdout"
        }
      ]
    },
    {
      "cell_type": "code",
      "metadata": {
        "id": "C7lE-Ex4H5zE",
        "colab_type": "code",
        "colab": {}
      },
      "source": [
        "R2_score = r2_score(y_test, y_pred)"
      ],
      "execution_count": 0,
      "outputs": []
    },
    {
      "cell_type": "code",
      "metadata": {
        "id": "xeThfQ_AHndM",
        "colab_type": "code",
        "colab": {
          "base_uri": "https://localhost:8080/",
          "height": 762
        },
        "outputId": "0f7b7c81-ead9-492f-e40e-769611af6ac3"
      },
      "source": [
        "#plt.figure(1, figsize=(10,8))\n",
        "#plt.scatter(y_test, y_pred, marker='.', c=\"b\")\n",
        "#plt.xlabel(\"Prices: $Y_i$\")\n",
        "#plt.ylabel(\"Predicted prices: $\\hat{Y}_i$\")\n",
        "#plt.title(\"Prices vs Predicted prices: $Y_i$ vs $\\hat{Y}_i$, R2 Score: %f\" % R2_score)\n",
        "\n",
        "plt.figure(figsize=(12,12))\n",
        "sns.set(color_codes=True)\n",
        "ax = sns.regplot(x=y_test, y=y_pred, color=\"g\")\n",
        "ax.set_title( \"Prices vs Predicted prices: $Y_i$ vs $\\hat{Y}_i$, R2 Score: %f\" % R2_score )\n",
        "ax.set_ylabel(\"Predicted prices: $\\hat{Y}_i$\")\n",
        "ax.set_xlabel(\"Prices: $Y_i$\")"
      ],
      "execution_count": 17,
      "outputs": [
        {
          "output_type": "execute_result",
          "data": {
            "text/plain": [
              "Text(0.5, 0, 'Prices: $Y_i$')"
            ]
          },
          "metadata": {
            "tags": []
          },
          "execution_count": 17
        },
        {
          "output_type": "display_data",
          "data": {
            "image/png": "[encoded data removed]",
            "text/plain": [
              "<Figure size 864x864 with 1 Axes>"
            ]
          },
          "metadata": {
            "tags": []
          }
        }
      ]
    },
    {
      "cell_type": "code",
      "metadata": {
        "id": "MpV6Ny7X-hsh",
        "colab_type": "code",
        "colab": {
          "base_uri": "https://localhost:8080/",
          "height": 34
        },
        "outputId": "5ea76fef-6479-4ac9-9fea-e5a58eaecf8d"
      },
      "source": [
        "print( \"R-squared Score is: \", R2_score) "
      ],
      "execution_count": 18,
      "outputs": [
        {
          "output_type": "stream",
          "text": [
            "R-squared Score is:  0.5892223849182507\n"
          ],
          "name": "stdout"
        }
      ]
    },
    {
      "cell_type": "markdown",
      "metadata": {
        "id": "a-oDwCzEORoG",
        "colab_type": "text"
      },
      "source": [
        "# 4. Conclusion\n",
        "\n",
        "If we use Artificial Neural Network with one hidden layer of 64 units, we get a result worse than linear regression.\n",
        "*  MSE(Mean Squared Error):  44.32\n",
        "*  MAE(Mean Absolute Error):  4.78\n",
        "*  R-squared Score: 0.6178\n",
        "\n",
        "As we keep adding the hidden layers we get better results, with 4 hidden layers of 64, 128, 128, 64 units, we get the result of,\n",
        "*  MSE(Mean Squared Error):  17.97\n",
        "*  MAE(Mean Absolute Error):  2.70\n",
        "*  R-squared Score: 0.7793\n",
        "\n",
        "If we use Sklearn Linear Regression model we get the result of \n",
        "*  MSE(Mean Squared Error):  33.44\n",
        "*  MAE(Mean Absolute Error):  3.84\n",
        "*  R-squared Score: 0.589\n"
      ]
    },
    {
      "cell_type": "markdown",
      "metadata": {
        "id": "-kFJLj1ExRjK",
        "colab_type": "text"
      },
      "source": [
        "# 5. Others"
      ]
    },
    {
      "cell_type": "markdown",
      "metadata": {
        "id": "qe3MwP8nxV6w",
        "colab_type": "text"
      },
      "source": [
        "## 5.1 Some Activation Functions commonly used for Neural Network\n",
        "\n",
        "**LeakyReLU (Leaky ReLU):**\n",
        "\n",
        "<img src=\"https://github.com/jchen8000/MachineLearning/blob/master/images/LeakyReLU.png?raw=true\" alt=\"Leaky ReLU\" width=\"350\"/>\n",
        "\n",
        "\n",
        "**ELU (Exponential Linear Unit):**\n",
        "\n",
        "<img src=\"https://github.com/jchen8000/MachineLearning/blob/master/images/ExponentialLinear.png?raw=true\" alt=\"ELU\" width=\"350\"/>\n",
        "\n",
        "\n",
        "[References](https://ml-cheatsheet.readthedocs.io/en/latest/activation_functions.html)"
      ]
    }
  ]
}