{
  "nbformat": 4,
  "nbformat_minor": 0,
  "metadata": {
    "colab": {
      "name": "artificial_neural_network_2.ipynb",
      "version": "0.3.2",
      "provenance": [],
      "include_colab_link": true
    },
    "kernelspec": {
      "name": "python3",
      "display_name": "Python 3"
    }
  },
  "cells": [
    {
      "cell_type": "markdown",
      "metadata": {
        "id": "view-in-github",
        "colab_type": "text"
      },
      "source": [
        "<a href=\"https://colab.research.google.com/github/jchen8000/MachineLearning/blob/master/Artificial%20Neural%20Network/artificial_neural_network_2.ipynb\" target=\"_parent\"><img src=\"https://colab.research.google.com/assets/colab-badge.svg\" alt=\"Open In Colab\"/></a>"
      ]
    },
    {
      "cell_type": "markdown",
      "metadata": {
        "id": "Z6POvTBO_bwB",
        "colab_type": "text"
      },
      "source": [
        "# Artificial Neural Network, \n",
        "\n",
        "\n",
        "***ABSTRACT***\n",
        "\n",
        "***This is a hands-on practice of building an Artificial Neural Network (ANN) with Keras/Tensorflow to train the [Boston Dataset](https://www.kaggle.com/c/boston-housing). we load the dataset from Sklearn library and pre-process the data with StandardScaler function. We then build an Artificial Neural Network (ANN) with Keras library, train it and evaluate the results. At last we also build a Linear Regression model with Sklearn library processing the same dataset, and compare its results with ANN, we find out that ANN with one hidden layer is not as good as Linear Regression mode, as we add more hidden layers for the ANN the results are getting better, eventually we build the ANN with four hidden layers with 64, 128, 128, 64 units we get a better results than Linear Regression.***\n",
        "\n",
        "\n",
        "\n",
        "\n"
      ]
    },
    {
      "cell_type": "code",
      "metadata": {
        "id": "H6gRcp39_N2X",
        "colab_type": "code",
        "colab": {}
      },
      "source": [
        "%matplotlib inline \n",
        "\n",
        "import numpy as np\n",
        "import matplotlib.pyplot as plt\n",
        "import sklearn\n",
        "from sklearn.model_selection import train_test_split\n",
        "from sklearn.preprocessing import StandardScaler"
      ],
      "execution_count": 0,
      "outputs": []
    },
    {
      "cell_type": "markdown",
      "metadata": {
        "id": "40e453WI_rMU",
        "colab_type": "text"
      },
      "source": [
        "## 1. Boston Dataset"
      ]
    },
    {
      "cell_type": "markdown",
      "metadata": {
        "id": "vdyTQeYbKfKd",
        "colab_type": "text"
      },
      "source": [
        "### 1.1 Load the dataset"
      ]
    },
    {
      "cell_type": "code",
      "metadata": {
        "id": "qnQIiqIr_wRX",
        "colab_type": "code",
        "colab": {}
      },
      "source": [
        "from sklearn.datasets import load_boston\n",
        "boston = load_boston()"
      ],
      "execution_count": 0,
      "outputs": []
    },
    {
      "cell_type": "code",
      "metadata": {
        "id": "d53goSIl_6Tb",
        "colab_type": "code",
        "outputId": "e26e1286-8506-427d-f9b1-b531f8ce9155",
        "colab": {
          "base_uri": "https://localhost:8080/",
          "height": 972
        }
      },
      "source": [
        "print(boston.keys())\n",
        "print(boston.data.shape)\n",
        "print(boston.feature_names)\n",
        "print(boston.DESCR)"
      ],
      "execution_count": 3,
      "outputs": [
        {
          "output_type": "stream",
          "text": [
            "dict_keys(['data', 'target', 'feature_names', 'DESCR', 'filename'])\n",
            "(506, 13)\n",
            "['CRIM' 'ZN' 'INDUS' 'CHAS' 'NOX' 'RM' 'AGE' 'DIS' 'RAD' 'TAX' 'PTRATIO'\n",
            " 'B' 'LSTAT']\n",
            ".. _boston_dataset:\n",
            "\n",
            "Boston house prices dataset\n",
            "---------------------------\n",
            "\n",
            "**Data Set Characteristics:**  \n",
            "\n",
            "    :Number of Instances: 506 \n",
            "\n",
            "    :Number of Attributes: 13 numeric/categorical predictive. Median Value (attribute 14) is usually the target.\n",
            "\n",
            "    :Attribute Information (in order):\n",
            "        - CRIM     per capita crime rate by town\n",
            "        - ZN       proportion of residential land zoned for lots over 25,000 sq.ft.\n",
            "        - INDUS    proportion of non-retail business acres per town\n",
            "        - CHAS     Charles River dummy variable (= 1 if tract bounds river; 0 otherwise)\n",
            "        - NOX      nitric oxides concentration (parts per 10 million)\n",
            "        - RM       average number of rooms per dwelling\n",
            "        - AGE      proportion of owner-occupied units built prior to 1940\n",
            "        - DIS      weighted distances to five Boston employment centres\n",
            "        - RAD      index of accessibility to radial highways\n",
            "        - TAX      full-value property-tax rate per $10,000\n",
            "        - PTRATIO  pupil-teacher ratio by town\n",
            "        - B        1000(Bk - 0.63)^2 where Bk is the proportion of blacks by town\n",
            "        - LSTAT    % lower status of the population\n",
            "        - MEDV     Median value of owner-occupied homes in $1000's\n",
            "\n",
            "    :Missing Attribute Values: None\n",
            "\n",
            "    :Creator: Harrison, D. and Rubinfeld, D.L.\n",
            "\n",
            "This is a copy of UCI ML housing dataset.\n",
            "https://archive.ics.uci.edu/ml/machine-learning-databases/housing/\n",
            "\n",
            "\n",
            "This dataset was taken from the StatLib library which is maintained at Carnegie Mellon University.\n",
            "\n",
            "The Boston house-price data of Harrison, D. and Rubinfeld, D.L. 'Hedonic\n",
            "prices and the demand for clean air', J. Environ. Economics & Management,\n",
            "vol.5, 81-102, 1978.   Used in Belsley, Kuh & Welsch, 'Regression diagnostics\n",
            "...', Wiley, 1980.   N.B. Various transformations are used in the table on\n",
            "pages 244-261 of the latter.\n",
            "\n",
            "The Boston house-price data has been used in many machine learning papers that address regression\n",
            "problems.   \n",
            "     \n",
            ".. topic:: References\n",
            "\n",
            "   - Belsley, Kuh & Welsch, 'Regression diagnostics: Identifying Influential Data and Sources of Collinearity', Wiley, 1980. 244-261.\n",
            "   - Quinlan,R. (1993). Combining Instance-Based and Model-Based Learning. In Proceedings on the Tenth International Conference of Machine Learning, 236-243, University of Massachusetts, Amherst. Morgan Kaufmann.\n",
            "\n"
          ],
          "name": "stdout"
        }
      ]
    },
    {
      "cell_type": "markdown",
      "metadata": {
        "id": "WLb2pS06KkGu",
        "colab_type": "text"
      },
      "source": [
        "### 1.2 Scale the data and split it to training and testing set"
      ]
    },
    {
      "cell_type": "code",
      "metadata": {
        "id": "DXhItUVzGERB",
        "colab_type": "code",
        "colab": {}
      },
      "source": [
        "X = boston.data\n",
        "y = boston.target\n",
        "\n",
        "sc = StandardScaler()\n",
        "X = sc.fit_transform(X)"
      ],
      "execution_count": 0,
      "outputs": []
    },
    {
      "cell_type": "code",
      "metadata": {
        "id": "Y--H8-VcBHg5",
        "colab_type": "code",
        "outputId": "64a4c4dd-7e33-451a-9afb-6506dd847d6f",
        "colab": {
          "base_uri": "https://localhost:8080/",
          "height": 85
        }
      },
      "source": [
        "X_train, X_test, y_train, y_test = train_test_split(X, y, test_size = 0.2, random_state = 0)\n",
        "\n",
        "print(boston.data.shape)\n",
        "print(boston.target.shape)\n",
        "print(X_train.shape, y_train.shape)\n",
        "print(X_test.shape, y_test.shape)"
      ],
      "execution_count": 5,
      "outputs": [
        {
          "output_type": "stream",
          "text": [
            "(506, 13)\n",
            "(506,)\n",
            "(404, 13) (404,)\n",
            "(102, 13) (102,)\n"
          ],
          "name": "stdout"
        }
      ]
    },
    {
      "cell_type": "markdown",
      "metadata": {
        "id": "X5JO89r3CLC2",
        "colab_type": "text"
      },
      "source": [
        "## 2. Artificial Neural Network"
      ]
    },
    {
      "cell_type": "markdown",
      "metadata": {
        "id": "5yvq-k96IA5S",
        "colab_type": "text"
      },
      "source": [
        "### 2.1 Build Artificial Neural Network\n",
        "\n",
        "We build an ANN with Keras/Tensorflow, the input shape is the number of features of Boston Dataset, which is X_train.shape[0], there are 4 hidden layers with 64, 128, 128, 64 units respectively, the activation function for is **ReLU**. The output of the ANN has one unit which will output a linear number.\n",
        "\n",
        "\n",
        "**ReLU** function is defined as $y = max(0, x)$, shown as below,\n",
        "\n",
        "<img src=\"https://github.com/jchen8000/MachineLearning/blob/master/images/Relu.png?raw=true\" alt=\"drawing\" width=\"350\"/>\n",
        "\n"
      ]
    },
    {
      "cell_type": "code",
      "metadata": {
        "id": "vuctxWEPCQwF",
        "colab_type": "code",
        "outputId": "eb575549-8660-4d03-b5c7-282789615742",
        "colab": {
          "base_uri": "https://localhost:8080/",
          "height": 105
        }
      },
      "source": [
        "import tensorflow as tf\n",
        "from tensorflow import keras\n",
        "from keras import Sequential\n",
        "from keras.layers import Dense\n",
        "\n",
        "#build our model\n",
        "model = Sequential()\n",
        "\n",
        "model.add(Dense(64, activation='relu', input_shape=(X_train.shape[1],)))\n",
        "model.add(Dense(128, activation='relu'))\n",
        "model.add(Dense(128, activation='relu'))\n",
        "model.add(Dense(64, activation='relu'))\n",
        "model.add(Dense(1))\n",
        "\n",
        "model.compile(loss='mean_squared_error', optimizer='adam', metrics=['mae'])"
      ],
      "execution_count": 6,
      "outputs": [
        {
          "output_type": "stream",
          "text": [
            "WARNING:tensorflow:From /usr/local/lib/python3.6/dist-packages/tensorflow/python/framework/op_def_library.py:263: colocate_with (from tensorflow.python.framework.ops) is deprecated and will be removed in a future version.\n",
            "Instructions for updating:\n",
            "Colocations handled automatically by placer.\n"
          ],
          "name": "stdout"
        },
        {
          "output_type": "stream",
          "text": [
            "Using TensorFlow backend.\n"
          ],
          "name": "stderr"
        }
      ]
    },
    {
      "cell_type": "markdown",
      "metadata": {
        "id": "8DWG8y3PIKaW",
        "colab_type": "text"
      },
      "source": [
        "### 2.2 Train the ANN Model"
      ]
    },
    {
      "cell_type": "code",
      "metadata": {
        "id": "_Ly5L0DwIUZD",
        "colab_type": "code",
        "outputId": "daeb3ac6-46b3-4bf5-bb8d-8b2b7e868048",
        "colab": {
          "base_uri": "https://localhost:8080/",
          "height": 3505
        }
      },
      "source": [
        "history = model.fit(\n",
        "                      X_train,\n",
        "                      y_train,\n",
        "                      epochs=100,\n",
        "                      shuffle=True,\n",
        "                      verbose=2,\n",
        "                      validation_data=(X_test, y_test)\n",
        "                  )"
      ],
      "execution_count": 7,
      "outputs": [
        {
          "output_type": "stream",
          "text": [
            "WARNING:tensorflow:From /usr/local/lib/python3.6/dist-packages/tensorflow/python/ops/math_ops.py:3066: to_int32 (from tensorflow.python.ops.math_ops) is deprecated and will be removed in a future version.\n",
            "Instructions for updating:\n",
            "Use tf.cast instead.\n",
            "Train on 404 samples, validate on 102 samples\n",
            "Epoch 1/100\n",
            " - 0s - loss: 516.4378 - mean_absolute_error: 20.7972 - val_loss: 383.1477 - val_mean_absolute_error: 17.3509\n",
            "Epoch 2/100\n",
            " - 0s - loss: 234.6253 - mean_absolute_error: 12.8157 - val_loss: 105.1563 - val_mean_absolute_error: 7.9658\n",
            "Epoch 3/100\n",
            " - 0s - loss: 74.8315 - mean_absolute_error: 6.4464 - val_loss: 70.2000 - val_mean_absolute_error: 6.1063\n",
            "Epoch 4/100\n",
            " - 0s - loss: 37.8397 - mean_absolute_error: 4.4366 - val_loss: 58.5995 - val_mean_absolute_error: 5.5284\n",
            "Epoch 5/100\n",
            " - 0s - loss: 27.0983 - mean_absolute_error: 3.7248 - val_loss: 49.8480 - val_mean_absolute_error: 5.0127\n",
            "Epoch 6/100\n",
            " - 0s - loss: 23.6673 - mean_absolute_error: 3.4645 - val_loss: 43.0156 - val_mean_absolute_error: 4.6517\n",
            "Epoch 7/100\n",
            " - 0s - loss: 20.3055 - mean_absolute_error: 3.2114 - val_loss: 39.4984 - val_mean_absolute_error: 4.4488\n",
            "Epoch 8/100\n",
            " - 0s - loss: 17.8239 - mean_absolute_error: 3.0355 - val_loss: 37.3724 - val_mean_absolute_error: 4.3401\n",
            "Epoch 9/100\n",
            " - 0s - loss: 15.5785 - mean_absolute_error: 2.8396 - val_loss: 34.1995 - val_mean_absolute_error: 4.1276\n",
            "Epoch 10/100\n",
            " - 0s - loss: 13.9372 - mean_absolute_error: 2.6833 - val_loss: 33.2799 - val_mean_absolute_error: 4.0283\n",
            "Epoch 11/100\n",
            " - 0s - loss: 12.5211 - mean_absolute_error: 2.5426 - val_loss: 30.5519 - val_mean_absolute_error: 3.8280\n",
            "Epoch 12/100\n",
            " - 0s - loss: 11.5124 - mean_absolute_error: 2.4492 - val_loss: 29.2471 - val_mean_absolute_error: 3.7349\n",
            "Epoch 13/100\n",
            " - 0s - loss: 10.9172 - mean_absolute_error: 2.4128 - val_loss: 30.5033 - val_mean_absolute_error: 3.7491\n",
            "Epoch 14/100\n",
            " - 0s - loss: 10.0415 - mean_absolute_error: 2.2988 - val_loss: 28.0694 - val_mean_absolute_error: 3.6172\n",
            "Epoch 15/100\n",
            " - 0s - loss: 9.4871 - mean_absolute_error: 2.2569 - val_loss: 26.8118 - val_mean_absolute_error: 3.5148\n",
            "Epoch 16/100\n",
            " - 0s - loss: 9.0819 - mean_absolute_error: 2.1873 - val_loss: 25.8882 - val_mean_absolute_error: 3.4791\n",
            "Epoch 17/100\n",
            " - 0s - loss: 8.9693 - mean_absolute_error: 2.1981 - val_loss: 26.3055 - val_mean_absolute_error: 3.5966\n",
            "Epoch 18/100\n",
            " - 0s - loss: 8.7201 - mean_absolute_error: 2.1820 - val_loss: 24.9390 - val_mean_absolute_error: 3.4367\n",
            "Epoch 19/100\n",
            " - 0s - loss: 7.8289 - mean_absolute_error: 2.0905 - val_loss: 24.5042 - val_mean_absolute_error: 3.3237\n",
            "Epoch 20/100\n",
            " - 0s - loss: 7.2255 - mean_absolute_error: 1.9898 - val_loss: 24.0023 - val_mean_absolute_error: 3.2932\n",
            "Epoch 21/100\n",
            " - 0s - loss: 7.1342 - mean_absolute_error: 1.9817 - val_loss: 24.2923 - val_mean_absolute_error: 3.3061\n",
            "Epoch 22/100\n",
            " - 0s - loss: 6.7853 - mean_absolute_error: 1.9373 - val_loss: 22.6657 - val_mean_absolute_error: 3.2652\n",
            "Epoch 23/100\n",
            " - 0s - loss: 6.4381 - mean_absolute_error: 1.8876 - val_loss: 22.8016 - val_mean_absolute_error: 3.2576\n",
            "Epoch 24/100\n",
            " - 0s - loss: 6.3073 - mean_absolute_error: 1.8653 - val_loss: 21.9600 - val_mean_absolute_error: 3.1995\n",
            "Epoch 25/100\n",
            " - 0s - loss: 6.0647 - mean_absolute_error: 1.8521 - val_loss: 22.5933 - val_mean_absolute_error: 3.2506\n",
            "Epoch 26/100\n",
            " - 0s - loss: 5.7367 - mean_absolute_error: 1.7846 - val_loss: 21.1377 - val_mean_absolute_error: 3.1825\n",
            "Epoch 27/100\n",
            " - 0s - loss: 5.6392 - mean_absolute_error: 1.7780 - val_loss: 22.0164 - val_mean_absolute_error: 3.1943\n",
            "Epoch 28/100\n",
            " - 0s - loss: 5.4334 - mean_absolute_error: 1.7588 - val_loss: 20.3211 - val_mean_absolute_error: 3.1942\n",
            "Epoch 29/100\n",
            " - 0s - loss: 5.2240 - mean_absolute_error: 1.7354 - val_loss: 20.4802 - val_mean_absolute_error: 3.1340\n",
            "Epoch 30/100\n",
            " - 0s - loss: 4.8657 - mean_absolute_error: 1.6754 - val_loss: 20.2481 - val_mean_absolute_error: 3.1087\n",
            "Epoch 31/100\n",
            " - 0s - loss: 4.5937 - mean_absolute_error: 1.6248 - val_loss: 19.9509 - val_mean_absolute_error: 3.0970\n",
            "Epoch 32/100\n",
            " - 0s - loss: 4.5446 - mean_absolute_error: 1.6133 - val_loss: 19.5458 - val_mean_absolute_error: 3.0948\n",
            "Epoch 33/100\n",
            " - 0s - loss: 4.2907 - mean_absolute_error: 1.5544 - val_loss: 19.8619 - val_mean_absolute_error: 3.0560\n",
            "Epoch 34/100\n",
            " - 0s - loss: 4.2448 - mean_absolute_error: 1.5731 - val_loss: 18.8536 - val_mean_absolute_error: 3.0368\n",
            "Epoch 35/100\n",
            " - 0s - loss: 4.1630 - mean_absolute_error: 1.5345 - val_loss: 19.4251 - val_mean_absolute_error: 3.0632\n",
            "Epoch 36/100\n",
            " - 0s - loss: 4.0564 - mean_absolute_error: 1.5378 - val_loss: 18.5259 - val_mean_absolute_error: 2.9913\n",
            "Epoch 37/100\n",
            " - 0s - loss: 4.2775 - mean_absolute_error: 1.5536 - val_loss: 19.8644 - val_mean_absolute_error: 3.0382\n",
            "Epoch 38/100\n",
            " - 0s - loss: 3.8722 - mean_absolute_error: 1.5450 - val_loss: 18.6352 - val_mean_absolute_error: 2.9735\n",
            "Epoch 39/100\n",
            " - 0s - loss: 3.7340 - mean_absolute_error: 1.4671 - val_loss: 17.8153 - val_mean_absolute_error: 2.9640\n",
            "Epoch 40/100\n",
            " - 0s - loss: 3.7031 - mean_absolute_error: 1.4677 - val_loss: 18.0862 - val_mean_absolute_error: 2.9723\n",
            "Epoch 41/100\n",
            " - 0s - loss: 3.5868 - mean_absolute_error: 1.4130 - val_loss: 18.3437 - val_mean_absolute_error: 3.0017\n",
            "Epoch 42/100\n",
            " - 0s - loss: 3.6887 - mean_absolute_error: 1.4668 - val_loss: 17.6381 - val_mean_absolute_error: 2.8887\n",
            "Epoch 43/100\n",
            " - 0s - loss: 3.3251 - mean_absolute_error: 1.3664 - val_loss: 17.4779 - val_mean_absolute_error: 2.9118\n",
            "Epoch 44/100\n",
            " - 0s - loss: 3.4305 - mean_absolute_error: 1.4265 - val_loss: 18.9350 - val_mean_absolute_error: 2.8529\n",
            "Epoch 45/100\n",
            " - 0s - loss: 3.3559 - mean_absolute_error: 1.3822 - val_loss: 17.8183 - val_mean_absolute_error: 2.8335\n",
            "Epoch 46/100\n",
            " - 0s - loss: 2.9565 - mean_absolute_error: 1.2958 - val_loss: 17.5589 - val_mean_absolute_error: 2.9287\n",
            "Epoch 47/100\n",
            " - 0s - loss: 3.0909 - mean_absolute_error: 1.3565 - val_loss: 17.6751 - val_mean_absolute_error: 2.8439\n",
            "Epoch 48/100\n",
            " - 0s - loss: 2.8575 - mean_absolute_error: 1.2593 - val_loss: 17.7503 - val_mean_absolute_error: 2.8650\n",
            "Epoch 49/100\n",
            " - 0s - loss: 2.7404 - mean_absolute_error: 1.2408 - val_loss: 17.5002 - val_mean_absolute_error: 2.8728\n",
            "Epoch 50/100\n",
            " - 0s - loss: 2.8947 - mean_absolute_error: 1.2983 - val_loss: 17.8152 - val_mean_absolute_error: 2.8365\n",
            "Epoch 51/100\n",
            " - 0s - loss: 2.6989 - mean_absolute_error: 1.2603 - val_loss: 17.7450 - val_mean_absolute_error: 2.8554\n",
            "Epoch 52/100\n",
            " - 0s - loss: 2.5449 - mean_absolute_error: 1.1936 - val_loss: 17.5810 - val_mean_absolute_error: 2.8693\n",
            "Epoch 53/100\n",
            " - 0s - loss: 2.7683 - mean_absolute_error: 1.2534 - val_loss: 17.3778 - val_mean_absolute_error: 2.8904\n",
            "Epoch 54/100\n",
            " - 0s - loss: 2.7578 - mean_absolute_error: 1.2701 - val_loss: 17.1376 - val_mean_absolute_error: 2.8647\n",
            "Epoch 55/100\n",
            " - 0s - loss: 2.7833 - mean_absolute_error: 1.2591 - val_loss: 17.9629 - val_mean_absolute_error: 2.8799\n",
            "Epoch 56/100\n",
            " - 0s - loss: 2.5305 - mean_absolute_error: 1.2302 - val_loss: 17.7414 - val_mean_absolute_error: 2.8274\n",
            "Epoch 57/100\n",
            " - 0s - loss: 2.5035 - mean_absolute_error: 1.2025 - val_loss: 17.4045 - val_mean_absolute_error: 2.8358\n",
            "Epoch 58/100\n",
            " - 0s - loss: 2.5960 - mean_absolute_error: 1.2255 - val_loss: 17.5607 - val_mean_absolute_error: 2.8254\n",
            "Epoch 59/100\n",
            " - 0s - loss: 2.3242 - mean_absolute_error: 1.1662 - val_loss: 17.0374 - val_mean_absolute_error: 2.8669\n",
            "Epoch 60/100\n",
            " - 0s - loss: 2.3449 - mean_absolute_error: 1.1619 - val_loss: 17.5802 - val_mean_absolute_error: 2.8375\n",
            "Epoch 61/100\n",
            " - 0s - loss: 2.1615 - mean_absolute_error: 1.1000 - val_loss: 16.8574 - val_mean_absolute_error: 2.8029\n",
            "Epoch 62/100\n",
            " - 0s - loss: 2.0973 - mean_absolute_error: 1.0849 - val_loss: 17.6332 - val_mean_absolute_error: 2.7721\n",
            "Epoch 63/100\n",
            " - 0s - loss: 2.1425 - mean_absolute_error: 1.0690 - val_loss: 18.2992 - val_mean_absolute_error: 2.7919\n",
            "Epoch 64/100\n",
            " - 0s - loss: 2.1235 - mean_absolute_error: 1.0927 - val_loss: 17.9900 - val_mean_absolute_error: 2.7705\n",
            "Epoch 65/100\n",
            " - 0s - loss: 2.1064 - mean_absolute_error: 1.0758 - val_loss: 17.9211 - val_mean_absolute_error: 2.7963\n",
            "Epoch 66/100\n",
            " - 0s - loss: 2.0841 - mean_absolute_error: 1.0897 - val_loss: 17.2174 - val_mean_absolute_error: 2.7758\n",
            "Epoch 67/100\n",
            " - 0s - loss: 2.0278 - mean_absolute_error: 1.0588 - val_loss: 17.3304 - val_mean_absolute_error: 2.7921\n",
            "Epoch 68/100\n",
            " - 0s - loss: 2.0663 - mean_absolute_error: 1.0617 - val_loss: 17.0945 - val_mean_absolute_error: 2.7726\n",
            "Epoch 69/100\n",
            " - 0s - loss: 1.9133 - mean_absolute_error: 1.0231 - val_loss: 17.6962 - val_mean_absolute_error: 2.7783\n",
            "Epoch 70/100\n",
            " - 0s - loss: 1.8716 - mean_absolute_error: 1.0054 - val_loss: 18.1372 - val_mean_absolute_error: 2.7657\n",
            "Epoch 71/100\n",
            " - 0s - loss: 1.7840 - mean_absolute_error: 0.9989 - val_loss: 17.7236 - val_mean_absolute_error: 2.8078\n",
            "Epoch 72/100\n",
            " - 0s - loss: 1.8272 - mean_absolute_error: 1.0025 - val_loss: 17.6521 - val_mean_absolute_error: 2.7363\n",
            "Epoch 73/100\n",
            " - 0s - loss: 1.7041 - mean_absolute_error: 0.9673 - val_loss: 17.3026 - val_mean_absolute_error: 2.7406\n",
            "Epoch 74/100\n",
            " - 0s - loss: 1.7017 - mean_absolute_error: 0.9603 - val_loss: 17.4500 - val_mean_absolute_error: 2.8058\n",
            "Epoch 75/100\n",
            " - 0s - loss: 1.7581 - mean_absolute_error: 0.9825 - val_loss: 17.8063 - val_mean_absolute_error: 2.7556\n",
            "Epoch 76/100\n",
            " - 0s - loss: 1.8019 - mean_absolute_error: 1.0264 - val_loss: 17.2511 - val_mean_absolute_error: 2.7538\n",
            "Epoch 77/100\n",
            " - 0s - loss: 1.8021 - mean_absolute_error: 1.0063 - val_loss: 17.6658 - val_mean_absolute_error: 2.8470\n",
            "Epoch 78/100\n",
            " - 0s - loss: 1.7320 - mean_absolute_error: 0.9684 - val_loss: 17.1890 - val_mean_absolute_error: 2.7843\n",
            "Epoch 79/100\n",
            " - 0s - loss: 1.7162 - mean_absolute_error: 0.9844 - val_loss: 17.4498 - val_mean_absolute_error: 2.7686\n",
            "Epoch 80/100\n",
            " - 0s - loss: 1.5981 - mean_absolute_error: 0.9404 - val_loss: 17.7091 - val_mean_absolute_error: 2.8055\n",
            "Epoch 81/100\n",
            " - 0s - loss: 1.5494 - mean_absolute_error: 0.9087 - val_loss: 16.7678 - val_mean_absolute_error: 2.7241\n",
            "Epoch 82/100\n",
            " - 0s - loss: 1.5292 - mean_absolute_error: 0.9293 - val_loss: 17.7951 - val_mean_absolute_error: 2.7454\n",
            "Epoch 83/100\n",
            " - 0s - loss: 1.4759 - mean_absolute_error: 0.8803 - val_loss: 17.7961 - val_mean_absolute_error: 2.7483\n",
            "Epoch 84/100\n",
            " - 0s - loss: 1.5008 - mean_absolute_error: 0.8863 - val_loss: 17.4207 - val_mean_absolute_error: 2.7381\n",
            "Epoch 85/100\n",
            " - 0s - loss: 1.4641 - mean_absolute_error: 0.8945 - val_loss: 17.6256 - val_mean_absolute_error: 2.7497\n",
            "Epoch 86/100\n",
            " - 0s - loss: 1.3916 - mean_absolute_error: 0.8615 - val_loss: 17.8757 - val_mean_absolute_error: 2.7310\n",
            "Epoch 87/100\n",
            " - 0s - loss: 1.5107 - mean_absolute_error: 0.9186 - val_loss: 17.7492 - val_mean_absolute_error: 2.7486\n",
            "Epoch 88/100\n",
            " - 0s - loss: 1.5875 - mean_absolute_error: 0.9371 - val_loss: 18.2604 - val_mean_absolute_error: 2.7762\n",
            "Epoch 89/100\n",
            " - 0s - loss: 1.5480 - mean_absolute_error: 0.9318 - val_loss: 18.2874 - val_mean_absolute_error: 2.7519\n",
            "Epoch 90/100\n",
            " - 0s - loss: 1.5278 - mean_absolute_error: 0.9148 - val_loss: 16.6622 - val_mean_absolute_error: 2.7788\n",
            "Epoch 91/100\n",
            " - 0s - loss: 1.4341 - mean_absolute_error: 0.8812 - val_loss: 17.2181 - val_mean_absolute_error: 2.7738\n",
            "Epoch 92/100\n",
            " - 0s - loss: 1.4129 - mean_absolute_error: 0.8946 - val_loss: 17.2435 - val_mean_absolute_error: 2.7574\n",
            "Epoch 93/100\n",
            " - 0s - loss: 1.3280 - mean_absolute_error: 0.8478 - val_loss: 17.1276 - val_mean_absolute_error: 2.7521\n",
            "Epoch 94/100\n",
            " - 0s - loss: 1.4934 - mean_absolute_error: 0.8852 - val_loss: 17.3959 - val_mean_absolute_error: 2.7028\n",
            "Epoch 95/100\n",
            " - 0s - loss: 1.3711 - mean_absolute_error: 0.8655 - val_loss: 17.0126 - val_mean_absolute_error: 2.7701\n",
            "Epoch 96/100\n",
            " - 0s - loss: 1.3370 - mean_absolute_error: 0.8586 - val_loss: 17.7533 - val_mean_absolute_error: 2.7171\n",
            "Epoch 97/100\n",
            " - 0s - loss: 1.6989 - mean_absolute_error: 0.9946 - val_loss: 17.6046 - val_mean_absolute_error: 2.7361\n",
            "Epoch 98/100\n",
            " - 0s - loss: 1.4766 - mean_absolute_error: 0.9312 - val_loss: 18.8024 - val_mean_absolute_error: 2.8713\n",
            "Epoch 99/100\n",
            " - 0s - loss: 1.3627 - mean_absolute_error: 0.8963 - val_loss: 17.7774 - val_mean_absolute_error: 2.7626\n",
            "Epoch 100/100\n",
            " - 0s - loss: 1.3498 - mean_absolute_error: 0.8634 - val_loss: 17.8208 - val_mean_absolute_error: 2.7110\n"
          ],
          "name": "stdout"
        }
      ]
    },
    {
      "cell_type": "code",
      "metadata": {
        "id": "GQQCZcad-JTf",
        "colab_type": "code",
        "outputId": "04d46f02-8ae0-4127-eee3-38f8859a34cd",
        "colab": {
          "base_uri": "https://localhost:8080/",
          "height": 34
        }
      },
      "source": [
        "# list all data in history\n",
        "print(history.history.keys())"
      ],
      "execution_count": 8,
      "outputs": [
        {
          "output_type": "stream",
          "text": [
            "dict_keys(['val_loss', 'val_mean_absolute_error', 'loss', 'mean_absolute_error'])\n"
          ],
          "name": "stdout"
        }
      ]
    },
    {
      "cell_type": "markdown",
      "metadata": {
        "id": "EV5DcBLiITJw",
        "colab_type": "text"
      },
      "source": [
        "### 2.3 Analyze the result\n",
        "\n",
        "Mean Absolute Error (MAE), Mean Squared Error (MSE) and Root mean squared error (RMSE) are the most common metrics used to measure accuracy for continuous variables. \n",
        "\n",
        "*   Mean Absolute Error (MAE)\n",
        "$$ MAE = \\frac{\\mathrm{1} }{m}  \\sum_{i=1}^{m} \\left|y_i-\\hat{y}_i\\right| $$\n",
        "\n",
        "\n",
        "*    Mean Squared Error (RMSE): \n",
        "$$ MSE = \\frac{\\mathrm{1} }{m}  \\sum_{i=1}^{m} (y_i-\\hat{y}_i)^2 $$\n",
        "\n",
        "*   Root mean squared error (RMSE): \n",
        "\n",
        "$$ RMSE =  \\sqrt{ \\frac{\\mathrm{1} }{m}  \\sum_{i=1}^{m} (y_i-\\hat{y}_i)^2 }$$\n"
      ]
    },
    {
      "cell_type": "code",
      "metadata": {
        "id": "tBvlVJZYKQPM",
        "colab_type": "code",
        "outputId": "0e9c9115-4ba7-4626-8c24-ea30337d5ba9",
        "colab": {
          "base_uri": "https://localhost:8080/",
          "height": 404
        }
      },
      "source": [
        "fig = plt.figure(1, figsize=(16,6))\n",
        "\n",
        "plt.subplot(1, 2, 1)\n",
        "plt.title('Model MAE(Mean Absolute Error)')\n",
        "plt.plot(history.history['mean_absolute_error'])\n",
        "plt.plot(history.history['val_mean_absolute_error'])\n",
        "plt.ylabel('MAE')\n",
        "plt.xlabel('epoch')\n",
        "plt.legend(['train', 'test'], loc='upper right')\n",
        "\n",
        "\n",
        "plt.subplot(1, 2, 2)\n",
        "plt.plot(history.history['loss'])\n",
        "plt.plot(history.history['val_loss'])\n",
        "plt.title('Model Loss - MSE(Mean Squared Error)')\n",
        "plt.ylabel('loss')\n",
        "plt.xlabel('epoch')\n",
        "plt.legend(['train loss', 'test loss'], loc='upper right')\n",
        "\n",
        "plt.show()"
      ],
      "execution_count": 9,
      "outputs": [
        {
          "output_type": "display_data",
          "data": {
            "image/png": "[encoded data removed]",
            "text/plain": [
              "<Figure size 1152x432 with 2 Axes>"
            ]
          },
          "metadata": {
            "tags": []
          }
        }
      ]
    },
    {
      "cell_type": "code",
      "metadata": {
        "id": "xGVCRVqlLllr",
        "colab_type": "code",
        "outputId": "ecca6297-5ccf-49e6-e79f-22b78cc2a1af",
        "colab": {
          "base_uri": "https://localhost:8080/",
          "height": 51
        }
      },
      "source": [
        "val_mse, val_mae = model.evaluate(X_test, y_test, verbose=0)\n",
        "print(\"MSE(Mean Squared Error): \", val_mse)\n",
        "print(\"MAE(Mean Absolute Error): \", val_mae)"
      ],
      "execution_count": 10,
      "outputs": [
        {
          "output_type": "stream",
          "text": [
            "MSE(Mean Squared Error):  17.820838872124167\n",
            "MAE(Mean Absolute Error):  2.7109944493162867\n"
          ],
          "name": "stdout"
        }
      ]
    },
    {
      "cell_type": "markdown",
      "metadata": {
        "id": "aUdM66EyJz0x",
        "colab_type": "text"
      },
      "source": [
        "### 2.4 Make predictions and visualize it \n",
        "\n",
        "\n",
        "We use R-squared Score or, $ R ^{2} $ score, to evaluate how good our regression model is.\n",
        "\n",
        "$$ R ^{2} \\equiv 1 - \\frac{ \\sum_{i} ( \\hat{y} - \\overline{y})^2}{ \\sum_{i} ( y_i - \\overline{y})^2}  = 1 - \\frac{residual  sum  of  squares}{total  sum  of  squares } $$ \n",
        "\n",
        "\n",
        "* $ y_i $ are the ground truth values, \n",
        "* $ \\hat{y}_i $ are predicted values, \n",
        "* $ \\overline{y} = \\frac{1}{n}\\sum_{i=1}^{n}y_i $, "
      ]
    },
    {
      "cell_type": "code",
      "metadata": {
        "id": "uR67ZpUqLHkB",
        "colab_type": "code",
        "colab": {}
      },
      "source": [
        "predictions = model.predict(X_test)"
      ],
      "execution_count": 0,
      "outputs": []
    },
    {
      "cell_type": "code",
      "metadata": {
        "id": "ngIfIi3mIioH",
        "colab_type": "code",
        "colab": {}
      },
      "source": [
        "from sklearn.metrics import r2_score\n",
        "R2_score = r2_score(y_test, predictions)"
      ],
      "execution_count": 0,
      "outputs": []
    },
    {
      "cell_type": "code",
      "metadata": {
        "id": "e-m__7yrMRuM",
        "colab_type": "code",
        "outputId": "06a23e5b-af22-4aca-8a54-3cda49002cf2",
        "colab": {
          "base_uri": "https://localhost:8080/",
          "height": 540
        }
      },
      "source": [
        "plt.figure(1, figsize=(10,8))\n",
        "plt.scatter(y_test, predictions, marker='.', c=\"b\")\n",
        "plt.xlabel(\"Prices: $Y_i$\")\n",
        "plt.ylabel(\"Predicted prices: $\\hat{Y}_i$\")\n",
        "plt.title(\"Prices vs Predicted prices: $Y_i$ vs $\\hat{Y}_i$, R2 Score: %f\" % R2_score)"
      ],
      "execution_count": 13,
      "outputs": [
        {
          "output_type": "execute_result",
          "data": {
            "text/plain": [
              "Text(0.5, 1.0, 'Prices vs Predicted prices: $Y_i$ vs $\\\\hat{Y}_i$, R2 Score: 0.781147')"
            ]
          },
          "metadata": {
            "tags": []
          },
          "execution_count": 13
        },
        {
          "output_type": "display_data",
          "data": {
            "image/png": "[encoded data removed]",
            "text/plain": [
              "<Figure size 720x576 with 1 Axes>"
            ]
          },
          "metadata": {
            "tags": []
          }
        }
      ]
    },
    {
      "cell_type": "code",
      "metadata": {
        "id": "Biru0vJrItzp",
        "colab_type": "code",
        "colab": {
          "base_uri": "https://localhost:8080/",
          "height": 34
        },
        "outputId": "019625cb-79c5-4f23-92a8-e311f0503c07"
      },
      "source": [
        "print( \"R-squared Score is: \", R2_score)"
      ],
      "execution_count": 14,
      "outputs": [
        {
          "output_type": "stream",
          "text": [
            "R-squared Score is:  0.7811472397048984\n"
          ],
          "name": "stdout"
        }
      ]
    },
    {
      "cell_type": "markdown",
      "metadata": {
        "id": "eAwaeQIUMQfB",
        "colab_type": "text"
      },
      "source": [
        "## 3. Compare with Linear Regression of sklearn"
      ]
    },
    {
      "cell_type": "markdown",
      "metadata": {
        "id": "JyHyGZwvMz3e",
        "colab_type": "text"
      },
      "source": [
        "### 3.1 Build Linear Regression model with Sklearn"
      ]
    },
    {
      "cell_type": "code",
      "metadata": {
        "id": "5zK1kqv7MoTa",
        "colab_type": "code",
        "outputId": "b3b8ff25-1330-4db1-a336-4d67834ab884",
        "colab": {
          "base_uri": "https://localhost:8080/",
          "height": 34
        }
      },
      "source": [
        "from sklearn.linear_model import LinearRegression\n",
        "\n",
        "lr = LinearRegression()\n",
        "lr.fit(X_train, y_train)"
      ],
      "execution_count": 15,
      "outputs": [
        {
          "output_type": "execute_result",
          "data": {
            "text/plain": [
              "LinearRegression(copy_X=True, fit_intercept=True, n_jobs=None, normalize=False)"
            ]
          },
          "metadata": {
            "tags": []
          },
          "execution_count": 15
        }
      ]
    },
    {
      "cell_type": "markdown",
      "metadata": {
        "id": "pYiGAjGVM_Yg",
        "colab_type": "text"
      },
      "source": [
        "### 3.2 Evaluate the results of Linear Regression"
      ]
    },
    {
      "cell_type": "code",
      "metadata": {
        "id": "lq87e3ORNHA-",
        "colab_type": "code",
        "outputId": "402e7fab-4cdc-454c-d938-e902e8c53068",
        "colab": {
          "base_uri": "https://localhost:8080/",
          "height": 51
        }
      },
      "source": [
        "y_pred = lr.predict(X_test)\n",
        "mse = sklearn.metrics.mean_squared_error(y_test, y_pred)\n",
        "mae = sklearn.metrics.mean_absolute_error(y_test, y_pred)\n",
        "print(\"MSE(Mean Squared Error): \", mse)\n",
        "print(\"MAE(Mean Absolute Error): \", mae)\n"
      ],
      "execution_count": 16,
      "outputs": [
        {
          "output_type": "stream",
          "text": [
            "MSE(Mean Squared Error):  33.44897999767653\n",
            "MAE(Mean Absolute Error):  3.8429092204444983\n"
          ],
          "name": "stdout"
        }
      ]
    },
    {
      "cell_type": "code",
      "metadata": {
        "id": "C7lE-Ex4H5zE",
        "colab_type": "code",
        "colab": {}
      },
      "source": [
        "R2_score = r2_score(y_test, y_pred)"
      ],
      "execution_count": 0,
      "outputs": []
    },
    {
      "cell_type": "code",
      "metadata": {
        "id": "xeThfQ_AHndM",
        "colab_type": "code",
        "colab": {
          "base_uri": "https://localhost:8080/",
          "height": 540
        },
        "outputId": "f5fe1d19-ed34-48b5-d0de-25438b46da05"
      },
      "source": [
        "plt.figure(1, figsize=(10,8))\n",
        "plt.scatter(y_test, y_pred, marker='.', c=\"b\")\n",
        "plt.xlabel(\"Prices: $Y_i$\")\n",
        "plt.ylabel(\"Predicted prices: $\\hat{Y}_i$\")\n",
        "plt.title(\"Prices vs Predicted prices: $Y_i$ vs $\\hat{Y}_i$, R2 Score: %f\" % R2_score)"
      ],
      "execution_count": 18,
      "outputs": [
        {
          "output_type": "execute_result",
          "data": {
            "text/plain": [
              "Text(0.5, 1.0, 'Prices vs Predicted prices: $Y_i$ vs $\\\\hat{Y}_i$, R2 Score: 0.589222')"
            ]
          },
          "metadata": {
            "tags": []
          },
          "execution_count": 18
        },
        {
          "output_type": "display_data",
          "data": {
            "image/png": "[encoded data removed]",
            "text/plain": [
              "<Figure size 720x576 with 1 Axes>"
            ]
          },
          "metadata": {
            "tags": []
          }
        }
      ]
    },
    {
      "cell_type": "code",
      "metadata": {
        "id": "MpV6Ny7X-hsh",
        "colab_type": "code",
        "colab": {
          "base_uri": "https://localhost:8080/",
          "height": 34
        },
        "outputId": "9257ac78-9340-42a4-e39e-9f91030d2014"
      },
      "source": [
        "print( \"R-squared Score is: \", R2_score) "
      ],
      "execution_count": 19,
      "outputs": [
        {
          "output_type": "stream",
          "text": [
            "R-squared Score is:  0.5892223849182507\n"
          ],
          "name": "stdout"
        }
      ]
    },
    {
      "cell_type": "markdown",
      "metadata": {
        "id": "a-oDwCzEORoG",
        "colab_type": "text"
      },
      "source": [
        "# 4. Conclusion\n",
        "\n",
        "If we use Sklearn Linear Regression model we get the result of \n",
        "*  MSE(Mean Squared Error):  33.44897999767653\n",
        "*  MAE(Mean Absolute Error):  3.8429092204444983\n",
        "\n",
        "\n",
        "If we use Artificial Neural Network with one hidden layer of 64 units, we get a result worse than linear regression.\n",
        "*  MSE(Mean Squared Error):  44.32422247119978\n",
        "*  MAE(Mean Absolute Error):  4.781989939072552\n",
        "\n",
        "As we keep adding the hidden layers we get better results, with 4 hidden layers of 64, 128, 128, 64 units, we get the result of,\n",
        "*  MSE(Mean Squared Error):  16.186641019933365\n",
        "*  MAE(Mean Absolute Error):  2.652294722257876\n"
      ]
    },
    {
      "cell_type": "markdown",
      "metadata": {
        "id": "-kFJLj1ExRjK",
        "colab_type": "text"
      },
      "source": [
        "# 5. Others"
      ]
    },
    {
      "cell_type": "markdown",
      "metadata": {
        "id": "qe3MwP8nxV6w",
        "colab_type": "text"
      },
      "source": [
        "## 5.1 Some Activation Functions commonly used for Neural Network\n",
        "\n",
        "**LeakyReLU (Leaky ReLU):**\n",
        "\n",
        "<img src=\"https://github.com/jchen8000/MachineLearning/blob/master/images/LeakyReLU.png?raw=true\" alt=\"Leaky ReLU\" width=\"350\"/>\n",
        "\n",
        "\n",
        "**ELU (Exponential Linear Unit):**\n",
        "\n",
        "<img src=\"https://github.com/jchen8000/MachineLearning/blob/master/images/ExponentialLinear.png?raw=true\" alt=\"ELU\" width=\"350\"/>\n",
        "\n",
        "\n",
        "[References](https://ml-cheatsheet.readthedocs.io/en/latest/activation_functions.html)"
      ]
    }
  ]
}