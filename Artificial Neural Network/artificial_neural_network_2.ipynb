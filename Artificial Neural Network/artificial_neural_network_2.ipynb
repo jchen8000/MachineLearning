{
  "nbformat": 4,
  "nbformat_minor": 0,
  "metadata": {
    "colab": {
      "name": "artificial_neural_network_2.ipynb",
      "version": "0.3.2",
      "provenance": [],
      "include_colab_link": true
    },
    "kernelspec": {
      "name": "python3",
      "display_name": "Python 3"
    }
  },
  "cells": [
    {
      "cell_type": "markdown",
      "metadata": {
        "id": "view-in-github",
        "colab_type": "text"
      },
      "source": [
        "<a href=\"https://colab.research.google.com/github/jchen8000/MachineLearning/blob/master/Artificial%20Neural%20Network/artificial_neural_network_2.ipynb\" target=\"_parent\"><img src=\"https://colab.research.google.com/assets/colab-badge.svg\" alt=\"Open In Colab\"/></a>"
      ]
    },
    {
      "cell_type": "markdown",
      "metadata": {
        "id": "Z6POvTBO_bwB",
        "colab_type": "text"
      },
      "source": [
        "# Artificial Neural Network\n",
        "\n",
        "\n",
        "https://medium.com/@robertjohn_15390/simple-housing-price-prediction-using-neural-networks-with-tensorflow-8b486d3db3ca\n"
      ]
    },
    {
      "cell_type": "code",
      "metadata": {
        "id": "H6gRcp39_N2X",
        "colab_type": "code",
        "colab": {}
      },
      "source": [
        "%matplotlib inline \n",
        "\n",
        "import numpy as np\n",
        "import pandas as pd\n",
        "import scipy.stats as stats\n",
        "import matplotlib.pyplot as plt\n",
        "import sklearn\n",
        "from sklearn.model_selection import train_test_split\n",
        "from sklearn.preprocessing import StandardScaler\n",
        "import statsmodels.api as sm"
      ],
      "execution_count": 0,
      "outputs": []
    },
    {
      "cell_type": "markdown",
      "metadata": {
        "id": "40e453WI_rMU",
        "colab_type": "text"
      },
      "source": [
        "## 1. Boston Dataset"
      ]
    },
    {
      "cell_type": "code",
      "metadata": {
        "id": "qnQIiqIr_wRX",
        "colab_type": "code",
        "colab": {}
      },
      "source": [
        "from sklearn.datasets import load_boston\n",
        "boston = load_boston()"
      ],
      "execution_count": 0,
      "outputs": []
    },
    {
      "cell_type": "code",
      "metadata": {
        "id": "d53goSIl_6Tb",
        "colab_type": "code",
        "colab": {
          "base_uri": "https://localhost:8080/",
          "height": 972
        },
        "outputId": "4d093c47-2da0-48bf-cddb-a9953e3296a0"
      },
      "source": [
        "print(boston.keys())\n",
        "print(boston.data.shape)\n",
        "print(boston.feature_names)\n",
        "print(boston.DESCR)"
      ],
      "execution_count": 3,
      "outputs": [
        {
          "output_type": "stream",
          "text": [
            "dict_keys(['data', 'target', 'feature_names', 'DESCR', 'filename'])\n",
            "(506, 13)\n",
            "['CRIM' 'ZN' 'INDUS' 'CHAS' 'NOX' 'RM' 'AGE' 'DIS' 'RAD' 'TAX' 'PTRATIO'\n",
            " 'B' 'LSTAT']\n",
            ".. _boston_dataset:\n",
            "\n",
            "Boston house prices dataset\n",
            "---------------------------\n",
            "\n",
            "**Data Set Characteristics:**  \n",
            "\n",
            "    :Number of Instances: 506 \n",
            "\n",
            "    :Number of Attributes: 13 numeric/categorical predictive. Median Value (attribute 14) is usually the target.\n",
            "\n",
            "    :Attribute Information (in order):\n",
            "        - CRIM     per capita crime rate by town\n",
            "        - ZN       proportion of residential land zoned for lots over 25,000 sq.ft.\n",
            "        - INDUS    proportion of non-retail business acres per town\n",
            "        - CHAS     Charles River dummy variable (= 1 if tract bounds river; 0 otherwise)\n",
            "        - NOX      nitric oxides concentration (parts per 10 million)\n",
            "        - RM       average number of rooms per dwelling\n",
            "        - AGE      proportion of owner-occupied units built prior to 1940\n",
            "        - DIS      weighted distances to five Boston employment centres\n",
            "        - RAD      index of accessibility to radial highways\n",
            "        - TAX      full-value property-tax rate per $10,000\n",
            "        - PTRATIO  pupil-teacher ratio by town\n",
            "        - B        1000(Bk - 0.63)^2 where Bk is the proportion of blacks by town\n",
            "        - LSTAT    % lower status of the population\n",
            "        - MEDV     Median value of owner-occupied homes in $1000's\n",
            "\n",
            "    :Missing Attribute Values: None\n",
            "\n",
            "    :Creator: Harrison, D. and Rubinfeld, D.L.\n",
            "\n",
            "This is a copy of UCI ML housing dataset.\n",
            "https://archive.ics.uci.edu/ml/machine-learning-databases/housing/\n",
            "\n",
            "\n",
            "This dataset was taken from the StatLib library which is maintained at Carnegie Mellon University.\n",
            "\n",
            "The Boston house-price data of Harrison, D. and Rubinfeld, D.L. 'Hedonic\n",
            "prices and the demand for clean air', J. Environ. Economics & Management,\n",
            "vol.5, 81-102, 1978.   Used in Belsley, Kuh & Welsch, 'Regression diagnostics\n",
            "...', Wiley, 1980.   N.B. Various transformations are used in the table on\n",
            "pages 244-261 of the latter.\n",
            "\n",
            "The Boston house-price data has been used in many machine learning papers that address regression\n",
            "problems.   \n",
            "     \n",
            ".. topic:: References\n",
            "\n",
            "   - Belsley, Kuh & Welsch, 'Regression diagnostics: Identifying Influential Data and Sources of Collinearity', Wiley, 1980. 244-261.\n",
            "   - Quinlan,R. (1993). Combining Instance-Based and Model-Based Learning. In Proceedings on the Tenth International Conference of Machine Learning, 236-243, University of Massachusetts, Amherst. Morgan Kaufmann.\n",
            "\n"
          ],
          "name": "stdout"
        }
      ]
    },
    {
      "cell_type": "code",
      "metadata": {
        "id": "DXhItUVzGERB",
        "colab_type": "code",
        "colab": {}
      },
      "source": [
        "X = boston.data\n",
        "y = boston.target\n",
        "\n",
        "sc = StandardScaler()\n",
        "X = sc.fit_transform(X)"
      ],
      "execution_count": 0,
      "outputs": []
    },
    {
      "cell_type": "code",
      "metadata": {
        "id": "Y--H8-VcBHg5",
        "colab_type": "code",
        "outputId": "9151f1ca-a712-46f4-c3b2-aafd29751bd8",
        "colab": {
          "base_uri": "https://localhost:8080/",
          "height": 85
        }
      },
      "source": [
        "X_train, X_test, y_train, y_test = train_test_split(X, y, test_size = 0.2, random_state = 0)\n",
        "\n",
        "print(boston.data.shape)\n",
        "print(boston.target.shape)\n",
        "print(X_train.shape, y_train.shape)\n",
        "print(X_test.shape, y_test.shape)"
      ],
      "execution_count": 5,
      "outputs": [
        {
          "output_type": "stream",
          "text": [
            "(506, 13)\n",
            "(506,)\n",
            "(404, 13) (404,)\n",
            "(102, 13) (102,)\n"
          ],
          "name": "stdout"
        }
      ]
    },
    {
      "cell_type": "markdown",
      "metadata": {
        "id": "X5JO89r3CLC2",
        "colab_type": "text"
      },
      "source": [
        "## 2. Build Artificial Neural Network"
      ]
    },
    {
      "cell_type": "code",
      "metadata": {
        "id": "vuctxWEPCQwF",
        "colab_type": "code",
        "colab": {
          "base_uri": "https://localhost:8080/",
          "height": 105
        },
        "outputId": "500b78ef-74cc-4959-bde8-48050a1b2786"
      },
      "source": [
        "import tensorflow as tf\n",
        "from tensorflow import keras\n",
        "from keras import Sequential\n",
        "from keras.layers import Dense\n",
        "\n",
        "#build our model\n",
        "model = Sequential()\n",
        "\n",
        "model.add(Dense(50, activation='relu'))\n",
        "#model.add(Dense(100, activation='relu'))\n",
        "model.add(Dense(50, activation='relu'))\n",
        "model.add(Dense(1))\n",
        "\n",
        "model.compile(loss='mean_squared_error', optimizer='adam')"
      ],
      "execution_count": 6,
      "outputs": [
        {
          "output_type": "stream",
          "text": [
            "WARNING:tensorflow:From /usr/local/lib/python3.6/dist-packages/tensorflow/python/framework/op_def_library.py:263: colocate_with (from tensorflow.python.framework.ops) is deprecated and will be removed in a future version.\n",
            "Instructions for updating:\n",
            "Colocations handled automatically by placer.\n"
          ],
          "name": "stdout"
        },
        {
          "output_type": "stream",
          "text": [
            "Using TensorFlow backend.\n"
          ],
          "name": "stderr"
        }
      ]
    },
    {
      "cell_type": "code",
      "metadata": {
        "id": "_Ly5L0DwIUZD",
        "colab_type": "code",
        "colab": {
          "base_uri": "https://localhost:8080/",
          "height": 1805
        },
        "outputId": "687afdab-c7c3-4f4d-f0c1-9a666bb86b50"
      },
      "source": [
        "history = model.fit(\n",
        "                      X_train,\n",
        "                      y_train,\n",
        "                      epochs=50,\n",
        "                      shuffle=True,\n",
        "                      verbose=2,\n",
        "                      validation_data=(X_test, y_test)\n",
        "                  )"
      ],
      "execution_count": 7,
      "outputs": [
        {
          "output_type": "stream",
          "text": [
            "WARNING:tensorflow:From /usr/local/lib/python3.6/dist-packages/tensorflow/python/ops/math_ops.py:3066: to_int32 (from tensorflow.python.ops.math_ops) is deprecated and will be removed in a future version.\n",
            "Instructions for updating:\n",
            "Use tf.cast instead.\n",
            "Train on 404 samples, validate on 102 samples\n",
            "Epoch 1/50\n",
            " - 0s - loss: 576.2821 - val_loss: 534.7604\n",
            "Epoch 2/50\n",
            " - 0s - loss: 531.3712 - val_loss: 492.5019\n",
            "Epoch 3/50\n",
            " - 0s - loss: 478.9938 - val_loss: 438.2819\n",
            "Epoch 4/50\n",
            " - 0s - loss: 411.7567 - val_loss: 365.7390\n",
            "Epoch 5/50\n",
            " - 0s - loss: 322.5296 - val_loss: 277.3557\n",
            "Epoch 6/50\n",
            " - 0s - loss: 219.4889 - val_loss: 190.1060\n",
            "Epoch 7/50\n",
            " - 0s - loss: 133.1329 - val_loss: 126.8385\n",
            "Epoch 8/50\n",
            " - 0s - loss: 83.2908 - val_loss: 94.9982\n",
            "Epoch 9/50\n",
            " - 0s - loss: 60.1746 - val_loss: 77.1405\n",
            "Epoch 10/50\n",
            " - 0s - loss: 46.6959 - val_loss: 63.9389\n",
            "Epoch 11/50\n",
            " - 0s - loss: 36.2987 - val_loss: 56.1866\n",
            "Epoch 12/50\n",
            " - 0s - loss: 29.6918 - val_loss: 50.9968\n",
            "Epoch 13/50\n",
            " - 0s - loss: 25.3586 - val_loss: 47.4521\n",
            "Epoch 14/50\n",
            " - 0s - loss: 22.6530 - val_loss: 44.5885\n",
            "Epoch 15/50\n",
            " - 0s - loss: 20.8133 - val_loss: 42.8020\n",
            "Epoch 16/50\n",
            " - 0s - loss: 19.3689 - val_loss: 40.3185\n",
            "Epoch 17/50\n",
            " - 0s - loss: 18.3213 - val_loss: 38.5442\n",
            "Epoch 18/50\n",
            " - 0s - loss: 17.3687 - val_loss: 37.2674\n",
            "Epoch 19/50\n",
            " - 0s - loss: 16.6504 - val_loss: 36.0182\n",
            "Epoch 20/50\n",
            " - 0s - loss: 15.9958 - val_loss: 35.1374\n",
            "Epoch 21/50\n",
            " - 0s - loss: 15.4526 - val_loss: 34.8820\n",
            "Epoch 22/50\n",
            " - 0s - loss: 14.9447 - val_loss: 33.4661\n",
            "Epoch 23/50\n",
            " - 0s - loss: 14.4960 - val_loss: 32.7116\n",
            "Epoch 24/50\n",
            " - 0s - loss: 13.9778 - val_loss: 32.3083\n",
            "Epoch 25/50\n",
            " - 0s - loss: 13.7140 - val_loss: 31.4664\n",
            "Epoch 26/50\n",
            " - 0s - loss: 13.2114 - val_loss: 31.0896\n",
            "Epoch 27/50\n",
            " - 0s - loss: 12.9377 - val_loss: 30.4527\n",
            "Epoch 28/50\n",
            " - 0s - loss: 12.5835 - val_loss: 30.1474\n",
            "Epoch 29/50\n",
            " - 0s - loss: 12.3004 - val_loss: 29.8614\n",
            "Epoch 30/50\n",
            " - 0s - loss: 12.0452 - val_loss: 29.3528\n",
            "Epoch 31/50\n",
            " - 0s - loss: 11.8429 - val_loss: 28.7318\n",
            "Epoch 32/50\n",
            " - 0s - loss: 11.5527 - val_loss: 28.8859\n",
            "Epoch 33/50\n",
            " - 0s - loss: 11.3950 - val_loss: 28.0813\n",
            "Epoch 34/50\n",
            " - 0s - loss: 11.1093 - val_loss: 27.9085\n",
            "Epoch 35/50\n",
            " - 0s - loss: 10.9789 - val_loss: 27.9034\n",
            "Epoch 36/50\n",
            " - 0s - loss: 10.7559 - val_loss: 27.4617\n",
            "Epoch 37/50\n",
            " - 0s - loss: 10.6140 - val_loss: 27.1683\n",
            "Epoch 38/50\n",
            " - 0s - loss: 10.4077 - val_loss: 26.8892\n",
            "Epoch 39/50\n",
            " - 0s - loss: 10.3689 - val_loss: 26.6610\n",
            "Epoch 40/50\n",
            " - 0s - loss: 10.1993 - val_loss: 26.5312\n",
            "Epoch 41/50\n",
            " - 0s - loss: 10.0845 - val_loss: 26.2717\n",
            "Epoch 42/50\n",
            " - 0s - loss: 9.8708 - val_loss: 25.9224\n",
            "Epoch 43/50\n",
            " - 0s - loss: 9.7512 - val_loss: 25.9607\n",
            "Epoch 44/50\n",
            " - 0s - loss: 9.6301 - val_loss: 25.7590\n",
            "Epoch 45/50\n",
            " - 0s - loss: 9.5627 - val_loss: 25.1966\n",
            "Epoch 46/50\n",
            " - 0s - loss: 9.4562 - val_loss: 25.2282\n",
            "Epoch 47/50\n",
            " - 0s - loss: 9.3459 - val_loss: 25.5002\n",
            "Epoch 48/50\n",
            " - 0s - loss: 9.2376 - val_loss: 24.9758\n",
            "Epoch 49/50\n",
            " - 0s - loss: 9.1704 - val_loss: 25.0130\n",
            "Epoch 50/50\n",
            " - 0s - loss: 9.1274 - val_loss: 24.3877\n"
          ],
          "name": "stdout"
        }
      ]
    },
    {
      "cell_type": "code",
      "metadata": {
        "id": "tBvlVJZYKQPM",
        "colab_type": "code",
        "colab": {
          "base_uri": "https://localhost:8080/",
          "height": 404
        },
        "outputId": "b126e582-65da-4558-fa62-8773b08e4a52"
      },
      "source": [
        "plt.figure(1, figsize=(8,6))\n",
        "plt.plot(history.history['loss'])\n",
        "plt.plot(history.history['val_loss'])\n",
        "plt.title('model loss')\n",
        "plt.ylabel('loss')\n",
        "plt.xlabel('epoch')\n",
        "plt.legend(['train loss', 'test loss'], loc='upper right')\n",
        "plt.show()"
      ],
      "execution_count": 17,
      "outputs": [
        {
          "output_type": "display_data",
          "data": {
            "image/png": "[encoded data removed]",
            "text/plain": [
              "<Figure size 576x432 with 1 Axes>"
            ]
          },
          "metadata": {
            "tags": []
          }
        }
      ]
    },
    {
      "cell_type": "code",
      "metadata": {
        "id": "uR67ZpUqLHkB",
        "colab_type": "code",
        "colab": {}
      },
      "source": [
        "predictions = model.predict(X_test)"
      ],
      "execution_count": 0,
      "outputs": []
    },
    {
      "cell_type": "code",
      "metadata": {
        "id": "xGVCRVqlLllr",
        "colab_type": "code",
        "colab": {
          "base_uri": "https://localhost:8080/",
          "height": 51
        },
        "outputId": "1c226982-ca4e-45a4-aac5-1f68274058ed"
      },
      "source": [
        "score = model.evaluate(X_test, y_test, verbose=1)\n",
        "print(score)"
      ],
      "execution_count": 10,
      "outputs": [
        {
          "output_type": "stream",
          "text": [
            "102/102 [==============================] - 0s 61us/step\n",
            "24.38766788968853\n"
          ],
          "name": "stdout"
        }
      ]
    },
    {
      "cell_type": "code",
      "metadata": {
        "id": "e-m__7yrMRuM",
        "colab_type": "code",
        "colab": {
          "base_uri": "https://localhost:8080/",
          "height": 540
        },
        "outputId": "2f1cbbbb-0f37-4a0c-de50-202cba563081"
      },
      "source": [
        "plt.figure(1, figsize=(10,8))\n",
        "plt.scatter(y_test, predictions, marker='.', c=\"b\")\n",
        "plt.xlabel(\"Prices: $Y_i$\")\n",
        "plt.ylabel(\"Predicted prices: $\\hat{Y}_i$\")\n",
        "plt.title(\"Prices vs Predicted prices: $Y_i$ vs $\\hat{Y}_i$\")"
      ],
      "execution_count": 29,
      "outputs": [
        {
          "output_type": "execute_result",
          "data": {
            "text/plain": [
              "Text(0.5, 1.0, 'Prices vs Predicted prices: $Y_i$ vs $\\\\hat{Y}_i$')"
            ]
          },
          "metadata": {
            "tags": []
          },
          "execution_count": 29
        },
        {
          "output_type": "display_data",
          "data": {
            "image/png": "[encoded data removed]",
            "text/plain": [
              "<Figure size 720x576 with 1 Axes>"
            ]
          },
          "metadata": {
            "tags": []
          }
        }
      ]
    }
  ]
}