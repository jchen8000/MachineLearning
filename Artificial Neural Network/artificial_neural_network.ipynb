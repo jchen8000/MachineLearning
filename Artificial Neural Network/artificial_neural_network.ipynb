{
  "nbformat": 4,
  "nbformat_minor": 0,
  "metadata": {
    "colab": {
      "name": "ann.ipynb",
      "version": "0.3.2",
      "provenance": []
    },
    "language_info": {
      "codemirror_mode": {
        "name": "ipython",
        "version": 3
      },
      "file_extension": ".py",
      "mimetype": "text/x-python",
      "name": "python",
      "nbconvert_exporter": "python",
      "pygments_lexer": "ipython3",
      "version": "3.7.1"
    },
    "kernelspec": {
      "display_name": "Python 3",
      "language": "python",
      "name": "python3"
    },
    "accelerator": "TPU"
  },
  "cells": [
    {
      "cell_type": "markdown",
      "metadata": {
        "colab_type": "text",
        "id": "2MwVkDk443U9"
      },
      "source": [
        "# Artificial Neural Network\n",
        "\n",
        "\n",
        "***ABSTRACT***\n",
        "\n",
        "***This is a hands-on practice of building an Artificial Neural Network (ANN) with Keras/Tensorflow to train the Churn_Modelling Dataset. We load the dataset and pre-process the data with [Label Encoder/One-hot Encoder](https://medium.com/@contactsunny/label-encoder-vs-one-hot-encoder-in-machine-learning-3fc273365621), and then use StandardScaler to scale the data. We then build an Artificial Neural Network (ANN) with Keras library with two hidden layers, train it and evaluate the results.***"
      ]
    },
    {
      "cell_type": "markdown",
      "metadata": {
        "colab_type": "text",
        "id": "cG6XbGfF6mqc"
      },
      "source": [
        "## 1. Churn_Modelling Dataset\n",
        "\n",
        "The Churn Modelling dataset contains customers information of a bank with a flag that s/he exits from the bank within 6 months. We will build an ANN to learn from the dataset and predict if a customer will leave the bank or not\n"
      ]
    },
    {
      "cell_type": "markdown",
      "metadata": {
        "colab_type": "text",
        "id": "Nk0zkAdMG0vZ"
      },
      "source": [
        "### 1.1 Importing the dataset"
      ]
    },
    {
      "cell_type": "code",
      "metadata": {
        "colab_type": "code",
        "id": "d13XAkG76vho",
        "colab": {}
      },
      "source": [
        "import numpy as np\n",
        "import matplotlib.pyplot as plt\n",
        "import pandas as pd\n",
        "\n",
        "datafile = 'https://floobits.com/calvinlow18/ANN/raw/Churn_Modelling.csv'\n",
        "dataset = pd.read_csv(datafile)\n",
        "dataset.head()"
      ],
      "execution_count": 0,
      "outputs": []
    },
    {
      "cell_type": "code",
      "metadata": {
        "colab_type": "code",
        "id": "98O3WxVX7x3M",
        "outputId": "791c86e9-2b51-4ab3-e7c4-d37eadb69de2",
        "colab": {
          "base_uri": "https://localhost:8080/",
          "height": 51
        }
      },
      "source": [
        "X = dataset.iloc[:, 3:13].values\n",
        "y = dataset.iloc[:, 13].values\n",
        "print(X.shape)\n",
        "print(y.shape)"
      ],
      "execution_count": 4,
      "outputs": [
        {
          "output_type": "stream",
          "text": [
            "(10000, 10)\n",
            "(10000,)\n"
          ],
          "name": "stdout"
        }
      ]
    },
    {
      "cell_type": "markdown",
      "metadata": {
        "colab_type": "text",
        "id": "Jc5Qt_WtG-tQ"
      },
      "source": [
        "### 1.2 Encoding categorical data\n",
        "\n",
        "Encode the country name (string) to 0, 1, 2 etc. \n",
        "Encode female/male (string) to 0, 1\n",
        "\n",
        "Also need One Hot Encoding, see [Label Encoder vs. One Hot Encoder](https://medium.com/@contactsunny/label-encoder-vs-one-hot-encoder-in-machine-learning-3fc273365621)"
      ]
    },
    {
      "cell_type": "code",
      "metadata": {
        "colab_type": "code",
        "id": "HNT14OUTGA0o",
        "colab": {}
      },
      "source": [
        "from sklearn.preprocessing import LabelEncoder, OneHotEncoder\n",
        "labelencoder_X_1 = LabelEncoder()\n",
        "X[:, 1] = labelencoder_X_1.fit_transform(X[:, 1])\n",
        "labelencoder_X_2 = LabelEncoder()\n",
        "X[:, 2] = labelencoder_X_2.fit_transform(X[:, 2])\n",
        "\n"
      ],
      "execution_count": 0,
      "outputs": []
    },
    {
      "cell_type": "code",
      "metadata": {
        "colab_type": "code",
        "id": "-3vj5ylJJhnb",
        "outputId": "a569e9a9-49a7-42de-e6cc-b5ec61498940",
        "colab": {
          "base_uri": "https://localhost:8080/",
          "height": 139
        }
      },
      "source": [
        "onehotencoder = OneHotEncoder(categorical_features = [1])\n",
        "X = onehotencoder.fit_transform(X).toarray()\n",
        "X = X[:, 1:]"
      ],
      "execution_count": 6,
      "outputs": [
        {
          "output_type": "stream",
          "text": [
            "/usr/local/lib/python3.6/dist-packages/sklearn/preprocessing/_encoders.py:371: FutureWarning: The handling of integer data will change in version 0.22. Currently, the categories are determined based on the range [0, max(values)], while in the future they will be determined based on the unique values.\n",
            "If you want the future behaviour and silence this warning, you can specify \"categories='auto'\".\n",
            "In case you used a LabelEncoder before this OneHotEncoder to convert the categories to integers, then you can now use the OneHotEncoder directly.\n",
            "  warnings.warn(msg, FutureWarning)\n",
            "/usr/local/lib/python3.6/dist-packages/sklearn/preprocessing/_encoders.py:392: DeprecationWarning: The 'categorical_features' keyword is deprecated in version 0.20 and will be removed in 0.22. You can use the ColumnTransformer instead.\n",
            "  \"use the ColumnTransformer instead.\", DeprecationWarning)\n"
          ],
          "name": "stderr"
        }
      ]
    },
    {
      "cell_type": "markdown",
      "metadata": {
        "colab_type": "text",
        "id": "_V7uylCl43VT"
      },
      "source": [
        "### 1.3 Splitting the dataset into the Training set and Test set\n"
      ]
    },
    {
      "cell_type": "code",
      "metadata": {
        "colab_type": "code",
        "id": "ZC-jcbxGDsg0",
        "colab": {}
      },
      "source": [
        "from sklearn.model_selection import train_test_split\n",
        "X_train, X_test, y_train, y_test = train_test_split(X, y, test_size = 0.2, random_state = 0)"
      ],
      "execution_count": 0,
      "outputs": []
    },
    {
      "cell_type": "markdown",
      "metadata": {
        "colab_type": "text",
        "id": "O4IeRW4ANln_"
      },
      "source": [
        "### 1.4 Feature Scaling"
      ]
    },
    {
      "cell_type": "code",
      "metadata": {
        "colab_type": "code",
        "id": "S-GiB9So43VX",
        "colab": {}
      },
      "source": [
        "from sklearn.preprocessing import StandardScaler\n",
        "sc = StandardScaler()\n",
        "X_train = sc.fit_transform(X_train)\n",
        "X_test = sc.transform(X_test)\n"
      ],
      "execution_count": 0,
      "outputs": []
    },
    {
      "cell_type": "code",
      "metadata": {
        "colab_type": "code",
        "id": "vH7w4qLR43Vs",
        "colab": {}
      },
      "source": [
        "print( X_train.shape )\n",
        "print( X_test.shape )\n",
        "print( X_train[0:10,:])\n"
      ],
      "execution_count": 0,
      "outputs": []
    },
    {
      "cell_type": "markdown",
      "metadata": {
        "colab_type": "text",
        "id": "kFQoOEm5O6Df"
      },
      "source": [
        "## 2. Build Artificial Neural Network"
      ]
    },
    {
      "cell_type": "code",
      "metadata": {
        "colab_type": "code",
        "id": "0thyjNpL43WA",
        "outputId": "f98f35e5-4223-49a3-ecf8-908957377dbe",
        "scrolled": true,
        "colab": {
          "base_uri": "https://localhost:8080/",
          "height": 34
        }
      },
      "source": [
        "import keras\n",
        "from keras.models import Sequential\n",
        "from keras.layers import Dense\n",
        "from keras.layers import Dropout"
      ],
      "execution_count": 10,
      "outputs": [
        {
          "output_type": "stream",
          "text": [
            "Using TensorFlow backend.\n"
          ],
          "name": "stderr"
        }
      ]
    },
    {
      "cell_type": "markdown",
      "metadata": {
        "colab_type": "text",
        "id": "Bk-Na74oPVeu"
      },
      "source": [
        "### 2.1 Build ANN\n",
        "the input layer and the first hidden layer\n",
        "\n",
        "*   Input layer = 11 features based on the dataset\n",
        "*   First Hidden layer = 6, Rectified Linear Units (ReLU) function\n",
        "*   Second Hidden layer = 6, Rectified Linear Units (ReLU) function\n",
        "*   Output Layer = 1, using sigmoid function\n",
        "\n",
        "\n",
        "\n",
        "\n"
      ]
    },
    {
      "cell_type": "code",
      "metadata": {
        "colab_type": "code",
        "id": "YVAqVso_43WT",
        "colab": {
          "base_uri": "https://localhost:8080/",
          "height": 139
        },
        "outputId": "92411a06-43f7-4430-c630-f888d6e02854"
      },
      "source": [
        "classifier = Sequential()\n",
        "classifier.add(Dense(units = 6, kernel_initializer = 'uniform', activation = 'relu', input_dim = 11))\n",
        "classifier.add(Dropout(rate = 0.2)) # To improve the ANN, dropout Regularization to reduce overfitting if needed\n",
        "\n",
        "classifier.add(Dense(units = 6, kernel_initializer = 'uniform', activation = 'relu'))\n",
        "classifier.add(Dropout(rate = 0.2))   # To improve the ANN, dropout Regularization to reduce overfitting if needed\n",
        "\n",
        "classifier.add(Dense(units = 1, kernel_initializer = 'uniform', activation = 'sigmoid'))\n"
      ],
      "execution_count": 11,
      "outputs": [
        {
          "output_type": "stream",
          "text": [
            "WARNING:tensorflow:From /usr/local/lib/python3.6/dist-packages/tensorflow/python/framework/op_def_library.py:263: colocate_with (from tensorflow.python.framework.ops) is deprecated and will be removed in a future version.\n",
            "Instructions for updating:\n",
            "Colocations handled automatically by placer.\n",
            "WARNING:tensorflow:From /usr/local/lib/python3.6/dist-packages/keras/backend/tensorflow_backend.py:3445: calling dropout (from tensorflow.python.ops.nn_ops) with keep_prob is deprecated and will be removed in a future version.\n",
            "Instructions for updating:\n",
            "Please use `rate` instead of `keep_prob`. Rate should be set to `rate = 1 - keep_prob`.\n"
          ],
          "name": "stdout"
        }
      ]
    },
    {
      "cell_type": "markdown",
      "metadata": {
        "colab_type": "text",
        "id": "6ATuXdxt43Wd"
      },
      "source": [
        "### 2.2 Compiling the ANN"
      ]
    },
    {
      "cell_type": "code",
      "metadata": {
        "colab_type": "code",
        "id": "92BsLxbz43Wg",
        "colab": {}
      },
      "source": [
        "classifier.compile(optimizer = 'adam', loss = 'binary_crossentropy', metrics = ['accuracy'])"
      ],
      "execution_count": 0,
      "outputs": []
    },
    {
      "cell_type": "markdown",
      "metadata": {
        "colab_type": "text",
        "id": "0HYa9OPg43Wq"
      },
      "source": [
        "### 2.3 Fitting the ANN to the Training set"
      ]
    },
    {
      "cell_type": "code",
      "metadata": {
        "colab_type": "code",
        "id": "wsHK_PW643Wt",
        "scrolled": true,
        "colab": {
          "base_uri": "https://localhost:8080/",
          "height": 3505
        },
        "outputId": "518c15e5-df96-4d95-df5a-72d8df8d80c2"
      },
      "source": [
        "classifier.fit(X_train, y_train, batch_size = 10, epochs = 100)"
      ],
      "execution_count": 13,
      "outputs": [
        {
          "output_type": "stream",
          "text": [
            "WARNING:tensorflow:From /usr/local/lib/python3.6/dist-packages/tensorflow/python/ops/math_ops.py:3066: to_int32 (from tensorflow.python.ops.math_ops) is deprecated and will be removed in a future version.\n",
            "Instructions for updating:\n",
            "Use tf.cast instead.\n",
            "Epoch 1/100\n",
            "8000/8000 [==============================] - 2s 216us/step - loss: 0.5111 - acc: 0.7952\n",
            "Epoch 2/100\n",
            "8000/8000 [==============================] - 1s 121us/step - loss: 0.4409 - acc: 0.8052\n",
            "Epoch 3/100\n",
            "8000/8000 [==============================] - 1s 106us/step - loss: 0.4310 - acc: 0.8170\n",
            "Epoch 4/100\n",
            "8000/8000 [==============================] - 1s 100us/step - loss: 0.4288 - acc: 0.8121\n",
            "Epoch 5/100\n",
            "8000/8000 [==============================] - 1s 101us/step - loss: 0.4284 - acc: 0.8125\n",
            "Epoch 6/100\n",
            "8000/8000 [==============================] - 1s 100us/step - loss: 0.4259 - acc: 0.8144\n",
            "Epoch 7/100\n",
            "8000/8000 [==============================] - 1s 99us/step - loss: 0.4220 - acc: 0.8157\n",
            "Epoch 8/100\n",
            "8000/8000 [==============================] - 1s 100us/step - loss: 0.4211 - acc: 0.8140\n",
            "Epoch 9/100\n",
            "8000/8000 [==============================] - 1s 99us/step - loss: 0.4226 - acc: 0.8141\n",
            "Epoch 10/100\n",
            "8000/8000 [==============================] - 1s 99us/step - loss: 0.4223 - acc: 0.8141\n",
            "Epoch 11/100\n",
            "8000/8000 [==============================] - 1s 99us/step - loss: 0.4195 - acc: 0.8140\n",
            "Epoch 12/100\n",
            "8000/8000 [==============================] - 1s 100us/step - loss: 0.4141 - acc: 0.8167\n",
            "Epoch 13/100\n",
            "8000/8000 [==============================] - 1s 101us/step - loss: 0.4175 - acc: 0.8147\n",
            "Epoch 14/100\n",
            "8000/8000 [==============================] - 1s 101us/step - loss: 0.4109 - acc: 0.8171\n",
            "Epoch 15/100\n",
            "8000/8000 [==============================] - 1s 100us/step - loss: 0.4164 - acc: 0.8136\n",
            "Epoch 16/100\n",
            "8000/8000 [==============================] - 1s 101us/step - loss: 0.4144 - acc: 0.8192\n",
            "Epoch 17/100\n",
            "8000/8000 [==============================] - 1s 104us/step - loss: 0.4136 - acc: 0.8209\n",
            "Epoch 18/100\n",
            "8000/8000 [==============================] - 1s 100us/step - loss: 0.4123 - acc: 0.8202\n",
            "Epoch 19/100\n",
            "8000/8000 [==============================] - 1s 100us/step - loss: 0.4144 - acc: 0.8172\n",
            "Epoch 20/100\n",
            "8000/8000 [==============================] - 1s 101us/step - loss: 0.4195 - acc: 0.8206\n",
            "Epoch 21/100\n",
            "8000/8000 [==============================] - 1s 101us/step - loss: 0.4130 - acc: 0.8205\n",
            "Epoch 22/100\n",
            "8000/8000 [==============================] - 1s 99us/step - loss: 0.4115 - acc: 0.8227\n",
            "Epoch 23/100\n",
            "8000/8000 [==============================] - 1s 99us/step - loss: 0.4111 - acc: 0.8216\n",
            "Epoch 24/100\n",
            "8000/8000 [==============================] - 1s 100us/step - loss: 0.4118 - acc: 0.8247\n",
            "Epoch 25/100\n",
            "8000/8000 [==============================] - 1s 101us/step - loss: 0.4144 - acc: 0.8200\n",
            "Epoch 26/100\n",
            "8000/8000 [==============================] - 1s 99us/step - loss: 0.4120 - acc: 0.8234\n",
            "Epoch 27/100\n",
            "8000/8000 [==============================] - 1s 99us/step - loss: 0.4097 - acc: 0.8262\n",
            "Epoch 28/100\n",
            "8000/8000 [==============================] - 1s 100us/step - loss: 0.4124 - acc: 0.8216\n",
            "Epoch 29/100\n",
            "8000/8000 [==============================] - 1s 101us/step - loss: 0.4066 - acc: 0.8227\n",
            "Epoch 30/100\n",
            "8000/8000 [==============================] - 1s 101us/step - loss: 0.4144 - acc: 0.8185\n",
            "Epoch 31/100\n",
            "8000/8000 [==============================] - 1s 100us/step - loss: 0.4100 - acc: 0.8194\n",
            "Epoch 32/100\n",
            "8000/8000 [==============================] - 1s 100us/step - loss: 0.4123 - acc: 0.8221\n",
            "Epoch 33/100\n",
            "8000/8000 [==============================] - 1s 101us/step - loss: 0.4099 - acc: 0.8222\n",
            "Epoch 34/100\n",
            "8000/8000 [==============================] - 1s 100us/step - loss: 0.4160 - acc: 0.8230\n",
            "Epoch 35/100\n",
            "8000/8000 [==============================] - 1s 101us/step - loss: 0.4114 - acc: 0.8249\n",
            "Epoch 36/100\n",
            "8000/8000 [==============================] - 1s 100us/step - loss: 0.4133 - acc: 0.8211\n",
            "Epoch 37/100\n",
            "8000/8000 [==============================] - 1s 100us/step - loss: 0.4130 - acc: 0.8222\n",
            "Epoch 38/100\n",
            "8000/8000 [==============================] - 1s 101us/step - loss: 0.4097 - acc: 0.8254\n",
            "Epoch 39/100\n",
            "8000/8000 [==============================] - 1s 99us/step - loss: 0.4119 - acc: 0.8221\n",
            "Epoch 40/100\n",
            "8000/8000 [==============================] - 1s 102us/step - loss: 0.4125 - acc: 0.8204\n",
            "Epoch 41/100\n",
            "8000/8000 [==============================] - 1s 101us/step - loss: 0.4119 - acc: 0.8240\n",
            "Epoch 42/100\n",
            "8000/8000 [==============================] - 1s 104us/step - loss: 0.4120 - acc: 0.8234\n",
            "Epoch 43/100\n",
            "8000/8000 [==============================] - 1s 99us/step - loss: 0.4096 - acc: 0.8234\n",
            "Epoch 44/100\n",
            "8000/8000 [==============================] - 1s 102us/step - loss: 0.4131 - acc: 0.8222\n",
            "Epoch 45/100\n",
            "8000/8000 [==============================] - 1s 103us/step - loss: 0.4122 - acc: 0.8211\n",
            "Epoch 46/100\n",
            "8000/8000 [==============================] - 1s 100us/step - loss: 0.4119 - acc: 0.8267\n",
            "Epoch 47/100\n",
            "8000/8000 [==============================] - 1s 99us/step - loss: 0.4102 - acc: 0.8229\n",
            "Epoch 48/100\n",
            "8000/8000 [==============================] - 1s 101us/step - loss: 0.4100 - acc: 0.8254\n",
            "Epoch 49/100\n",
            "8000/8000 [==============================] - 1s 99us/step - loss: 0.4137 - acc: 0.8236\n",
            "Epoch 50/100\n",
            "8000/8000 [==============================] - 1s 100us/step - loss: 0.4096 - acc: 0.8246\n",
            "Epoch 51/100\n",
            "8000/8000 [==============================] - 1s 98us/step - loss: 0.4115 - acc: 0.8224\n",
            "Epoch 52/100\n",
            "8000/8000 [==============================] - 1s 100us/step - loss: 0.4131 - acc: 0.8205\n",
            "Epoch 53/100\n",
            "8000/8000 [==============================] - 1s 100us/step - loss: 0.4095 - acc: 0.8201\n",
            "Epoch 54/100\n",
            "8000/8000 [==============================] - 1s 100us/step - loss: 0.4125 - acc: 0.8221\n",
            "Epoch 55/100\n",
            "8000/8000 [==============================] - 1s 104us/step - loss: 0.4063 - acc: 0.8216\n",
            "Epoch 56/100\n",
            "8000/8000 [==============================] - 1s 102us/step - loss: 0.4089 - acc: 0.8226\n",
            "Epoch 57/100\n",
            "8000/8000 [==============================] - 1s 103us/step - loss: 0.4096 - acc: 0.8222\n",
            "Epoch 58/100\n",
            "8000/8000 [==============================] - 1s 100us/step - loss: 0.4081 - acc: 0.8240\n",
            "Epoch 59/100\n",
            "8000/8000 [==============================] - 1s 102us/step - loss: 0.4082 - acc: 0.8239\n",
            "Epoch 60/100\n",
            "8000/8000 [==============================] - 1s 102us/step - loss: 0.4115 - acc: 0.8236\n",
            "Epoch 61/100\n",
            "8000/8000 [==============================] - 1s 102us/step - loss: 0.4142 - acc: 0.8212\n",
            "Epoch 62/100\n",
            "8000/8000 [==============================] - 1s 99us/step - loss: 0.4150 - acc: 0.8216\n",
            "Epoch 63/100\n",
            "8000/8000 [==============================] - 1s 102us/step - loss: 0.4132 - acc: 0.8201\n",
            "Epoch 64/100\n",
            "8000/8000 [==============================] - 1s 101us/step - loss: 0.4071 - acc: 0.8229\n",
            "Epoch 65/100\n",
            "8000/8000 [==============================] - 1s 101us/step - loss: 0.4079 - acc: 0.8236\n",
            "Epoch 66/100\n",
            "8000/8000 [==============================] - 1s 103us/step - loss: 0.4118 - acc: 0.8224\n",
            "Epoch 67/100\n",
            "8000/8000 [==============================] - 1s 103us/step - loss: 0.4104 - acc: 0.8220\n",
            "Epoch 68/100\n",
            "8000/8000 [==============================] - 1s 103us/step - loss: 0.4165 - acc: 0.8206\n",
            "Epoch 69/100\n",
            "8000/8000 [==============================] - 1s 99us/step - loss: 0.4097 - acc: 0.8240\n",
            "Epoch 70/100\n",
            "8000/8000 [==============================] - 1s 99us/step - loss: 0.4108 - acc: 0.8239\n",
            "Epoch 71/100\n",
            "8000/8000 [==============================] - 1s 100us/step - loss: 0.4077 - acc: 0.8249\n",
            "Epoch 72/100\n",
            "8000/8000 [==============================] - 1s 101us/step - loss: 0.4099 - acc: 0.8252\n",
            "Epoch 73/100\n",
            "8000/8000 [==============================] - 1s 100us/step - loss: 0.4082 - acc: 0.8222\n",
            "Epoch 74/100\n",
            "8000/8000 [==============================] - 1s 99us/step - loss: 0.4121 - acc: 0.8239\n",
            "Epoch 75/100\n",
            "8000/8000 [==============================] - 1s 100us/step - loss: 0.4111 - acc: 0.8280\n",
            "Epoch 76/100\n",
            "8000/8000 [==============================] - 1s 100us/step - loss: 0.4090 - acc: 0.8294\n",
            "Epoch 77/100\n",
            "8000/8000 [==============================] - 1s 99us/step - loss: 0.4070 - acc: 0.8222\n",
            "Epoch 78/100\n",
            "8000/8000 [==============================] - 1s 98us/step - loss: 0.4121 - acc: 0.8239\n",
            "Epoch 79/100\n",
            "8000/8000 [==============================] - 1s 102us/step - loss: 0.4067 - acc: 0.8272\n",
            "Epoch 80/100\n",
            "8000/8000 [==============================] - 1s 111us/step - loss: 0.4068 - acc: 0.8266\n",
            "Epoch 81/100\n",
            "8000/8000 [==============================] - 1s 106us/step - loss: 0.4124 - acc: 0.8242\n",
            "Epoch 82/100\n",
            "8000/8000 [==============================] - 1s 107us/step - loss: 0.4105 - acc: 0.8260\n",
            "Epoch 83/100\n",
            "8000/8000 [==============================] - 1s 106us/step - loss: 0.4103 - acc: 0.8264\n",
            "Epoch 84/100\n",
            "8000/8000 [==============================] - 1s 110us/step - loss: 0.4103 - acc: 0.8250\n",
            "Epoch 85/100\n",
            "8000/8000 [==============================] - 1s 105us/step - loss: 0.4129 - acc: 0.8246\n",
            "Epoch 86/100\n",
            "8000/8000 [==============================] - 1s 99us/step - loss: 0.4107 - acc: 0.8234\n",
            "Epoch 87/100\n",
            "8000/8000 [==============================] - 1s 101us/step - loss: 0.4149 - acc: 0.8236\n",
            "Epoch 88/100\n",
            "8000/8000 [==============================] - 1s 101us/step - loss: 0.4087 - acc: 0.8242\n",
            "Epoch 89/100\n",
            "8000/8000 [==============================] - 1s 100us/step - loss: 0.4110 - acc: 0.8260\n",
            "Epoch 90/100\n",
            "8000/8000 [==============================] - 1s 100us/step - loss: 0.4149 - acc: 0.8234\n",
            "Epoch 91/100\n",
            "8000/8000 [==============================] - 1s 100us/step - loss: 0.4082 - acc: 0.8250\n",
            "Epoch 92/100\n",
            "8000/8000 [==============================] - 1s 103us/step - loss: 0.4095 - acc: 0.8270\n",
            "Epoch 93/100\n",
            "8000/8000 [==============================] - 1s 101us/step - loss: 0.4087 - acc: 0.8271\n",
            "Epoch 94/100\n",
            "8000/8000 [==============================] - 1s 103us/step - loss: 0.4134 - acc: 0.8235\n",
            "Epoch 95/100\n",
            "8000/8000 [==============================] - 1s 100us/step - loss: 0.4075 - acc: 0.8269\n",
            "Epoch 96/100\n",
            "8000/8000 [==============================] - 1s 100us/step - loss: 0.4109 - acc: 0.8271\n",
            "Epoch 97/100\n",
            "8000/8000 [==============================] - 1s 99us/step - loss: 0.4096 - acc: 0.8247\n",
            "Epoch 98/100\n",
            "8000/8000 [==============================] - 1s 100us/step - loss: 0.4080 - acc: 0.8276\n",
            "Epoch 99/100\n",
            "8000/8000 [==============================] - 1s 102us/step - loss: 0.4126 - acc: 0.8236\n",
            "Epoch 100/100\n",
            "8000/8000 [==============================] - 1s 102us/step - loss: 0.4086 - acc: 0.8250\n"
          ],
          "name": "stdout"
        },
        {
          "output_type": "execute_result",
          "data": {
            "text/plain": [
              "<keras.callbacks.History at 0x7f9cc0d87278>"
            ]
          },
          "metadata": {
            "tags": []
          },
          "execution_count": 13
        }
      ]
    },
    {
      "cell_type": "markdown",
      "metadata": {
        "colab_type": "text",
        "id": "e6fSuSk443W2"
      },
      "source": [
        "### 2.4 Making predictions and evaluating the model with test set"
      ]
    },
    {
      "cell_type": "code",
      "metadata": {
        "colab_type": "code",
        "id": "zf5fQ4nY43W5",
        "colab": {}
      },
      "source": [
        "y_pred = classifier.predict(X_test)\n",
        "y_pred = (y_pred > 0.5)"
      ],
      "execution_count": 0,
      "outputs": []
    },
    {
      "cell_type": "code",
      "metadata": {
        "colab_type": "code",
        "id": "xl2a7rH243XI",
        "outputId": "73c2b0a6-74bf-4a74-ffc0-6305e309c8f5",
        "colab": {
          "base_uri": "https://localhost:8080/",
          "height": 255
        }
      },
      "source": [
        "from sklearn.metrics import accuracy_score\n",
        "from sklearn.metrics import confusion_matrix\n",
        "from sklearn.metrics import classification_report\n",
        "\n",
        "cm = confusion_matrix(y_test, y_pred)\n",
        "print(\"Confusion Matrix:\\n\", cm)\n",
        "print(\"Accuracy Score:\\n\", accuracy_score(y_test, y_pred) )\n",
        "print(classification_report(y_test, y_pred))"
      ],
      "execution_count": 15,
      "outputs": [
        {
          "output_type": "stream",
          "text": [
            "Confusion Matrix:\n",
            " [[1554   41]\n",
            " [ 256  149]]\n",
            "Accuracy Score:\n",
            " 0.8515\n",
            "              precision    recall  f1-score   support\n",
            "\n",
            "           0       0.86      0.97      0.91      1595\n",
            "           1       0.78      0.37      0.50       405\n",
            "\n",
            "   micro avg       0.85      0.85      0.85      2000\n",
            "   macro avg       0.82      0.67      0.71      2000\n",
            "weighted avg       0.84      0.85      0.83      2000\n",
            "\n"
          ],
          "name": "stdout"
        }
      ]
    },
    {
      "cell_type": "markdown",
      "metadata": {
        "colab_type": "text",
        "id": "kXa5iI0vU2Bu"
      },
      "source": [
        "### 2.5 Predicting a single new observation\n",
        "\n",
        "Predict if the customer with the following informations will leave the bank:\n",
        "\n",
        "\n",
        "*   Geography: France\n",
        "*   Credit Score: 600\n",
        "*   Gender: Male\n",
        "*   Age: 40\n",
        "*   Tenure: 3\n",
        "*   Balance: 60000\n",
        "*   Number of Products: 2\n",
        "*   Has Credit Card: Yes\n",
        "*   Is Active Member: Yes\n",
        "*   Estimated Salary: 50000\n",
        "\n",
        "\n"
      ]
    },
    {
      "cell_type": "code",
      "metadata": {
        "colab_type": "code",
        "id": "7hniUcx543Xf",
        "outputId": "5006d15f-700b-42c2-c7f5-a0701ab93175",
        "colab": {
          "base_uri": "https://localhost:8080/",
          "height": 34
        }
      },
      "source": [
        "X_new_single = np.array([[0.0, 0, 600, 1, 40, 3, 60000, 2, 1, 1, 50000]])\n",
        "X_new_single = sc.transform(X_new_single)\n",
        "y_new_single = classifier.predict(X_new_single)\n",
        "y_new_single = (y_new_single>0.5)\n",
        "print( y_new_single )"
      ],
      "execution_count": 16,
      "outputs": [
        {
          "output_type": "stream",
          "text": [
            "[[False]]\n"
          ],
          "name": "stdout"
        }
      ]
    },
    {
      "cell_type": "markdown",
      "metadata": {
        "colab_type": "text",
        "id": "vEMi8dON0_s3"
      },
      "source": [
        "## 3. Evaluating the ANN\n",
        "\n",
        "Note: Do not run Section 2. I.e. run Section 1 to prepare the data, skip Section 2, and Run this section."
      ]
    },
    {
      "cell_type": "code",
      "metadata": {
        "colab_type": "code",
        "id": "-xkNbapZ1IX4",
        "colab": {}
      },
      "source": [
        "from keras.wrappers.scikit_learn import KerasClassifier\n",
        "from sklearn.model_selection import cross_val_score\n",
        "from keras.models import Sequential\n",
        "from keras.layers import Dense\n"
      ],
      "execution_count": 0,
      "outputs": []
    },
    {
      "cell_type": "code",
      "metadata": {
        "colab_type": "code",
        "id": "N1Re9DpR1Qk_",
        "colab": {}
      },
      "source": [
        "def build_classifier():\n",
        "    classifier = Sequential()\n",
        "    classifier.add(Dense(units = 6, kernel_initializer = 'uniform', activation = 'relu', input_dim = 11))\n",
        "    classifier.add(Dense(units = 6, kernel_initializer = 'uniform', activation = 'relu'))\n",
        "    classifier.add(Dense(units = 1, kernel_initializer = 'uniform', activation = 'sigmoid'))\n",
        "    classifier.compile(optimizer = 'adam', loss = 'binary_crossentropy', metrics = ['accuracy'])\n",
        "    return classifier\n",
        "  \n",
        "classifier = KerasClassifier(build_fn = build_classifier, batch_size = 10, epochs = 100)\n",
        "accuracies = cross_val_score(estimator = classifier, X = X_train, y = y_train, cv = 10, n_jobs = -1)\n",
        "mean = accuracies.mean()\n",
        "variance = accuracies.std()\n"
      ],
      "execution_count": 0,
      "outputs": []
    },
    {
      "cell_type": "markdown",
      "metadata": {
        "colab_type": "text",
        "id": "m3vrjKyf0OVu"
      },
      "source": [
        "## 4. Tuning the Artificial Neural Network\n",
        "\n",
        "Find out the best parameters for the ANN\n",
        "\n",
        "Note: Do not run Section 2 and 3. (I.e. run Section 1 to prepare the data, skip Section 2 and 3, then Run this section.)"
      ]
    },
    {
      "cell_type": "code",
      "metadata": {
        "colab_type": "code",
        "id": "0qHSDCHN0dwr",
        "colab": {}
      },
      "source": [
        "from keras.wrappers.scikit_learn import KerasClassifier\n",
        "from sklearn.model_selection import GridSearchCV\n",
        "from keras.models import Sequential\n",
        "from keras.layers import Dense\n"
      ],
      "execution_count": 0,
      "outputs": []
    },
    {
      "cell_type": "code",
      "metadata": {
        "colab_type": "code",
        "id": "bNfSkOro1n7Y",
        "colab": {}
      },
      "source": [
        "def build_classifier(optimizer,units):\n",
        "    classifier = Sequential()\n",
        "    classifier.add(Dense(units = units, kernel_initializer = 'uniform', activation = 'relu', input_dim = 11))\n",
        "    classifier.add(Dense(units = units, kernel_initializer = 'uniform', activation = 'relu'))\n",
        "    classifier.add(Dense(units = 1, kernel_initializer = 'uniform', activation = 'sigmoid'))\n",
        "    classifier.compile(optimizer = optimizer, loss = 'binary_crossentropy', metrics = ['accuracy'])\n",
        "    return classifier\n",
        "  \n",
        "classifier = KerasClassifier(build_fn = build_classifier)\n",
        "parameters = {'batch_size': [8, 16],\n",
        "              'epochs': [100, 500],\n",
        "              'optimizer': ['adam', 'rmsprop'],\n",
        "              'units': [6,12,18]}\n",
        "\n",
        "grid_search = GridSearchCV(estimator = classifier,\n",
        "                           param_grid = parameters,\n",
        "                           scoring = 'accuracy',\n",
        "                           cv = 10)\n"
      ],
      "execution_count": 0,
      "outputs": []
    },
    {
      "cell_type": "code",
      "metadata": {
        "colab_type": "code",
        "id": "r5v2fkwq4N_0",
        "colab": {}
      },
      "source": [
        "grid_search = grid_search.fit(X_train, y_train)\n",
        "\n",
        "best_parameters = grid_search.best_params_\n",
        "best_accuracy = grid_search.best_score_\n",
        "\n",
        "print(best_parameters)\n",
        "print(best_accuracy)"
      ],
      "execution_count": 0,
      "outputs": []
    }
  ]
}