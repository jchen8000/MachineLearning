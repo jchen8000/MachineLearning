{
  "nbformat": 4,
  "nbformat_minor": 0,
  "metadata": {
    "colab": {
      "name": "ann.ipynb",
      "version": "0.3.2",
      "provenance": []
    },
    "kernelspec": {
      "name": "python3",
      "display_name": "Python 3"
    },
    "accelerator": "GPU"
  },
  "cells": [
    {
      "cell_type": "markdown",
      "metadata": {
        "colab_type": "text",
        "id": "2MwVkDk443U9"
      },
      "source": [
        "# Artificial Neural Network\n",
        "\n",
        "***ABSTRACT***\n",
        "\n",
        "***In this hands-on practice we build a self-defined Neural Network from scratch by defining the parameters $\\Theta$, the Sigmoid function, Derivative of Sigmoid, Cross-Entropy  function, Mean Aquared Error function, and performing all the calculations for Forward Propagation and Backpropagtion to train the neural network. We also collect the cost history and accuracy score during the calculation and finally plot the cost diagram and accuracy diagram to show how the process is going. We use the Churn_Modelling Dataset for the training of our neural network, which is consist of 10,000 bank customer data, we build this Neural Network model to predict whether a customer will left or remain in the bank. Finally we received the accuracy score of 0.84.***\n"
      ]
    },
    {
      "cell_type": "markdown",
      "metadata": {
        "colab_type": "text",
        "id": "cG6XbGfF6mqc"
      },
      "source": [
        "## 1. Churn_Modelling Dataset\n",
        "\n",
        "The Churn Modelling dataset contains customers information of a bank with a flag that s/he exits from the bank within 6 months. We will build an ANN to learn from the dataset and predict if a customer will leave the bank or not"
      ]
    },
    {
      "cell_type": "markdown",
      "metadata": {
        "colab_type": "text",
        "id": "Nk0zkAdMG0vZ"
      },
      "source": [
        "### 1.1 Importing the dataset"
      ]
    },
    {
      "cell_type": "code",
      "metadata": {
        "colab_type": "code",
        "id": "d13XAkG76vho",
        "outputId": "be543dc0-7642-47b9-a2dd-c66d7fc4ffbb",
        "colab": {
          "base_uri": "https://localhost:8080/",
          "height": 204
        }
      },
      "source": [
        "import numpy as np\n",
        "import matplotlib.pyplot as plt\n",
        "import pandas as pd\n",
        "\n",
        "datafile = 'https://floobits.com/calvinlow18/ANN/raw/Churn_Modelling.csv'\n",
        "dataset = pd.read_csv(datafile)\n",
        "dataset.head()"
      ],
      "execution_count": 0,
      "outputs": [
        {
          "output_type": "execute_result",
          "data": {
            "text/html": [
              "<div>\n",
              "<style scoped>\n",
              "    .dataframe tbody tr th:only-of-type {\n",
              "        vertical-align: middle;\n",
              "    }\n",
              "\n",
              "    .dataframe tbody tr th {\n",
              "        vertical-align: top;\n",
              "    }\n",
              "\n",
              "    .dataframe thead th {\n",
              "        text-align: right;\n",
              "    }\n",
              "</style>\n",
              "<table border=\"1\" class=\"dataframe\">\n",
              "  <thead>\n",
              "    <tr style=\"text-align: right;\">\n",
              "      <th></th>\n",
              "      <th>RowNumber</th>\n",
              "      <th>CustomerId</th>\n",
              "      <th>Surname</th>\n",
              "      <th>CreditScore</th>\n",
              "      <th>Geography</th>\n",
              "      <th>Gender</th>\n",
              "      <th>Age</th>\n",
              "      <th>Tenure</th>\n",
              "      <th>Balance</th>\n",
              "      <th>NumOfProducts</th>\n",
              "      <th>HasCrCard</th>\n",
              "      <th>IsActiveMember</th>\n",
              "      <th>EstimatedSalary</th>\n",
              "      <th>Exited</th>\n",
              "    </tr>\n",
              "  </thead>\n",
              "  <tbody>\n",
              "    <tr>\n",
              "      <th>0</th>\n",
              "      <td>1</td>\n",
              "      <td>15634602</td>\n",
              "      <td>Hargrave</td>\n",
              "      <td>619</td>\n",
              "      <td>France</td>\n",
              "      <td>Female</td>\n",
              "      <td>42</td>\n",
              "      <td>2</td>\n",
              "      <td>0.00</td>\n",
              "      <td>1</td>\n",
              "      <td>1</td>\n",
              "      <td>1</td>\n",
              "      <td>101348.88</td>\n",
              "      <td>1</td>\n",
              "    </tr>\n",
              "    <tr>\n",
              "      <th>1</th>\n",
              "      <td>2</td>\n",
              "      <td>15647311</td>\n",
              "      <td>Hill</td>\n",
              "      <td>608</td>\n",
              "      <td>Spain</td>\n",
              "      <td>Female</td>\n",
              "      <td>41</td>\n",
              "      <td>1</td>\n",
              "      <td>83807.86</td>\n",
              "      <td>1</td>\n",
              "      <td>0</td>\n",
              "      <td>1</td>\n",
              "      <td>112542.58</td>\n",
              "      <td>0</td>\n",
              "    </tr>\n",
              "    <tr>\n",
              "      <th>2</th>\n",
              "      <td>3</td>\n",
              "      <td>15619304</td>\n",
              "      <td>Onio</td>\n",
              "      <td>502</td>\n",
              "      <td>France</td>\n",
              "      <td>Female</td>\n",
              "      <td>42</td>\n",
              "      <td>8</td>\n",
              "      <td>159660.80</td>\n",
              "      <td>3</td>\n",
              "      <td>1</td>\n",
              "      <td>0</td>\n",
              "      <td>113931.57</td>\n",
              "      <td>1</td>\n",
              "    </tr>\n",
              "    <tr>\n",
              "      <th>3</th>\n",
              "      <td>4</td>\n",
              "      <td>15701354</td>\n",
              "      <td>Boni</td>\n",
              "      <td>699</td>\n",
              "      <td>France</td>\n",
              "      <td>Female</td>\n",
              "      <td>39</td>\n",
              "      <td>1</td>\n",
              "      <td>0.00</td>\n",
              "      <td>2</td>\n",
              "      <td>0</td>\n",
              "      <td>0</td>\n",
              "      <td>93826.63</td>\n",
              "      <td>0</td>\n",
              "    </tr>\n",
              "    <tr>\n",
              "      <th>4</th>\n",
              "      <td>5</td>\n",
              "      <td>15737888</td>\n",
              "      <td>Mitchell</td>\n",
              "      <td>850</td>\n",
              "      <td>Spain</td>\n",
              "      <td>Female</td>\n",
              "      <td>43</td>\n",
              "      <td>2</td>\n",
              "      <td>125510.82</td>\n",
              "      <td>1</td>\n",
              "      <td>1</td>\n",
              "      <td>1</td>\n",
              "      <td>79084.10</td>\n",
              "      <td>0</td>\n",
              "    </tr>\n",
              "  </tbody>\n",
              "</table>\n",
              "</div>"
            ],
            "text/plain": [
              "   RowNumber  CustomerId   Surname  ...  IsActiveMember EstimatedSalary Exited\n",
              "0          1    15634602  Hargrave  ...               1       101348.88      1\n",
              "1          2    15647311      Hill  ...               1       112542.58      0\n",
              "2          3    15619304      Onio  ...               0       113931.57      1\n",
              "3          4    15701354      Boni  ...               0        93826.63      0\n",
              "4          5    15737888  Mitchell  ...               1        79084.10      0\n",
              "\n",
              "[5 rows x 14 columns]"
            ]
          },
          "metadata": {
            "tags": []
          },
          "execution_count": 1
        }
      ]
    },
    {
      "cell_type": "code",
      "metadata": {
        "colab_type": "code",
        "id": "98O3WxVX7x3M",
        "colab": {}
      },
      "source": [
        "X = dataset.iloc[:, 3:13].values\n",
        "y = dataset.iloc[:, 13].values\n",
        "\n",
        "#y shape looks like (m,), make it looks like (m,1)\n",
        "y = y[:,np.newaxis]    \n"
      ],
      "execution_count": 0,
      "outputs": []
    },
    {
      "cell_type": "markdown",
      "metadata": {
        "colab_type": "text",
        "id": "Jc5Qt_WtG-tQ"
      },
      "source": [
        "### 1.2 Encoding categorical data and Feature Scaling\n",
        "\n",
        "Encode the country name (string)  and female/male (string) as One Hot Encoding.\n",
        "Standard scaler other numeric data\n",
        "\n",
        "Also need One Hot Encoding, see [Label Encoder vs. One Hot Encoder](https://medium.com/@contactsunny/label-encoder-vs-one-hot-encoder-in-machine-learning-3fc273365621)"
      ]
    },
    {
      "cell_type": "code",
      "metadata": {
        "id": "RXyBqQElpgCi",
        "colab_type": "code",
        "colab": {}
      },
      "source": [
        "from sklearn.preprocessing import StandardScaler, MinMaxScaler, OneHotEncoder\n",
        "from sklearn.compose import ColumnTransformer, make_column_transformer\n",
        "from sklearn.metrics import classification_report\n",
        "from sklearn.metrics import confusion_matrix\n",
        "from sklearn.metrics import accuracy_score\n",
        "\n",
        "preprocess = make_column_transformer(\n",
        "    (OneHotEncoder(),[1,2]),\n",
        "    (StandardScaler(),[0,3,4,5,6,7,8,9])\n",
        "    #(MinMaxScaler(feature_range=(0, 1)),[0,3,4,5,6,7,8,9])\n",
        ")\n",
        "\n",
        "X = preprocess.fit_transform(X)\n",
        "\n",
        "m = X.shape[0]\n",
        "X = np.hstack((np.ones((m,1)), X))"
      ],
      "execution_count": 0,
      "outputs": []
    },
    {
      "cell_type": "markdown",
      "metadata": {
        "colab_type": "text",
        "id": "_V7uylCl43VT"
      },
      "source": [
        "### 1.3 Splitting the dataset into the Training set and Test set\n"
      ]
    },
    {
      "cell_type": "code",
      "metadata": {
        "colab_type": "code",
        "id": "ZC-jcbxGDsg0",
        "colab": {}
      },
      "source": [
        "from sklearn.model_selection import train_test_split\n",
        "X_train, X_test, y_train, y_test = train_test_split(X, y, test_size = 0.2, random_state = 0)"
      ],
      "execution_count": 0,
      "outputs": []
    },
    {
      "cell_type": "code",
      "metadata": {
        "colab_type": "code",
        "id": "vH7w4qLR43Vs",
        "outputId": "744e2a58-61a9-48ef-9ac9-f8c32a8595e7",
        "colab": {
          "base_uri": "https://localhost:8080/",
          "height": 85
        }
      },
      "source": [
        "print( X_train.shape )\n",
        "print( X_test.shape )\n",
        "print( y_train.shape )\n",
        "print( y_test.shape )"
      ],
      "execution_count": 0,
      "outputs": [
        {
          "output_type": "stream",
          "text": [
            "(8000, 14)\n",
            "(2000, 14)\n",
            "(8000, 1)\n",
            "(2000, 1)\n"
          ],
          "name": "stdout"
        }
      ]
    },
    {
      "cell_type": "markdown",
      "metadata": {
        "colab_type": "text",
        "id": "kFQoOEm5O6Df"
      },
      "source": [
        "## 2. Build a Neural Network from scratch\n",
        "\n",
        "![Neural Network Model](https://raw.githubusercontent.com/jchen8000/MachineLearning/master/images/NeuralNetwork.png)"
      ]
    },
    {
      "cell_type": "markdown",
      "metadata": {
        "id": "ZyhY0YbXFH0A",
        "colab_type": "text"
      },
      "source": [
        "### 2.1 Cross-Entropy Cost Function\n",
        "\n",
        "> $ \\displaystyle\\min_\\Theta J(\\Theta)=-\\frac{\\mathrm{1} }{m} \\sum_{i=1}^{m}  \\sum_{k=1}^{K}\\left[ y_k^{(i)} log((h_\\Theta(x^{(i)}))_k) + (1 - y_k^{(i)}) log (1 - (h_\\Theta(x^{(i)}))_k) \\right] $\n",
        "\n",
        "\n",
        ">>>  $+\\frac{\\mathrm{\\lambda}}{2m}  \\displaystyle\\sum_{l=1}^{L-1} \\sum_{i=1}^{S_l}\\sum_{j=1}^{S_l+1}( \\Theta_{ji}^{(l)})^2$\n",
        "\n",
        "> Where $ h_\\Theta(x)  \\in  \\displaystyle\\mathbb{R}^K, (h_\\Theta(x))_i = i^{th} output  $\n",
        "\n",
        "> $ L = $ total no. of layers in neural network\n",
        "\n",
        "> $ S_l = $ no. of units (not couning bias unit ) in layer $ l $\n",
        "\n",
        "> Think of $ J(\\Theta) \\displaystyle\\approx ( h_\\Theta(x^{(i)}) - y^{(i)} ) ^2 $"
      ]
    },
    {
      "cell_type": "markdown",
      "metadata": {
        "colab_type": "text",
        "id": "Bk-Na74oPVeu"
      },
      "source": [
        "### 2.2 Sigmoid Function and Derivative of Sigmoid\n",
        "\n",
        "*  **Sigmoid Function:**\n",
        "> ## $ g(z) = sigmoid(z) = \\displaystyle\\frac{\\mathrm{1} }{\\mathrm{1} + e^{-z} }  $\n",
        "\n",
        "\n",
        "*  **Derivative of Sigmoid Function:**\n",
        "> ## $\\displaystyle\\frac{\\mathrm{d} }{\\mathrm{d} z}g(z) = g(z)(1-g(z)) $"
      ]
    },
    {
      "cell_type": "markdown",
      "metadata": {
        "colab_type": "text",
        "id": "6ATuXdxt43Wd"
      },
      "source": [
        "### 2.3 Backpropagation\n",
        "\n",
        "Assume the total number of layers $ L = 3 $ \n",
        "\n",
        "> ## $  \\delta^{(3)}_j = a_j^{(3)} - y_j $,  \n",
        "\n",
        "> ## $  \\delta^{(2)} = ( \\Theta^{(2)} )^T  \\delta^{(3)} .* g'(z^{(2)}) $\n",
        "\n",
        "> ## $  \\delta^{(1)} = ( \\Theta^{(1)} )^T  \\delta^{(2)} .* g'(z^{(1)}) $"
      ]
    },
    {
      "cell_type": "code",
      "metadata": {
        "colab_type": "code",
        "id": "N1Re9DpR1Qk_",
        "colab": {}
      },
      "source": [
        "class Neural_Network(object):\n",
        "  def __init__(self, inputSize, hiddenSize, outputSize, lmbda):\n",
        "  #parameters\n",
        "    self.inputSize = inputSize\n",
        "    self.outputSize = outputSize\n",
        "    self.hiddenSize = hiddenSize\n",
        "    self.lmbda = lmbda\n",
        "    \n",
        "  #weights\n",
        "    epsilon = 0.2\n",
        "    np.random.seed(3)\n",
        "    self.theta1 = np.random.normal(0,1, size= (self.inputSize, self.hiddenSize))  * 2 * epsilon - epsilon\n",
        "    self.theta2 = np.random.normal(0,1, size= (self.hiddenSize, self.outputSize))  * 2 * epsilon - epsilon\n",
        "    \n",
        "  #history\n",
        "    self.error_history =  [] \n",
        "    self.cost_history =  [] \n",
        "    self.accuracy_history = []\n",
        "\n",
        "    \n",
        "  # Forward Propagation\n",
        "  def forward(self, X):\n",
        "        \n",
        "    #Go from input to hidden layer, apply Sigmoid activation function\n",
        "    self.z = X @ self.theta1 \n",
        "    self.z2 = self.sigmoid(self.z) \n",
        "    \n",
        "    #Go from hidden layer to output, apply Sigmoid activation function\n",
        "    self.z3 = self.z2 @ self.theta2 \n",
        "    output = self.sigmoid(self.z3) \n",
        "    \n",
        "    return output\n",
        "\n",
        "  # Sigmoid activation function\n",
        "  def sigmoid(self, s):\n",
        "    return 1/(1+np.exp(-s))\n",
        "\n",
        "  # Derivative of Sigmoid\n",
        "  def sigmoidDerivative(self, s):\n",
        "    \n",
        "    return s * (1 - s)\n",
        "\n",
        "  # Backward Propafation\n",
        "  def backward(self, X, y, output):\n",
        "    \n",
        "    #delta of output layer: calculate output error, and apply derivative of Sigmoid to it\n",
        "    self.o_error = y - output \n",
        "    self.o_delta = self.o_error * self.sigmoidDerivative(output) \n",
        "    \n",
        "    #calculate delta of hidden layer: calculate hidden layer error, and apply derivative of Sigmoid to it\n",
        "    self.z2_error = self.o_delta @ self.theta2.T\n",
        "    self.z2_delta = self.z2_error * self.sigmoidDerivative(self.z2) \n",
        "\n",
        "    #Update theta1 and theta2\n",
        "    self.theta1 += X.T @ self.z2_delta \n",
        "    self.theta2 += self.z2.T @ self.o_delta \n",
        " \n",
        "\n",
        "  # Cross Entropy Cost Function with regulation factors\n",
        "  def cross_entropy_cost(self, X, y ):\n",
        "    m = len(y)\n",
        "    y_output = self.forward(X)\n",
        "    \n",
        "    #calculate based on Cross-Entropy formula\n",
        "    c1 = y * np.log(y_output)\n",
        "    c2 = (1-y) * np.log(1-y_output)\n",
        "    c = np.sum(c1 + c2)\n",
        "    \n",
        "    #add regulation factors\n",
        "    r1 = np.sum(np.sum(np.power(self.theta1,2), axis = 1))\n",
        "    r2 = np.sum(np.sum(np.power(self.theta2,2), axis = 1))\n",
        "    \n",
        "    return np.sum(c / (-m)) + ((r1 + r2) * self.lmbda) / (2*m)\n",
        "\n",
        "  # MSE - Mean Aquared Error\n",
        "  def mean_squared_error(self, X, y):\n",
        "    return (np.square(y - self.forward(X))).mean(axis=None)\n",
        "\n",
        "  # Train (Fit) the neural network\n",
        "  def fit(self, X, y, epoch):\n",
        "    for i in range(epoch):\n",
        "      output = self.forward(X)\n",
        "      self.backward(X, y, output )\n",
        "      acry = accuracy_score(y, (output >= 0.5) )\n",
        "      cost = self.cross_entropy_cost(X, y)\n",
        "      loss = self.mean_squared_error(X, y)\n",
        "      self.error_history.append(loss)\n",
        "      self.cost_history.append(cost)\n",
        "      self.accuracy_history.append(acry)\n",
        "      \n",
        "      #print output every 20 epoch\n",
        "      if i % 20 == 0:\n",
        "        print(\"epoch:[\", i, \"], Cross-Entropy:\", str(cost), \"; MSE:\", str(loss) + \"; Accuracy:\", str(acry)  )\n",
        "\n",
        "  # Prediction\n",
        "  def predict(self, X):\n",
        "    return self.forward(X)\n",
        "  \n",
        "  # Get the cost history gethered during training\n",
        "  def get_cost_histroy(self):\n",
        "    return self.cost_history\n",
        "  \n",
        "  # Get the error history gethered during training\n",
        "  def get_error_histroy(self):\n",
        "    return self.error_history\n",
        "\n",
        "  # Get the accuracy history gethered during training\n",
        "  def get_accuracy_histroy(self):\n",
        "    return self.accuracy_history  \n",
        "  \n",
        "  # Get the parameters (or weight) of the neural network\n",
        "  def get_weight(self):\n",
        "    return self.theta1, self.theta2\n"
      ],
      "execution_count": 0,
      "outputs": []
    },
    {
      "cell_type": "code",
      "metadata": {
        "id": "R1MjhrdvPyAF",
        "colab_type": "code",
        "colab": {}
      },
      "source": [
        "def plotCost(cost_history, error_history, epoch):\n",
        "    fig = plt.figure(1, figsize=(22,6))\n",
        "    plt.subplot(1, 2, 1)\n",
        "    plt.plot(cost_history,'b.')\n",
        "    plt.grid(True)\n",
        "    plt.title(\"Cross-Entropy Cost\")\n",
        "    plt.xlabel(\"Epochs\")\n",
        "    plt.ylabel(\"Cross-Entropy Cost\")\n",
        "    #dummy = plt.xlim([-0.05*epoch,1.05*epoch])\n",
        "    #dummy = plt.ylim([min(cost_history)-0.2*(max(cost_history)-min(cost_history)), max(cost_history)+0.2*(max(cost_history)-min(cost_history))])\n",
        "    \n",
        "    plt.subplot(1, 2, 2)\n",
        "    plt.plot(error_history, 'g.')\n",
        "    plt.grid(True)\n",
        "    plt.title(\"Mean Aquared Error\")\n",
        "    plt.xlabel(\"Epochs\")\n",
        "    plt.ylabel(\"Mean Aquared Error\")\n",
        "\n",
        "    plt.show()    \n",
        "    \n",
        "    \n",
        "def plotAccuracy(accuracy_history, epoch):\n",
        "    plt.figure(figsize=(10,6))\n",
        "    plt.plot(range(len(accuracy_history)),accuracy_history,'r.')\n",
        "    plt.grid(True)\n",
        "    plt.title(\"Accuracy Score\")\n",
        "    plt.xlabel(\"Epochs\")\n",
        "    plt.ylabel(\"Accuracy Score\")\n",
        "    dummy = plt.xlim([-0.05*epoch,1.05*epoch])\n",
        "    dummy = plt.ylim([min(accuracy_history)-0.2*(max(accuracy_history)-min(accuracy_history)), max(accuracy_history)+0.2*(max(accuracy_history)-min(accuracy_history))])\n",
        "  \n",
        "  \n",
        "    "
      ],
      "execution_count": 0,
      "outputs": []
    },
    {
      "cell_type": "code",
      "metadata": {
        "id": "H4suFNvfWj2A",
        "colab_type": "code",
        "outputId": "36d905c1-ae13-4941-a03a-09c2f4667b10",
        "colab": {
          "base_uri": "https://localhost:8080/",
          "height": 867
        }
      },
      "source": [
        "nnModel = Neural_Network( inputSize=14, \n",
        "                     hiddenSize=3, \n",
        "                     outputSize=1, \n",
        "                     lmbda=0.5 )\n",
        "\n",
        "\n",
        "epoch = 1000\n",
        "nnModel.fit(X_train, y_train, epoch)\n"
      ],
      "execution_count": 0,
      "outputs": [
        {
          "output_type": "stream",
          "text": [
            "epoch:[ 0 ], Cross-Entropy: 33.235267636400664 ; MSE: 0.19252586210041667; Accuracy: 0.796\n",
            "epoch:[ 20 ], Cross-Entropy: 18.43699418484582 ; MSE: 0.15573892935668437; Accuracy: 0.806875\n",
            "epoch:[ 40 ], Cross-Entropy: 15.270799631981637 ; MSE: 0.15097967720876326; Accuracy: 0.813875\n",
            "epoch:[ 60 ], Cross-Entropy: 13.335598636593584 ; MSE: 0.14762797121049806; Accuracy: 0.815125\n",
            "epoch:[ 80 ], Cross-Entropy: 12.876321876838642 ; MSE: 0.14602117669414041; Accuracy: 0.816625\n",
            "epoch:[ 100 ], Cross-Entropy: 11.626293164350475 ; MSE: 0.14694967450111746; Accuracy: 0.818375\n",
            "epoch:[ 120 ], Cross-Entropy: 11.610907251199022 ; MSE: 0.1445570398679851; Accuracy: 0.820875\n",
            "epoch:[ 140 ], Cross-Entropy: 11.47426813500683 ; MSE: 0.14430755859141084; Accuracy: 0.823\n",
            "epoch:[ 160 ], Cross-Entropy: 11.274085051298051 ; MSE: 0.14534529412168984; Accuracy: 0.821125\n",
            "epoch:[ 180 ], Cross-Entropy: 11.574058523684123 ; MSE: 0.14552681739653633; Accuracy: 0.819625\n",
            "epoch:[ 200 ], Cross-Entropy: 11.286516266241422 ; MSE: 0.14431130506460627; Accuracy: 0.820875\n",
            "epoch:[ 220 ], Cross-Entropy: 10.922062840564715 ; MSE: 0.14395147424242682; Accuracy: 0.8205\n",
            "epoch:[ 240 ], Cross-Entropy: 10.860147180174689 ; MSE: 0.14368403817110956; Accuracy: 0.822375\n",
            "epoch:[ 260 ], Cross-Entropy: 10.409565463806665 ; MSE: 0.14465259167824127; Accuracy: 0.821\n",
            "epoch:[ 280 ], Cross-Entropy: 10.198987684752556 ; MSE: 0.14384163767161776; Accuracy: 0.822125\n",
            "epoch:[ 300 ], Cross-Entropy: 10.106577428150613 ; MSE: 0.14377048358640246; Accuracy: 0.825375\n",
            "epoch:[ 320 ], Cross-Entropy: 9.635956756949584 ; MSE: 0.14303624730188239; Accuracy: 0.826\n",
            "epoch:[ 340 ], Cross-Entropy: 9.416761647596458 ; MSE: 0.14226634150393375; Accuracy: 0.8295\n",
            "epoch:[ 360 ], Cross-Entropy: 9.185275069257013 ; MSE: 0.14205922773170934; Accuracy: 0.825625\n",
            "epoch:[ 380 ], Cross-Entropy: 9.123305656795651 ; MSE: 0.14216282770767605; Accuracy: 0.82875\n",
            "epoch:[ 400 ], Cross-Entropy: 8.93715472017577 ; MSE: 0.1417641262583806; Accuracy: 0.82875\n",
            "epoch:[ 420 ], Cross-Entropy: 8.954207486956944 ; MSE: 0.14194626364515955; Accuracy: 0.828125\n",
            "epoch:[ 440 ], Cross-Entropy: 8.521616752676454 ; MSE: 0.14293117198130909; Accuracy: 0.827125\n",
            "epoch:[ 460 ], Cross-Entropy: 8.98913469044936 ; MSE: 0.14132782597142582; Accuracy: 0.82825\n",
            "epoch:[ 480 ], Cross-Entropy: 8.782808287659797 ; MSE: 0.14097156803708516; Accuracy: 0.827125\n",
            "epoch:[ 500 ], Cross-Entropy: 8.653589650670028 ; MSE: 0.1417549715609908; Accuracy: 0.829125\n",
            "epoch:[ 520 ], Cross-Entropy: 8.829272937310026 ; MSE: 0.14179998013064268; Accuracy: 0.827875\n",
            "epoch:[ 540 ], Cross-Entropy: 8.849563812057294 ; MSE: 0.1415663003978185; Accuracy: 0.83\n",
            "epoch:[ 560 ], Cross-Entropy: 8.66245338108973 ; MSE: 0.1423172054085215; Accuracy: 0.83\n",
            "epoch:[ 580 ], Cross-Entropy: 8.798256359838518 ; MSE: 0.14259040839701898; Accuracy: 0.83025\n",
            "epoch:[ 600 ], Cross-Entropy: 8.867038193213563 ; MSE: 0.1420320021209374; Accuracy: 0.830875\n",
            "epoch:[ 620 ], Cross-Entropy: 9.058292327073795 ; MSE: 0.1415265315007648; Accuracy: 0.830375\n",
            "epoch:[ 640 ], Cross-Entropy: 8.775602232749254 ; MSE: 0.14184763275910603; Accuracy: 0.829\n",
            "epoch:[ 660 ], Cross-Entropy: 8.844495140456651 ; MSE: 0.14159621523527618; Accuracy: 0.83075\n",
            "epoch:[ 680 ], Cross-Entropy: 8.769982695785744 ; MSE: 0.1424148203324817; Accuracy: 0.83075\n",
            "epoch:[ 700 ], Cross-Entropy: 8.8274156931135 ; MSE: 0.1416772500437936; Accuracy: 0.830875\n",
            "epoch:[ 720 ], Cross-Entropy: 8.989175923481666 ; MSE: 0.14135692813689874; Accuracy: 0.829375\n",
            "epoch:[ 740 ], Cross-Entropy: 9.03154114399618 ; MSE: 0.14212989301702936; Accuracy: 0.831625\n",
            "epoch:[ 760 ], Cross-Entropy: 9.080285090416133 ; MSE: 0.1415641860062442; Accuracy: 0.83025\n",
            "epoch:[ 780 ], Cross-Entropy: 8.931018796267923 ; MSE: 0.14126329535410134; Accuracy: 0.831\n",
            "epoch:[ 800 ], Cross-Entropy: 8.931216070475267 ; MSE: 0.14124202293196458; Accuracy: 0.83025\n",
            "epoch:[ 820 ], Cross-Entropy: 8.996780219151576 ; MSE: 0.14134962959598485; Accuracy: 0.831\n",
            "epoch:[ 840 ], Cross-Entropy: 8.917820677175978 ; MSE: 0.14224970480622048; Accuracy: 0.83125\n",
            "epoch:[ 860 ], Cross-Entropy: 8.871221218164573 ; MSE: 0.14141641393598728; Accuracy: 0.8285\n",
            "epoch:[ 880 ], Cross-Entropy: 8.760433844179046 ; MSE: 0.14261692203533896; Accuracy: 0.830125\n",
            "epoch:[ 900 ], Cross-Entropy: 8.963906644743568 ; MSE: 0.1410559463620829; Accuracy: 0.83275\n",
            "epoch:[ 920 ], Cross-Entropy: 8.959759529830375 ; MSE: 0.14166014619141742; Accuracy: 0.831375\n",
            "epoch:[ 940 ], Cross-Entropy: 8.88160216042686 ; MSE: 0.14162419735760323; Accuracy: 0.83075\n",
            "epoch:[ 960 ], Cross-Entropy: 9.090647238169442 ; MSE: 0.14171784026156667; Accuracy: 0.8315\n",
            "epoch:[ 980 ], Cross-Entropy: 9.055427690951536 ; MSE: 0.1414840153353; Accuracy: 0.831875\n"
          ],
          "name": "stdout"
        }
      ]
    },
    {
      "cell_type": "code",
      "metadata": {
        "id": "9-8hMDyzQZqm",
        "colab_type": "code",
        "outputId": "6ad2fb8d-5d28-40ff-a2ff-3b4cd902f47a",
        "colab": {
          "base_uri": "https://localhost:8080/",
          "height": 791
        }
      },
      "source": [
        "plotCost(nnModel.get_cost_histroy(), nnModel.get_error_histroy(), epoch )\n",
        "plotAccuracy(nnModel.get_accuracy_histroy(), epoch )"
      ],
      "execution_count": 0,
      "outputs": [
        {
          "output_type": "display_data",
          "data": {
            "image/png": "[encoded data removed]",
            "text/plain": [
              "<Figure size 1584x432 with 2 Axes>"
            ]
          },
          "metadata": {
            "tags": []
          }
        },
        {
          "output_type": "display_data",
          "data": {
            "image/png": "[encoded data removed]",
            "text/plain": [
              "<Figure size 720x432 with 1 Axes>"
            ]
          },
          "metadata": {
            "tags": []
          }
        }
      ]
    },
    {
      "cell_type": "code",
      "metadata": {
        "id": "f6ROChOed9pC",
        "colab_type": "code",
        "outputId": "917a0aa7-f660-4faf-e672-df819f9d4915",
        "colab": {
          "base_uri": "https://localhost:8080/",
          "height": 289
        }
      },
      "source": [
        "y_pred = nnModel.predict(X_test)\n",
        "y_pred = (y_pred >= 0.5)\n",
        "\n",
        "print(\"Confusion Matrix:\\n\", confusion_matrix(y_test, y_pred))\n",
        "print(\"\\nAccuracy Score:\", accuracy_score(y_test, y_pred))\n",
        "print(\"\\nClassification Report:\\n\", classification_report(y_test, y_pred))"
      ],
      "execution_count": 0,
      "outputs": [
        {
          "output_type": "stream",
          "text": [
            "Confusion Matrix:\n",
            " [[1541   54]\n",
            " [ 260  145]]\n",
            "\n",
            "Accuracy Score: 0.843\n",
            "\n",
            "Classification Report:\n",
            "               precision    recall  f1-score   support\n",
            "\n",
            "           0       0.86      0.97      0.91      1595\n",
            "           1       0.73      0.36      0.48       405\n",
            "\n",
            "    accuracy                           0.84      2000\n",
            "   macro avg       0.79      0.66      0.69      2000\n",
            "weighted avg       0.83      0.84      0.82      2000\n",
            "\n"
          ],
          "name": "stdout"
        }
      ]
    }
  ]
}