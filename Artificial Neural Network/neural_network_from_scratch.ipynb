{
  "nbformat": 4,
  "nbformat_minor": 0,
  "metadata": {
    "colab": {
      "name": "ann.ipynb",
      "version": "0.3.2",
      "provenance": []
    },
    "kernelspec": {
      "display_name": "Python 3",
      "language": "python",
      "name": "python3"
    },
    "accelerator": "TPU"
  },
  "cells": [
    {
      "metadata": {
        "colab_type": "text",
        "id": "2MwVkDk443U9"
      },
      "cell_type": "markdown",
      "source": [
        "# Artificial Neural Network\n"
      ]
    },
    {
      "metadata": {
        "colab_type": "text",
        "id": "cG6XbGfF6mqc"
      },
      "cell_type": "markdown",
      "source": [
        "## 1. Data Preprocessing"
      ]
    },
    {
      "metadata": {
        "colab_type": "code",
        "id": "P6Fzfikz43VE",
        "colab": {}
      },
      "cell_type": "code",
      "source": [
        "import numpy as np\n",
        "import matplotlib.pyplot as plt\n",
        "import pandas as pd\n"
      ],
      "execution_count": 0,
      "outputs": []
    },
    {
      "metadata": {
        "colab_type": "text",
        "id": "Nk0zkAdMG0vZ"
      },
      "cell_type": "markdown",
      "source": [
        "### 1.1 Importing the dataset"
      ]
    },
    {
      "metadata": {
        "colab_type": "code",
        "id": "d13XAkG76vho",
        "colab": {}
      },
      "cell_type": "code",
      "source": [
        "#for some reasons, the data file on github has some problems when reading\n",
        "#datafile = 'https://github.com/jchen8000/MachineLearning/blob/master/Classification/data/Churn_Modelling.csv'\n",
        "\n",
        "#Found the same data file from internet\n",
        "datafile = 'https://floobits.com/calvinlow18/ANN/raw/Churn_Modelling.csv'\n",
        "dataset = pd.read_csv(datafile)\n"
      ],
      "execution_count": 0,
      "outputs": []
    },
    {
      "metadata": {
        "colab_type": "code",
        "id": "v8JcxTYLF3qe",
        "outputId": "08c66ef9-1505-4410-da64-792cf804a694",
        "colab": {
          "base_uri": "https://localhost:8080/",
          "height": 204
        }
      },
      "cell_type": "code",
      "source": [
        "dataset.head()"
      ],
      "execution_count": 3,
      "outputs": [
        {
          "output_type": "execute_result",
          "data": {
            "text/html": [
              "<div>\n",
              "<style scoped>\n",
              "    .dataframe tbody tr th:only-of-type {\n",
              "        vertical-align: middle;\n",
              "    }\n",
              "\n",
              "    .dataframe tbody tr th {\n",
              "        vertical-align: top;\n",
              "    }\n",
              "\n",
              "    .dataframe thead th {\n",
              "        text-align: right;\n",
              "    }\n",
              "</style>\n",
              "<table border=\"1\" class=\"dataframe\">\n",
              "  <thead>\n",
              "    <tr style=\"text-align: right;\">\n",
              "      <th></th>\n",
              "      <th>RowNumber</th>\n",
              "      <th>CustomerId</th>\n",
              "      <th>Surname</th>\n",
              "      <th>CreditScore</th>\n",
              "      <th>Geography</th>\n",
              "      <th>Gender</th>\n",
              "      <th>Age</th>\n",
              "      <th>Tenure</th>\n",
              "      <th>Balance</th>\n",
              "      <th>NumOfProducts</th>\n",
              "      <th>HasCrCard</th>\n",
              "      <th>IsActiveMember</th>\n",
              "      <th>EstimatedSalary</th>\n",
              "      <th>Exited</th>\n",
              "    </tr>\n",
              "  </thead>\n",
              "  <tbody>\n",
              "    <tr>\n",
              "      <th>0</th>\n",
              "      <td>1</td>\n",
              "      <td>15634602</td>\n",
              "      <td>Hargrave</td>\n",
              "      <td>619</td>\n",
              "      <td>France</td>\n",
              "      <td>Female</td>\n",
              "      <td>42</td>\n",
              "      <td>2</td>\n",
              "      <td>0.00</td>\n",
              "      <td>1</td>\n",
              "      <td>1</td>\n",
              "      <td>1</td>\n",
              "      <td>101348.88</td>\n",
              "      <td>1</td>\n",
              "    </tr>\n",
              "    <tr>\n",
              "      <th>1</th>\n",
              "      <td>2</td>\n",
              "      <td>15647311</td>\n",
              "      <td>Hill</td>\n",
              "      <td>608</td>\n",
              "      <td>Spain</td>\n",
              "      <td>Female</td>\n",
              "      <td>41</td>\n",
              "      <td>1</td>\n",
              "      <td>83807.86</td>\n",
              "      <td>1</td>\n",
              "      <td>0</td>\n",
              "      <td>1</td>\n",
              "      <td>112542.58</td>\n",
              "      <td>0</td>\n",
              "    </tr>\n",
              "    <tr>\n",
              "      <th>2</th>\n",
              "      <td>3</td>\n",
              "      <td>15619304</td>\n",
              "      <td>Onio</td>\n",
              "      <td>502</td>\n",
              "      <td>France</td>\n",
              "      <td>Female</td>\n",
              "      <td>42</td>\n",
              "      <td>8</td>\n",
              "      <td>159660.80</td>\n",
              "      <td>3</td>\n",
              "      <td>1</td>\n",
              "      <td>0</td>\n",
              "      <td>113931.57</td>\n",
              "      <td>1</td>\n",
              "    </tr>\n",
              "    <tr>\n",
              "      <th>3</th>\n",
              "      <td>4</td>\n",
              "      <td>15701354</td>\n",
              "      <td>Boni</td>\n",
              "      <td>699</td>\n",
              "      <td>France</td>\n",
              "      <td>Female</td>\n",
              "      <td>39</td>\n",
              "      <td>1</td>\n",
              "      <td>0.00</td>\n",
              "      <td>2</td>\n",
              "      <td>0</td>\n",
              "      <td>0</td>\n",
              "      <td>93826.63</td>\n",
              "      <td>0</td>\n",
              "    </tr>\n",
              "    <tr>\n",
              "      <th>4</th>\n",
              "      <td>5</td>\n",
              "      <td>15737888</td>\n",
              "      <td>Mitchell</td>\n",
              "      <td>850</td>\n",
              "      <td>Spain</td>\n",
              "      <td>Female</td>\n",
              "      <td>43</td>\n",
              "      <td>2</td>\n",
              "      <td>125510.82</td>\n",
              "      <td>1</td>\n",
              "      <td>1</td>\n",
              "      <td>1</td>\n",
              "      <td>79084.10</td>\n",
              "      <td>0</td>\n",
              "    </tr>\n",
              "  </tbody>\n",
              "</table>\n",
              "</div>"
            ],
            "text/plain": [
              "   RowNumber  CustomerId   Surname  CreditScore Geography  Gender  Age  \\\n",
              "0          1    15634602  Hargrave          619    France  Female   42   \n",
              "1          2    15647311      Hill          608     Spain  Female   41   \n",
              "2          3    15619304      Onio          502    France  Female   42   \n",
              "3          4    15701354      Boni          699    France  Female   39   \n",
              "4          5    15737888  Mitchell          850     Spain  Female   43   \n",
              "\n",
              "   Tenure    Balance  NumOfProducts  HasCrCard  IsActiveMember  \\\n",
              "0       2       0.00              1          1               1   \n",
              "1       1   83807.86              1          0               1   \n",
              "2       8  159660.80              3          1               0   \n",
              "3       1       0.00              2          0               0   \n",
              "4       2  125510.82              1          1               1   \n",
              "\n",
              "   EstimatedSalary  Exited  \n",
              "0        101348.88       1  \n",
              "1        112542.58       0  \n",
              "2        113931.57       1  \n",
              "3         93826.63       0  \n",
              "4         79084.10       0  "
            ]
          },
          "metadata": {
            "tags": []
          },
          "execution_count": 3
        }
      ]
    },
    {
      "metadata": {
        "colab_type": "code",
        "id": "98O3WxVX7x3M",
        "outputId": "87521ef0-eb84-48f2-9e09-c68afd77cfa5",
        "colab": {
          "base_uri": "https://localhost:8080/",
          "height": 51
        }
      },
      "cell_type": "code",
      "source": [
        "X = dataset.iloc[:, 3:13].values\n",
        "y = dataset.iloc[:, 13].values\n",
        "print(X.shape)\n",
        "print(y.shape)"
      ],
      "execution_count": 4,
      "outputs": [
        {
          "output_type": "stream",
          "text": [
            "(10000, 10)\n",
            "(10000,)\n"
          ],
          "name": "stdout"
        }
      ]
    },
    {
      "metadata": {
        "colab_type": "text",
        "id": "Jc5Qt_WtG-tQ"
      },
      "cell_type": "markdown",
      "source": [
        "### 1.2 Encoding categorical data\n",
        "\n",
        "Encode the country name (string) to 0, 1, 2 etc. \n",
        "Encode female/male (string) to 0, 1\n",
        "\n",
        "Also need One Hot Encoding, see [Label Encoder vs. One Hot Encoder](https://medium.com/@contactsunny/label-encoder-vs-one-hot-encoder-in-machine-learning-3fc273365621)"
      ]
    },
    {
      "metadata": {
        "colab_type": "code",
        "id": "HNT14OUTGA0o",
        "colab": {}
      },
      "cell_type": "code",
      "source": [
        "from sklearn.preprocessing import LabelEncoder, OneHotEncoder\n",
        "labelencoder_X_1 = LabelEncoder()\n",
        "X[:, 1] = labelencoder_X_1.fit_transform(X[:, 1])\n",
        "labelencoder_X_2 = LabelEncoder()\n",
        "X[:, 2] = labelencoder_X_2.fit_transform(X[:, 2])\n",
        "\n"
      ],
      "execution_count": 0,
      "outputs": []
    },
    {
      "metadata": {
        "colab_type": "code",
        "id": "-3vj5ylJJhnb",
        "outputId": "ea312edd-8f1e-4495-bac1-070c845ed79e",
        "colab": {
          "base_uri": "https://localhost:8080/",
          "height": 139
        }
      },
      "cell_type": "code",
      "source": [
        "onehotencoder = OneHotEncoder(categorical_features = [1])\n",
        "X = onehotencoder.fit_transform(X).toarray()\n",
        "X = X[:, 1:]"
      ],
      "execution_count": 6,
      "outputs": [
        {
          "output_type": "stream",
          "text": [
            "/usr/local/lib/python3.6/dist-packages/sklearn/preprocessing/_encoders.py:368: FutureWarning: The handling of integer data will change in version 0.22. Currently, the categories are determined based on the range [0, max(values)], while in the future they will be determined based on the unique values.\n",
            "If you want the future behaviour and silence this warning, you can specify \"categories='auto'\".\n",
            "In case you used a LabelEncoder before this OneHotEncoder to convert the categories to integers, then you can now use the OneHotEncoder directly.\n",
            "  warnings.warn(msg, FutureWarning)\n",
            "/usr/local/lib/python3.6/dist-packages/sklearn/preprocessing/_encoders.py:390: DeprecationWarning: The 'categorical_features' keyword is deprecated in version 0.20 and will be removed in 0.22. You can use the ColumnTransformer instead.\n",
            "  \"use the ColumnTransformer instead.\", DeprecationWarning)\n"
          ],
          "name": "stderr"
        }
      ]
    },
    {
      "metadata": {
        "colab_type": "text",
        "id": "_V7uylCl43VT"
      },
      "cell_type": "markdown",
      "source": [
        "### 1.3 Splitting the dataset into the Training set and Test set\n"
      ]
    },
    {
      "metadata": {
        "colab_type": "code",
        "id": "ZC-jcbxGDsg0",
        "colab": {}
      },
      "cell_type": "code",
      "source": [
        "from sklearn.model_selection import train_test_split\n",
        "X_train, X_test, y_train, y_test = train_test_split(X, y, test_size = 0.2, random_state = 0)"
      ],
      "execution_count": 0,
      "outputs": []
    },
    {
      "metadata": {
        "colab_type": "text",
        "id": "O4IeRW4ANln_"
      },
      "cell_type": "markdown",
      "source": [
        "### 1.4 Feature Scaling"
      ]
    },
    {
      "metadata": {
        "colab_type": "code",
        "id": "S-GiB9So43VX",
        "colab": {}
      },
      "cell_type": "code",
      "source": [
        "from sklearn.preprocessing import StandardScaler\n",
        "sc = StandardScaler()\n",
        "X_train = sc.fit_transform(X_train)\n",
        "X_test = sc.transform(X_test)\n"
      ],
      "execution_count": 0,
      "outputs": []
    },
    {
      "metadata": {
        "colab_type": "code",
        "id": "vH7w4qLR43Vs",
        "outputId": "7bfa7933-c7a5-4423-c9a3-da9aef6bbc4e",
        "colab": {
          "base_uri": "https://localhost:8080/",
          "height": 391
        }
      },
      "cell_type": "code",
      "source": [
        "print( X_train.shape )\n",
        "print( X_test.shape )\n",
        "print( X_train[0:10,:])\n"
      ],
      "execution_count": 9,
      "outputs": [
        {
          "output_type": "stream",
          "text": [
            "(8000, 11)\n",
            "(2000, 11)\n",
            "[[-0.5698444   1.74309049  0.16958176 -1.09168714 -0.46460796  0.00666099\n",
            "  -1.21571749  0.8095029   0.64259497 -1.03227043  1.10643166]\n",
            " [ 1.75486502 -0.57369368 -2.30455945  0.91601335  0.30102557 -1.37744033\n",
            "  -0.00631193 -0.92159124  0.64259497  0.9687384  -0.74866447]\n",
            " [-0.5698444  -0.57369368 -1.19119591 -1.09168714 -0.94312892 -1.031415\n",
            "   0.57993469 -0.92159124  0.64259497 -1.03227043  1.48533467]\n",
            " [-0.5698444   1.74309049  0.03556578  0.91601335  0.10961719  0.00666099\n",
            "   0.47312769 -0.92159124  0.64259497 -1.03227043  1.27652776]\n",
            " [-0.5698444   1.74309049  2.05611444 -1.09168714  1.73658844  1.04473698\n",
            "   0.8101927   0.8095029   0.64259497  0.9687384   0.55837842]\n",
            " [ 1.75486502 -0.57369368  1.29325423 -1.09168714 -0.17749539 -1.031415\n",
            "   0.44253504  0.8095029   0.64259497 -1.03227043  1.63252134]\n",
            " [-0.5698444  -0.57369368  1.6128308   0.91601335  0.77954653 -1.37744033\n",
            "   0.30432823 -0.92159124 -1.55619021 -1.03227043  0.48149647]\n",
            " [-0.5698444   1.74309049 -0.54173384  0.91601335  0.20532138  1.04473698\n",
            "  -1.21571749  0.8095029   0.64259497  0.9687384   1.07382167]\n",
            " [-0.5698444   1.74309049 -0.14999481  0.91601335  3.55496808  1.39076231\n",
            "   0.80633029 -0.92159124  0.64259497  0.9687384  -1.04949755]\n",
            " [-0.5698444  -0.57369368 -0.29431972 -1.09168714 -0.65601634  0.35268632\n",
            "   1.48636403  0.8095029   0.64259497 -1.03227043  0.01539358]]\n"
          ],
          "name": "stdout"
        }
      ]
    },
    {
      "metadata": {
        "colab_type": "text",
        "id": "kFQoOEm5O6Df"
      },
      "cell_type": "markdown",
      "source": [
        "## 2. Neural Network Model\n",
        "\n",
        "![Neural Network Model](https://cdn-images-1.medium.com/max/800/1*l78dvvJFf0cOJnXTJglR7A.png)"
      ]
    },
    {
      "metadata": {
        "id": "ZyhY0YbXFH0A",
        "colab_type": "text"
      },
      "cell_type": "markdown",
      "source": [
        "### 2.1 Neural Network Cost Function\n",
        "\n",
        "> ## $ \\min_\\Theta J(\\Theta)=-\\frac{\\mathrm{1} }{m} \\sum_{i=1}^{m}  \\sum_{k=1}^{K}\\left[ y_k^{(i)} log((h_\\Theta(x^{(i)}))_k) + (1 - y_k^{(i)}) log (1 - (h_\\Theta(x^{(i)}))_k) \\right]  + \\frac{\\mathrm{\\lambda}}{2m}  \\sum_{l=1}^{L-1} \\sum_{i=1}^{S_l}\\sum_{j=1}^{S_l+1}( \\Theta_{ji}^{(l)})^2$\n",
        "\n",
        "> Where $ h_\\Theta(x)  \\in  \\mathbb{R}^K, (h_\\Theta(x))_i = i^{th} output  $\n",
        "\n",
        "> $ L = $ total no. of layers in neural network\n",
        "\n",
        "> $ S_l = $ no. of units (not couning bias unit ) in layer $ l $"
      ]
    },
    {
      "metadata": {
        "id": "6Ex7BjgxKwWe",
        "colab_type": "code",
        "colab": {}
      },
      "cell_type": "code",
      "source": [
        "def sigmoid(z):\n",
        "    return 1/(1+np.exp(-z))\n",
        "  \n",
        "def nnCostFunc(nn_params, input_layer_size, hidden_layer_size, num_labels, X, y, lmbda):\n",
        "    theta1 = np.reshape(nn_params[:hidden_layer_size*(input_layer_size+1)], (hidden_layer_size, input_layer_size+1), 'F')\n",
        "    theta2 = np.reshape(nn_params[hidden_layer_size*(input_layer_size+1):], (num_labels, hidden_layer_size+1), 'F')\n",
        "    print(theta2.shape)\n",
        "\n",
        "    m = len(y)\n",
        "    ones = np.ones((m,1))\n",
        "    a1 = np.hstack((ones, X))\n",
        "    a2 = sigmoid(a1 @ theta1.T)\n",
        "    a2 = np.hstack((ones, a2))\n",
        "    h = sigmoid(a2 @ theta2.T)\n",
        "    \n",
        "    y_d = pd.get_dummies(y.flatten())\n",
        "    \n",
        "    temp1 = np.multiply(y_d, np.log(h))\n",
        "    temp2 = np.multiply(1-y_d, np.log(1-h))\n",
        "    temp3 = np.sum(temp1 + temp2)\n",
        "    \n",
        "    sum1 = np.sum(np.sum(np.power(theta1[:,1:],2), axis = 1))\n",
        "    sum2 = np.sum(np.sum(np.power(theta2[:,1:],2), axis = 1))\n",
        "    \n",
        "    return np.sum(temp3 / (-m)) + (sum1 + sum2) * lmbda / (2*m)\n"
      ],
      "execution_count": 0,
      "outputs": []
    },
    {
      "metadata": {
        "colab_type": "text",
        "id": "Bk-Na74oPVeu"
      },
      "cell_type": "markdown",
      "source": [
        "### 2.2 Sigmoid Gredient\n",
        "\n",
        "> ## $\\frac{\\mathrm{d} }{\\mathrm{d} z}g(z) = g(z)(1-g(z)) $\n",
        "\n",
        "> where\n",
        "\n",
        "> ## $ g(z) = sigmoid(z) = \\frac{\\mathrm{1} }{\\mathrm{1} + e^{-z} }  $\n",
        "\n",
        "\n",
        "\n",
        "\n"
      ]
    },
    {
      "metadata": {
        "colab_type": "code",
        "id": "YVAqVso_43WT",
        "colab": {}
      },
      "cell_type": "code",
      "source": [
        "def sigmoidGrad(z):\n",
        "    return np.multiply(sigmoid(z), 1-sigmoid(z))"
      ],
      "execution_count": 0,
      "outputs": []
    },
    {
      "metadata": {
        "colab_type": "text",
        "id": "6ATuXdxt43Wd"
      },
      "cell_type": "markdown",
      "source": [
        "### 2.3 Backpropagation\n",
        "\n",
        "> ## $  \\delta^{(4)}_j = a_j^{(4)} - y_j $,  ( total number of layers $ L = 4 $ )\n",
        "\n",
        "> ## $  \\delta^{(3)} = ( \\Theta^{(3)} )^T  \\delta^{(4)} .* g'(z^{(3)}) $\n",
        "\n",
        "> ## $  \\delta^{(2)} = ( \\Theta^{(2)} )^T  \\delta^{(3)} .* g'(z^{(2)}) $"
      ]
    },
    {
      "metadata": {
        "colab_type": "code",
        "id": "92BsLxbz43Wg",
        "colab": {}
      },
      "cell_type": "code",
      "source": [
        "def nnGrad(nn_params, input_layer_size, hidden_layer_size, num_labels, X, y, lmbda):\n",
        "    \n",
        "    initial_theta1 = np.reshape(nn_params[:hidden_layer_size*(input_layer_size+1)], (hidden_layer_size, input_layer_size+1), 'F')\n",
        "    initial_theta2 = np.reshape(nn_params[hidden_layer_size*(input_layer_size+1):], (num_labels, hidden_layer_size+1), 'F')\n",
        "    y_d = pd.get_dummies(y.flatten())\n",
        "    delta1 = np.zeros(initial_theta1.shape)\n",
        "    delta2 = np.zeros(initial_theta2.shape)\n",
        "    m = len(y)\n",
        "    \n",
        "    for i in range(X.shape[0]):\n",
        "        ones = np.ones(1)\n",
        "        a1 = np.hstack((ones, X[i]))\n",
        "        z2 = a1 @ initial_theta1.T\n",
        "        a2 = np.hstack((ones, sigmoid(z2)))\n",
        "        z3 = a2 @ initial_theta2.T\n",
        "        a3 = sigmoid(z3)\n",
        "\n",
        "        d3 = a3 - y_d.iloc[i,:][np.newaxis,:]\n",
        "        z2 = np.hstack((ones, z2))\n",
        "        d2 = np.multiply(initial_theta2.T @ d3.T, sigmoidGrad(z2).T[:,np.newaxis])\n",
        "        delta1 = delta1 + d2[1:,:] @ a1[np.newaxis,:]\n",
        "        delta2 = delta2 + d3.T @ a2[np.newaxis,:]\n",
        "        \n",
        "    delta1 /= m\n",
        "    delta2 /= m\n",
        "    #print(delta1.shape, delta2.shape)\n",
        "    delta1[:,1:] = delta1[:,1:] + initial_theta1[:,1:] * lmbda / m\n",
        "    delta2[:,1:] = delta2[:,1:] + initial_theta2[:,1:] * lmbda / m\n",
        "        \n",
        "    return np.hstack((delta1.ravel(order='F'), delta2.ravel(order='F')))  "
      ],
      "execution_count": 0,
      "outputs": []
    },
    {
      "metadata": {
        "colab_type": "text",
        "id": "0HYa9OPg43Wq"
      },
      "cell_type": "markdown",
      "source": [
        "### 2.4 Random initialization\n"
      ]
    },
    {
      "metadata": {
        "colab_type": "code",
        "id": "wsHK_PW643Wt",
        "scrolled": true,
        "colab": {}
      },
      "cell_type": "code",
      "source": [
        "def randInitializeWeights(L_in, L_out):\n",
        "    epsilon = 0.12\n",
        "    return np.random.rand(L_out, L_in+1) * 2 * epsilon - epsilon\n",
        "\n",
        "\n",
        "# neural network hyperparameters\n",
        "input_layer_size = 11\n",
        "hidden_layer_size = 10\n",
        "num_labels = 1\n",
        "lmbda = 1  \n",
        "  \n",
        "initial_theta1 = randInitializeWeights(input_layer_size, hidden_layer_size)\n",
        "initial_theta2 = randInitializeWeights(hidden_layer_size, num_labels)\n",
        "\n",
        "# unrolling parameters into a single column vector\n",
        "nn_initial_params = np.hstack((initial_theta1.ravel(order='F'), initial_theta2.ravel(order='F')))"
      ],
      "execution_count": 0,
      "outputs": []
    },
    {
      "metadata": {
        "colab_type": "text",
        "id": "e6fSuSk443W2"
      },
      "cell_type": "markdown",
      "source": [
        "### 2.5 Run Backpropagation\n"
      ]
    },
    {
      "metadata": {
        "colab_type": "code",
        "id": "zf5fQ4nY43W5",
        "colab": {
          "base_uri": "https://localhost:8080/",
          "height": 282
        },
        "outputId": "cbf7187f-f155-4baf-8b31-1d8d6340accd"
      },
      "cell_type": "code",
      "source": [
        "nn_backprop_Params = nnGrad(nn_initial_params, input_layer_size, hidden_layer_size, num_labels, X_train, y_train, lmbda)\n"
      ],
      "execution_count": 21,
      "outputs": [
        {
          "output_type": "error",
          "ename": "ValueError",
          "evalue": "ignored",
          "traceback": [
            "\u001b[0;31m---------------------------------------------------------------------------\u001b[0m",
            "\u001b[0;31mValueError\u001b[0m                                Traceback (most recent call last)",
            "\u001b[0;32m<ipython-input-21-920d57d79e2f>\u001b[0m in \u001b[0;36m<module>\u001b[0;34m()\u001b[0m\n\u001b[0;32m----> 1\u001b[0;31m \u001b[0mnn_backprop_Params\u001b[0m \u001b[0;34m=\u001b[0m \u001b[0mnnGrad\u001b[0m\u001b[0;34m(\u001b[0m\u001b[0mnn_initial_params\u001b[0m\u001b[0;34m,\u001b[0m \u001b[0minput_layer_size\u001b[0m\u001b[0;34m,\u001b[0m \u001b[0mhidden_layer_size\u001b[0m\u001b[0;34m,\u001b[0m \u001b[0mnum_labels\u001b[0m\u001b[0;34m,\u001b[0m \u001b[0mX_train\u001b[0m\u001b[0;34m,\u001b[0m \u001b[0my_train\u001b[0m\u001b[0;34m,\u001b[0m \u001b[0mlmbda\u001b[0m\u001b[0;34m)\u001b[0m\u001b[0;34m\u001b[0m\u001b[0;34m\u001b[0m\u001b[0m\n\u001b[0m",
            "\u001b[0;32m<ipython-input-12-096863d1ef32>\u001b[0m in \u001b[0;36mnnGrad\u001b[0;34m(nn_params, input_layer_size, hidden_layer_size, num_labels, X, y, lmbda)\u001b[0m\n\u001b[1;32m     18\u001b[0m         \u001b[0md3\u001b[0m \u001b[0;34m=\u001b[0m \u001b[0ma3\u001b[0m \u001b[0;34m-\u001b[0m \u001b[0my_d\u001b[0m\u001b[0;34m.\u001b[0m\u001b[0miloc\u001b[0m\u001b[0;34m[\u001b[0m\u001b[0mi\u001b[0m\u001b[0;34m,\u001b[0m\u001b[0;34m:\u001b[0m\u001b[0;34m]\u001b[0m\u001b[0;34m[\u001b[0m\u001b[0mnp\u001b[0m\u001b[0;34m.\u001b[0m\u001b[0mnewaxis\u001b[0m\u001b[0;34m,\u001b[0m\u001b[0;34m:\u001b[0m\u001b[0;34m]\u001b[0m\u001b[0;34m\u001b[0m\u001b[0;34m\u001b[0m\u001b[0m\n\u001b[1;32m     19\u001b[0m         \u001b[0mz2\u001b[0m \u001b[0;34m=\u001b[0m \u001b[0mnp\u001b[0m\u001b[0;34m.\u001b[0m\u001b[0mhstack\u001b[0m\u001b[0;34m(\u001b[0m\u001b[0;34m(\u001b[0m\u001b[0mones\u001b[0m\u001b[0;34m,\u001b[0m \u001b[0mz2\u001b[0m\u001b[0;34m)\u001b[0m\u001b[0;34m)\u001b[0m\u001b[0;34m\u001b[0m\u001b[0;34m\u001b[0m\u001b[0m\n\u001b[0;32m---> 20\u001b[0;31m         \u001b[0md2\u001b[0m \u001b[0;34m=\u001b[0m \u001b[0mnp\u001b[0m\u001b[0;34m.\u001b[0m\u001b[0mmultiply\u001b[0m\u001b[0;34m(\u001b[0m\u001b[0minitial_theta2\u001b[0m\u001b[0;34m.\u001b[0m\u001b[0mT\u001b[0m \u001b[0;34m@\u001b[0m \u001b[0md3\u001b[0m\u001b[0;34m.\u001b[0m\u001b[0mT\u001b[0m\u001b[0;34m,\u001b[0m \u001b[0msigmoidGrad\u001b[0m\u001b[0;34m(\u001b[0m\u001b[0mz2\u001b[0m\u001b[0;34m)\u001b[0m\u001b[0;34m.\u001b[0m\u001b[0mT\u001b[0m\u001b[0;34m[\u001b[0m\u001b[0;34m:\u001b[0m\u001b[0;34m,\u001b[0m\u001b[0mnp\u001b[0m\u001b[0;34m.\u001b[0m\u001b[0mnewaxis\u001b[0m\u001b[0;34m]\u001b[0m\u001b[0;34m)\u001b[0m\u001b[0;34m\u001b[0m\u001b[0;34m\u001b[0m\u001b[0m\n\u001b[0m\u001b[1;32m     21\u001b[0m         \u001b[0mdelta1\u001b[0m \u001b[0;34m=\u001b[0m \u001b[0mdelta1\u001b[0m \u001b[0;34m+\u001b[0m \u001b[0md2\u001b[0m\u001b[0;34m[\u001b[0m\u001b[0;36m1\u001b[0m\u001b[0;34m:\u001b[0m\u001b[0;34m,\u001b[0m\u001b[0;34m:\u001b[0m\u001b[0;34m]\u001b[0m \u001b[0;34m@\u001b[0m \u001b[0ma1\u001b[0m\u001b[0;34m[\u001b[0m\u001b[0mnp\u001b[0m\u001b[0;34m.\u001b[0m\u001b[0mnewaxis\u001b[0m\u001b[0;34m,\u001b[0m\u001b[0;34m:\u001b[0m\u001b[0;34m]\u001b[0m\u001b[0;34m\u001b[0m\u001b[0;34m\u001b[0m\u001b[0m\n\u001b[1;32m     22\u001b[0m         \u001b[0mdelta2\u001b[0m \u001b[0;34m=\u001b[0m \u001b[0mdelta2\u001b[0m \u001b[0;34m+\u001b[0m \u001b[0md3\u001b[0m\u001b[0;34m.\u001b[0m\u001b[0mT\u001b[0m \u001b[0;34m@\u001b[0m \u001b[0ma2\u001b[0m\u001b[0;34m[\u001b[0m\u001b[0mnp\u001b[0m\u001b[0;34m.\u001b[0m\u001b[0mnewaxis\u001b[0m\u001b[0;34m,\u001b[0m\u001b[0;34m:\u001b[0m\u001b[0;34m]\u001b[0m\u001b[0;34m\u001b[0m\u001b[0;34m\u001b[0m\u001b[0m\n",
            "\u001b[0;31mValueError\u001b[0m: shapes (11,1) and (2,1) not aligned: 1 (dim 1) != 2 (dim 0)"
          ]
        }
      ]
    },
    {
      "metadata": {
        "colab_type": "code",
        "id": "xl2a7rH243XI",
        "colab": {}
      },
      "cell_type": "code",
      "source": [
        ""
      ],
      "execution_count": 0,
      "outputs": []
    },
    {
      "metadata": {
        "colab_type": "text",
        "id": "kXa5iI0vU2Bu"
      },
      "cell_type": "markdown",
      "source": [
        "### 2.5 Predicting a single new observation\n",
        "\n",
        "Predict if the customer with the following informations will leave the bank:\n",
        "\n"
      ]
    },
    {
      "metadata": {
        "colab_type": "code",
        "id": "7hniUcx543Xf",
        "colab": {}
      },
      "cell_type": "code",
      "source": [
        ""
      ],
      "execution_count": 0,
      "outputs": []
    },
    {
      "metadata": {
        "colab_type": "text",
        "id": "vEMi8dON0_s3"
      },
      "cell_type": "markdown",
      "source": [
        "## 3. Build a simple Neural Network\n",
        "\n"
      ]
    },
    {
      "metadata": {
        "colab_type": "code",
        "id": "-xkNbapZ1IX4",
        "colab": {}
      },
      "cell_type": "code",
      "source": [
        "import numpy as np\n",
        "\n",
        "# X = (hours studying, hours sleeping), y = score on test, xPredicted = 4 hours studying & 8 hours sleeping (input data for prediction)\n",
        "X = np.array(([2, 9], [1, 5], [3, 6]), dtype=float)\n",
        "y = np.array(([92], [86], [89]), dtype=float)\n",
        "xPredicted = np.array(([4,8]), dtype=float)\n",
        "\n",
        "# scale units\n",
        "X = X/np.amax(X, axis=0) # maximum of X array\n",
        "xPredicted = xPredicted/np.amax(xPredicted, axis=0) # maximum of xPredicted (our input data for the prediction)\n",
        "y = y/100 # max test score is 100\n",
        "\n"
      ],
      "execution_count": 0,
      "outputs": []
    },
    {
      "metadata": {
        "id": "sNXqyh8WWps6",
        "colab_type": "code",
        "colab": {
          "base_uri": "https://localhost:8080/",
          "height": 68
        },
        "outputId": "81be31a2-b29a-4cd9-c627-621931229c36"
      },
      "cell_type": "code",
      "source": [
        "X"
      ],
      "execution_count": 24,
      "outputs": [
        {
          "output_type": "execute_result",
          "data": {
            "text/plain": [
              "array([[0.66666667, 1.        ],\n",
              "       [0.33333333, 0.55555556],\n",
              "       [1.        , 0.66666667]])"
            ]
          },
          "metadata": {
            "tags": []
          },
          "execution_count": 24
        }
      ]
    },
    {
      "metadata": {
        "id": "k0EIUHNqWtgm",
        "colab_type": "code",
        "colab": {
          "base_uri": "https://localhost:8080/",
          "height": 68
        },
        "outputId": "14d8cd9b-83c5-446c-9b93-741ac530fcc0"
      },
      "cell_type": "code",
      "source": [
        "y"
      ],
      "execution_count": 25,
      "outputs": [
        {
          "output_type": "execute_result",
          "data": {
            "text/plain": [
              "array([[0.92],\n",
              "       [0.86],\n",
              "       [0.89]])"
            ]
          },
          "metadata": {
            "tags": []
          },
          "execution_count": 25
        }
      ]
    },
    {
      "metadata": {
        "colab_type": "code",
        "id": "N1Re9DpR1Qk_",
        "colab": {}
      },
      "cell_type": "code",
      "source": [
        "class Neural_Network(object):\n",
        "  def __init__(self):\n",
        "  #parameters\n",
        "    self.inputSize = 2\n",
        "    self.outputSize = 1\n",
        "    self.hiddenSize = 3\n",
        "\n",
        "  #weights\n",
        "    self.W1 = np.random.randn(self.inputSize, self.hiddenSize) # (3x2) weight matrix from input to hidden layer\n",
        "    self.W2 = np.random.randn(self.hiddenSize, self.outputSize) # (3x1) weight matrix from hidden to output layer\n",
        "\n",
        "  def forward(self, X):\n",
        "    #forward propagation through our network\n",
        "    self.z = np.dot(X, self.W1) # dot product of X (input) and first set of 3x2 weights\n",
        "    self.z2 = self.sigmoid(self.z) # activation function\n",
        "    self.z3 = np.dot(self.z2, self.W2) # dot product of hidden layer (z2) and second set of 3x1 weights\n",
        "    o = self.sigmoid(self.z3) # final activation function\n",
        "    return o\n",
        "\n",
        "  def sigmoid(self, s):\n",
        "    # activation function\n",
        "    return 1/(1+np.exp(-s))\n",
        "\n",
        "  def sigmoidPrime(self, s):\n",
        "    #derivative of sigmoid\n",
        "    return s * (1 - s)\n",
        "\n",
        "  def backward(self, X, y, o):\n",
        "    # backward propagate through the network\n",
        "    self.o_error = y - o # error in output\n",
        "    self.o_delta = self.o_error*self.sigmoidPrime(o) # applying derivative of sigmoid to error\n",
        "\n",
        "    self.z2_error = self.o_delta.dot(self.W2.T) # z2 error: how much our hidden layer weights contributed to output error\n",
        "    self.z2_delta = self.z2_error*self.sigmoidPrime(self.z2) # applying derivative of sigmoid to z2 error\n",
        "\n",
        "    self.W1 += X.T.dot(self.z2_delta) # adjusting first set (input --> hidden) weights\n",
        "    self.W2 += self.z2.T.dot(self.o_delta) # adjusting second set (hidden --> output) weights\n",
        "\n",
        "  def train(self, X, y, epoch):\n",
        "    for i in range(epoch):\n",
        "      o = self.forward(X)\n",
        "      self.backward(X, y, o)\n",
        "      print(\"epoch:[\", i, \"], Loss: \", str(np.mean(np.square(y - self.forward(X))))  )\n",
        "\n",
        "  def saveWeights(self):\n",
        "    np.savetxt(\"w1.txt\", self.W1, fmt=\"%s\")\n",
        "    np.savetxt(\"w2.txt\", self.W2, fmt=\"%s\")\n",
        "\n",
        "  def predict(self):\n",
        "    print( \"Predicted data based on trained weights: \")\n",
        "    print( \"Input (scaled): \\n\" + str(xPredicted) )\n",
        "    print( \"Output: \\n\" + str(self.forward(xPredicted)) )\n",
        "\n"
      ],
      "execution_count": 0,
      "outputs": []
    },
    {
      "metadata": {
        "id": "H4suFNvfWj2A",
        "colab_type": "code",
        "colab": {
          "base_uri": "https://localhost:8080/",
          "height": 1802
        },
        "outputId": "2d5e308d-dd2f-498a-91c1-3b14c396756b"
      },
      "cell_type": "code",
      "source": [
        "NN = Neural_Network()\n",
        "\n",
        "NN.train(X, y, 100)\n",
        "\n",
        "#NN.saveWeights()\n",
        "NN.predict()"
      ],
      "execution_count": 38,
      "outputs": [
        {
          "output_type": "stream",
          "text": [
            "epoch:[ 0 ], Loss:  0.15940922113981854\n",
            "epoch:[ 1 ], Loss:  0.1130085398199746\n",
            "epoch:[ 2 ], Loss:  0.08137473531018784\n",
            "epoch:[ 3 ], Loss:  0.059988404279404946\n",
            "epoch:[ 4 ], Loss:  0.04534348679900465\n",
            "epoch:[ 5 ], Loss:  0.035089158218525714\n",
            "epoch:[ 6 ], Loss:  0.027727686440318682\n",
            "epoch:[ 7 ], Loss:  0.022312586926029263\n",
            "epoch:[ 8 ], Loss:  0.01823879298584623\n",
            "epoch:[ 9 ], Loss:  0.015111716592849033\n",
            "epoch:[ 10 ], Loss:  0.012668099283086307\n",
            "epoch:[ 11 ], Loss:  0.010728212715562534\n",
            "epoch:[ 12 ], Loss:  0.009166622551869055\n",
            "epoch:[ 13 ], Loss:  0.007893970826052829\n",
            "epoch:[ 14 ], Loss:  0.006845386176304102\n",
            "epoch:[ 15 ], Loss:  0.005972953730313139\n",
            "epoch:[ 16 ], Loss:  0.0052407215476725074\n",
            "epoch:[ 17 ], Loss:  0.0046213242325411985\n",
            "epoch:[ 18 ], Loss:  0.004093658028993398\n",
            "epoch:[ 19 ], Loss:  0.0036412525418236144\n",
            "epoch:[ 20 ], Loss:  0.003251112233821404\n",
            "epoch:[ 21 ], Loss:  0.0029128800302744107\n",
            "epoch:[ 22 ], Loss:  0.002618225237033695\n",
            "epoch:[ 23 ], Loss:  0.0023603899498039643\n",
            "epoch:[ 24 ], Loss:  0.002133848971148416\n",
            "epoch:[ 25 ], Loss:  0.001934052050566234\n",
            "epoch:[ 26 ], Loss:  0.0017572265374259006\n",
            "epoch:[ 27 ], Loss:  0.0016002248581785314\n",
            "epoch:[ 28 ], Loss:  0.001460405595586211\n",
            "epoch:[ 29 ], Loss:  0.0013355400012423542\n",
            "epoch:[ 30 ], Loss:  0.0012237379332961731\n",
            "epoch:[ 31 ], Loss:  0.0011233887570891072\n",
            "epoch:[ 32 ], Loss:  0.0010331138638950642\n",
            "epoch:[ 33 ], Loss:  0.0009517282787767389\n",
            "epoch:[ 34 ], Loss:  0.0008782094297091657\n",
            "epoch:[ 35 ], Loss:  0.0008116715969725237\n",
            "epoch:[ 36 ], Loss:  0.0007513448967472881\n",
            "epoch:[ 37 ], Loss:  0.0006965579058689821\n",
            "epoch:[ 38 ], Loss:  0.0006467232272789871\n",
            "epoch:[ 39 ], Loss:  0.0006013254433234375\n",
            "epoch:[ 40 ], Loss:  0.0005599110179666148\n",
            "epoch:[ 41 ], Loss:  0.0005220797974580698\n",
            "epoch:[ 42 ], Loss:  0.0004874778281261419\n",
            "epoch:[ 43 ], Loss:  0.0004557912643076989\n",
            "epoch:[ 44 ], Loss:  0.00042674118236908117\n",
            "epoch:[ 45 ], Loss:  0.00040007915089578454\n",
            "epoch:[ 46 ], Loss:  0.00037558343437796364\n",
            "epoch:[ 47 ], Loss:  0.0003530557295866155\n",
            "epoch:[ 48 ], Loss:  0.0003323183514650217\n",
            "epoch:[ 49 ], Loss:  0.00031321179963724464\n",
            "epoch:[ 50 ], Loss:  0.0002955926482468069\n",
            "epoch:[ 51 ], Loss:  0.00027933171132095094\n",
            "epoch:[ 52 ], Loss:  0.00026431244362998117\n",
            "epoch:[ 53 ], Loss:  0.0002504295434090609\n",
            "epoch:[ 54 ], Loss:  0.00023758772859437183\n",
            "epoch:[ 55 ], Loss:  0.00022570066260580674\n",
            "epoch:[ 56 ], Loss:  0.00021469000935140853\n",
            "epoch:[ 57 ], Loss:  0.0002044846001685568\n",
            "epoch:[ 58 ], Loss:  0.00019501969796130737\n",
            "epoch:[ 59 ], Loss:  0.00018623634592958215\n",
            "epoch:[ 60 ], Loss:  0.0001780807900847038\n",
            "epoch:[ 61 ], Loss:  0.0001705039662647646\n",
            "epoch:[ 62 ], Loss:  0.00016346104364957216\n",
            "epoch:[ 63 ], Loss:  0.00015691101786684283\n",
            "epoch:[ 64 ], Loss:  0.00015081634771086074\n",
            "epoch:[ 65 ], Loss:  0.0001451426302878629\n",
            "epoch:[ 66 ], Loss:  0.0001398583100808747\n",
            "epoch:[ 67 ], Loss:  0.0001349344180082286\n",
            "epoch:[ 68 ], Loss:  0.000130344337049876\n",
            "epoch:[ 69 ], Loss:  0.00012606359144587065\n",
            "epoch:[ 70 ], Loss:  0.00012206965684285977\n",
            "epoch:[ 71 ], Loss:  0.00011834178908564924\n",
            "epoch:[ 72 ], Loss:  0.0001148608696291187\n",
            "epoch:[ 73 ], Loss:  0.00011160926578750243\n",
            "epoch:[ 74 ], Loss:  0.00010857070424815796\n",
            "epoch:[ 75 ], Loss:  0.0001057301564601446\n",
            "epoch:[ 76 ], Loss:  0.00010307373466782878\n",
            "epoch:[ 77 ], Loss:  0.00010058859749955349\n",
            "epoch:[ 78 ], Loss:  9.826286414395541e-05\n",
            "epoch:[ 79 ], Loss:  9.608553625395929e-05\n",
            "epoch:[ 80 ], Loss:  9.404642681294558e-05\n",
            "epoch:[ 81 ], Loss:  9.213609528079744e-05\n",
            "epoch:[ 82 ], Loss:  9.034578841078828e-05\n",
            "epoch:[ 83 ], Loss:  8.86673861930064e-05\n",
            "epoch:[ 84 ], Loss:  8.70933524372844e-05\n",
            "epoch:[ 85 ], Loss:  8.561668955920764e-05\n",
            "epoch:[ 86 ], Loss:  8.423089717775047e-05\n",
            "epoch:[ 87 ], Loss:  8.292993417299847e-05\n",
            "epoch:[ 88 ], Loss:  8.170818388778625e-05\n",
            "epoch:[ 89 ], Loss:  8.056042218878061e-05\n",
            "epoch:[ 90 ], Loss:  7.948178813055758e-05\n",
            "epoch:[ 91 ], Loss:  7.84677569913948e-05\n",
            "epoch:[ 92 ], Loss:  7.751411547192165e-05\n",
            "epoch:[ 93 ], Loss:  7.66169388678222e-05\n",
            "epoch:[ 94 ], Loss:  7.577257004575233e-05\n",
            "epoch:[ 95 ], Loss:  7.497760006777962e-05\n",
            "epoch:[ 96 ], Loss:  7.422885032403553e-05\n",
            "epoch:[ 97 ], Loss:  7.35233560463643e-05\n",
            "epoch:[ 98 ], Loss:  7.285835108731407e-05\n",
            "epoch:[ 99 ], Loss:  7.223125385945198e-05\n",
            "Predicted data based on trained weights: \n",
            "Input (scaled): \n",
            "[0.5 1. ]\n",
            "Output: \n",
            "[0.90812951]\n"
          ],
          "name": "stdout"
        }
      ]
    },
    {
      "metadata": {
        "id": "f6ROChOed9pC",
        "colab_type": "code",
        "colab": {}
      },
      "cell_type": "code",
      "source": [
        ""
      ],
      "execution_count": 0,
      "outputs": []
    }
  ]
}