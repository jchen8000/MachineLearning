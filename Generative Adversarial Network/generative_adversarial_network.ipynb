{
  "nbformat": 4,
  "nbformat_minor": 0,
  "metadata": {
    "colab": {
      "name": "Untitled1.ipynb",
      "version": "0.3.2",
      "provenance": [],
      "collapsed_sections": []
    },
    "kernelspec": {
      "name": "python3",
      "display_name": "Python 3"
    },
    "accelerator": "GPU"
  },
  "cells": [
    {
      "cell_type": "markdown",
      "metadata": {
        "id": "kxwGLgBfo-XH",
        "colab_type": "text"
      },
      "source": [
        "# Generative Adversarial Network(GAN)\n",
        "\n",
        "\n",
        "https://medium.com/datadriveninvestor/generative-adversarial-network-gan-using-keras-ce1c05cfdfd3\n"
      ]
    },
    {
      "cell_type": "code",
      "metadata": {
        "id": "ZTWi7dTDnZlq",
        "colab_type": "code",
        "colab": {}
      },
      "source": [
        "import numpy as np\n",
        "import pandas as pd\n",
        "import matplotlib.pyplot as plt\n",
        "%matplotlib inline\n",
        "import keras\n",
        "from keras.layers import Dense, Dropout, Input\n",
        "from keras.models import Model,Sequential\n",
        "from keras.datasets import mnist\n",
        "from tqdm import tqdm\n",
        "from keras.layers.advanced_activations import LeakyReLU\n",
        "from keras.optimizers import Adam"
      ],
      "execution_count": 0,
      "outputs": []
    },
    {
      "cell_type": "markdown",
      "metadata": {
        "id": "1xB_SWfrJVhd",
        "colab_type": "text"
      },
      "source": [
        "# 1. MNIST Dataset\n",
        "\n",
        "The MNIST database is a well known dataset that contains thousands of handwritten digits for machine learning purpose."
      ]
    },
    {
      "cell_type": "markdown",
      "metadata": {
        "id": "i9HPpldFJiII",
        "colab_type": "text"
      },
      "source": [
        "## 1.1 Load MNIST dataset from tensorflow library\n",
        "When we load the dataset below, X_train and X_test will contain the images, and y_train and y_test will contain the digits that those images represent."
      ]
    },
    {
      "cell_type": "code",
      "metadata": {
        "id": "fTVn7gokJW_3",
        "colab_type": "code",
        "colab": {}
      },
      "source": [
        "#(X_train, y_train), (X_test, y_test) = tf.keras.datasets.mnist.load_data()\n",
        "#print(\"X_train\", X_train.shape)\n",
        "#print(\"y_train\", y_train.shape)\n",
        "#print(\"X_test\", X_test.shape)\n",
        "#print(\"y_test\", y_test.shape)\n"
      ],
      "execution_count": 0,
      "outputs": []
    },
    {
      "cell_type": "code",
      "metadata": {
        "id": "KcsuLmltphGU",
        "colab_type": "code",
        "outputId": "4bcb966b-e3b5-4609-a775-141f0b1afa91",
        "colab": {
          "base_uri": "https://localhost:8080/",
          "height": 34
        }
      },
      "source": [
        "def load_data():\n",
        "    (x_train, y_train), (x_test, y_test) = mnist.load_data()\n",
        "    x_train = (x_train.astype(np.float32) - 127.5)/127.5\n",
        "    \n",
        "    # convert shape of x_train from (60000, 28, 28) to (60000, 784) \n",
        "    # 784 columns per row\n",
        "    x_train = x_train.reshape(60000, 784)\n",
        "    return (x_train, y_train, x_test, y_test)\n",
        "(X_train, y_train,X_test, y_test)=load_data()\n",
        "print(X_train.shape)"
      ],
      "execution_count": 68,
      "outputs": [
        {
          "output_type": "stream",
          "text": [
            "(60000, 784)\n"
          ],
          "name": "stdout"
        }
      ]
    },
    {
      "cell_type": "markdown",
      "metadata": {
        "id": "jt8lSXbKJxGJ",
        "colab_type": "text"
      },
      "source": [
        "## 1.2 Pre-process the data"
      ]
    },
    {
      "cell_type": "code",
      "metadata": {
        "id": "uKSZFbZjJ-5q",
        "colab_type": "code",
        "colab": {}
      },
      "source": [
        "#X_train = X_train.astype(np.float32).reshape(X_train.shape[0], height, width, channels)\n",
        "#X_test = X_test.astype(np.float32).reshape(X_test.shape[0], height, width, channels)\n",
        "#input_shape = (height, width, 1)"
      ],
      "execution_count": 0,
      "outputs": []
    },
    {
      "cell_type": "markdown",
      "metadata": {
        "id": "Y8O38k3kMevZ",
        "colab_type": "text"
      },
      "source": [
        "# 2. Build Generative Adversarial Network(GAN)"
      ]
    },
    {
      "cell_type": "markdown",
      "metadata": {
        "id": "sZ1eglWxMoOQ",
        "colab_type": "text"
      },
      "source": [
        "## 2.1 Build a Generator"
      ]
    },
    {
      "cell_type": "code",
      "metadata": {
        "id": "jxhMxWEvptHM",
        "colab_type": "code",
        "colab": {}
      },
      "source": [
        "def adam_optimizer():\n",
        "    return Adam(lr=0.0002, beta_1=0.5)"
      ],
      "execution_count": 0,
      "outputs": []
    },
    {
      "cell_type": "code",
      "metadata": {
        "id": "S_TW1z0kpxPE",
        "colab_type": "code",
        "outputId": "8371988a-9fbb-4e48-96dc-3dfdc906f126",
        "colab": {
          "base_uri": "https://localhost:8080/",
          "height": 374
        }
      },
      "source": [
        "def create_generator():\n",
        "    generator=Sequential()\n",
        "    generator.add(Dense(units=256,input_dim=100))\n",
        "    generator.add(LeakyReLU(0.2))\n",
        "    \n",
        "    generator.add(Dense(units=512))\n",
        "    generator.add(LeakyReLU(0.2))\n",
        "    \n",
        "    generator.add(Dense(units=1024))\n",
        "    generator.add(LeakyReLU(0.2))\n",
        "    \n",
        "    generator.add(Dense(units=784, activation='tanh'))\n",
        "    \n",
        "    generator.compile(loss='binary_crossentropy', optimizer=adam_optimizer())\n",
        "    return generator\n",
        "  \n",
        "theGenerator = create_generator()\n",
        "theGenerator.summary()"
      ],
      "execution_count": 71,
      "outputs": [
        {
          "output_type": "stream",
          "text": [
            "_________________________________________________________________\n",
            "Layer (type)                 Output Shape              Param #   \n",
            "=================================================================\n",
            "dense_33 (Dense)             (None, 256)               25856     \n",
            "_________________________________________________________________\n",
            "leaky_re_lu_25 (LeakyReLU)   (None, 256)               0         \n",
            "_________________________________________________________________\n",
            "dense_34 (Dense)             (None, 512)               131584    \n",
            "_________________________________________________________________\n",
            "leaky_re_lu_26 (LeakyReLU)   (None, 512)               0         \n",
            "_________________________________________________________________\n",
            "dense_35 (Dense)             (None, 1024)              525312    \n",
            "_________________________________________________________________\n",
            "leaky_re_lu_27 (LeakyReLU)   (None, 1024)              0         \n",
            "_________________________________________________________________\n",
            "dense_36 (Dense)             (None, 784)               803600    \n",
            "=================================================================\n",
            "Total params: 1,486,352\n",
            "Trainable params: 1,486,352\n",
            "Non-trainable params: 0\n",
            "_________________________________________________________________\n"
          ],
          "name": "stdout"
        }
      ]
    },
    {
      "cell_type": "markdown",
      "metadata": {
        "id": "xMT1ebD7Mw6q",
        "colab_type": "text"
      },
      "source": [
        "## 2.2 Build a Discriminator"
      ]
    },
    {
      "cell_type": "code",
      "metadata": {
        "id": "UpgroTCTqVzr",
        "colab_type": "code",
        "outputId": "4be9e2e8-e515-46f1-84e4-5507d2843336",
        "colab": {
          "base_uri": "https://localhost:8080/",
          "height": 442
        }
      },
      "source": [
        "def create_discriminator():\n",
        "    discriminator=Sequential()\n",
        "    discriminator.add(Dense(units=1024,input_dim=784))\n",
        "    discriminator.add(LeakyReLU(0.2))\n",
        "    discriminator.add(Dropout(0.3))\n",
        "       \n",
        "    \n",
        "    discriminator.add(Dense(units=512))\n",
        "    discriminator.add(LeakyReLU(0.2))\n",
        "    discriminator.add(Dropout(0.3))\n",
        "       \n",
        "    discriminator.add(Dense(units=256))\n",
        "    discriminator.add(LeakyReLU(0.2))\n",
        "    \n",
        "    discriminator.add(Dense(units=1, activation='sigmoid'))\n",
        "    \n",
        "    discriminator.compile(loss='binary_crossentropy', optimizer=adam_optimizer())\n",
        "    return discriminator\n",
        "  \n",
        "theDiscriminator = create_discriminator()\n",
        "theDiscriminator.summary()"
      ],
      "execution_count": 72,
      "outputs": [
        {
          "output_type": "stream",
          "text": [
            "_________________________________________________________________\n",
            "Layer (type)                 Output Shape              Param #   \n",
            "=================================================================\n",
            "dense_37 (Dense)             (None, 1024)              803840    \n",
            "_________________________________________________________________\n",
            "leaky_re_lu_28 (LeakyReLU)   (None, 1024)              0         \n",
            "_________________________________________________________________\n",
            "dropout_9 (Dropout)          (None, 1024)              0         \n",
            "_________________________________________________________________\n",
            "dense_38 (Dense)             (None, 512)               524800    \n",
            "_________________________________________________________________\n",
            "leaky_re_lu_29 (LeakyReLU)   (None, 512)               0         \n",
            "_________________________________________________________________\n",
            "dropout_10 (Dropout)         (None, 512)               0         \n",
            "_________________________________________________________________\n",
            "dense_39 (Dense)             (None, 256)               131328    \n",
            "_________________________________________________________________\n",
            "leaky_re_lu_30 (LeakyReLU)   (None, 256)               0         \n",
            "_________________________________________________________________\n",
            "dense_40 (Dense)             (None, 1)                 257       \n",
            "=================================================================\n",
            "Total params: 1,460,225\n",
            "Trainable params: 1,460,225\n",
            "Non-trainable params: 0\n",
            "_________________________________________________________________\n"
          ],
          "name": "stdout"
        }
      ]
    },
    {
      "cell_type": "markdown",
      "metadata": {
        "id": "RCRzOqXWM6xC",
        "colab_type": "text"
      },
      "source": [
        "## 2.3 Build the GAN by connecting the Generator and Discriminator"
      ]
    },
    {
      "cell_type": "code",
      "metadata": {
        "id": "5HKzMKfhqfXI",
        "colab_type": "code",
        "outputId": "5f2e8fef-607e-454c-de49-7d1f0854c964",
        "colab": {
          "base_uri": "https://localhost:8080/",
          "height": 238
        }
      },
      "source": [
        "def create_gan(discriminator, generator):\n",
        "    discriminator.trainable=False\n",
        "    gan_input = Input(shape=(100,))\n",
        "    x = generator(gan_input)\n",
        "    gan_output= discriminator(x)\n",
        "    gan= Model(inputs=gan_input, outputs=gan_output)\n",
        "    gan.compile(loss='binary_crossentropy', optimizer='adam')\n",
        "    return gan\n",
        "  \n",
        "theGan = create_gan(theDiscriminator, theGenerator)\n",
        "theGan.summary()"
      ],
      "execution_count": 73,
      "outputs": [
        {
          "output_type": "stream",
          "text": [
            "_________________________________________________________________\n",
            "Layer (type)                 Output Shape              Param #   \n",
            "=================================================================\n",
            "input_4 (InputLayer)         (None, 100)               0         \n",
            "_________________________________________________________________\n",
            "sequential_9 (Sequential)    (None, 784)               1486352   \n",
            "_________________________________________________________________\n",
            "sequential_10 (Sequential)   (None, 1)                 1460225   \n",
            "=================================================================\n",
            "Total params: 2,946,577\n",
            "Trainable params: 1,486,352\n",
            "Non-trainable params: 1,460,225\n",
            "_________________________________________________________________\n"
          ],
          "name": "stdout"
        }
      ]
    },
    {
      "cell_type": "markdown",
      "metadata": {
        "id": "uT_-G8FINPo8",
        "colab_type": "text"
      },
      "source": [
        "# 3. Training the GAN"
      ]
    },
    {
      "cell_type": "markdown",
      "metadata": {
        "id": "hS4gjLhDNUWN",
        "colab_type": "text"
      },
      "source": [
        "## 3.1 Visualize the original images and generated images"
      ]
    },
    {
      "cell_type": "code",
      "metadata": {
        "id": "XacrJf8fqmiQ",
        "colab_type": "code",
        "colab": {}
      },
      "source": [
        "def plot_generated_images(epoch, generator, examples=4, dim=(2,2), figsize=(5,5)):\n",
        "    noise= np.random.normal(loc=0, scale=1, size=[examples, 100])\n",
        "    generated_images = generator.predict(noise)\n",
        "    generated_images = generated_images.reshape(examples,28,28)\n",
        "    plt.figure(figsize=figsize)\n",
        "    for i in range(generated_images.shape[0]):\n",
        "        plt.subplot(dim[0], dim[1], i+1)\n",
        "        plt.imshow(generated_images[i], interpolation='nearest', cmap='binary')\n",
        "        plt.axis('off')\n",
        "    plt.tight_layout()\n",
        "    #plt.savefig('gan_generated_image %d.png' %epoch)"
      ],
      "execution_count": 0,
      "outputs": []
    },
    {
      "cell_type": "code",
      "metadata": {
        "id": "hAsYUS_P30n9",
        "colab_type": "code",
        "colab": {}
      },
      "source": [
        "import numpy as np\n",
        "from IPython.display import SVG, display\n",
        "from PIL import Image\n",
        "\n",
        "def invert_image(img):\n",
        "    return( np.invert(img)  )\n",
        "\n",
        "  \n",
        "def denomalize_image(img, invert=False):\n",
        "    if img.dtype is np.dtype(np.float32):\n",
        "      image = img * 255\n",
        "      image = image.astype('uint8')\n",
        "    else:\n",
        "      image = img\n",
        "    \n",
        "    if invert == True:\n",
        "      image = invert_image( image )\n",
        "\n",
        "    return( image )\n",
        "    \n",
        "\n",
        "def init_display(img, zoom=2):\n",
        "    height, width = img.shape\n",
        "    img_array=denomalize_image(img, invert=True)\n",
        "    img_disp = Image.fromarray(img_array,mode='P')\n",
        "    if zoom == 1:\n",
        "      out = display(img_disp, display_id=True)\n",
        "    else:\n",
        "      out = display(img_disp.resize((width*zoom,height*zoom)), display_id=True)\n",
        "    return( out )\n",
        "\n",
        "\n",
        "def update_display(out, img, zoom=2):\n",
        "    height, width = img.shape\n",
        "    img_array=denomalize_image(img, invert=True)\n",
        "    img_disp = Image.fromarray(img_array,mode='P')\n",
        "    if zoom == 1:\n",
        "      out.update(img_disp)\n",
        "    else:\n",
        "      out.update(img_disp.resize((width*zoom,height*zoom)))\n",
        "\n",
        "\n",
        "      \n",
        "def plot_output( epoch, generator, examples=16, initial=False, out=None ):\n",
        "    noise= np.random.normal(loc=0, scale=1, size=[examples, 100])\n",
        "    generated_images = generator.predict(noise)\n",
        "    generated_images = generated_images.reshape(examples,28,28)\n",
        "    plot_image = np.concatenate(generated_images, axis = 1)\n",
        "    if initial == False:\n",
        "      update_display(out, plot_image)\n",
        "    else:\n",
        "      output = init_display(plot_image)\n",
        "      return( output )\n",
        "    \n",
        "\n",
        "def plot_sample( sample ):\n",
        "    plot_image = np.concatenate(sample.reshape(sample.shape[0],28,28), axis = 1)\n",
        "    output = init_display(plot_image)\n",
        "    return( output )\n",
        "        \n",
        "    \n",
        "    "
      ],
      "execution_count": 0,
      "outputs": []
    },
    {
      "cell_type": "markdown",
      "metadata": {
        "id": "gXLwcVhpNdu7",
        "colab_type": "text"
      },
      "source": [
        "## 3.2 Train the GAN"
      ]
    },
    {
      "cell_type": "code",
      "metadata": {
        "id": "AlAuiMAfqvZx",
        "colab_type": "code",
        "colab": {
          "base_uri": "https://localhost:8080/",
          "height": 1829
        },
        "outputId": "adc01b90-0825-41f3-e496-5bf5e7c26c34"
      },
      "source": [
        "epochs = 50\n",
        "batch_size = 64\n",
        "sample_size = 10\n",
        "\n",
        "#Pick the sample images -- each one from number 0 to 9\n",
        "sample = np.empty(shape=10).astype('uint8')\n",
        "for i in range(0,sample_size):\n",
        "  sample[i] = np.where(y_train==i)[0][5]\n",
        "\n",
        "#Show the sample images\n",
        "sample_image = X_train[sample]\n",
        "plot_sample( sample_image )\n",
        "\n",
        "\n",
        "#Display the initial generator generated images\n",
        "display_output = plot_output( 0, theGenerator, examples=16, initial=True )\n",
        "\n",
        "\n",
        "#\n",
        "# Main loop for training the GAN\n",
        "#\n",
        "for e in range(1,epochs+1 ):\n",
        "    print(\"Epoch %d\" %e)\n",
        "    for _ in tqdm(range(batch_size)):\n",
        "      \n",
        "        #generate random noise as an input to initialize the generator\n",
        "        noise= np.random.normal(0,1, [batch_size, 100])\n",
        "        generated_images = theGenerator.predict(noise)\n",
        "\n",
        "        # Make the ground truth images from the sample images, \n",
        "        # randomly create them by the number of batch_size \n",
        "        #image_batch = X_train[np.random.choice(sample, size=batch_size)]\n",
        "        image_batch = sample_image\n",
        "\n",
        "        #Mix the ground truth images with the generated images,\n",
        "        #and label them 1 for ground truth and 0 for generated ones\n",
        "        X_gan = np.concatenate([image_batch, generated_images])\n",
        "        y_gan = np.concatenate([np.ones(image_batch.shape[0]), np.zeros(generated_images.shape[0])])\n",
        "        y_gan = y_gan.astype(np.float32)\n",
        "\n",
        "        #First train the discriminator. \n",
        "        theDiscriminator.trainable=True\n",
        "        theDiscriminator.train_on_batch(X_gan, y_gan)\n",
        "\n",
        "        #Tricking the noised input of the Generator as real data\n",
        "        noise= np.random.normal(0,1, [batch_size, 100])\n",
        "        y_gen = np.ones(batch_size)\n",
        "\n",
        "        # During the training of gan, \n",
        "        # the weights of discriminator should be fixed. \n",
        "        #We can enforce that by setting the trainable flag\n",
        "        theDiscriminator.trainable=False\n",
        "\n",
        "        #training  the GAN by alternating the training of the Discriminator \n",
        "        #and training the chained GAN model with Discriminator’s weights freezed.\n",
        "        theGan.train_on_batch(noise, y_gen)\n",
        "\n",
        "    if e == 1 or e % 2 == 0:\n",
        "        #plot_generated_images(e, generator)\n",
        "        plot_output( e, theGenerator, out=display_output )\n",
        "\n"
      ],
      "execution_count": 76,
      "outputs": [
        {
          "output_type": "display_data",
          "data": {
            "image/png": "[encoded data removed]",
            "text/plain": [
              "<PIL.Image.Image image mode=P size=560x56 at 0x7FAF5A80C7B8>"
            ]
          },
          "metadata": {
            "tags": []
          }
        },
        {
          "output_type": "display_data",
          "data": {
            "image/png": "[encoded data removed]",
            "text/plain": [
              "<PIL.Image.Image image mode=P size=896x56 at 0x7FAF59D85DA0>"
            ]
          },
          "metadata": {
            "tags": []
          }
        },
        {
          "output_type": "stream",
          "text": [
            "\r  0%|          | 0/64 [00:00<?, ?it/s]"
          ],
          "name": "stderr"
        },
        {
          "output_type": "stream",
          "text": [
            "Epoch 1\n"
          ],
          "name": "stdout"
        },
        {
          "output_type": "stream",
          "text": [
            "100%|██████████| 64/64 [00:03<00:00, 17.26it/s]\n",
            "  9%|▉         | 6/64 [00:00<00:01, 52.21it/s]"
          ],
          "name": "stderr"
        },
        {
          "output_type": "stream",
          "text": [
            "Epoch 2\n"
          ],
          "name": "stdout"
        },
        {
          "output_type": "stream",
          "text": [
            "100%|██████████| 64/64 [00:01<00:00, 52.82it/s]\n",
            "  9%|▉         | 6/64 [00:00<00:01, 52.71it/s]"
          ],
          "name": "stderr"
        },
        {
          "output_type": "stream",
          "text": [
            "Epoch 3\n"
          ],
          "name": "stdout"
        },
        {
          "output_type": "stream",
          "text": [
            "100%|██████████| 64/64 [00:01<00:00, 53.52it/s]\n",
            "  9%|▉         | 6/64 [00:00<00:01, 55.03it/s]"
          ],
          "name": "stderr"
        },
        {
          "output_type": "stream",
          "text": [
            "Epoch 4\n"
          ],
          "name": "stdout"
        },
        {
          "output_type": "stream",
          "text": [
            "100%|██████████| 64/64 [00:01<00:00, 53.82it/s]\n",
            "  9%|▉         | 6/64 [00:00<00:01, 51.92it/s]"
          ],
          "name": "stderr"
        },
        {
          "output_type": "stream",
          "text": [
            "Epoch 5\n"
          ],
          "name": "stdout"
        },
        {
          "output_type": "stream",
          "text": [
            "100%|██████████| 64/64 [00:01<00:00, 53.51it/s]\n",
            "  9%|▉         | 6/64 [00:00<00:01, 54.20it/s]"
          ],
          "name": "stderr"
        },
        {
          "output_type": "stream",
          "text": [
            "Epoch 6\n"
          ],
          "name": "stdout"
        },
        {
          "output_type": "stream",
          "text": [
            "100%|██████████| 64/64 [00:01<00:00, 54.00it/s]\n",
            "  9%|▉         | 6/64 [00:00<00:01, 53.77it/s]"
          ],
          "name": "stderr"
        },
        {
          "output_type": "stream",
          "text": [
            "Epoch 7\n"
          ],
          "name": "stdout"
        },
        {
          "output_type": "stream",
          "text": [
            "100%|██████████| 64/64 [00:01<00:00, 53.60it/s]\n",
            "  9%|▉         | 6/64 [00:00<00:01, 55.56it/s]"
          ],
          "name": "stderr"
        },
        {
          "output_type": "stream",
          "text": [
            "Epoch 8\n"
          ],
          "name": "stdout"
        },
        {
          "output_type": "stream",
          "text": [
            "100%|██████████| 64/64 [00:01<00:00, 53.32it/s]\n",
            "  9%|▉         | 6/64 [00:00<00:01, 51.46it/s]"
          ],
          "name": "stderr"
        },
        {
          "output_type": "stream",
          "text": [
            "Epoch 9\n"
          ],
          "name": "stdout"
        },
        {
          "output_type": "stream",
          "text": [
            "100%|██████████| 64/64 [00:01<00:00, 53.45it/s]\n",
            "  9%|▉         | 6/64 [00:00<00:01, 54.86it/s]"
          ],
          "name": "stderr"
        },
        {
          "output_type": "stream",
          "text": [
            "Epoch 10\n"
          ],
          "name": "stdout"
        },
        {
          "output_type": "stream",
          "text": [
            "100%|██████████| 64/64 [00:01<00:00, 53.70it/s]\n",
            "  9%|▉         | 6/64 [00:00<00:01, 52.99it/s]"
          ],
          "name": "stderr"
        },
        {
          "output_type": "stream",
          "text": [
            "Epoch 11\n"
          ],
          "name": "stdout"
        },
        {
          "output_type": "stream",
          "text": [
            "100%|██████████| 64/64 [00:01<00:00, 52.64it/s]\n",
            "  9%|▉         | 6/64 [00:00<00:01, 54.10it/s]"
          ],
          "name": "stderr"
        },
        {
          "output_type": "stream",
          "text": [
            "Epoch 12\n"
          ],
          "name": "stdout"
        },
        {
          "output_type": "stream",
          "text": [
            "100%|██████████| 64/64 [00:01<00:00, 53.58it/s]\n",
            "  9%|▉         | 6/64 [00:00<00:01, 52.56it/s]"
          ],
          "name": "stderr"
        },
        {
          "output_type": "stream",
          "text": [
            "Epoch 13\n"
          ],
          "name": "stdout"
        },
        {
          "output_type": "stream",
          "text": [
            "100%|██████████| 64/64 [00:01<00:00, 53.97it/s]\n",
            "  9%|▉         | 6/64 [00:00<00:01, 50.28it/s]"
          ],
          "name": "stderr"
        },
        {
          "output_type": "stream",
          "text": [
            "Epoch 14\n"
          ],
          "name": "stdout"
        },
        {
          "output_type": "stream",
          "text": [
            "100%|██████████| 64/64 [00:01<00:00, 53.42it/s]\n",
            "  9%|▉         | 6/64 [00:00<00:01, 56.12it/s]"
          ],
          "name": "stderr"
        },
        {
          "output_type": "stream",
          "text": [
            "Epoch 15\n"
          ],
          "name": "stdout"
        },
        {
          "output_type": "stream",
          "text": [
            "100%|██████████| 64/64 [00:01<00:00, 54.26it/s]\n",
            "  9%|▉         | 6/64 [00:00<00:01, 52.60it/s]"
          ],
          "name": "stderr"
        },
        {
          "output_type": "stream",
          "text": [
            "Epoch 16\n"
          ],
          "name": "stdout"
        },
        {
          "output_type": "stream",
          "text": [
            "100%|██████████| 64/64 [00:01<00:00, 53.74it/s]\n",
            "  9%|▉         | 6/64 [00:00<00:01, 52.89it/s]"
          ],
          "name": "stderr"
        },
        {
          "output_type": "stream",
          "text": [
            "Epoch 17\n"
          ],
          "name": "stdout"
        },
        {
          "output_type": "stream",
          "text": [
            "100%|██████████| 64/64 [00:01<00:00, 53.74it/s]\n",
            "  9%|▉         | 6/64 [00:00<00:01, 54.88it/s]"
          ],
          "name": "stderr"
        },
        {
          "output_type": "stream",
          "text": [
            "Epoch 18\n"
          ],
          "name": "stdout"
        },
        {
          "output_type": "stream",
          "text": [
            "100%|██████████| 64/64 [00:01<00:00, 54.02it/s]\n",
            "  9%|▉         | 6/64 [00:00<00:01, 56.47it/s]"
          ],
          "name": "stderr"
        },
        {
          "output_type": "stream",
          "text": [
            "Epoch 19\n"
          ],
          "name": "stdout"
        },
        {
          "output_type": "stream",
          "text": [
            "100%|██████████| 64/64 [00:01<00:00, 53.50it/s]\n",
            "  8%|▊         | 5/64 [00:00<00:01, 49.81it/s]"
          ],
          "name": "stderr"
        },
        {
          "output_type": "stream",
          "text": [
            "Epoch 20\n"
          ],
          "name": "stdout"
        },
        {
          "output_type": "stream",
          "text": [
            "100%|██████████| 64/64 [00:01<00:00, 53.12it/s]\n",
            "  9%|▉         | 6/64 [00:00<00:01, 54.19it/s]"
          ],
          "name": "stderr"
        },
        {
          "output_type": "stream",
          "text": [
            "Epoch 21\n"
          ],
          "name": "stdout"
        },
        {
          "output_type": "stream",
          "text": [
            "100%|██████████| 64/64 [00:01<00:00, 53.88it/s]\n",
            "  9%|▉         | 6/64 [00:00<00:01, 54.77it/s]"
          ],
          "name": "stderr"
        },
        {
          "output_type": "stream",
          "text": [
            "Epoch 22\n"
          ],
          "name": "stdout"
        },
        {
          "output_type": "stream",
          "text": [
            "100%|██████████| 64/64 [00:01<00:00, 54.09it/s]\n",
            "  9%|▉         | 6/64 [00:00<00:01, 52.47it/s]"
          ],
          "name": "stderr"
        },
        {
          "output_type": "stream",
          "text": [
            "Epoch 23\n"
          ],
          "name": "stdout"
        },
        {
          "output_type": "stream",
          "text": [
            "100%|██████████| 64/64 [00:01<00:00, 53.32it/s]\n",
            "  9%|▉         | 6/64 [00:00<00:01, 54.74it/s]"
          ],
          "name": "stderr"
        },
        {
          "output_type": "stream",
          "text": [
            "Epoch 24\n"
          ],
          "name": "stdout"
        },
        {
          "output_type": "stream",
          "text": [
            "100%|██████████| 64/64 [00:01<00:00, 53.78it/s]\n",
            "  9%|▉         | 6/64 [00:00<00:01, 54.26it/s]"
          ],
          "name": "stderr"
        },
        {
          "output_type": "stream",
          "text": [
            "Epoch 25\n"
          ],
          "name": "stdout"
        },
        {
          "output_type": "stream",
          "text": [
            "100%|██████████| 64/64 [00:01<00:00, 53.93it/s]\n",
            "  9%|▉         | 6/64 [00:00<00:01, 51.39it/s]"
          ],
          "name": "stderr"
        },
        {
          "output_type": "stream",
          "text": [
            "Epoch 26\n"
          ],
          "name": "stdout"
        },
        {
          "output_type": "stream",
          "text": [
            "100%|██████████| 64/64 [00:01<00:00, 53.51it/s]\n",
            "  9%|▉         | 6/64 [00:00<00:01, 52.97it/s]"
          ],
          "name": "stderr"
        },
        {
          "output_type": "stream",
          "text": [
            "Epoch 27\n"
          ],
          "name": "stdout"
        },
        {
          "output_type": "stream",
          "text": [
            "100%|██████████| 64/64 [00:01<00:00, 53.99it/s]\n",
            "  9%|▉         | 6/64 [00:00<00:01, 54.98it/s]"
          ],
          "name": "stderr"
        },
        {
          "output_type": "stream",
          "text": [
            "Epoch 28\n"
          ],
          "name": "stdout"
        },
        {
          "output_type": "stream",
          "text": [
            "100%|██████████| 64/64 [00:01<00:00, 54.15it/s]\n",
            "  9%|▉         | 6/64 [00:00<00:01, 53.80it/s]"
          ],
          "name": "stderr"
        },
        {
          "output_type": "stream",
          "text": [
            "Epoch 29\n"
          ],
          "name": "stdout"
        },
        {
          "output_type": "stream",
          "text": [
            "100%|██████████| 64/64 [00:01<00:00, 54.01it/s]\n",
            "  9%|▉         | 6/64 [00:00<00:01, 55.08it/s]"
          ],
          "name": "stderr"
        },
        {
          "output_type": "stream",
          "text": [
            "Epoch 30\n"
          ],
          "name": "stdout"
        },
        {
          "output_type": "stream",
          "text": [
            "100%|██████████| 64/64 [00:01<00:00, 53.98it/s]\n",
            "  9%|▉         | 6/64 [00:00<00:01, 54.42it/s]"
          ],
          "name": "stderr"
        },
        {
          "output_type": "stream",
          "text": [
            "Epoch 31\n"
          ],
          "name": "stdout"
        },
        {
          "output_type": "stream",
          "text": [
            "100%|██████████| 64/64 [00:01<00:00, 53.86it/s]\n",
            "  9%|▉         | 6/64 [00:00<00:01, 55.23it/s]"
          ],
          "name": "stderr"
        },
        {
          "output_type": "stream",
          "text": [
            "Epoch 32\n"
          ],
          "name": "stdout"
        },
        {
          "output_type": "stream",
          "text": [
            "100%|██████████| 64/64 [00:01<00:00, 54.61it/s]\n",
            "  9%|▉         | 6/64 [00:00<00:01, 54.16it/s]"
          ],
          "name": "stderr"
        },
        {
          "output_type": "stream",
          "text": [
            "Epoch 33\n"
          ],
          "name": "stdout"
        },
        {
          "output_type": "stream",
          "text": [
            "100%|██████████| 64/64 [00:01<00:00, 54.08it/s]\n",
            "  9%|▉         | 6/64 [00:00<00:01, 55.35it/s]"
          ],
          "name": "stderr"
        },
        {
          "output_type": "stream",
          "text": [
            "Epoch 34\n"
          ],
          "name": "stdout"
        },
        {
          "output_type": "stream",
          "text": [
            "100%|██████████| 64/64 [00:01<00:00, 54.87it/s]\n",
            "  9%|▉         | 6/64 [00:00<00:01, 52.52it/s]"
          ],
          "name": "stderr"
        },
        {
          "output_type": "stream",
          "text": [
            "Epoch 35\n"
          ],
          "name": "stdout"
        },
        {
          "output_type": "stream",
          "text": [
            "100%|██████████| 64/64 [00:01<00:00, 53.62it/s]\n",
            "  9%|▉         | 6/64 [00:00<00:01, 55.29it/s]"
          ],
          "name": "stderr"
        },
        {
          "output_type": "stream",
          "text": [
            "Epoch 36\n"
          ],
          "name": "stdout"
        },
        {
          "output_type": "stream",
          "text": [
            "100%|██████████| 64/64 [00:01<00:00, 54.16it/s]\n",
            "  9%|▉         | 6/64 [00:00<00:01, 56.47it/s]"
          ],
          "name": "stderr"
        },
        {
          "output_type": "stream",
          "text": [
            "Epoch 37\n"
          ],
          "name": "stdout"
        },
        {
          "output_type": "stream",
          "text": [
            "100%|██████████| 64/64 [00:01<00:00, 53.20it/s]\n",
            "  9%|▉         | 6/64 [00:00<00:01, 52.37it/s]"
          ],
          "name": "stderr"
        },
        {
          "output_type": "stream",
          "text": [
            "Epoch 38\n"
          ],
          "name": "stdout"
        },
        {
          "output_type": "stream",
          "text": [
            "100%|██████████| 64/64 [00:01<00:00, 53.95it/s]\n",
            "  9%|▉         | 6/64 [00:00<00:01, 55.21it/s]"
          ],
          "name": "stderr"
        },
        {
          "output_type": "stream",
          "text": [
            "Epoch 39\n"
          ],
          "name": "stdout"
        },
        {
          "output_type": "stream",
          "text": [
            "100%|██████████| 64/64 [00:01<00:00, 53.93it/s]\n",
            "  9%|▉         | 6/64 [00:00<00:01, 55.11it/s]"
          ],
          "name": "stderr"
        },
        {
          "output_type": "stream",
          "text": [
            "Epoch 40\n"
          ],
          "name": "stdout"
        },
        {
          "output_type": "stream",
          "text": [
            "100%|██████████| 64/64 [00:01<00:00, 54.01it/s]\n",
            "  9%|▉         | 6/64 [00:00<00:01, 54.95it/s]"
          ],
          "name": "stderr"
        },
        {
          "output_type": "stream",
          "text": [
            "Epoch 41\n"
          ],
          "name": "stdout"
        },
        {
          "output_type": "stream",
          "text": [
            "100%|██████████| 64/64 [00:01<00:00, 54.22it/s]\n",
            "  9%|▉         | 6/64 [00:00<00:01, 55.95it/s]"
          ],
          "name": "stderr"
        },
        {
          "output_type": "stream",
          "text": [
            "Epoch 42\n"
          ],
          "name": "stdout"
        },
        {
          "output_type": "stream",
          "text": [
            "100%|██████████| 64/64 [00:01<00:00, 54.19it/s]\n",
            "  9%|▉         | 6/64 [00:00<00:01, 51.15it/s]"
          ],
          "name": "stderr"
        },
        {
          "output_type": "stream",
          "text": [
            "Epoch 43\n"
          ],
          "name": "stdout"
        },
        {
          "output_type": "stream",
          "text": [
            "100%|██████████| 64/64 [00:01<00:00, 53.92it/s]\n",
            "  9%|▉         | 6/64 [00:00<00:01, 52.99it/s]"
          ],
          "name": "stderr"
        },
        {
          "output_type": "stream",
          "text": [
            "Epoch 44\n"
          ],
          "name": "stdout"
        },
        {
          "output_type": "stream",
          "text": [
            "100%|██████████| 64/64 [00:01<00:00, 53.13it/s]\n",
            "  9%|▉         | 6/64 [00:00<00:01, 51.66it/s]"
          ],
          "name": "stderr"
        },
        {
          "output_type": "stream",
          "text": [
            "Epoch 45\n"
          ],
          "name": "stdout"
        },
        {
          "output_type": "stream",
          "text": [
            "100%|██████████| 64/64 [00:01<00:00, 53.76it/s]\n",
            "  9%|▉         | 6/64 [00:00<00:01, 51.87it/s]"
          ],
          "name": "stderr"
        },
        {
          "output_type": "stream",
          "text": [
            "Epoch 46\n"
          ],
          "name": "stdout"
        },
        {
          "output_type": "stream",
          "text": [
            "100%|██████████| 64/64 [00:01<00:00, 53.96it/s]\n",
            "  8%|▊         | 5/64 [00:00<00:01, 48.82it/s]"
          ],
          "name": "stderr"
        },
        {
          "output_type": "stream",
          "text": [
            "Epoch 47\n"
          ],
          "name": "stdout"
        },
        {
          "output_type": "stream",
          "text": [
            "100%|██████████| 64/64 [00:01<00:00, 53.99it/s]\n",
            "  9%|▉         | 6/64 [00:00<00:01, 54.19it/s]"
          ],
          "name": "stderr"
        },
        {
          "output_type": "stream",
          "text": [
            "Epoch 48\n"
          ],
          "name": "stdout"
        },
        {
          "output_type": "stream",
          "text": [
            "100%|██████████| 64/64 [00:01<00:00, 54.02it/s]\n",
            "  9%|▉         | 6/64 [00:00<00:01, 55.24it/s]"
          ],
          "name": "stderr"
        },
        {
          "output_type": "stream",
          "text": [
            "Epoch 49\n"
          ],
          "name": "stdout"
        },
        {
          "output_type": "stream",
          "text": [
            "100%|██████████| 64/64 [00:01<00:00, 53.84it/s]\n",
            "  9%|▉         | 6/64 [00:00<00:01, 54.95it/s]"
          ],
          "name": "stderr"
        },
        {
          "output_type": "stream",
          "text": [
            "Epoch 50\n"
          ],
          "name": "stdout"
        },
        {
          "output_type": "stream",
          "text": [
            "100%|██████████| 64/64 [00:01<00:00, 53.94it/s]\n"
          ],
          "name": "stderr"
        }
      ]
    },
    {
      "cell_type": "code",
      "metadata": {
        "id": "X9uV0y59a4iZ",
        "colab_type": "code",
        "outputId": "1673233c-991c-4f69-9c16-5c0fd9938e71",
        "colab": {
          "base_uri": "https://localhost:8080/",
          "height": 90
        }
      },
      "source": [
        "#Pick the sample images\n",
        "sample = np.empty(shape=10).astype('uint8')\n",
        "for i in range(0,10):\n",
        "  sample[i] = np.where(y_train==i)[0][5]\n",
        "\n",
        "image_batch = X_train[sample]\n",
        "plot_sample( image_batch )\n"
      ],
      "execution_count": 77,
      "outputs": [
        {
          "output_type": "display_data",
          "data": {
            "image/png": "[encoded data removed]",
            "text/plain": [
              "<PIL.Image.Image image mode=P size=560x56 at 0x7FAF5A8185C0>"
            ]
          },
          "metadata": {
            "tags": []
          }
        },
        {
          "output_type": "execute_result",
          "data": {
            "text/plain": [
              "<DisplayHandle display_id=0e42cb95fd1f80544bdc74350fd1ac84>"
            ]
          },
          "metadata": {
            "tags": []
          },
          "execution_count": 77
        }
      ]
    },
    {
      "cell_type": "code",
      "metadata": {
        "id": "u11Kw8VdTmpC",
        "colab_type": "code",
        "colab": {
          "base_uri": "https://localhost:8080/",
          "height": 90
        },
        "outputId": "2d806203-a723-4f8d-c680-ec949206c347"
      },
      "source": [
        "plot_sample( X_gan[0:20,:] )"
      ],
      "execution_count": 78,
      "outputs": [
        {
          "output_type": "display_data",
          "data": {
            "image/png": "[encoded data removed]",
            "text/plain": [
              "<PIL.Image.Image image mode=P size=1120x56 at 0x7FAF5A818978>"
            ]
          },
          "metadata": {
            "tags": []
          }
        },
        {
          "output_type": "execute_result",
          "data": {
            "text/plain": [
              "<DisplayHandle display_id=c730f2bae5e3d3118cdd2b80d5049db5>"
            ]
          },
          "metadata": {
            "tags": []
          },
          "execution_count": 78
        }
      ]
    },
    {
      "cell_type": "code",
      "metadata": {
        "id": "RLjHW0pMVcWX",
        "colab_type": "code",
        "colab": {
          "base_uri": "https://localhost:8080/",
          "height": 102
        },
        "outputId": "5dbb964c-1228-423c-ec14-0cd67dbe6146"
      },
      "source": [
        "y_gan"
      ],
      "execution_count": 79,
      "outputs": [
        {
          "output_type": "execute_result",
          "data": {
            "text/plain": [
              "array([1., 1., 1., 1., 1., 1., 1., 1., 1., 1., 0., 0., 0., 0., 0., 0., 0.,\n",
              "       0., 0., 0., 0., 0., 0., 0., 0., 0., 0., 0., 0., 0., 0., 0., 0., 0.,\n",
              "       0., 0., 0., 0., 0., 0., 0., 0., 0., 0., 0., 0., 0., 0., 0., 0., 0.,\n",
              "       0., 0., 0., 0., 0., 0., 0., 0., 0., 0., 0., 0., 0., 0., 0., 0., 0.,\n",
              "       0., 0., 0., 0., 0., 0.], dtype=float32)"
            ]
          },
          "metadata": {
            "tags": []
          },
          "execution_count": 79
        }
      ]
    }
  ]
}