{
  "nbformat": 4,
  "nbformat_minor": 0,
  "metadata": {
    "colab": {
      "name": "ANNwithOpenCVonMNIST.ipynb",
      "provenance": [],
      "authorship_tag": "ABX9TyNkou+Yrg6I8uamES2AoGNW",
      "include_colab_link": true
    },
    "kernelspec": {
      "name": "python3",
      "display_name": "Python 3"
    },
    "language_info": {
      "name": "python"
    },
    "accelerator": "GPU"
  },
  "cells": [
    {
      "cell_type": "markdown",
      "metadata": {
        "id": "view-in-github",
        "colab_type": "text"
      },
      "source": [
        "<a href=\"https://colab.research.google.com/github/jchen8000/MachineLearning/blob/master/8%20Artificial%20Neural%20Network/ANNwithOpenCVonMNIST.ipynb\" target=\"_parent\"><img src=\"https://colab.research.google.com/assets/colab-badge.svg\" alt=\"Open In Colab\"/></a>"
      ]
    },
    {
      "cell_type": "markdown",
      "metadata": {
        "id": "dpKv5W41pw5L"
      },
      "source": [
        "# Artificial Neural Networks - Multi-Layer Perceptrons with OpenCV\n",
        "# with MNIST Handwritting Digits\n",
        "\n",
        "OpenCV provides the artificial neural networks (ANN-MLP), which is very similar to that of Keras."
      ]
    },
    {
      "cell_type": "markdown",
      "metadata": {
        "id": "mmVeLfsDqZHc"
      },
      "source": [
        "https://www.secn.net/article/684929  opencv(python)使用ann神经网络识别手写数字\n",
        "\n",
        "\n",
        "https://medium.com/@prtk13061992/mnist-dataset-using-deep-learning-algorithm-ann-c6f83aa594f5"
      ]
    },
    {
      "cell_type": "code",
      "metadata": {
        "id": "_ObBizbupqn9"
      },
      "source": [
        "from keras.datasets import mnist\n",
        "from keras import utils\n",
        "import numpy as np\n",
        "import matplotlib.pyplot as plt\n",
        "import cv2\n",
        "from datetime import datetime\n",
        "from sklearn.metrics import accuracy_score\n",
        "from sklearn.metrics import confusion_matrix\n",
        "from sklearn.metrics import classification_report"
      ],
      "execution_count": 1,
      "outputs": []
    },
    {
      "cell_type": "code",
      "metadata": {
        "id": "fDKSPQV-qsfi"
      },
      "source": [
        "def show_random_digits(X, Y, row, col):\n",
        "    print(\"The true label is shown in green.\")\n",
        "    _, axarr = plt.subplots(row, col, figsize=(6, 6))\n",
        "    for i in range(row):\n",
        "        filter = np.where((Y == i))\n",
        "        X1, Y1 = X[filter], Y[filter]\n",
        "        for j in range(col):\n",
        "            index = np.random.randint(X1.shape[0])\n",
        "            axarr[i, j].imshow(X1[index], cmap=\"binary\")\n",
        "            axarr[i, j].axis('off')\n",
        "            axarr[i, j].text(0.5, 1, str(Y1[index]), fontsize=12, c='g')\n",
        "    plt.show()"
      ],
      "execution_count": 2,
      "outputs": []
    },
    {
      "cell_type": "code",
      "metadata": {
        "id": "uiGASjGnqtUn"
      },
      "source": [
        "def show_random_result(X, Y, row, col, pred):\n",
        "    print(\"The true label is shown in green, and the predicted value is shown within [] in red.\")\n",
        "    _, axarr = plt.subplots(row, col, figsize=(6, 6))\n",
        "    for i in range(row):\n",
        "        for j in range(col):\n",
        "            index = np.random.randint(X.shape[0])\n",
        "            axarr[i, j].imshow(X[index], cmap=\"binary\")\n",
        "            axarr[i, j].axis('off')\n",
        "            axarr[i, j].text(0.5, 1, str(Y[index]), fontsize=12, c='g')\n",
        "            axarr[i, j].text(10,  1, str(pred[index]), fontsize=12, c='r')\n",
        "    plt.show()"
      ],
      "execution_count": 3,
      "outputs": []
    },
    {
      "cell_type": "code",
      "metadata": {
        "id": "yZ75Tvhjt_nh"
      },
      "source": [
        "def create_ANN(layers):\n",
        "    ann=cv2.ml.ANN_MLP_create()\n",
        "    #设置神经网络层的结构 输入层为784 隐藏层为80 输出层为10\n",
        "    ann.setLayerSizes(np.array(layers))\n",
        "    #设置网络参数为误差反向传播法\n",
        "    ann.setTrainMethod(cv2.ml.ANN_MLP_BACKPROP)\n",
        "    #设置激活函数为sigmoid\n",
        "    ann.setActivationFunction(cv2.ml.ANN_MLP_SIGMOID_SYM)\n",
        "    #设置训练迭代条件\n",
        "    #结束条件为训练30次或者误差小于0.00001\n",
        "    ann.setTermCriteria((cv2.TermCriteria_EPS|cv2.TermCriteria_COUNT,100,0.0001))\n",
        "    return ann"
      ],
      "execution_count": 4,
      "outputs": []
    },
    {
      "cell_type": "code",
      "metadata": {
        "id": "xWwA232QuH83"
      },
      "source": [
        "#计算测试数据上的识别率\n",
        "def evaluate_acc(ann,test_images,test_labels):\n",
        "    #采用的sigmoid激活函数，需要对结果进行置信度处理\n",
        "    #对于大于0.99的可以确定为1 对于小于0.01的可以确信为0\n",
        "    test_ret=ann.predict(test_images)\n",
        "    #预测结果是一个元组\n",
        "    test_pre=test_ret[1]\n",
        "    #可以直接最大值的下标 (10000,)\n",
        "    test_pre=test_pre.argmax(axis=1)\n",
        "    true_sum=(test_pre==test_labels)\n",
        "    return true_sum.mean()"
      ],
      "execution_count": 27,
      "outputs": []
    },
    {
      "cell_type": "markdown",
      "metadata": {
        "id": "nb0eHXoPq002"
      },
      "source": [
        "## Load MNIST Dataset"
      ]
    },
    {
      "cell_type": "code",
      "metadata": {
        "colab": {
          "base_uri": "https://localhost:8080/",
          "height": 452
        },
        "id": "HId-ystGq5A_",
        "outputId": "00bd9a0f-2444-4b58-de91-95a48ef914e1"
      },
      "source": [
        "(X_train, y_train), (X_test, y_test) = mnist.load_data()\n",
        "print('X_train: ' + str(X_train.shape))\n",
        "print('y_train: ' + str(y_train.shape))\n",
        "print('X_test:  ' + str(X_test.shape))\n",
        "print('y_test:  ' + str(y_test.shape))\n",
        "show_random_digits(X_train, y_train, 10, 10)"
      ],
      "execution_count": 5,
      "outputs": [
        {
          "output_type": "stream",
          "text": [
            "X_train: (60000, 28, 28)\n",
            "y_train: (60000,)\n",
            "X_test:  (10000, 28, 28)\n",
            "y_test:  (10000,)\n",
            "The true label is shown in green.\n"
          ],
          "name": "stdout"
        },
        {
          "output_type": "display_data",
          "data": {
            "image/png": "[encoded data removed]",
            "text/plain": [
              "<Figure size 432x432 with 100 Axes>"
            ]
          },
          "metadata": {
            "tags": [],
            "needs_background": "light"
          }
        }
      ]
    },
    {
      "cell_type": "code",
      "metadata": {
        "colab": {
          "base_uri": "https://localhost:8080/"
        },
        "id": "5jKR7rD8q-yZ",
        "outputId": "b60ccb6d-23df-485e-a482-86e35304694a"
      },
      "source": [
        "w, h = X_test[0,:,:].shape\n",
        "X_train = X_train.reshape(X_train.shape[0], w * h).astype(np.float32)\n",
        "X_test  = X_test.reshape(  X_test.shape[0], w * h).astype(np.float32)\n",
        "X_train = X_train / 255\n",
        "X_test  = X_test / 255\n",
        "y_train_onehot = utils.to_categorical(y_train)\n",
        "y_train_onehot = np.float32(y_train_onehot)\n",
        "y_test  = np.uint(y_test)\n",
        "print('X_train: ' + str(X_train.shape))\n",
        "print('y_train: ' + str(y_train.shape))\n",
        "print('X_test:  ' + str(X_test.shape))\n",
        "print('y_test:  ' + str(y_test.shape))\n",
        "print('y_train_onehot:  ' + str(y_train_onehot.shape))"
      ],
      "execution_count": 6,
      "outputs": [
        {
          "output_type": "stream",
          "text": [
            "X_train: (60000, 784)\n",
            "y_train: (60000,)\n",
            "X_test:  (10000, 784)\n",
            "y_test:  (10000,)\n",
            "y_train_onehot:  (60000, 10)\n"
          ],
          "name": "stdout"
        }
      ]
    },
    {
      "cell_type": "code",
      "metadata": {
        "id": "0w5N8rnhutg1",
        "colab": {
          "base_uri": "https://localhost:8080/"
        },
        "outputId": "3d8674f5-6e4d-415e-dbac-6e3df7c1b662"
      },
      "source": [
        "#定义神经网络模型结构\n",
        "ann=create_ANN([784,128,10])\n",
        "#开始训练\n",
        "ann.train(X_train, cv2.ml.ROW_SAMPLE, y_train_onehot)\n"
      ],
      "execution_count": 7,
      "outputs": [
        {
          "output_type": "execute_result",
          "data": {
            "text/plain": [
              "True"
            ]
          },
          "metadata": {
            "tags": []
          },
          "execution_count": 7
        }
      ]
    },
    {
      "cell_type": "code",
      "metadata": {
        "id": "J7oqQwXcBN3c"
      },
      "source": [
        "#保存模型\n",
        "ann.save('mnist_ann_784_128_10.xml')\n"
      ],
      "execution_count": 8,
      "outputs": []
    },
    {
      "cell_type": "code",
      "metadata": {
        "id": "NHCi7JTBISaj",
        "outputId": "957c897b-60eb-4377-f662-84fc6612895f",
        "colab": {
          "base_uri": "https://localhost:8080/"
        }
      },
      "source": [
        "# mount it\n",
        "from google.colab import drive\n",
        "drive.mount('/content/drive')"
      ],
      "execution_count": 14,
      "outputs": [
        {
          "output_type": "stream",
          "text": [
            "Mounted at /content/drive\n"
          ],
          "name": "stdout"
        }
      ]
    },
    {
      "cell_type": "code",
      "metadata": {
        "id": "05vDLDOjKNyf",
        "outputId": "0ab1ae3a-6bcb-4967-bac8-0fc10fa64d33",
        "colab": {
          "base_uri": "https://localhost:8080/"
        }
      },
      "source": [
        "!ls -l"
      ],
      "execution_count": 9,
      "outputs": [
        {
          "output_type": "stream",
          "text": [
            "total 4280\n",
            "drwx------ 5 root root    4096 Apr 26 00:30 drive\n",
            "-rw-r--r-- 1 root root  247465 Apr 26 00:27 mnist_ann_784_10.xml\n",
            "-rw-r--r-- 1 root root 2735786 Apr 26 00:54 mnist_ann_784_128_10.xml\n",
            "-rw-r--r-- 1 root root 1387892 Apr 26 00:43 mnist_ann_784_64_10.xml\n",
            "drwxr-xr-x 1 root root    4096 Apr 21 13:39 sample_data\n"
          ],
          "name": "stdout"
        }
      ]
    },
    {
      "cell_type": "code",
      "metadata": {
        "id": "uNjdcb0dJcSm",
        "outputId": "1f418f4a-1e63-4deb-8191-7b57365da6fe",
        "colab": {
          "base_uri": "https://localhost:8080/"
        }
      },
      "source": [
        "!ls\n",
        "!cp mnist_ann_784_128_10.xml drive/MyDrive/'Colab Notebooks'\n",
        "!ls drive/MyDrive/'Colab Notebooks'"
      ],
      "execution_count": 10,
      "outputs": [
        {
          "output_type": "stream",
          "text": [
            "drive\t\t      mnist_ann_784_128_10.xml\tsample_data\n",
            "mnist_ann_784_10.xml  mnist_ann_784_64_10.xml\n",
            " ANNwithOpenCVonMNIST.ipynb\t        mnist_ann_784_10.xml\n",
            " auxiliary_classifier_GAN.ipynb         mnist_ann_784_128_10.xml\n",
            "'bidirectional GAN.ipynb'\t        mnist_ann_784_256_10.xml\n",
            " boundary-seeking_GAN.ipynb\t        mnist_ann_784_64_10.xml\n",
            " conditional_GAN.ipynb\t\t        OpenCV_Basics.ipynb\n",
            " context_encoders.ipynb\t\t        stock_chart.ipynb\n",
            " coupled_GAN.ipynb\t\t        stock_intraday.ipynb\n",
            "'Face Recognition with OpenCV.ipynb'    SVMwithOpenCVonMNIST.ipynb\n",
            " generative_adversarial_network.ipynb   Untitled0.ipynb\n",
            " K-NearestNeighborsWithOpenCV.ipynb     Untitled1.ipynb\n"
          ],
          "name": "stdout"
        }
      ]
    },
    {
      "cell_type": "code",
      "metadata": {
        "id": "AMAXvn84BQDE"
      },
      "source": [
        "#加载模型\n",
        "myann=cv2.ml.ANN_MLP_load('mnist_ann.xml')"
      ],
      "execution_count": null,
      "outputs": []
    },
    {
      "cell_type": "code",
      "metadata": {
        "id": "v04bi94oBydY"
      },
      "source": [
        "#采用的sigmoid激活函数，需要对结果进行置信度处理\n",
        "#对于大于0.99的可以确定为1 对于小于0.01的可以确信为0\n",
        "test_ret=ann.predict(X_test)\n",
        "#预测结果是一个元组\n",
        "test_pre=test_ret[1]\n",
        "\n"
      ],
      "execution_count": 11,
      "outputs": []
    },
    {
      "cell_type": "code",
      "metadata": {
        "colab": {
          "base_uri": "https://localhost:8080/"
        },
        "id": "AEkn2LwMB6Kl",
        "outputId": "da25a42d-0d04-4f93-cab9-cfbd431eaa0e"
      },
      "source": [
        "#可以直接最大值的下标 (10000,)\n",
        "predict=test_pre.argmax(axis=1)\n",
        "print(predict.shape)\n",
        "print(predict)\n",
        "print(\"Accuracy Score:\", accuracy_score(y_test, predict))\n",
        "print(\"\\nConfusion Matrix:\\n\", confusion_matrix(y_test, predict))\n",
        "print(\"\\nClassification Report:\\n\", classification_report(y_test, predict))"
      ],
      "execution_count": 12,
      "outputs": [
        {
          "output_type": "stream",
          "text": [
            "(10000,)\n",
            "[7 2 1 ... 4 5 6]\n",
            "Accuracy Score: 0.9217\n",
            "\n",
            "Confusion Matrix:\n",
            " [[ 960    1    1    1    1    3    8    2    3    0]\n",
            " [   5 1117    6    1    0    0    2    1    3    0]\n",
            " [  36    2  931    9    6    5    5   17   19    2]\n",
            " [  30    1   13  917    1   12    1   21   10    4]\n",
            " [  10    2    5    1  920    0   12    4    3   25]\n",
            " [  52    0    2   21    8  776    8    9   12    4]\n",
            " [  24    4    1    2    2   19  902    2    0    2]\n",
            " [  13   10   17    4    7    0    1  959    2   15]\n",
            " [  53    1    7   10   13   20    6   14  844    6]\n",
            " [  31    6    2    3   35    6    0   29    6  891]]\n",
            "\n",
            "Classification Report:\n",
            "               precision    recall  f1-score   support\n",
            "\n",
            "           0       0.79      0.98      0.88       980\n",
            "           1       0.98      0.98      0.98      1135\n",
            "           2       0.95      0.90      0.92      1032\n",
            "           3       0.95      0.91      0.93      1010\n",
            "           4       0.93      0.94      0.93       982\n",
            "           5       0.92      0.87      0.90       892\n",
            "           6       0.95      0.94      0.95       958\n",
            "           7       0.91      0.93      0.92      1028\n",
            "           8       0.94      0.87      0.90       974\n",
            "           9       0.94      0.88      0.91      1009\n",
            "\n",
            "    accuracy                           0.92     10000\n",
            "   macro avg       0.92      0.92      0.92     10000\n",
            "weighted avg       0.93      0.92      0.92     10000\n",
            "\n"
          ],
          "name": "stdout"
        }
      ]
    }
  ]
}