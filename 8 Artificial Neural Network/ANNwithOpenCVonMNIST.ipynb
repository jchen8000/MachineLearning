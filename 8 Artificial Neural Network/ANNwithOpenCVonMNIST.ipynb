{
  "nbformat": 4,
  "nbformat_minor": 0,
  "metadata": {
    "colab": {
      "name": "ANNwithOpenCVonMNIST.ipynb",
      "provenance": [],
      "authorship_tag": "ABX9TyOmUBE4EyLNmzM+0Yru69nL",
      "include_colab_link": true
    },
    "kernelspec": {
      "name": "python3",
      "display_name": "Python 3"
    },
    "language_info": {
      "name": "python"
    }
  },
  "cells": [
    {
      "cell_type": "markdown",
      "metadata": {
        "id": "view-in-github",
        "colab_type": "text"
      },
      "source": [
        "<a href=\"https://colab.research.google.com/github/jchen8000/MachineLearning/blob/master/8%20Artificial%20Neural%20Network/ANNwithOpenCVonMNIST.ipynb\" target=\"_parent\"><img src=\"https://colab.research.google.com/assets/colab-badge.svg\" alt=\"Open In Colab\"/></a>"
      ]
    },
    {
      "cell_type": "markdown",
      "metadata": {
        "id": "dpKv5W41pw5L"
      },
      "source": [
        "# Artificial Neural Networks - Multi-Layer Perceptrons with OpenCV\n",
        "# with MNIST Handwritting Digits\n",
        "\n",
        "OpenCV provides the artificial neural networks (ANN-MLP), which is very similar to that of Keras."
      ]
    },
    {
      "cell_type": "markdown",
      "metadata": {
        "id": "mmVeLfsDqZHc"
      },
      "source": [
        "https://www.secn.net/article/684929  opencv(python)使用ann神经网络识别手写数字\n",
        "\n",
        "\n",
        "https://medium.com/@prtk13061992/mnist-dataset-using-deep-learning-algorithm-ann-c6f83aa594f5"
      ]
    },
    {
      "cell_type": "code",
      "metadata": {
        "id": "_ObBizbupqn9"
      },
      "source": [
        "from keras.datasets import mnist\n",
        "from keras import utils\n",
        "import numpy as np\n",
        "import matplotlib.pyplot as plt\n",
        "import cv2\n",
        "from datetime import datetime\n",
        "from sklearn.metrics import accuracy_score\n",
        "from sklearn.metrics import confusion_matrix\n",
        "from sklearn.metrics import classification_report"
      ],
      "execution_count": 1,
      "outputs": []
    },
    {
      "cell_type": "code",
      "metadata": {
        "id": "fDKSPQV-qsfi"
      },
      "source": [
        "def show_random_digits(X, Y, row, col):\n",
        "    print(\"The true label is shown in green.\")\n",
        "    _, axarr = plt.subplots(row, col, figsize=(6, 6))\n",
        "    for i in range(row):\n",
        "        filter = np.where((Y == i))\n",
        "        X1, Y1 = X[filter], Y[filter]\n",
        "        for j in range(col):\n",
        "            index = np.random.randint(X1.shape[0])\n",
        "            axarr[i, j].imshow(X1[index], cmap=\"binary\")\n",
        "            axarr[i, j].axis('off')\n",
        "            axarr[i, j].text(0.5, 1, str(Y1[index]), fontsize=12, c='g')\n",
        "    plt.show()"
      ],
      "execution_count": 2,
      "outputs": []
    },
    {
      "cell_type": "code",
      "metadata": {
        "id": "uiGASjGnqtUn"
      },
      "source": [
        "def show_random_result(X, Y, row, col, pred):\n",
        "    print(\"The true label is shown in green, and the predicted value is shown within [] in red.\")\n",
        "    _, axarr = plt.subplots(row, col, figsize=(6, 6))\n",
        "    for i in range(row):\n",
        "        for j in range(col):\n",
        "            index = np.random.randint(X.shape[0])\n",
        "            axarr[i, j].imshow(X[index], cmap=\"binary\")\n",
        "            axarr[i, j].axis('off')\n",
        "            axarr[i, j].text(0.5, 1, str(Y[index]), fontsize=12, c='g')\n",
        "            axarr[i, j].text(10,  1, str(pred[index]), fontsize=12, c='r')\n",
        "    plt.show()"
      ],
      "execution_count": 3,
      "outputs": []
    },
    {
      "cell_type": "code",
      "metadata": {
        "id": "yZ75Tvhjt_nh"
      },
      "source": [
        "def create_ANN():\n",
        "    ann=cv2.ml.ANN_MLP_create()\n",
        "    #设置神经网络层的结构 输入层为784 隐藏层为80 输出层为10\n",
        "    ann.setLayerSizes(np.array([784,64,10]))\n",
        "    #设置网络参数为误差反向传播法\n",
        "    ann.setTrainMethod(cv2.ml.ANN_MLP_BACKPROP)\n",
        "    #设置激活函数为sigmoid\n",
        "    ann.setActivationFunction(cv2.ml.ANN_MLP_SIGMOID_SYM)\n",
        "    #设置训练迭代条件\n",
        "    #结束条件为训练30次或者误差小于0.00001\n",
        "    ann.setTermCriteria((cv2.TermCriteria_EPS|cv2.TermCriteria_COUNT,100,0.0001))\n",
        "    return ann"
      ],
      "execution_count": null,
      "outputs": []
    },
    {
      "cell_type": "code",
      "metadata": {
        "id": "xWwA232QuH83"
      },
      "source": [
        "#计算测试数据上的识别率\n",
        "def evaluate_acc(ann,test_images,test_labels):\n",
        "    #采用的sigmoid激活函数，需要对结果进行置信度处理\n",
        "    #对于大于0.99的可以确定为1 对于小于0.01的可以确信为0\n",
        "    test_ret=ann.predict(test_images)\n",
        "    #预测结果是一个元组\n",
        "    test_pre=test_ret[1]\n",
        "    #可以直接最大值的下标 (10000,)\n",
        "    test_pre=test_pre.argmax(axis=1)\n",
        "    true_sum=(test_pre==test_labels)\n",
        "    return true_sum.mean()"
      ],
      "execution_count": null,
      "outputs": []
    },
    {
      "cell_type": "markdown",
      "metadata": {
        "id": "nb0eHXoPq002"
      },
      "source": [
        "## Load MNIST Dataset"
      ]
    },
    {
      "cell_type": "code",
      "metadata": {
        "colab": {
          "base_uri": "https://localhost:8080/",
          "height": 486
        },
        "id": "HId-ystGq5A_",
        "outputId": "294f5e0f-2d92-4556-dfb9-3dedc2e5f2fe"
      },
      "source": [
        "(X_train, y_train), (X_test, y_test) = mnist.load_data()\n",
        "print('X_train: ' + str(X_train.shape))\n",
        "print('y_train: ' + str(y_train.shape))\n",
        "print('X_test:  ' + str(X_test.shape))\n",
        "print('y_test:  ' + str(y_test.shape))\n",
        "show_random_digits(X_train, y_train, 10, 10)"
      ],
      "execution_count": 4,
      "outputs": [
        {
          "output_type": "stream",
          "text": [
            "Downloading data from https://storage.googleapis.com/tensorflow/tf-keras-datasets/mnist.npz\n",
            "11493376/11490434 [==============================] - 0s 0us/step\n",
            "X_train: (60000, 28, 28)\n",
            "y_train: (60000,)\n",
            "X_test:  (10000, 28, 28)\n",
            "y_test:  (10000,)\n",
            "The true label is shown in green.\n"
          ],
          "name": "stdout"
        },
        {
          "output_type": "display_data",
          "data": {
            "image/png": "[encoded data removed]",
            "text/plain": [
              "<Figure size 432x432 with 100 Axes>"
            ]
          },
          "metadata": {
            "tags": [],
            "needs_background": "light"
          }
        }
      ]
    },
    {
      "cell_type": "code",
      "metadata": {
        "colab": {
          "base_uri": "https://localhost:8080/"
        },
        "id": "5jKR7rD8q-yZ",
        "outputId": "ae96b303-3b79-45de-c2d1-5ffa0ae538b9"
      },
      "source": [
        "w, h = X_test[0,:,:].shape\n",
        "X_train = X_train.reshape(X_train.shape[0], w * h).astype(np.float32)\n",
        "X_test  = X_test.reshape(  X_test.shape[0], w * h).astype(np.float32)\n",
        "X_train = X_train / 255\n",
        "X_test  = X_test / 255\n",
        "y_train_onehot = utils.to_categorical(y_train)\n",
        "y_train_onehot = np.float32(y_train_onehot)\n",
        "y_test  = np.uint(y_test)\n",
        "print('X_train: ' + str(X_train.shape))\n",
        "print('y_train: ' + str(y_train.shape))\n",
        "print('X_test:  ' + str(X_test.shape))\n",
        "print('y_test:  ' + str(y_test.shape))\n",
        "print('y_train_onehot:  ' + str(y_train_onehot.shape))"
      ],
      "execution_count": null,
      "outputs": [
        {
          "output_type": "stream",
          "text": [
            "X_train: (60000, 784)\n",
            "y_train: (60000,)\n",
            "X_test:  (10000, 784)\n",
            "y_test:  (10000,)\n"
          ],
          "name": "stdout"
        }
      ]
    },
    {
      "cell_type": "code",
      "metadata": {
        "id": "Ym5nLC4n-HKH",
        "outputId": "47323ce2-ca56-43f9-be63-0ce793e1de28",
        "colab": {
          "base_uri": "https://localhost:8080/"
        }
      },
      "source": [
        "print(y_train[0:10])\n",
        "print(train_y_train_onehotlabels[0:10])"
      ],
      "execution_count": 7,
      "outputs": [
        {
          "output_type": "stream",
          "text": [
            "[[0. 0. 0. 0. 0. 1. 0. 0. 0. 0.]\n",
            " [1. 0. 0. 0. 0. 0. 0. 0. 0. 0.]\n",
            " [0. 0. 0. 0. 1. 0. 0. 0. 0. 0.]\n",
            " [0. 1. 0. 0. 0. 0. 0. 0. 0. 0.]\n",
            " [0. 0. 0. 0. 0. 0. 0. 0. 0. 1.]\n",
            " [0. 0. 1. 0. 0. 0. 0. 0. 0. 0.]\n",
            " [0. 1. 0. 0. 0. 0. 0. 0. 0. 0.]\n",
            " [0. 0. 0. 1. 0. 0. 0. 0. 0. 0.]\n",
            " [0. 1. 0. 0. 0. 0. 0. 0. 0. 0.]\n",
            " [0. 0. 0. 0. 1. 0. 0. 0. 0. 0.]]\n",
            "[5 0 4 1 9 2 1 3 1 4]\n"
          ],
          "name": "stdout"
        }
      ]
    },
    {
      "cell_type": "code",
      "metadata": {
        "id": "NQVekII_uXRw"
      },
      "source": [
        "#变换数据的形状并归一化\n",
        "train_images=train_images.reshape(train_images.shape[0],-1)#(60000, 784)\n",
        "train_images=train_images.astype('float32')/255\n",
        "test_images=test_images.reshape(test_images.shape[0],-1)\n",
        "test_images=test_images.astype('float32')/255\n",
        "#将标签变为one-hot形状 (60000, 10) float32\n",
        "train_labels=utils.to_categorical(train_labels)\n",
        "#测试数据标签不用变为one-hot (10000,)\n",
        "test_labels=test_labels.astype(np.int)"
      ],
      "execution_count": null,
      "outputs": []
    },
    {
      "cell_type": "code",
      "metadata": {
        "id": "0w5N8rnhutg1"
      },
      "source": [
        "#定义神经网络模型结构\n",
        "ann=create_ANN()\n",
        "#开始训练\n",
        "ann.train(X_train, cv2.ml.ROW_SAMPLE, y_train_onehot)\n"
      ],
      "execution_count": null,
      "outputs": []
    },
    {
      "cell_type": "code",
      "metadata": {
        "id": "Qg88prp-BHKN"
      },
      "source": [
        "#在测试数据上测试准确率\n",
        "print(evaluate_acc(ann,test_images,test_labels))\n"
      ],
      "execution_count": null,
      "outputs": []
    },
    {
      "cell_type": "code",
      "metadata": {
        "id": "J7oqQwXcBN3c"
      },
      "source": [
        "#保存模型\n",
        "ann.save('mnist_ann.xml')\n"
      ],
      "execution_count": null,
      "outputs": []
    },
    {
      "cell_type": "code",
      "metadata": {
        "id": "AMAXvn84BQDE"
      },
      "source": [
        "#加载模型\n",
        "myann=cv2.ml.ANN_MLP_load('mnist_ann.xml')"
      ],
      "execution_count": null,
      "outputs": []
    },
    {
      "cell_type": "code",
      "metadata": {
        "id": "v04bi94oBydY"
      },
      "source": [
        "#采用的sigmoid激活函数，需要对结果进行置信度处理\n",
        "#对于大于0.99的可以确定为1 对于小于0.01的可以确信为0\n",
        "test_ret=ann.predict(test_images)\n",
        "#预测结果是一个元组\n",
        "test_pre=test_ret[1]\n",
        "\n"
      ],
      "execution_count": null,
      "outputs": []
    },
    {
      "cell_type": "code",
      "metadata": {
        "id": "AEkn2LwMB6Kl"
      },
      "source": [
        "#可以直接最大值的下标 (10000,)\n",
        "test_pre=test_pre.argmax(axis=1)\n",
        "true_sum=(test_pre==test_labels)"
      ],
      "execution_count": null,
      "outputs": []
    }
  ]
}