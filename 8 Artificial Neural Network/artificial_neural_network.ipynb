{
  "nbformat": 4,
  "nbformat_minor": 0,
  "metadata": {
    "colab": {
      "name": "ann.ipynb",
      "version": "0.3.2",
      "provenance": []
    },
    "language_info": {
      "codemirror_mode": {
        "name": "ipython",
        "version": 3
      },
      "file_extension": ".py",
      "mimetype": "text/x-python",
      "name": "python",
      "nbconvert_exporter": "python",
      "pygments_lexer": "ipython3",
      "version": "3.7.1"
    },
    "kernelspec": {
      "display_name": "Python 3",
      "language": "python",
      "name": "python3"
    },
    "accelerator": "TPU"
  },
  "cells": [
    {
      "cell_type": "markdown",
      "metadata": {
        "colab_type": "text",
        "id": "2MwVkDk443U9"
      },
      "source": [
        "# Artificial Neural Network\n",
        "\n",
        "\n",
        "***ABSTRACT***\n",
        "\n",
        "***This is a hands-on practice of building an Artificial Neural Network (ANN) with Keras/Tensorflow to train the Churn_Modelling Dataset. We load the dataset and pre-process the data with [Label Encoder/One-hot Encoder](https://medium.com/@contactsunny/label-encoder-vs-one-hot-encoder-in-machine-learning-3fc273365621), and then use StandardScaler to scale the data. We then build an Artificial Neural Network (ANN) with Keras library with two hidden layers, train it and evaluate the results.***"
      ]
    },
    {
      "cell_type": "markdown",
      "metadata": {
        "colab_type": "text",
        "id": "cG6XbGfF6mqc"
      },
      "source": [
        "## 1. Churn_Modelling Dataset\n",
        "\n",
        "The Churn Modelling dataset contains customers information of a bank with a flag that s/he exits from the bank within 6 months. We will build an ANN to learn from the dataset and predict if a customer will leave the bank or not\n"
      ]
    },
    {
      "cell_type": "markdown",
      "metadata": {
        "colab_type": "text",
        "id": "Nk0zkAdMG0vZ"
      },
      "source": [
        "### 1.1 Importing the dataset"
      ]
    },
    {
      "cell_type": "code",
      "metadata": {
        "colab_type": "code",
        "id": "d13XAkG76vho",
        "colab": {
          "base_uri": "https://localhost:8080/",
          "height": 204
        },
        "outputId": "b6cc2449-ed78-49ec-c6be-ebc1d357cdc1"
      },
      "source": [
        "import numpy as np\n",
        "import matplotlib.pyplot as plt\n",
        "import pandas as pd\n",
        "import warnings\n",
        "\n",
        "# Hide warnings\n",
        "warnings.filterwarnings('ignore')\n",
        "\n",
        "datafile = 'https://raw.githubusercontent.com/jchen8000/MachineLearning/master/Artificial%20Neural%20Network/data/Churn_Modelling.csv'\n",
        "dataset = pd.read_csv(datafile)\n",
        "dataset.head()"
      ],
      "execution_count": 1,
      "outputs": [
        {
          "output_type": "execute_result",
          "data": {
            "text/html": [
              "<div>\n",
              "<style scoped>\n",
              "    .dataframe tbody tr th:only-of-type {\n",
              "        vertical-align: middle;\n",
              "    }\n",
              "\n",
              "    .dataframe tbody tr th {\n",
              "        vertical-align: top;\n",
              "    }\n",
              "\n",
              "    .dataframe thead th {\n",
              "        text-align: right;\n",
              "    }\n",
              "</style>\n",
              "<table border=\"1\" class=\"dataframe\">\n",
              "  <thead>\n",
              "    <tr style=\"text-align: right;\">\n",
              "      <th></th>\n",
              "      <th>RowNumber</th>\n",
              "      <th>CustomerId</th>\n",
              "      <th>Surname</th>\n",
              "      <th>CreditScore</th>\n",
              "      <th>Geography</th>\n",
              "      <th>Gender</th>\n",
              "      <th>Age</th>\n",
              "      <th>Tenure</th>\n",
              "      <th>Balance</th>\n",
              "      <th>NumOfProducts</th>\n",
              "      <th>HasCrCard</th>\n",
              "      <th>IsActiveMember</th>\n",
              "      <th>EstimatedSalary</th>\n",
              "      <th>Exited</th>\n",
              "    </tr>\n",
              "  </thead>\n",
              "  <tbody>\n",
              "    <tr>\n",
              "      <th>0</th>\n",
              "      <td>1</td>\n",
              "      <td>15634602</td>\n",
              "      <td>Hargrave</td>\n",
              "      <td>619</td>\n",
              "      <td>France</td>\n",
              "      <td>Female</td>\n",
              "      <td>42</td>\n",
              "      <td>2</td>\n",
              "      <td>0.00</td>\n",
              "      <td>1</td>\n",
              "      <td>1</td>\n",
              "      <td>1</td>\n",
              "      <td>101348.88</td>\n",
              "      <td>1</td>\n",
              "    </tr>\n",
              "    <tr>\n",
              "      <th>1</th>\n",
              "      <td>2</td>\n",
              "      <td>15647311</td>\n",
              "      <td>Hill</td>\n",
              "      <td>608</td>\n",
              "      <td>Spain</td>\n",
              "      <td>Female</td>\n",
              "      <td>41</td>\n",
              "      <td>1</td>\n",
              "      <td>83807.86</td>\n",
              "      <td>1</td>\n",
              "      <td>0</td>\n",
              "      <td>1</td>\n",
              "      <td>112542.58</td>\n",
              "      <td>0</td>\n",
              "    </tr>\n",
              "    <tr>\n",
              "      <th>2</th>\n",
              "      <td>3</td>\n",
              "      <td>15619304</td>\n",
              "      <td>Onio</td>\n",
              "      <td>502</td>\n",
              "      <td>France</td>\n",
              "      <td>Female</td>\n",
              "      <td>42</td>\n",
              "      <td>8</td>\n",
              "      <td>159660.80</td>\n",
              "      <td>3</td>\n",
              "      <td>1</td>\n",
              "      <td>0</td>\n",
              "      <td>113931.57</td>\n",
              "      <td>1</td>\n",
              "    </tr>\n",
              "    <tr>\n",
              "      <th>3</th>\n",
              "      <td>4</td>\n",
              "      <td>15701354</td>\n",
              "      <td>Boni</td>\n",
              "      <td>699</td>\n",
              "      <td>France</td>\n",
              "      <td>Female</td>\n",
              "      <td>39</td>\n",
              "      <td>1</td>\n",
              "      <td>0.00</td>\n",
              "      <td>2</td>\n",
              "      <td>0</td>\n",
              "      <td>0</td>\n",
              "      <td>93826.63</td>\n",
              "      <td>0</td>\n",
              "    </tr>\n",
              "    <tr>\n",
              "      <th>4</th>\n",
              "      <td>5</td>\n",
              "      <td>15737888</td>\n",
              "      <td>Mitchell</td>\n",
              "      <td>850</td>\n",
              "      <td>Spain</td>\n",
              "      <td>Female</td>\n",
              "      <td>43</td>\n",
              "      <td>2</td>\n",
              "      <td>125510.82</td>\n",
              "      <td>1</td>\n",
              "      <td>1</td>\n",
              "      <td>1</td>\n",
              "      <td>79084.10</td>\n",
              "      <td>0</td>\n",
              "    </tr>\n",
              "  </tbody>\n",
              "</table>\n",
              "</div>"
            ],
            "text/plain": [
              "   RowNumber  CustomerId   Surname  ...  IsActiveMember EstimatedSalary Exited\n",
              "0          1    15634602  Hargrave  ...               1       101348.88      1\n",
              "1          2    15647311      Hill  ...               1       112542.58      0\n",
              "2          3    15619304      Onio  ...               0       113931.57      1\n",
              "3          4    15701354      Boni  ...               0        93826.63      0\n",
              "4          5    15737888  Mitchell  ...               1        79084.10      0\n",
              "\n",
              "[5 rows x 14 columns]"
            ]
          },
          "metadata": {
            "tags": []
          },
          "execution_count": 1
        }
      ]
    },
    {
      "cell_type": "code",
      "metadata": {
        "colab_type": "code",
        "id": "98O3WxVX7x3M",
        "outputId": "c294f689-3822-4688-ebb3-c252b2de6bb1",
        "colab": {
          "base_uri": "https://localhost:8080/",
          "height": 51
        }
      },
      "source": [
        "X = dataset.iloc[:, 3:13].values\n",
        "y = dataset.iloc[:, 13].values\n",
        "print(X.shape)\n",
        "print(y.shape)"
      ],
      "execution_count": 2,
      "outputs": [
        {
          "output_type": "stream",
          "text": [
            "(10000, 10)\n",
            "(10000,)\n"
          ],
          "name": "stdout"
        }
      ]
    },
    {
      "cell_type": "markdown",
      "metadata": {
        "colab_type": "text",
        "id": "Jc5Qt_WtG-tQ"
      },
      "source": [
        "### 1.2 Encoding categorical data and Feature Scaling\n",
        "\n",
        "Encode the country name (string) to 0, 1, 2 etc. \n",
        "Encode female/male (string) to 0, 1\n",
        "\n",
        "Also need One Hot Encoding, see [Label Encoder vs. One Hot Encoder](https://medium.com/@contactsunny/label-encoder-vs-one-hot-encoder-in-machine-learning-3fc273365621)"
      ]
    },
    {
      "cell_type": "code",
      "metadata": {
        "id": "9uZqCBP_N1Bq",
        "colab_type": "code",
        "colab": {}
      },
      "source": [
        "from sklearn.preprocessing import StandardScaler, MinMaxScaler, OneHotEncoder\n",
        "from sklearn.compose import ColumnTransformer, make_column_transformer\n",
        "\n",
        "preprocess = make_column_transformer(\n",
        "    (OneHotEncoder(),[1,2]),\n",
        "    (StandardScaler(),[0,3,4,5,6,7,8,9])\n",
        "    #(MinMaxScaler(feature_range=(0, 1)),[0,3,4,5,6,7,8,9])\n",
        ")\n",
        "\n",
        "X = preprocess.fit_transform(X)\n",
        "\n",
        "# Add a bias column, this is proved to be able to increase the accuracy\n",
        "m = X.shape[0]\n",
        "X = np.hstack((np.ones((m,1)), X))"
      ],
      "execution_count": 0,
      "outputs": []
    },
    {
      "cell_type": "code",
      "metadata": {
        "colab_type": "code",
        "id": "HNT14OUTGA0o",
        "colab": {}
      },
      "source": [
        "# from sklearn.preprocessing import LabelEncoder, OneHotEncoder\n",
        "# from sklearn.preprocessing import StandardScaler\n",
        "\n",
        "# labelencoder_X_1 = LabelEncoder()\n",
        "# X[:, 1] = labelencoder_X_1.fit_transform(X[:, 1])\n",
        "# labelencoder_X_2 = LabelEncoder()\n",
        "# X[:, 2] = labelencoder_X_2.fit_transform(X[:, 2])\n",
        "\n",
        "# onehotencoder = OneHotEncoder(categorical_features = [1])\n",
        "# X = onehotencoder.fit_transform(X).toarray()\n",
        "# X = X[:, 1:]\n",
        "\n",
        "# sc = StandardScaler()\n",
        "# X = sc.fit_transform(X)"
      ],
      "execution_count": 0,
      "outputs": []
    },
    {
      "cell_type": "markdown",
      "metadata": {
        "colab_type": "text",
        "id": "_V7uylCl43VT"
      },
      "source": [
        "### 1.3 Splitting the dataset into the Training set and Test set\n"
      ]
    },
    {
      "cell_type": "code",
      "metadata": {
        "colab_type": "code",
        "id": "ZC-jcbxGDsg0",
        "colab": {}
      },
      "source": [
        "from sklearn.model_selection import train_test_split\n",
        "X_train, X_test, y_train, y_test = train_test_split(X, y, test_size = 0.25, random_state = 0)"
      ],
      "execution_count": 0,
      "outputs": []
    },
    {
      "cell_type": "markdown",
      "metadata": {
        "colab_type": "text",
        "id": "O4IeRW4ANln_"
      },
      "source": [
        "### 1.4 Feature Scaling"
      ]
    },
    {
      "cell_type": "code",
      "metadata": {
        "colab_type": "code",
        "id": "vH7w4qLR43Vs",
        "colab": {
          "base_uri": "https://localhost:8080/",
          "height": 51
        },
        "outputId": "61a12d6c-cf96-48f5-b926-76eb338f0786"
      },
      "source": [
        "print( X_train.shape )\n",
        "print( X_test.shape )\n",
        "#print( X_train[0:10,:])\n"
      ],
      "execution_count": 6,
      "outputs": [
        {
          "output_type": "stream",
          "text": [
            "(7500, 14)\n",
            "(2500, 14)\n"
          ],
          "name": "stdout"
        }
      ]
    },
    {
      "cell_type": "markdown",
      "metadata": {
        "colab_type": "text",
        "id": "kFQoOEm5O6Df"
      },
      "source": [
        "## 2. Build Artificial Neural Network"
      ]
    },
    {
      "cell_type": "markdown",
      "metadata": {
        "colab_type": "text",
        "id": "Bk-Na74oPVeu"
      },
      "source": [
        "### 2.1 Build ANN\n",
        "the input layer and the first hidden layer\n",
        "\n",
        "*   Input layer = 11 features based on the dataset\n",
        "*   First Hidden layer = 6, Rectified Linear Units (ReLU) function\n",
        "*   Second Hidden layer = 6, Rectified Linear Units (ReLU) function\n",
        "*   Output Layer = 1, using sigmoid function\n",
        "\n",
        "\n",
        "\n",
        "\n"
      ]
    },
    {
      "cell_type": "code",
      "metadata": {
        "colab_type": "code",
        "id": "YVAqVso_43WT",
        "outputId": "13165acc-520a-441b-ca03-d5af8eee6f8d",
        "colab": {
          "base_uri": "https://localhost:8080/",
          "height": 156
        }
      },
      "source": [
        "import keras\n",
        "from keras.models import Sequential\n",
        "from keras.layers import Dense\n",
        "from keras.layers import Dropout\n",
        "\n",
        "classifier = Sequential()\n",
        "classifier.add(Dense(units = 16, kernel_initializer = 'uniform', activation = 'relu', input_dim = 14))\n",
        "classifier.add(Dropout(rate = 0.2)) # To improve the ANN, dropout Regularization to reduce overfitting if needed\n",
        "\n",
        "\n",
        "classifier.add(Dense(units = 16, kernel_initializer = 'uniform', activation = 'relu'))\n",
        "classifier.add(Dropout(rate = 0.2))   # To improve the ANN, dropout Regularization to reduce overfitting if needed\n",
        "\n",
        "classifier.add(Dense(units = 1, kernel_initializer = 'uniform', activation = 'sigmoid'))\n"
      ],
      "execution_count": 7,
      "outputs": [
        {
          "output_type": "stream",
          "text": [
            "Using TensorFlow backend.\n"
          ],
          "name": "stderr"
        },
        {
          "output_type": "stream",
          "text": [
            "WARNING:tensorflow:From /usr/local/lib/python3.6/dist-packages/tensorflow/python/framework/op_def_library.py:263: colocate_with (from tensorflow.python.framework.ops) is deprecated and will be removed in a future version.\n",
            "Instructions for updating:\n",
            "Colocations handled automatically by placer.\n",
            "WARNING:tensorflow:From /usr/local/lib/python3.6/dist-packages/keras/backend/tensorflow_backend.py:3445: calling dropout (from tensorflow.python.ops.nn_ops) with keep_prob is deprecated and will be removed in a future version.\n",
            "Instructions for updating:\n",
            "Please use `rate` instead of `keep_prob`. Rate should be set to `rate = 1 - keep_prob`.\n"
          ],
          "name": "stdout"
        }
      ]
    },
    {
      "cell_type": "markdown",
      "metadata": {
        "colab_type": "text",
        "id": "6ATuXdxt43Wd"
      },
      "source": [
        "### 2.2 Compiling the ANN"
      ]
    },
    {
      "cell_type": "code",
      "metadata": {
        "colab_type": "code",
        "id": "92BsLxbz43Wg",
        "colab": {}
      },
      "source": [
        "classifier.compile(optimizer = 'adam', \n",
        "                   loss = 'binary_crossentropy', \n",
        "                   metrics = ['accuracy']\n",
        "                  )"
      ],
      "execution_count": 0,
      "outputs": []
    },
    {
      "cell_type": "markdown",
      "metadata": {
        "colab_type": "text",
        "id": "0HYa9OPg43Wq"
      },
      "source": [
        "### 2.3 Fitting the ANN to the Training set"
      ]
    },
    {
      "cell_type": "code",
      "metadata": {
        "colab_type": "code",
        "id": "wsHK_PW643Wt",
        "scrolled": true,
        "outputId": "ba37b4b0-0da2-430e-b840-32ae49b968be",
        "colab": {
          "base_uri": "https://localhost:8080/",
          "height": 3505
        }
      },
      "source": [
        "history = classifier.fit(X_train, y_train, \n",
        "                         batch_size = 16, \n",
        "                         epochs = 100, \n",
        "                         validation_data=(X_test, y_test)\n",
        "                        )"
      ],
      "execution_count": 9,
      "outputs": [
        {
          "output_type": "stream",
          "text": [
            "WARNING:tensorflow:From /usr/local/lib/python3.6/dist-packages/tensorflow/python/ops/math_ops.py:3066: to_int32 (from tensorflow.python.ops.math_ops) is deprecated and will be removed in a future version.\n",
            "Instructions for updating:\n",
            "Use tf.cast instead.\n",
            "Train on 7500 samples, validate on 2500 samples\n",
            "Epoch 1/100\n",
            "7500/7500 [==============================] - 1s 121us/step - loss: 0.4824 - acc: 0.7991 - val_loss: 0.4172 - val_acc: 0.8164\n",
            "Epoch 2/100\n",
            "7500/7500 [==============================] - 1s 83us/step - loss: 0.4184 - acc: 0.8285 - val_loss: 0.3746 - val_acc: 0.8508\n",
            "Epoch 3/100\n",
            "7500/7500 [==============================] - 1s 83us/step - loss: 0.3862 - acc: 0.8420 - val_loss: 0.3595 - val_acc: 0.8496\n",
            "Epoch 4/100\n",
            "7500/7500 [==============================] - 1s 87us/step - loss: 0.3818 - acc: 0.8444 - val_loss: 0.3504 - val_acc: 0.8596\n",
            "Epoch 5/100\n",
            "7500/7500 [==============================] - 1s 98us/step - loss: 0.3766 - acc: 0.8435 - val_loss: 0.3535 - val_acc: 0.8608\n",
            "Epoch 6/100\n",
            "7500/7500 [==============================] - 1s 96us/step - loss: 0.3775 - acc: 0.8472 - val_loss: 0.3496 - val_acc: 0.8584\n",
            "Epoch 7/100\n",
            "7500/7500 [==============================] - 1s 97us/step - loss: 0.3764 - acc: 0.8457 - val_loss: 0.3492 - val_acc: 0.8604\n",
            "Epoch 8/100\n",
            "7500/7500 [==============================] - 1s 99us/step - loss: 0.3766 - acc: 0.8443 - val_loss: 0.3463 - val_acc: 0.8596\n",
            "Epoch 9/100\n",
            "7500/7500 [==============================] - 1s 96us/step - loss: 0.3730 - acc: 0.8489 - val_loss: 0.3450 - val_acc: 0.8600\n",
            "Epoch 10/100\n",
            "7500/7500 [==============================] - 1s 95us/step - loss: 0.3686 - acc: 0.8499 - val_loss: 0.3433 - val_acc: 0.8588\n",
            "Epoch 11/100\n",
            "7500/7500 [==============================] - 1s 95us/step - loss: 0.3713 - acc: 0.8488 - val_loss: 0.3410 - val_acc: 0.8608\n",
            "Epoch 12/100\n",
            "7500/7500 [==============================] - 1s 98us/step - loss: 0.3683 - acc: 0.8521 - val_loss: 0.3406 - val_acc: 0.8660\n",
            "Epoch 13/100\n",
            "7500/7500 [==============================] - 1s 97us/step - loss: 0.3679 - acc: 0.8516 - val_loss: 0.3376 - val_acc: 0.8648\n",
            "Epoch 14/100\n",
            "7500/7500 [==============================] - 1s 95us/step - loss: 0.3622 - acc: 0.8532 - val_loss: 0.3375 - val_acc: 0.8636\n",
            "Epoch 15/100\n",
            "7500/7500 [==============================] - 1s 102us/step - loss: 0.3638 - acc: 0.8540 - val_loss: 0.3376 - val_acc: 0.8628\n",
            "Epoch 16/100\n",
            "7500/7500 [==============================] - 1s 92us/step - loss: 0.3645 - acc: 0.8515 - val_loss: 0.3360 - val_acc: 0.8672\n",
            "Epoch 17/100\n",
            "7500/7500 [==============================] - 1s 91us/step - loss: 0.3693 - acc: 0.8540 - val_loss: 0.3383 - val_acc: 0.8668\n",
            "Epoch 18/100\n",
            "7500/7500 [==============================] - 1s 90us/step - loss: 0.3655 - acc: 0.8551 - val_loss: 0.3398 - val_acc: 0.8648\n",
            "Epoch 19/100\n",
            "7500/7500 [==============================] - 1s 80us/step - loss: 0.3674 - acc: 0.8531 - val_loss: 0.3338 - val_acc: 0.8680\n",
            "Epoch 20/100\n",
            "7500/7500 [==============================] - 1s 79us/step - loss: 0.3629 - acc: 0.8543 - val_loss: 0.3331 - val_acc: 0.8684\n",
            "Epoch 21/100\n",
            "7500/7500 [==============================] - 1s 81us/step - loss: 0.3619 - acc: 0.8552 - val_loss: 0.3334 - val_acc: 0.8692\n",
            "Epoch 22/100\n",
            "7500/7500 [==============================] - 1s 83us/step - loss: 0.3658 - acc: 0.8489 - val_loss: 0.3334 - val_acc: 0.8668\n",
            "Epoch 23/100\n",
            "7500/7500 [==============================] - 1s 82us/step - loss: 0.3640 - acc: 0.8505 - val_loss: 0.3348 - val_acc: 0.8692\n",
            "Epoch 24/100\n",
            "7500/7500 [==============================] - 1s 82us/step - loss: 0.3573 - acc: 0.8557 - val_loss: 0.3332 - val_acc: 0.8660\n",
            "Epoch 25/100\n",
            "7500/7500 [==============================] - 1s 81us/step - loss: 0.3585 - acc: 0.8583 - val_loss: 0.3359 - val_acc: 0.8676\n",
            "Epoch 26/100\n",
            "7500/7500 [==============================] - 1s 81us/step - loss: 0.3548 - acc: 0.8571 - val_loss: 0.3313 - val_acc: 0.8680\n",
            "Epoch 27/100\n",
            "7500/7500 [==============================] - 1s 81us/step - loss: 0.3553 - acc: 0.8547 - val_loss: 0.3398 - val_acc: 0.8644\n",
            "Epoch 28/100\n",
            "7500/7500 [==============================] - 1s 82us/step - loss: 0.3594 - acc: 0.8517 - val_loss: 0.3318 - val_acc: 0.8704\n",
            "Epoch 29/100\n",
            "7500/7500 [==============================] - 1s 81us/step - loss: 0.3580 - acc: 0.8511 - val_loss: 0.3320 - val_acc: 0.8716\n",
            "Epoch 30/100\n",
            "7500/7500 [==============================] - 1s 82us/step - loss: 0.3571 - acc: 0.8533 - val_loss: 0.3327 - val_acc: 0.8688\n",
            "Epoch 31/100\n",
            "7500/7500 [==============================] - 1s 79us/step - loss: 0.3586 - acc: 0.8536 - val_loss: 0.3317 - val_acc: 0.8692\n",
            "Epoch 32/100\n",
            "7500/7500 [==============================] - 1s 80us/step - loss: 0.3555 - acc: 0.8515 - val_loss: 0.3311 - val_acc: 0.8676\n",
            "Epoch 33/100\n",
            "7500/7500 [==============================] - 1s 80us/step - loss: 0.3557 - acc: 0.8552 - val_loss: 0.3319 - val_acc: 0.8684\n",
            "Epoch 34/100\n",
            "7500/7500 [==============================] - 1s 80us/step - loss: 0.3548 - acc: 0.8573 - val_loss: 0.3310 - val_acc: 0.8672\n",
            "Epoch 35/100\n",
            "7500/7500 [==============================] - 1s 81us/step - loss: 0.3566 - acc: 0.8540 - val_loss: 0.3378 - val_acc: 0.8676\n",
            "Epoch 36/100\n",
            "7500/7500 [==============================] - 1s 80us/step - loss: 0.3591 - acc: 0.8531 - val_loss: 0.3309 - val_acc: 0.8680\n",
            "Epoch 37/100\n",
            "7500/7500 [==============================] - 1s 82us/step - loss: 0.3563 - acc: 0.8537 - val_loss: 0.3306 - val_acc: 0.8676\n",
            "Epoch 38/100\n",
            "7500/7500 [==============================] - 1s 80us/step - loss: 0.3556 - acc: 0.8591 - val_loss: 0.3316 - val_acc: 0.8676\n",
            "Epoch 39/100\n",
            "7500/7500 [==============================] - 1s 81us/step - loss: 0.3544 - acc: 0.8557 - val_loss: 0.3320 - val_acc: 0.8680\n",
            "Epoch 40/100\n",
            "7500/7500 [==============================] - 1s 83us/step - loss: 0.3592 - acc: 0.8556 - val_loss: 0.3304 - val_acc: 0.8672\n",
            "Epoch 41/100\n",
            "7500/7500 [==============================] - 1s 79us/step - loss: 0.3551 - acc: 0.8540 - val_loss: 0.3295 - val_acc: 0.8664\n",
            "Epoch 42/100\n",
            "7500/7500 [==============================] - 1s 79us/step - loss: 0.3512 - acc: 0.8579 - val_loss: 0.3317 - val_acc: 0.8664\n",
            "Epoch 43/100\n",
            "7500/7500 [==============================] - 1s 80us/step - loss: 0.3539 - acc: 0.8565 - val_loss: 0.3317 - val_acc: 0.8640\n",
            "Epoch 44/100\n",
            "7500/7500 [==============================] - 1s 80us/step - loss: 0.3554 - acc: 0.8567 - val_loss: 0.3317 - val_acc: 0.8664\n",
            "Epoch 45/100\n",
            "7500/7500 [==============================] - 1s 82us/step - loss: 0.3530 - acc: 0.8572 - val_loss: 0.3299 - val_acc: 0.8652\n",
            "Epoch 46/100\n",
            "7500/7500 [==============================] - 1s 83us/step - loss: 0.3509 - acc: 0.8603 - val_loss: 0.3293 - val_acc: 0.8676\n",
            "Epoch 47/100\n",
            "7500/7500 [==============================] - 1s 81us/step - loss: 0.3535 - acc: 0.8580 - val_loss: 0.3284 - val_acc: 0.8652\n",
            "Epoch 48/100\n",
            "7500/7500 [==============================] - 1s 82us/step - loss: 0.3536 - acc: 0.8553 - val_loss: 0.3287 - val_acc: 0.8676\n",
            "Epoch 49/100\n",
            "7500/7500 [==============================] - 1s 80us/step - loss: 0.3537 - acc: 0.8569 - val_loss: 0.3288 - val_acc: 0.8680\n",
            "Epoch 50/100\n",
            "7500/7500 [==============================] - 1s 82us/step - loss: 0.3519 - acc: 0.8564 - val_loss: 0.3280 - val_acc: 0.8676\n",
            "Epoch 51/100\n",
            "7500/7500 [==============================] - 1s 80us/step - loss: 0.3557 - acc: 0.8535 - val_loss: 0.3286 - val_acc: 0.8660\n",
            "Epoch 52/100\n",
            "7500/7500 [==============================] - 1s 79us/step - loss: 0.3505 - acc: 0.8572 - val_loss: 0.3286 - val_acc: 0.8668\n",
            "Epoch 53/100\n",
            "7500/7500 [==============================] - 1s 80us/step - loss: 0.3543 - acc: 0.8572 - val_loss: 0.3280 - val_acc: 0.8636\n",
            "Epoch 54/100\n",
            "7500/7500 [==============================] - 1s 79us/step - loss: 0.3524 - acc: 0.8580 - val_loss: 0.3278 - val_acc: 0.8660\n",
            "Epoch 55/100\n",
            "7500/7500 [==============================] - 1s 81us/step - loss: 0.3488 - acc: 0.8591 - val_loss: 0.3280 - val_acc: 0.8648\n",
            "Epoch 56/100\n",
            "7500/7500 [==============================] - 1s 85us/step - loss: 0.3571 - acc: 0.8591 - val_loss: 0.3294 - val_acc: 0.8640\n",
            "Epoch 57/100\n",
            "7500/7500 [==============================] - 1s 87us/step - loss: 0.3535 - acc: 0.8563 - val_loss: 0.3269 - val_acc: 0.8656\n",
            "Epoch 58/100\n",
            "7500/7500 [==============================] - 1s 81us/step - loss: 0.3539 - acc: 0.8548 - val_loss: 0.3294 - val_acc: 0.8680\n",
            "Epoch 59/100\n",
            "7500/7500 [==============================] - 1s 85us/step - loss: 0.3588 - acc: 0.8549 - val_loss: 0.3289 - val_acc: 0.8688\n",
            "Epoch 60/100\n",
            "7500/7500 [==============================] - 1s 82us/step - loss: 0.3489 - acc: 0.8600 - val_loss: 0.3273 - val_acc: 0.8656\n",
            "Epoch 61/100\n",
            "7500/7500 [==============================] - 1s 82us/step - loss: 0.3537 - acc: 0.8577 - val_loss: 0.3282 - val_acc: 0.8644\n",
            "Epoch 62/100\n",
            "7500/7500 [==============================] - 1s 83us/step - loss: 0.3486 - acc: 0.8589 - val_loss: 0.3276 - val_acc: 0.8672\n",
            "Epoch 63/100\n",
            "7500/7500 [==============================] - 1s 83us/step - loss: 0.3476 - acc: 0.8571 - val_loss: 0.3285 - val_acc: 0.8628\n",
            "Epoch 64/100\n",
            "7500/7500 [==============================] - 1s 84us/step - loss: 0.3549 - acc: 0.8583 - val_loss: 0.3281 - val_acc: 0.8636\n",
            "Epoch 65/100\n",
            "7500/7500 [==============================] - 1s 82us/step - loss: 0.3468 - acc: 0.8595 - val_loss: 0.3282 - val_acc: 0.8648\n",
            "Epoch 66/100\n",
            "7500/7500 [==============================] - 1s 82us/step - loss: 0.3515 - acc: 0.8587 - val_loss: 0.3311 - val_acc: 0.8644\n",
            "Epoch 67/100\n",
            "7500/7500 [==============================] - 1s 79us/step - loss: 0.3488 - acc: 0.8589 - val_loss: 0.3273 - val_acc: 0.8656\n",
            "Epoch 68/100\n",
            "7500/7500 [==============================] - 1s 79us/step - loss: 0.3484 - acc: 0.8561 - val_loss: 0.3321 - val_acc: 0.8656\n",
            "Epoch 69/100\n",
            "7500/7500 [==============================] - 1s 81us/step - loss: 0.3525 - acc: 0.8547 - val_loss: 0.3275 - val_acc: 0.8652\n",
            "Epoch 70/100\n",
            "7500/7500 [==============================] - 1s 85us/step - loss: 0.3504 - acc: 0.8547 - val_loss: 0.3268 - val_acc: 0.8692\n",
            "Epoch 71/100\n",
            "7500/7500 [==============================] - 1s 82us/step - loss: 0.3515 - acc: 0.8577 - val_loss: 0.3265 - val_acc: 0.8700\n",
            "Epoch 72/100\n",
            "7500/7500 [==============================] - 1s 82us/step - loss: 0.3501 - acc: 0.8543 - val_loss: 0.3275 - val_acc: 0.8672\n",
            "Epoch 73/100\n",
            "7500/7500 [==============================] - 1s 82us/step - loss: 0.3516 - acc: 0.8577 - val_loss: 0.3286 - val_acc: 0.8664\n",
            "Epoch 74/100\n",
            "7500/7500 [==============================] - 1s 81us/step - loss: 0.3507 - acc: 0.8555 - val_loss: 0.3266 - val_acc: 0.8660\n",
            "Epoch 75/100\n",
            "7500/7500 [==============================] - 1s 86us/step - loss: 0.3487 - acc: 0.8575 - val_loss: 0.3266 - val_acc: 0.8688\n",
            "Epoch 76/100\n",
            "7500/7500 [==============================] - 1s 82us/step - loss: 0.3544 - acc: 0.8576 - val_loss: 0.3259 - val_acc: 0.8656\n",
            "Epoch 77/100\n",
            "7500/7500 [==============================] - 1s 81us/step - loss: 0.3456 - acc: 0.8604 - val_loss: 0.3287 - val_acc: 0.8664\n",
            "Epoch 78/100\n",
            "7500/7500 [==============================] - 1s 80us/step - loss: 0.3513 - acc: 0.8580 - val_loss: 0.3300 - val_acc: 0.8660\n",
            "Epoch 79/100\n",
            "7500/7500 [==============================] - 1s 86us/step - loss: 0.3501 - acc: 0.8580 - val_loss: 0.3283 - val_acc: 0.8636\n",
            "Epoch 80/100\n",
            "7500/7500 [==============================] - 1s 81us/step - loss: 0.3487 - acc: 0.8583 - val_loss: 0.3255 - val_acc: 0.8664\n",
            "Epoch 81/100\n",
            "7500/7500 [==============================] - 1s 82us/step - loss: 0.3509 - acc: 0.8591 - val_loss: 0.3268 - val_acc: 0.8700\n",
            "Epoch 82/100\n",
            "7500/7500 [==============================] - 1s 81us/step - loss: 0.3483 - acc: 0.8577 - val_loss: 0.3299 - val_acc: 0.8660\n",
            "Epoch 83/100\n",
            "7500/7500 [==============================] - 1s 81us/step - loss: 0.3480 - acc: 0.8596 - val_loss: 0.3319 - val_acc: 0.8672\n",
            "Epoch 84/100\n",
            "7500/7500 [==============================] - 1s 83us/step - loss: 0.3495 - acc: 0.8571 - val_loss: 0.3270 - val_acc: 0.8680\n",
            "Epoch 85/100\n",
            "7500/7500 [==============================] - 1s 81us/step - loss: 0.3477 - acc: 0.8597 - val_loss: 0.3269 - val_acc: 0.8680\n",
            "Epoch 86/100\n",
            "7500/7500 [==============================] - 1s 81us/step - loss: 0.3483 - acc: 0.8588 - val_loss: 0.3259 - val_acc: 0.8660\n",
            "Epoch 87/100\n",
            "7500/7500 [==============================] - 1s 81us/step - loss: 0.3457 - acc: 0.8615 - val_loss: 0.3311 - val_acc: 0.8660\n",
            "Epoch 88/100\n",
            "7500/7500 [==============================] - 1s 82us/step - loss: 0.3505 - acc: 0.8571 - val_loss: 0.3293 - val_acc: 0.8660\n",
            "Epoch 89/100\n",
            "7500/7500 [==============================] - 1s 82us/step - loss: 0.3514 - acc: 0.8581 - val_loss: 0.3300 - val_acc: 0.8696\n",
            "Epoch 90/100\n",
            "7500/7500 [==============================] - 1s 81us/step - loss: 0.3461 - acc: 0.8609 - val_loss: 0.3271 - val_acc: 0.8688\n",
            "Epoch 91/100\n",
            "7500/7500 [==============================] - 1s 80us/step - loss: 0.3499 - acc: 0.8589 - val_loss: 0.3288 - val_acc: 0.8668\n",
            "Epoch 92/100\n",
            "7500/7500 [==============================] - 1s 81us/step - loss: 0.3441 - acc: 0.8613 - val_loss: 0.3280 - val_acc: 0.8668\n",
            "Epoch 93/100\n",
            "7500/7500 [==============================] - 1s 80us/step - loss: 0.3489 - acc: 0.8563 - val_loss: 0.3282 - val_acc: 0.8696\n",
            "Epoch 94/100\n",
            "7500/7500 [==============================] - 1s 80us/step - loss: 0.3457 - acc: 0.8600 - val_loss: 0.3268 - val_acc: 0.8664\n",
            "Epoch 95/100\n",
            "7500/7500 [==============================] - 1s 81us/step - loss: 0.3512 - acc: 0.8591 - val_loss: 0.3270 - val_acc: 0.8688\n",
            "Epoch 96/100\n",
            "7500/7500 [==============================] - 1s 81us/step - loss: 0.3505 - acc: 0.8585 - val_loss: 0.3283 - val_acc: 0.8636\n",
            "Epoch 97/100\n",
            "7500/7500 [==============================] - 1s 82us/step - loss: 0.3527 - acc: 0.8573 - val_loss: 0.3302 - val_acc: 0.8632\n",
            "Epoch 98/100\n",
            "7500/7500 [==============================] - 1s 81us/step - loss: 0.3501 - acc: 0.8584 - val_loss: 0.3273 - val_acc: 0.8672\n",
            "Epoch 99/100\n",
            "7500/7500 [==============================] - 1s 79us/step - loss: 0.3482 - acc: 0.8576 - val_loss: 0.3262 - val_acc: 0.8628\n",
            "Epoch 100/100\n",
            "7500/7500 [==============================] - 1s 80us/step - loss: 0.3460 - acc: 0.8604 - val_loss: 0.3286 - val_acc: 0.8644\n"
          ],
          "name": "stdout"
        }
      ]
    },
    {
      "cell_type": "code",
      "metadata": {
        "id": "X9nn_G40HWz0",
        "colab_type": "code",
        "colab": {
          "base_uri": "https://localhost:8080/",
          "height": 34
        },
        "outputId": "aebe4035-350f-4227-80eb-071996bda074"
      },
      "source": [
        "print(history.history.keys())"
      ],
      "execution_count": 10,
      "outputs": [
        {
          "output_type": "stream",
          "text": [
            "dict_keys(['val_loss', 'val_acc', 'loss', 'acc'])\n"
          ],
          "name": "stdout"
        }
      ]
    },
    {
      "cell_type": "code",
      "metadata": {
        "id": "OP8aP34uEH-a",
        "colab_type": "code",
        "colab": {
          "base_uri": "https://localhost:8080/",
          "height": 404
        },
        "outputId": "b10387dc-7ace-40cc-e35e-8a3b5b79e004"
      },
      "source": [
        "fig = plt.figure(1, figsize=(16,6))\n",
        "plt.subplot(1, 2, 1)\n",
        "plt.title('model accuracy')\n",
        "plt.plot(history.history['acc'])\n",
        "plt.plot(history.history['val_acc'])\n",
        "plt.ylabel('accuracy')\n",
        "plt.xlabel('epoch')\n",
        "plt.legend(['train', 'test'], loc='lower right')\n",
        "\n",
        "\n",
        "\n",
        "plt.subplot(1, 2, 2)\n",
        "plt.plot(history.history['loss'])\n",
        "plt.plot(history.history['val_loss'])\n",
        "plt.title('model loss')\n",
        "plt.ylabel('loss')\n",
        "plt.xlabel('epoch')\n",
        "plt.legend(['train', 'test'], loc='upper right')\n",
        "\n",
        "plt.show()"
      ],
      "execution_count": 11,
      "outputs": [
        {
          "output_type": "display_data",
          "data": {
            "image/png": "[encoded data removed]",
            "text/plain": [
              "<Figure size 1152x432 with 2 Axes>"
            ]
          },
          "metadata": {
            "tags": []
          }
        }
      ]
    },
    {
      "cell_type": "markdown",
      "metadata": {
        "colab_type": "text",
        "id": "e6fSuSk443W2"
      },
      "source": [
        "### 2.4 Making predictions and evaluating the model with test set"
      ]
    },
    {
      "cell_type": "code",
      "metadata": {
        "colab_type": "code",
        "id": "zf5fQ4nY43W5",
        "colab": {}
      },
      "source": [
        "y_pred = classifier.predict(X_test)\n",
        "y_pred = (y_pred > 0.5)"
      ],
      "execution_count": 0,
      "outputs": []
    },
    {
      "cell_type": "code",
      "metadata": {
        "colab_type": "code",
        "id": "xl2a7rH243XI",
        "outputId": "7312d692-acaa-412d-be1e-a7f241cc4f3f",
        "colab": {
          "base_uri": "https://localhost:8080/",
          "height": 255
        }
      },
      "source": [
        "from sklearn.metrics import accuracy_score\n",
        "from sklearn.metrics import confusion_matrix\n",
        "from sklearn.metrics import classification_report\n",
        "\n",
        "cm = confusion_matrix(y_test, y_pred)\n",
        "accuracy_score = accuracy_score(y_test, y_pred)\n",
        "print(\"Confusion Matrix:\\n\", cm)\n",
        "print(\"Accuracy Score:\\n\", accuracy_score)\n",
        "print(classification_report(y_test, y_pred))"
      ],
      "execution_count": 13,
      "outputs": [
        {
          "output_type": "stream",
          "text": [
            "Confusion Matrix:\n",
            " [[1915   76]\n",
            " [ 263  246]]\n",
            "Accuracy Score:\n",
            " 0.8644\n",
            "              precision    recall  f1-score   support\n",
            "\n",
            "           0       0.88      0.96      0.92      1991\n",
            "           1       0.76      0.48      0.59       509\n",
            "\n",
            "   micro avg       0.86      0.86      0.86      2500\n",
            "   macro avg       0.82      0.72      0.76      2500\n",
            "weighted avg       0.86      0.86      0.85      2500\n",
            "\n"
          ],
          "name": "stdout"
        }
      ]
    },
    {
      "cell_type": "markdown",
      "metadata": {
        "colab_type": "text",
        "id": "kXa5iI0vU2Bu"
      },
      "source": [
        "### 2.5 Predicting a single new observation\n",
        "\n",
        "Predict if the customer with the following informations will leave the bank:\n",
        "\n",
        "*   Credit Score: 600\n",
        "*   Geography: France\n",
        "*   Gender: Male\n",
        "*   Age: 40\n",
        "*   Tenure: 3\n",
        "*   Balance: 60000\n",
        "*   Number of Products: 2\n",
        "*   Has Credit Card: Yes\n",
        "*   Is Active Member: Yes\n",
        "*   Estimated Salary: 50000\n",
        "\n"
      ]
    },
    {
      "cell_type": "code",
      "metadata": {
        "colab_type": "code",
        "id": "7hniUcx543Xf",
        "outputId": "6ea53ee8-90f5-42cf-bcad-533f7942c65e",
        "colab": {
          "base_uri": "https://localhost:8080/",
          "height": 34
        }
      },
      "source": [
        "# Create a new record based on the original dataset\n",
        "X_new_single = dataset.iloc[0:1, 3:13].values\n",
        "X_new_single[0,0] = 600\n",
        "X_new_single[0,1] = 'France'\n",
        "X_new_single[0,2] = 'Male'\n",
        "X_new_single[0,3] = 40\n",
        "X_new_single[0,4] = 3\n",
        "X_new_single[0,5] = 60000\n",
        "X_new_single[0,6] = 2\n",
        "X_new_single[0,7] = 1\n",
        "X_new_single[0,8] = 1\n",
        "X_new_single[0,9] = 50000\n",
        "\n",
        "# Append the new record to the original full dataset, this is because we can use the previous preprocess model to process whole dataset\n",
        "X_new = dataset.iloc[:, 3:13].values\n",
        "X_new = np.concatenate((X_new, X_new_single),axis=0)\n",
        "\n",
        "# Add bias column\n",
        "m = X_new.shape[0]\n",
        "X_new = preprocess.fit_transform(X_new)\n",
        "X_new = np.hstack((np.ones((m,1)), X_new))\n",
        "\n",
        "# Predict the new record -- very last record in the dataset -- using the already trained ANN model\n",
        "y_new_single = classifier.predict(X_new[m-1].reshape(1,X_new.shape[1])) \n",
        "y_new_single = (y_new_single>0.5)\n",
        "print(\"Will the new customer likely to exit the bank? \", y_new_single[0,0], \" -- with probability of\", accuracy_score )"
      ],
      "execution_count": 14,
      "outputs": [
        {
          "output_type": "stream",
          "text": [
            "Will the new customer likely to exit the bank?  False  -- with probability of 0.8644\n"
          ],
          "name": "stdout"
        }
      ]
    },
    {
      "cell_type": "markdown",
      "metadata": {
        "colab_type": "text",
        "id": "vEMi8dON0_s3"
      },
      "source": [
        "## 3. Evaluating the ANN\n",
        "\n",
        "Note: Do not run Section 2. I.e. run Section 1 to prepare the data, skip Section 2, and Run this section."
      ]
    },
    {
      "cell_type": "code",
      "metadata": {
        "colab_type": "code",
        "id": "-xkNbapZ1IX4",
        "colab": {},
        "cellView": "both"
      },
      "source": [
        "# from keras.wrappers.scikit_learn import KerasClassifier\n",
        "# from sklearn.model_selection import cross_val_score\n",
        "# from keras.models import Sequential\n",
        "# from keras.layers import Dense\n"
      ],
      "execution_count": 0,
      "outputs": []
    },
    {
      "cell_type": "code",
      "metadata": {
        "colab_type": "code",
        "id": "N1Re9DpR1Qk_",
        "colab": {}
      },
      "source": [
        "# def build_classifier():\n",
        "#     classifier = Sequential()\n",
        "#     classifier.add(Dense(units = 6, kernel_initializer = 'uniform', activation = 'relu', input_dim = 11))\n",
        "#     classifier.add(Dense(units = 6, kernel_initializer = 'uniform', activation = 'relu'))\n",
        "#     classifier.add(Dense(units = 1, kernel_initializer = 'uniform', activation = 'sigmoid'))\n",
        "#     classifier.compile(optimizer = 'adam', loss = 'binary_crossentropy', metrics = ['accuracy'])\n",
        "#     return classifier\n",
        "  \n",
        "# classifier = KerasClassifier(build_fn = build_classifier, batch_size = 10, epochs = 100)\n",
        "# accuracies = cross_val_score(estimator = classifier, X = X_train, y = y_train, cv = 10, n_jobs = -1)\n",
        "# mean = accuracies.mean()\n",
        "# variance = accuracies.std()\n"
      ],
      "execution_count": 0,
      "outputs": []
    },
    {
      "cell_type": "markdown",
      "metadata": {
        "id": "yfIAIRcyRO_c",
        "colab_type": "text"
      },
      "source": [
        "## 4. Tuning the Artificial Neural Network\n",
        "Find out the best parameters for the ANN\n",
        "\n",
        "Note: Do not run Section 2 and 3. (I.e. run Section 1 to prepare the data, skip Section 2 and 3, then Run this section.)"
      ]
    },
    {
      "cell_type": "code",
      "metadata": {
        "id": "_EIiwubeRW_O",
        "colab_type": "code",
        "colab": {}
      },
      "source": [
        "# from keras.wrappers.scikit_learn import KerasClassifier\n",
        "# from sklearn.model_selection import GridSearchCV\n",
        "# from keras.models import Sequential\n",
        "# from keras.layers import Dense\n",
        "\n",
        "\n",
        "# def build_classifier(optimizer,units):\n",
        "#     classifier = Sequential()\n",
        "#     classifier.add(Dense(units = units, kernel_initializer = 'uniform', activation = 'relu', input_dim = 11))\n",
        "#     classifier.add(Dense(units = units, kernel_initializer = 'uniform', activation = 'relu'))\n",
        "#     classifier.add(Dense(units = 1, kernel_initializer = 'uniform', activation = 'sigmoid'))\n",
        "#     classifier.compile(optimizer = optimizer, loss = 'binary_crossentropy', metrics = ['accuracy'])\n",
        "#     return classifier\n",
        "  \n",
        "# classifier = KerasClassifier(build_fn = build_classifier)\n",
        "# parameters = {'batch_size': [8, 16],\n",
        "#               'epochs': [100, 500],\n",
        "#               'optimizer': ['adam', 'rmsprop'],\n",
        "#               'units': [6,12,18]}\n",
        "\n",
        "# grid_search = GridSearchCV(estimator = classifier,\n",
        "#                            param_grid = parameters,\n",
        "#                            scoring = 'accuracy',\n",
        "#                            cv = 10)"
      ],
      "execution_count": 0,
      "outputs": []
    },
    {
      "cell_type": "code",
      "metadata": {
        "id": "caYfGHPrRc8W",
        "colab_type": "code",
        "colab": {}
      },
      "source": [
        "# grid_search = grid_search.fit(X_train, y_train)\n",
        "\n",
        "# best_parameters = grid_search.best_params_\n",
        "# best_accuracy = grid_search.best_score_\n",
        "\n",
        "# print(best_parameters)\n",
        "# print(best_accuracy)"
      ],
      "execution_count": 0,
      "outputs": []
    }
  ]
}