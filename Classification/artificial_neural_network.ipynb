{
  "nbformat": 4,
  "nbformat_minor": 0,
  "metadata": {
    "colab": {
      "name": "ann.ipynb",
      "version": "0.3.2",
      "provenance": []
    },
    "kernelspec": {
      "name": "python3",
      "display_name": "Python 3"
    },
    "accelerator": "TPU"
  },
  "cells": [
    {
      "metadata": {
        "id": "2MwVkDk443U9",
        "colab_type": "text"
      },
      "cell_type": "markdown",
      "source": [
        "# Artificial Neural Network\n"
      ]
    },
    {
      "metadata": {
        "id": "cG6XbGfF6mqc",
        "colab_type": "text"
      },
      "cell_type": "markdown",
      "source": [
        "## 1. Data Preprocessing"
      ]
    },
    {
      "metadata": {
        "id": "P6Fzfikz43VE",
        "colab_type": "code",
        "colab": {}
      },
      "cell_type": "code",
      "source": [
        "import numpy as np\n",
        "import matplotlib.pyplot as plt\n",
        "import pandas as pd\n"
      ],
      "execution_count": 0,
      "outputs": []
    },
    {
      "metadata": {
        "id": "Nk0zkAdMG0vZ",
        "colab_type": "text"
      },
      "cell_type": "markdown",
      "source": [
        "### 1.1 Importing the dataset"
      ]
    },
    {
      "metadata": {
        "id": "d13XAkG76vho",
        "colab_type": "code",
        "colab": {}
      },
      "cell_type": "code",
      "source": [
        "#for some reasons, the data file on github has some problems when reading\n",
        "#datafile = 'https://github.com/jchen8000/MachineLearning/blob/master/Classification/data/Churn_Modelling.csv'\n",
        "\n",
        "#Found the same data file from internet\n",
        "datafile = 'https://floobits.com/calvinlow18/ANN/raw/Churn_Modelling.csv'\n",
        "dataset = pd.read_csv(datafile)\n"
      ],
      "execution_count": 0,
      "outputs": []
    },
    {
      "metadata": {
        "id": "v8JcxTYLF3qe",
        "colab_type": "code",
        "outputId": "41072107-3b89-4590-ebbc-89feccada83b",
        "colab": {
          "base_uri": "https://localhost:8080/",
          "height": 204
        }
      },
      "cell_type": "code",
      "source": [
        "dataset.head()"
      ],
      "execution_count": 4,
      "outputs": [
        {
          "output_type": "execute_result",
          "data": {
            "text/html": [
              "<div>\n",
              "<style scoped>\n",
              "    .dataframe tbody tr th:only-of-type {\n",
              "        vertical-align: middle;\n",
              "    }\n",
              "\n",
              "    .dataframe tbody tr th {\n",
              "        vertical-align: top;\n",
              "    }\n",
              "\n",
              "    .dataframe thead th {\n",
              "        text-align: right;\n",
              "    }\n",
              "</style>\n",
              "<table border=\"1\" class=\"dataframe\">\n",
              "  <thead>\n",
              "    <tr style=\"text-align: right;\">\n",
              "      <th></th>\n",
              "      <th>RowNumber</th>\n",
              "      <th>CustomerId</th>\n",
              "      <th>Surname</th>\n",
              "      <th>CreditScore</th>\n",
              "      <th>Geography</th>\n",
              "      <th>Gender</th>\n",
              "      <th>Age</th>\n",
              "      <th>Tenure</th>\n",
              "      <th>Balance</th>\n",
              "      <th>NumOfProducts</th>\n",
              "      <th>HasCrCard</th>\n",
              "      <th>IsActiveMember</th>\n",
              "      <th>EstimatedSalary</th>\n",
              "      <th>Exited</th>\n",
              "    </tr>\n",
              "  </thead>\n",
              "  <tbody>\n",
              "    <tr>\n",
              "      <th>0</th>\n",
              "      <td>1</td>\n",
              "      <td>15634602</td>\n",
              "      <td>Hargrave</td>\n",
              "      <td>619</td>\n",
              "      <td>France</td>\n",
              "      <td>Female</td>\n",
              "      <td>42</td>\n",
              "      <td>2</td>\n",
              "      <td>0.00</td>\n",
              "      <td>1</td>\n",
              "      <td>1</td>\n",
              "      <td>1</td>\n",
              "      <td>101348.88</td>\n",
              "      <td>1</td>\n",
              "    </tr>\n",
              "    <tr>\n",
              "      <th>1</th>\n",
              "      <td>2</td>\n",
              "      <td>15647311</td>\n",
              "      <td>Hill</td>\n",
              "      <td>608</td>\n",
              "      <td>Spain</td>\n",
              "      <td>Female</td>\n",
              "      <td>41</td>\n",
              "      <td>1</td>\n",
              "      <td>83807.86</td>\n",
              "      <td>1</td>\n",
              "      <td>0</td>\n",
              "      <td>1</td>\n",
              "      <td>112542.58</td>\n",
              "      <td>0</td>\n",
              "    </tr>\n",
              "    <tr>\n",
              "      <th>2</th>\n",
              "      <td>3</td>\n",
              "      <td>15619304</td>\n",
              "      <td>Onio</td>\n",
              "      <td>502</td>\n",
              "      <td>France</td>\n",
              "      <td>Female</td>\n",
              "      <td>42</td>\n",
              "      <td>8</td>\n",
              "      <td>159660.80</td>\n",
              "      <td>3</td>\n",
              "      <td>1</td>\n",
              "      <td>0</td>\n",
              "      <td>113931.57</td>\n",
              "      <td>1</td>\n",
              "    </tr>\n",
              "    <tr>\n",
              "      <th>3</th>\n",
              "      <td>4</td>\n",
              "      <td>15701354</td>\n",
              "      <td>Boni</td>\n",
              "      <td>699</td>\n",
              "      <td>France</td>\n",
              "      <td>Female</td>\n",
              "      <td>39</td>\n",
              "      <td>1</td>\n",
              "      <td>0.00</td>\n",
              "      <td>2</td>\n",
              "      <td>0</td>\n",
              "      <td>0</td>\n",
              "      <td>93826.63</td>\n",
              "      <td>0</td>\n",
              "    </tr>\n",
              "    <tr>\n",
              "      <th>4</th>\n",
              "      <td>5</td>\n",
              "      <td>15737888</td>\n",
              "      <td>Mitchell</td>\n",
              "      <td>850</td>\n",
              "      <td>Spain</td>\n",
              "      <td>Female</td>\n",
              "      <td>43</td>\n",
              "      <td>2</td>\n",
              "      <td>125510.82</td>\n",
              "      <td>1</td>\n",
              "      <td>1</td>\n",
              "      <td>1</td>\n",
              "      <td>79084.10</td>\n",
              "      <td>0</td>\n",
              "    </tr>\n",
              "  </tbody>\n",
              "</table>\n",
              "</div>"
            ],
            "text/plain": [
              "   RowNumber  CustomerId   Surname  CreditScore Geography  Gender  Age  \\\n",
              "0          1    15634602  Hargrave          619    France  Female   42   \n",
              "1          2    15647311      Hill          608     Spain  Female   41   \n",
              "2          3    15619304      Onio          502    France  Female   42   \n",
              "3          4    15701354      Boni          699    France  Female   39   \n",
              "4          5    15737888  Mitchell          850     Spain  Female   43   \n",
              "\n",
              "   Tenure    Balance  NumOfProducts  HasCrCard  IsActiveMember  \\\n",
              "0       2       0.00              1          1               1   \n",
              "1       1   83807.86              1          0               1   \n",
              "2       8  159660.80              3          1               0   \n",
              "3       1       0.00              2          0               0   \n",
              "4       2  125510.82              1          1               1   \n",
              "\n",
              "   EstimatedSalary  Exited  \n",
              "0        101348.88       1  \n",
              "1        112542.58       0  \n",
              "2        113931.57       1  \n",
              "3         93826.63       0  \n",
              "4         79084.10       0  "
            ]
          },
          "metadata": {
            "tags": []
          },
          "execution_count": 4
        }
      ]
    },
    {
      "metadata": {
        "id": "98O3WxVX7x3M",
        "colab_type": "code",
        "outputId": "405fc66e-f159-4602-d20d-c41c1328e3b1",
        "colab": {
          "base_uri": "https://localhost:8080/",
          "height": 51
        }
      },
      "cell_type": "code",
      "source": [
        "X = dataset.iloc[:, 3:13].values\n",
        "y = dataset.iloc[:, 13].values\n",
        "print(X.shape)\n",
        "print(y.shape)"
      ],
      "execution_count": 26,
      "outputs": [
        {
          "output_type": "stream",
          "text": [
            "(10000, 10)\n",
            "(10000,)\n"
          ],
          "name": "stdout"
        }
      ]
    },
    {
      "metadata": {
        "id": "Jc5Qt_WtG-tQ",
        "colab_type": "text"
      },
      "cell_type": "markdown",
      "source": [
        "### 1.2 Encoding categorical data\n",
        "\n",
        "Encode the country name (string) to 0, 1, 2 etc. \n",
        "Encode female/male (string) to 0, 1\n",
        "\n",
        "Also need One Hot Encoding, see [Label Encoder vs. One Hot Encoder](https://medium.com/@contactsunny/label-encoder-vs-one-hot-encoder-in-machine-learning-3fc273365621)"
      ]
    },
    {
      "metadata": {
        "id": "HNT14OUTGA0o",
        "colab_type": "code",
        "colab": {}
      },
      "cell_type": "code",
      "source": [
        "from sklearn.preprocessing import LabelEncoder, OneHotEncoder\n",
        "labelencoder_X_1 = LabelEncoder()\n",
        "X[:, 1] = labelencoder_X_1.fit_transform(X[:, 1])\n",
        "labelencoder_X_2 = LabelEncoder()\n",
        "X[:, 2] = labelencoder_X_2.fit_transform(X[:, 2])\n",
        "\n"
      ],
      "execution_count": 0,
      "outputs": []
    },
    {
      "metadata": {
        "id": "-3vj5ylJJhnb",
        "colab_type": "code",
        "outputId": "c143432d-be3d-4fe3-f8aa-fc8697bbd6c8",
        "colab": {
          "base_uri": "https://localhost:8080/",
          "height": 139
        }
      },
      "cell_type": "code",
      "source": [
        "onehotencoder = OneHotEncoder(categorical_features = [1])\n",
        "X = onehotencoder.fit_transform(X).toarray()\n",
        "X = X[:, 1:]"
      ],
      "execution_count": 28,
      "outputs": [
        {
          "output_type": "stream",
          "text": [
            "/usr/local/lib/python3.6/dist-packages/sklearn/preprocessing/_encoders.py:368: FutureWarning: The handling of integer data will change in version 0.22. Currently, the categories are determined based on the range [0, max(values)], while in the future they will be determined based on the unique values.\n",
            "If you want the future behaviour and silence this warning, you can specify \"categories='auto'\".\n",
            "In case you used a LabelEncoder before this OneHotEncoder to convert the categories to integers, then you can now use the OneHotEncoder directly.\n",
            "  warnings.warn(msg, FutureWarning)\n",
            "/usr/local/lib/python3.6/dist-packages/sklearn/preprocessing/_encoders.py:390: DeprecationWarning: The 'categorical_features' keyword is deprecated in version 0.20 and will be removed in 0.22. You can use the ColumnTransformer instead.\n",
            "  \"use the ColumnTransformer instead.\", DeprecationWarning)\n"
          ],
          "name": "stderr"
        }
      ]
    },
    {
      "metadata": {
        "id": "_V7uylCl43VT",
        "colab_type": "text"
      },
      "cell_type": "markdown",
      "source": [
        "### 1.3 Splitting the dataset into the Training set and Test set\n"
      ]
    },
    {
      "metadata": {
        "id": "ZC-jcbxGDsg0",
        "colab_type": "code",
        "colab": {}
      },
      "cell_type": "code",
      "source": [
        "from sklearn.model_selection import train_test_split\n",
        "X_train, X_test, y_train, y_test = train_test_split(X, y, test_size = 0.2, random_state = 0)"
      ],
      "execution_count": 0,
      "outputs": []
    },
    {
      "metadata": {
        "id": "O4IeRW4ANln_",
        "colab_type": "text"
      },
      "cell_type": "markdown",
      "source": [
        "### 1.4 Feature Scaling"
      ]
    },
    {
      "metadata": {
        "id": "S-GiB9So43VX",
        "colab_type": "code",
        "colab": {}
      },
      "cell_type": "code",
      "source": [
        "from sklearn.preprocessing import StandardScaler\n",
        "sc = StandardScaler()\n",
        "X_train = sc.fit_transform(X_train)\n",
        "X_test = sc.transform(X_test)\n"
      ],
      "execution_count": 0,
      "outputs": []
    },
    {
      "metadata": {
        "id": "vH7w4qLR43Vs",
        "colab_type": "code",
        "outputId": "cae88c33-3781-42cc-c842-c0762a453b91",
        "colab": {
          "base_uri": "https://localhost:8080/",
          "height": 391
        }
      },
      "cell_type": "code",
      "source": [
        "print( X_train.shape )\n",
        "print( X_test.shape )\n",
        "print( X_train[0:10,:])\n"
      ],
      "execution_count": 0,
      "outputs": [
        {
          "output_type": "stream",
          "text": [
            "(8000, 11)\n",
            "(2000, 11)\n",
            "[[-0.5698444   1.74309049  0.16958176 -1.09168714 -0.46460796  0.00666099\n",
            "  -1.21571749  0.8095029   0.64259497 -1.03227043  1.10643166]\n",
            " [ 1.75486502 -0.57369368 -2.30455945  0.91601335  0.30102557 -1.37744033\n",
            "  -0.00631193 -0.92159124  0.64259497  0.9687384  -0.74866447]\n",
            " [-0.5698444  -0.57369368 -1.19119591 -1.09168714 -0.94312892 -1.031415\n",
            "   0.57993469 -0.92159124  0.64259497 -1.03227043  1.48533467]\n",
            " [-0.5698444   1.74309049  0.03556578  0.91601335  0.10961719  0.00666099\n",
            "   0.47312769 -0.92159124  0.64259497 -1.03227043  1.27652776]\n",
            " [-0.5698444   1.74309049  2.05611444 -1.09168714  1.73658844  1.04473698\n",
            "   0.8101927   0.8095029   0.64259497  0.9687384   0.55837842]\n",
            " [ 1.75486502 -0.57369368  1.29325423 -1.09168714 -0.17749539 -1.031415\n",
            "   0.44253504  0.8095029   0.64259497 -1.03227043  1.63252134]\n",
            " [-0.5698444  -0.57369368  1.6128308   0.91601335  0.77954653 -1.37744033\n",
            "   0.30432823 -0.92159124 -1.55619021 -1.03227043  0.48149647]\n",
            " [-0.5698444   1.74309049 -0.54173384  0.91601335  0.20532138  1.04473698\n",
            "  -1.21571749  0.8095029   0.64259497  0.9687384   1.07382167]\n",
            " [-0.5698444   1.74309049 -0.14999481  0.91601335  3.55496808  1.39076231\n",
            "   0.80633029 -0.92159124  0.64259497  0.9687384  -1.04949755]\n",
            " [-0.5698444  -0.57369368 -0.29431972 -1.09168714 -0.65601634  0.35268632\n",
            "   1.48636403  0.8095029   0.64259497 -1.03227043  0.01539358]]\n"
          ],
          "name": "stdout"
        }
      ]
    },
    {
      "metadata": {
        "id": "kFQoOEm5O6Df",
        "colab_type": "text"
      },
      "cell_type": "markdown",
      "source": [
        "## 2. Build Artificial Neural Network"
      ]
    },
    {
      "metadata": {
        "scrolled": true,
        "id": "0thyjNpL43WA",
        "colab_type": "code",
        "outputId": "27c86c57-6f35-464a-c27d-6b9590725dfa",
        "colab": {
          "base_uri": "https://localhost:8080/",
          "height": 34
        }
      },
      "cell_type": "code",
      "source": [
        "import keras\n",
        "from keras.models import Sequential\n",
        "from keras.layers import Dense\n",
        "from keras.layers import Dropout"
      ],
      "execution_count": 10,
      "outputs": [
        {
          "output_type": "stream",
          "text": [
            "Using TensorFlow backend.\n"
          ],
          "name": "stderr"
        }
      ]
    },
    {
      "metadata": {
        "id": "Bk-Na74oPVeu",
        "colab_type": "text"
      },
      "cell_type": "markdown",
      "source": [
        "### 2.1 Build ANN\n",
        "the input layer and the first hidden layer\n",
        "\n",
        "*   Input layer = 11 features based on the dataset\n",
        "*   First Hidden layer = 6, Rectified Linear Units (ReLU) function\n",
        "*   Second Hidden layer = 6, Rectified Linear Units (ReLU) function\n",
        "*   Output Layer = 1, using sigmoid function\n",
        "\n",
        "\n",
        "\n",
        "\n"
      ]
    },
    {
      "metadata": {
        "id": "YVAqVso_43WT",
        "colab_type": "code",
        "colab": {}
      },
      "cell_type": "code",
      "source": [
        "classifier = Sequential()\n",
        "classifier.add(Dense(units = 6, kernel_initializer = 'uniform', activation = 'relu', input_dim = 11))\n",
        "classifier.add(Dropout(rate = 0.2)) # To improve the ANN, dropout Regularization to reduce overfitting if needed\n",
        "\n",
        "classifier.add(Dense(units = 6, kernel_initializer = 'uniform', activation = 'relu'))\n",
        "classifier.add(Dropout(rate = 0.2))   # To improve the ANN, dropout Regularization to reduce overfitting if needed\n",
        "\n",
        "classifier.add(Dense(units = 1, kernel_initializer = 'uniform', activation = 'sigmoid'))\n"
      ],
      "execution_count": 0,
      "outputs": []
    },
    {
      "metadata": {
        "id": "6ATuXdxt43Wd",
        "colab_type": "text"
      },
      "cell_type": "markdown",
      "source": [
        "### 2.2 Compiling the ANN"
      ]
    },
    {
      "metadata": {
        "id": "92BsLxbz43Wg",
        "colab_type": "code",
        "colab": {}
      },
      "cell_type": "code",
      "source": [
        "classifier.compile(optimizer = 'adam', loss = 'binary_crossentropy', metrics = ['accuracy'])"
      ],
      "execution_count": 0,
      "outputs": []
    },
    {
      "metadata": {
        "id": "0HYa9OPg43Wq",
        "colab_type": "text"
      },
      "cell_type": "markdown",
      "source": [
        "### 2.3 Fitting the ANN to the Training set"
      ]
    },
    {
      "metadata": {
        "scrolled": true,
        "id": "wsHK_PW643Wt",
        "colab_type": "code",
        "colab": {}
      },
      "cell_type": "code",
      "source": [
        "classifier.fit(X_train, y_train, batch_size = 10, epochs = 100)"
      ],
      "execution_count": 0,
      "outputs": []
    },
    {
      "metadata": {
        "id": "e6fSuSk443W2",
        "colab_type": "text"
      },
      "cell_type": "markdown",
      "source": [
        "### 2.4 Making predictions and evaluating the model with test set"
      ]
    },
    {
      "metadata": {
        "id": "zf5fQ4nY43W5",
        "colab_type": "code",
        "colab": {}
      },
      "cell_type": "code",
      "source": [
        "y_pred = classifier.predict(X_test)\n",
        "y_pred = (y_pred > 0.5)"
      ],
      "execution_count": 0,
      "outputs": []
    },
    {
      "metadata": {
        "id": "xl2a7rH243XI",
        "colab_type": "code",
        "outputId": "2bae7dc7-5192-447c-ec2a-f455f4ab052c",
        "colab": {
          "base_uri": "https://localhost:8080/",
          "height": 255
        }
      },
      "cell_type": "code",
      "source": [
        "from sklearn.metrics import accuracy_score\n",
        "from sklearn.metrics import confusion_matrix\n",
        "from sklearn.metrics import classification_report\n",
        "\n",
        "cm = confusion_matrix(y_test, y_pred)\n",
        "print(\"Confusion Matrix:\\n\", cm)\n",
        "print(\"Accuracy Score:\\n\", accuracy_score(y_test, y_pred) )\n",
        "print(classification_report(y_test, y_pred))"
      ],
      "execution_count": 24,
      "outputs": [
        {
          "output_type": "stream",
          "text": [
            "Confusion Matrix:\n",
            " [[1561   34]\n",
            " [ 257  148]]\n",
            "Accuracy Score:\n",
            " 0.8545\n",
            "              precision    recall  f1-score   support\n",
            "\n",
            "           0       0.86      0.98      0.91      1595\n",
            "           1       0.81      0.37      0.50       405\n",
            "\n",
            "   micro avg       0.85      0.85      0.85      2000\n",
            "   macro avg       0.84      0.67      0.71      2000\n",
            "weighted avg       0.85      0.85      0.83      2000\n",
            "\n"
          ],
          "name": "stdout"
        }
      ]
    },
    {
      "metadata": {
        "id": "kXa5iI0vU2Bu",
        "colab_type": "text"
      },
      "cell_type": "markdown",
      "source": [
        "### 2.5 Predicting a single new observation\n",
        "\n",
        "Predict if the customer with the following informations will leave the bank:\n",
        "\n",
        "\n",
        "*   Geography: France\n",
        "*   Credit Score: 600\n",
        "*   Gender: Male\n",
        "*   Age: 40\n",
        "*   Tenure: 3\n",
        "*   Balance: 60000\n",
        "*   Number of Products: 2\n",
        "*   Has Credit Card: Yes\n",
        "*   Is Active Member: Yes\n",
        "*   Estimated Salary: 50000\n",
        "\n",
        "\n"
      ]
    },
    {
      "metadata": {
        "id": "7hniUcx543Xf",
        "colab_type": "code",
        "outputId": "54383f4d-06ce-4694-a7c6-f6a9a1fbfe52",
        "colab": {
          "base_uri": "https://localhost:8080/",
          "height": 34
        }
      },
      "cell_type": "code",
      "source": [
        "X_new_single = np.array([[0.0, 0, 600, 1, 40, 3, 60000, 2, 1, 1, 50000]])\n",
        "X_new_single = sc.transform(X_new_single)\n",
        "y_new_single = classifier.predict(X_new_single)\n",
        "y_new_single = (y_new_single>0.5)\n",
        "print( y_new_single )"
      ],
      "execution_count": 25,
      "outputs": [
        {
          "output_type": "stream",
          "text": [
            "[[False]]\n"
          ],
          "name": "stdout"
        }
      ]
    },
    {
      "metadata": {
        "id": "vEMi8dON0_s3",
        "colab_type": "text"
      },
      "cell_type": "markdown",
      "source": [
        "## 3. Evaluating the ANN\n",
        "\n",
        "Note: Do not run Section 2. I.e. run Section 1 to prepare the data, skip Section 2, and Run this section."
      ]
    },
    {
      "metadata": {
        "id": "-xkNbapZ1IX4",
        "colab_type": "code",
        "colab": {}
      },
      "cell_type": "code",
      "source": [
        "from keras.wrappers.scikit_learn import KerasClassifier\n",
        "from sklearn.model_selection import cross_val_score\n",
        "from keras.models import Sequential\n",
        "from keras.layers import Dense\n"
      ],
      "execution_count": 0,
      "outputs": []
    },
    {
      "metadata": {
        "id": "N1Re9DpR1Qk_",
        "colab_type": "code",
        "colab": {}
      },
      "cell_type": "code",
      "source": [
        "def build_classifier():\n",
        "    classifier = Sequential()\n",
        "    classifier.add(Dense(units = 6, kernel_initializer = 'uniform', activation = 'relu', input_dim = 11))\n",
        "    classifier.add(Dense(units = 6, kernel_initializer = 'uniform', activation = 'relu'))\n",
        "    classifier.add(Dense(units = 1, kernel_initializer = 'uniform', activation = 'sigmoid'))\n",
        "    classifier.compile(optimizer = 'adam', loss = 'binary_crossentropy', metrics = ['accuracy'])\n",
        "    return classifier\n",
        "  \n",
        "classifier = KerasClassifier(build_fn = build_classifier, batch_size = 10, epochs = 100)\n",
        "accuracies = cross_val_score(estimator = classifier, X = X_train, y = y_train, cv = 10, n_jobs = -1)\n",
        "mean = accuracies.mean()\n",
        "variance = accuracies.std()\n"
      ],
      "execution_count": 0,
      "outputs": []
    },
    {
      "metadata": {
        "id": "m3vrjKyf0OVu",
        "colab_type": "text"
      },
      "cell_type": "markdown",
      "source": [
        "## 4. Tuning the Artificial Neural Network\n",
        "\n",
        "Find out the best parameters for the ANN\n",
        "\n",
        "Note: Do not run Section 2 and 3. (I.e. run Section 1 to prepare the data, skip Section 2 and 3, then Run this section.)"
      ]
    },
    {
      "metadata": {
        "id": "0qHSDCHN0dwr",
        "colab_type": "code",
        "colab": {}
      },
      "cell_type": "code",
      "source": [
        "from keras.wrappers.scikit_learn import KerasClassifier\n",
        "from sklearn.model_selection import GridSearchCV\n",
        "from keras.models import Sequential\n",
        "from keras.layers import Dense\n"
      ],
      "execution_count": 0,
      "outputs": []
    },
    {
      "metadata": {
        "id": "bNfSkOro1n7Y",
        "colab_type": "code",
        "colab": {}
      },
      "cell_type": "code",
      "source": [
        "def build_classifier(optimizer,units):\n",
        "    classifier = Sequential()\n",
        "    classifier.add(Dense(units = units, kernel_initializer = 'uniform', activation = 'relu', input_dim = 11))\n",
        "    classifier.add(Dense(units = units, kernel_initializer = 'uniform', activation = 'relu'))\n",
        "    classifier.add(Dense(units = 1, kernel_initializer = 'uniform', activation = 'sigmoid'))\n",
        "    classifier.compile(optimizer = optimizer, loss = 'binary_crossentropy', metrics = ['accuracy'])\n",
        "    return classifier\n",
        "classifier = KerasClassifier(build_fn = build_classifier)\n",
        "parameters = {'batch_size': [16, 32, 64],\n",
        "              'epochs': [100, 500],\n",
        "              'optimizer': ['adam', 'rmsprop'],\n",
        "              'units': [6,12,18]}\n",
        "\n",
        "grid_search = GridSearchCV(estimator = classifier,\n",
        "                           param_grid = parameters,\n",
        "                           scoring = 'accuracy',\n",
        "                           cv = 10)\n",
        "grid_search = grid_search.fit(X_train, y_train)\n",
        "\n",
        "best_parameters = grid_search.best_params_\n",
        "best_accuracy = grid_search.best_score_\n",
        "\n",
        "print(best_parameters)\n",
        "print(best_accuracy)"
      ],
      "execution_count": 0,
      "outputs": []
    }
  ]
}