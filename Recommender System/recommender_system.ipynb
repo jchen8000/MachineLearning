{
  "nbformat": 4,
  "nbformat_minor": 0,
  "metadata": {
    "colab": {
      "name": "recommender_system.ipynb",
      "version": "0.3.2",
      "provenance": [],
      "include_colab_link": true
    },
    "kernelspec": {
      "name": "python3",
      "display_name": "Python 3"
    }
  },
  "cells": [
    {
      "cell_type": "markdown",
      "metadata": {
        "id": "view-in-github",
        "colab_type": "text"
      },
      "source": [
        "<a href=\"https://colab.research.google.com/github/jchen8000/MachineLearning/blob/master/Recommender%20System/recommender_system.ipynb\" target=\"_parent\"><img src=\"https://colab.research.google.com/assets/colab-badge.svg\" alt=\"Open In Colab\"/></a>"
      ]
    },
    {
      "cell_type": "markdown",
      "metadata": {
        "id": "VCRIblOx49nO",
        "colab_type": "text"
      },
      "source": [
        "# Recommender System\n",
        "\n",
        "\n",
        "https://sdsawtelle.github.io/blog/output/week9-recommender-andrew-ng-machine-learning-with-python.html\n",
        "\n",
        "https://github.com/kaleko/CourseraML/tree/master/ex8\n",
        "\n",
        "https://towardsdatascience.com/how-to-build-a-simple-recommender-system-in-python-375093c3fb7d"
      ]
    },
    {
      "cell_type": "markdown",
      "metadata": {
        "id": "R5IoQbge9my5",
        "colab_type": "text"
      },
      "source": [
        "## 1. Collaborative Filtering Algorithm\n",
        "\n",
        "$r(i,j) = 1 $: if user $j$ has rated movie $i$ ($0$ otherwise)\n",
        "\n",
        "$y^{(i,j)} = $ rating by user $j$ on movie $i$ (if defined)\n",
        "\n",
        "$\\theta^{(j)} = $ parameter vector for user $j$, $ \\qquad\\theta^{(j)}\\in \\mathbb{R}^{n+1} $ \n",
        "\n",
        "$x^{(i)} = $feature vector for movie $i$\n",
        "\n"
      ]
    },
    {
      "cell_type": "markdown",
      "metadata": {
        "id": "Nwj3TIsQL-6m",
        "colab_type": "text"
      },
      "source": [
        "### 1.1 Collaborative Filtering cost function\n",
        "\n",
        "1. Given $x^{(1)},...,x^{(n_m)}, \\textrm{ estimate  }\\theta^{(1)},...,\\theta^{(n_u)} \\textrm{:}$\n",
        "\n",
        "$\\qquad \\displaystyle\\min_{\\theta^{(1)},...,\\theta^{(n_u)} } J = \\frac{1}{2}\\sum_{j=1}^{n_u}\\sum_{i:r(i,j)=1}((\\theta^{(j)})^Tx^{(i)}-y^{(i,j)})^2 + \\frac{\\lambda}{2}\\sum_{j=1}^{n_u}\\sum_{k=1}^n(\\theta_k^{(j)})^2$\n",
        "\n",
        "2. Given $\\theta^{(1)},...,\\theta^{(n_u)}, \\textrm{ estimate  } x^{(1)},...,x^{(n_m)}\\textrm{:}$\n",
        "\n",
        "$\\qquad \\displaystyle\\min_{x^{(1)},...,x^{(n_m)}} J = \\frac{1}{2}\\sum_{i=1}^{n_m}\\sum_{j:r(i,j)=1}((\\theta^{(j)})^Tx^{(i)}-y^{(i,j)})^2 + \\frac{\\lambda}{2}\\sum_{i=1}^{n_m}\\sum_{k=1}^n(x_k^{(i)})^2$\n",
        "\n",
        "\n",
        "3. Minimizing  $x^{(1)},...,x^{(n_m)}, \\textrm{ and  }\\theta^{(1)},...,\\theta^{(n_u)} \\textrm{ simultaneously:}$\n",
        "$ J(x^{(1)},...,x^{(n_m)},\\theta^{(1)},...,\\theta^{(n_u)}) = \\displaystyle\\frac{1}{2}\\sum_{(i,j):r(i,j)=1}((\\theta^{(j)})^Tx^{(i)}-y^{(i,j)})^2 +\\frac{\\lambda}{2}\\sum_{j=1}^{n_u}\\sum_{k=1}^n(\\theta_k^{(j)})^2 +  \\frac{\\lambda}{2}\\sum_{i=1}^{n_m}\\sum_{k=1}^n(x_k^{(i)})^2$\n",
        "\n",
        "$\\qquad \\displaystyle\\min_{\\theta^{(1)},...,\\theta^{(n_u)},x^{(1)},...,x^{(n_m)} }J(x^{(1)},...,x^{(n_m)},\\theta^{(1)},...,\\theta^{(n_u)}) $"
      ]
    },
    {
      "cell_type": "markdown",
      "metadata": {
        "id": "uGXeERMSMRPk",
        "colab_type": "text"
      },
      "source": [
        "### 1.2 Collaborative Filtering gradient\n",
        "\n",
        "$\\qquad \\displaystyle\\frac{\\partial J}{\\partial x_k^{(i)}} = \\sum_{j:r(i,j)=1}((\\theta^{(j)})^Tx^{(i)}-y^{(i,j)})\\theta_k^{(j)}+\\lambda x_k^{(i)}$\n",
        "\n",
        "$\\qquad \\displaystyle\\frac{\\partial J}{\\partial \\theta_k^{(j)}} = \\sum_{j:r(i,j)=1}((\\theta^{(j)})^Tx^{(i)}-y^{(i,j)})x_k^{(i)}+\\lambda \\theta_k^{(j)}$"
      ]
    },
    {
      "cell_type": "code",
      "metadata": {
        "id": "H-hWwcJHBvrY",
        "colab_type": "code",
        "colab": {}
      },
      "source": [
        "%matplotlib inline\n",
        "import pandas as pd\n",
        "import numpy as np\n",
        "import matplotlib.pyplot as plt\n",
        "import scipy.io \n",
        "import scipy.optimize #Use for fmincg\n"
      ],
      "execution_count": 0,
      "outputs": []
    },
    {
      "cell_type": "markdown",
      "metadata": {
        "id": "eZGOnnsLA0wa",
        "colab_type": "text"
      },
      "source": [
        "## 2. Movie ratings dataset\n",
        "\n",
        "https://github.com/arturomp/coursera-machine-learning-in-python/blob/master/mlclass-ex8-004/mlclass-ex8/ex8_cofi.py\n",
        "\n",
        "https://stevenpzchan.github.io/ml_dl_coursera_Andrew_Ng/python/machine-learning-ex8\n"
      ]
    },
    {
      "cell_type": "code",
      "metadata": {
        "id": "xEhl-koBAN9Z",
        "colab_type": "code",
        "outputId": "8a7524d6-c821-440a-97c7-b102c00ce0ef",
        "colab": {
          "base_uri": "https://localhost:8080/",
          "height": 945
        }
      },
      "source": [
        "!wget https://github.com/jchen8000/MachineLearning/blob/master/Recommender%20System/ex8_movies.mat?raw=true\n",
        "  \n",
        "!wget https://github.com/jchen8000/MachineLearning/blob/master/Recommender%20System/ex8_movieParams.mat?raw=true  \n",
        "  \n",
        "!wget https://raw.githubusercontent.com/jchen8000/MachineLearning/master/Recommender%20System/movie_ids.txt "
      ],
      "execution_count": 59,
      "outputs": [
        {
          "output_type": "stream",
          "text": [
            "--2019-07-23 18:48:09--  https://github.com/jchen8000/MachineLearning/blob/master/Recommender%20System/ex8_movies.mat?raw=true\n",
            "Resolving github.com (github.com)... 192.30.253.112\n",
            "Connecting to github.com (github.com)|192.30.253.112|:443... connected.\n",
            "HTTP request sent, awaiting response... 302 Found\n",
            "Location: https://github.com/jchen8000/MachineLearning/raw/master/Recommender%20System/ex8_movies.mat [following]\n",
            "--2019-07-23 18:48:09--  https://github.com/jchen8000/MachineLearning/raw/master/Recommender%20System/ex8_movies.mat\n",
            "Reusing existing connection to github.com:443.\n",
            "HTTP request sent, awaiting response... 302 Found\n",
            "Location: https://raw.githubusercontent.com/jchen8000/MachineLearning/master/Recommender%20System/ex8_movies.mat [following]\n",
            "--2019-07-23 18:48:10--  https://raw.githubusercontent.com/jchen8000/MachineLearning/master/Recommender%20System/ex8_movies.mat\n",
            "Resolving raw.githubusercontent.com (raw.githubusercontent.com)... 151.101.0.133, 151.101.64.133, 151.101.128.133, ...\n",
            "Connecting to raw.githubusercontent.com (raw.githubusercontent.com)|151.101.0.133|:443... connected.\n",
            "HTTP request sent, awaiting response... 200 OK\n",
            "Length: 223396 (218K) [application/octet-stream]\n",
            "Saving to: ‘ex8_movies.mat?raw=true’\n",
            "\n",
            "ex8_movies.mat?raw= 100%[===================>] 218.16K  --.-KB/s    in 0.03s   \n",
            "\n",
            "2019-07-23 18:48:10 (7.41 MB/s) - ‘ex8_movies.mat?raw=true’ saved [223396/223396]\n",
            "\n",
            "--2019-07-23 18:48:10--  https://github.com/jchen8000/MachineLearning/blob/master/Recommender%20System/ex8_movieParams.mat?raw=true\n",
            "Resolving github.com (github.com)... 192.30.253.112\n",
            "Connecting to github.com (github.com)|192.30.253.112|:443... connected.\n",
            "HTTP request sent, awaiting response... 302 Found\n",
            "Location: https://github.com/jchen8000/MachineLearning/raw/master/Recommender%20System/ex8_movieParams.mat [following]\n",
            "--2019-07-23 18:48:11--  https://github.com/jchen8000/MachineLearning/raw/master/Recommender%20System/ex8_movieParams.mat\n",
            "Reusing existing connection to github.com:443.\n",
            "HTTP request sent, awaiting response... 302 Found\n",
            "Location: https://raw.githubusercontent.com/jchen8000/MachineLearning/master/Recommender%20System/ex8_movieParams.mat [following]\n",
            "--2019-07-23 18:48:11--  https://raw.githubusercontent.com/jchen8000/MachineLearning/master/Recommender%20System/ex8_movieParams.mat\n",
            "Resolving raw.githubusercontent.com (raw.githubusercontent.com)... 151.101.0.133, 151.101.64.133, 151.101.128.133, ...\n",
            "Connecting to raw.githubusercontent.com (raw.githubusercontent.com)|151.101.0.133|:443... connected.\n",
            "HTTP request sent, awaiting response... 200 OK\n",
            "Length: 201196 (196K) [application/octet-stream]\n",
            "Saving to: ‘ex8_movieParams.mat?raw=true’\n",
            "\n",
            "ex8_movieParams.mat 100%[===================>] 196.48K  --.-KB/s    in 0.02s   \n",
            "\n",
            "2019-07-23 18:48:11 (8.49 MB/s) - ‘ex8_movieParams.mat?raw=true’ saved [201196/201196]\n",
            "\n",
            "--2019-07-23 18:48:12--  https://raw.githubusercontent.com/jchen8000/MachineLearning/master/Recommender%20System/movie_ids.txt\n",
            "Resolving raw.githubusercontent.com (raw.githubusercontent.com)... 151.101.0.133, 151.101.64.133, 151.101.128.133, ...\n",
            "Connecting to raw.githubusercontent.com (raw.githubusercontent.com)|151.101.0.133|:443... connected.\n",
            "HTTP request sent, awaiting response... 200 OK\n",
            "Length: 48444 (47K) [text/plain]\n",
            "Saving to: ‘movie_ids.txt’\n",
            "\n",
            "movie_ids.txt       100%[===================>]  47.31K  --.-KB/s    in 0.01s   \n",
            "\n",
            "2019-07-23 18:48:12 (3.23 MB/s) - ‘movie_ids.txt’ saved [48444/48444]\n",
            "\n"
          ],
          "name": "stdout"
        }
      ]
    },
    {
      "cell_type": "code",
      "metadata": {
        "id": "RErNJe-uATTE",
        "colab_type": "code",
        "outputId": "208d426a-84de-4b3e-b7e4-d013a297f7d2",
        "colab": {
          "base_uri": "https://localhost:8080/",
          "height": 54
        }
      },
      "source": [
        "!ls\n"
      ],
      "execution_count": 60,
      "outputs": [
        {
          "output_type": "stream",
          "text": [
            "'ex8_movieParams.mat?raw=true'\t ml-100k       movie_ids.txt\n",
            "'ex8_movies.mat?raw=true'\t ml-100k.zip   sample_data\n"
          ],
          "name": "stdout"
        }
      ]
    },
    {
      "cell_type": "code",
      "metadata": {
        "id": "moYzJaVd6w5T",
        "colab_type": "code",
        "colab": {}
      },
      "source": [
        "datafile = 'ex8_movies.mat?raw=true'\n",
        "mat = scipy.io.loadmat( datafile )\n",
        "Y = mat['Y']    #Y is a 1682x943 matrix, containing ratings (1-5) of 1682 movies on 943 users\n",
        "R = mat['R']    #R is a 1682x943 matrix, where R(i,j) = 1 if and only if user j gave a rating to movie i\n",
        "nm, nu = Y.shape"
      ],
      "execution_count": 0,
      "outputs": []
    },
    {
      "cell_type": "code",
      "metadata": {
        "id": "D0qOvIjNBaiX",
        "colab_type": "code",
        "outputId": "98b08418-9839-4ed7-eaad-aa8ba72debf2",
        "colab": {
          "base_uri": "https://localhost:8080/",
          "height": 1000
        }
      },
      "source": [
        "fig = plt.figure(figsize=(10,10*(1682./943.)))\n",
        "plt.imshow(Y)\n",
        "plt.colorbar()\n",
        "plt.ylabel('Movies (%d)'%nm,fontsize=20)\n",
        "plt.xlabel('Users (%d)'%nu,fontsize=20)\n",
        "plt.show()\n"
      ],
      "execution_count": 65,
      "outputs": [
        {
          "output_type": "display_data",
          "data": {
            "image/png": "[encoded data removed]",
            "text/plain": [
              "<Figure size 720x1284.24 with 2 Axes>"
            ]
          },
          "metadata": {
            "tags": []
          }
        }
      ]
    },
    {
      "cell_type": "code",
      "metadata": {
        "id": "VfukAZkGKc3i",
        "colab_type": "code",
        "colab": {
          "base_uri": "https://localhost:8080/",
          "height": 145
        },
        "outputId": "6de41e26-4bd8-48d8-a38f-728d8e718223"
      },
      "source": [
        "Y"
      ],
      "execution_count": 66,
      "outputs": [
        {
          "output_type": "execute_result",
          "data": {
            "text/plain": [
              "array([[5, 4, 0, ..., 5, 0, 0],\n",
              "       [3, 0, 0, ..., 0, 0, 5],\n",
              "       [4, 0, 0, ..., 0, 0, 0],\n",
              "       ...,\n",
              "       [0, 0, 0, ..., 0, 0, 0],\n",
              "       [0, 0, 0, ..., 0, 0, 0],\n",
              "       [0, 0, 0, ..., 0, 0, 0]], dtype=uint8)"
            ]
          },
          "metadata": {
            "tags": []
          },
          "execution_count": 66
        }
      ]
    },
    {
      "cell_type": "code",
      "metadata": {
        "id": "groW8nqVCEzs",
        "colab_type": "code",
        "colab": {}
      },
      "source": [
        "datafile = 'ex8_movieParams.mat?raw=true'\n",
        "mat = scipy.io.loadmat( datafile )\n",
        "X = mat['X']\n",
        "Theta = mat['Theta']\n",
        "num_users = int(mat['num_users'])\n",
        "num_movies = int(mat['num_movies'])\n",
        "num_features = int(mat['num_features'])"
      ],
      "execution_count": 0,
      "outputs": []
    },
    {
      "cell_type": "code",
      "metadata": {
        "id": "LUcZYUCzD92J",
        "colab_type": "code",
        "colab": {}
      },
      "source": [
        "#  Reduce the data set size so that this runs faster\n",
        "num_users = 4\n",
        "num_movies = 5\n",
        "num_features = 3\n",
        "X = X[:num_movies, :num_features]\n",
        "Theta = Theta[:num_users, :num_features]\n",
        "Y = Y[:num_movies, :num_users]\n",
        "R = R[:num_movies, :num_users]"
      ],
      "execution_count": 0,
      "outputs": []
    },
    {
      "cell_type": "code",
      "metadata": {
        "id": "5xpz0PbYEY9i",
        "colab_type": "code",
        "colab": {}
      },
      "source": [
        "def flattenParams(X, Theta):\n",
        "    \"\"\"\n",
        "    Hand this function an X matrix and a Theta matrix and it will flatten\n",
        "    it into into one long (nm*nf + nu*nf,1) shaped numpy array\n",
        "    \"\"\"\n",
        "    return np.concatenate((X.flatten(), Theta.flatten()))\n",
        "\n",
        "# A utility function to re-shape the X and Theta will probably come in handy\n",
        "def reshapeParams(flattened_XandTheta, nm, nu, nf):\n",
        "    assert flattened_XandTheta.shape[0] == int(num_movies*num_features+num_users*num_features)\n",
        "    \n",
        "    reX = flattened_XandTheta[:int(nm*nf)].reshape((nm,nf))\n",
        "    reTheta = flattened_XandTheta[int(nm*nf):].reshape((nu,nf))\n",
        "    \n",
        "    return reX, reTheta"
      ],
      "execution_count": 0,
      "outputs": []
    },
    {
      "cell_type": "code",
      "metadata": {
        "id": "T3D0yYKzW1Za",
        "colab_type": "code",
        "colab": {}
      },
      "source": [
        "def cofiCostFunc(params, Y, R, num_users, num_movies, num_features, lambda_=0):\n",
        "    #COFICOSTFUNC Collaborative filtering cost function\n",
        "    #   [J, grad] = COFICOSTFUNC(params, Y, R, num_users, num_movies, ...\n",
        "    #   num_features, lambda) returns the cost and gradient for the\n",
        "    #   collaborative filtering problem.\n",
        "    #\n",
        "    \n",
        "    X, Theta = reshapeParams(params, num_movies, num_users, num_features)\n",
        "\n",
        "    # These are the return values\n",
        "    J = 0\n",
        "    X_grad = np.zeros(X.shape)\n",
        "    Theta_grad = np.zeros(Theta.shape)\n",
        "    \n",
        "    \n",
        "    ### COST FUNCTION, NO REGULARIZATION\n",
        "    # X * Theta performed according to low rank matrix vectorization\n",
        "    squared_error = np.power(np.dot(X,Theta.T) - Y,2)\n",
        "\n",
        "    # for cost function, sum only i,j for which R(i,j)=1\n",
        "    J = (1/2.) * np.sum(squared_error * R)\n",
        "    J = J + (lambda_/2.)*( np.sum( np.power(Theta, 2) ) + np.sum( np.power(X, 2) ) )\n",
        "\n",
        "    ### GRADIENTS, NO REGULARIZATION\n",
        "    X_grad = np.dot(( np.dot(X, Theta.T) - Y ) * R, Theta)\n",
        "    X_grad = X_grad + lambda_*X\n",
        "\n",
        "    Theta_grad = np.dot((( np.dot(X, Theta.T) - Y ) * R).T, X)\n",
        "    Theta_grad = Theta_grad + lambda_*Theta\n",
        "    \n",
        "    grad = flattenParams(X_grad, Theta_grad)\n",
        "    \n",
        "    return J, grad"
      ],
      "execution_count": 0,
      "outputs": []
    },
    {
      "cell_type": "code",
      "metadata": {
        "id": "DNyvKJQxFSE_",
        "colab_type": "code",
        "colab": {}
      },
      "source": [
        "def cofiCostFunc(myparams, myY, myR, mynu, mynm, mynf, mylambda = 0.):\n",
        "    \n",
        "    # Unfold the X and Theta matrices from the flattened params\n",
        "    X, Theta = reshapeParams(myparams, mynm, mynu, mynf)\n",
        "  \n",
        "    # Note: \n",
        "    # X Shape is (nm x nf), Theta shape is (nu x nf), Y and R shape is (nm x nu)\n",
        "    # Behold! Complete vectorization\n",
        "    \n",
        "    # First dot theta and X together such that you get a matrix the same shape as Y\n",
        "    term1 = myX.dot(myTheta.T)\n",
        "    \n",
        "    # Then element-wise multiply that matrix by the R matrix\n",
        "    # so only terms from movies which that user rated are counted in the cost\n",
        "    term1 = np.multiply(term1,myR)\n",
        "    \n",
        "    # Then subtract the Y- matrix (which has 0 entries for non-rated\n",
        "    # movies by each user, so no need to multiply that by myR... though, if\n",
        "    # a user could rate a movie \"0 stars\" then myY would have to be element-\n",
        "    # wise multiplied by myR as well) \n",
        "    # also square that whole term, sum all elements in the resulting matrix,\n",
        "    # and multiply by 0.5 to get the cost\n",
        "    cost = 0.5 * np.sum( np.square(term1-myY) )\n",
        "    \n",
        "    # Regularization stuff\n",
        "    cost += (mylambda/2.) * np.sum(np.square(myTheta))\n",
        "    cost += (mylambda/2.) * np.sum(np.square(myX))\n",
        "    \n",
        "    return cost"
      ],
      "execution_count": 0,
      "outputs": []
    },
    {
      "cell_type": "code",
      "metadata": {
        "id": "T8ux91HYFXsM",
        "colab_type": "code",
        "outputId": "826079b1-bbfa-4226-e8d8-0236bd4da9ae",
        "colab": {
          "base_uri": "https://localhost:8080/",
          "height": 54
        }
      },
      "source": [
        "# \"...run your cost function. You should expect to see an output of 22.22.\"\n",
        "print( 'Cost with nu = 4, nm = 5, nf = 3 is %0.2f.' % cofiCostFunc(flattenParams(X,Theta),Y,R,num_users,num_movies,num_features) )\n",
        "    \n",
        "# \"...with lambda = 1.5 you should expect to see an output of 31.34.\"\n",
        "print( 'Cost with nu = 4, nm = 5, nf = 3 (and lambda = 1.5) is %0.2f.' % cofiCostFunc(flattenParams(X,Theta),Y,R,num_users,num_movies,num_features,mylambda=1.5) )"
      ],
      "execution_count": 71,
      "outputs": [
        {
          "output_type": "stream",
          "text": [
            "Cost with nu = 4, nm = 5, nf = 3 is 22.22.\n",
            "Cost with nu = 4, nm = 5, nf = 3 (and lambda = 1.5) is 31.34.\n"
          ],
          "name": "stdout"
        }
      ]
    },
    {
      "cell_type": "code",
      "metadata": {
        "id": "hxGqqpYrGuv_",
        "colab_type": "code",
        "colab": {}
      },
      "source": [
        "def cofiGrad(myparams, myY, myR, mynu, mynm, mynf, mylambda = 0.):\n",
        "    \n",
        "    # Unfold the X and Theta matrices from the flattened params\n",
        "    myX, myTheta = reshapeParams(myparams, mynm, mynu, mynf)\n",
        "\n",
        "    # First the X gradient term \n",
        "    # First dot theta and X together such that you get a matrix the same shape as Y\n",
        "    term1 = myX.dot(myTheta.T)\n",
        "    # Then multiply this term by myR to remove any components from movies that\n",
        "    # weren't rated by that user\n",
        "    term1 = np.multiply(term1,myR)\n",
        "    # Now subtract the y matrix (which already has 0 for nonrated movies)\n",
        "    term1 -= myY\n",
        "    # Lastly dot this with Theta such that the resulting matrix has the\n",
        "    # same shape as the X matrix\n",
        "    Xgrad = term1.dot(myTheta)\n",
        "    \n",
        "    # Now the Theta gradient term (reusing the \"term1\" variable)\n",
        "    Thetagrad = term1.T.dot(myX)\n",
        "\n",
        "    # Regularization stuff\n",
        "    Xgrad += mylambda * myX\n",
        "    Thetagrad += mylambda * myTheta\n",
        "    \n",
        "    return flattenParams(Xgrad, Thetagrad)"
      ],
      "execution_count": 0,
      "outputs": []
    },
    {
      "cell_type": "code",
      "metadata": {
        "id": "3h_shsGsGzBL",
        "colab_type": "code",
        "colab": {}
      },
      "source": [
        "def checkGradient(myparams, myY, myR, mynu, mynm, mynf, mylambda = 0.):\n",
        "    \n",
        "    print( 'Numerical Gradient \\t cofiGrad \\t\\t Difference' )\n",
        "    \n",
        "    # Compute a numerical gradient with an epsilon perturbation vector\n",
        "    myeps = 0.0001\n",
        "    nparams = len(myparams)\n",
        "    epsvec = np.zeros(nparams)\n",
        "    # These are my implemented gradient solutions\n",
        "    mygrads = cofiGrad(myparams,myY,myR,mynu,mynm,mynf,mylambda)\n",
        "\n",
        "    # Choose 10 random elements of my combined (X, Theta) param vector\n",
        "    # and compute the numerical gradient for each... print to screen\n",
        "    # the numerical gradient next to the my cofiGradient to inspect\n",
        "    \n",
        "    for i in range(10):\n",
        "        idx = np.random.randint(0,nparams)\n",
        "        epsvec[idx] = myeps\n",
        "        loss1 = cofiCostFunc(myparams-epsvec,myY,myR,mynu,mynm,mynf,mylambda)\n",
        "        loss2 = cofiCostFunc(myparams+epsvec,myY,myR,mynu,mynm,mynf,mylambda)\n",
        "        mygrad = (loss2 - loss1) / (2*myeps)\n",
        "        epsvec[idx] = 0\n",
        "        print( '%0.15f \\t %0.15f \\t %0.15f' % (mygrad, mygrads[idx],mygrad - mygrads[idx]) )"
      ],
      "execution_count": 0,
      "outputs": []
    },
    {
      "cell_type": "code",
      "metadata": {
        "id": "viyq-l1gHFAw",
        "colab_type": "code",
        "outputId": "f5418c9a-58ac-4e89-a6f8-67ee639601d1",
        "colab": {
          "base_uri": "https://localhost:8080/",
          "height": 472
        }
      },
      "source": [
        "print( \"Checking gradient with lambda = 0...\" )\n",
        "checkGradient(flattenParams(X,Theta),Y,R,num_users,num_movies,num_features)\n",
        "\n",
        "print( \"\\nChecking gradient with lambda = 1.5...\" )\n",
        "checkGradient(flattenParams(X,Theta),Y,R,num_users,num_movies,num_features,mylambda = 1.5)"
      ],
      "execution_count": 74,
      "outputs": [
        {
          "output_type": "stream",
          "text": [
            "Checking gradient with lambda = 0...\n",
            "Numerical Gradient \t cofiGrad \t\t Difference\n",
            "1.164413669449971 \t 1.164413669446225 \t 0.000000000003746\n",
            "0.000000000000000 \t 0.000000000000000 \t 0.000000000000000\n",
            "0.000000000000000 \t 0.000000000000000 \t 0.000000000000000\n",
            "0.000000000000000 \t 0.000000000000000 \t 0.000000000000000\n",
            "2.263336983929776 \t 2.263336983921972 \t 0.000000000007804\n",
            "0.000000000000000 \t 0.000000000000000 \t 0.000000000000000\n",
            "0.000000000000000 \t 0.000000000000000 \t 0.000000000000000\n",
            "0.000000000000000 \t 0.000000000000000 \t 0.000000000000000\n",
            "-0.568195965513496 \t -0.568195965515757 \t 0.000000000002261\n",
            "-3.474107886720645 \t -3.474107886729185 \t 0.000000000008539\n",
            "\n",
            "Checking gradient with lambda = 1.5...\n",
            "Numerical Gradient \t cofiGrad \t\t Difference\n",
            "0.490265406369872 \t 0.490265406355578 \t 0.000000000014294\n",
            "0.603080880985374 \t 0.603080880979296 \t 0.000000000006078\n",
            "-0.407840857938879 \t -0.407840857935279 \t -0.000000000003600\n",
            "6.975355139733352 \t 6.975355139747124 \t -0.000000000013771\n",
            "-0.647874841526175 \t -0.647874841514519 \t -0.000000000011656\n",
            "1.063009327584297 \t 1.063009327570006 \t 0.000000000014290\n",
            "-2.997914223961118 \t -2.997914223943359 \t -0.000000000017759\n",
            "-10.139854781279212 \t -10.139854781302457 \t 0.000000000023245\n",
            "-2.293470242769047 \t -2.293470242774885 \t 0.000000000005838\n",
            "0.129856157187191 \t 0.129856157163688 \t 0.000000000023503\n"
          ],
          "name": "stdout"
        }
      ]
    },
    {
      "cell_type": "code",
      "metadata": {
        "id": "q6KvB7-8-kgV",
        "colab_type": "code",
        "colab": {}
      },
      "source": [
        "datafile = 'movie_ids.txt'\n",
        "  \n",
        "  \n",
        "# So, this file has the list of movies and their respective index in the Y vector\n",
        "# Let's make a list of strings to reference later\n",
        "movies = []\n",
        "with open(datafile, mode=\"r\", encoding=\"latin-1\") as f:\n",
        "    for line in f:\n",
        "        movies.append(' '.join(line.strip('\\n').split(' ')[1:]))\n",
        "\n",
        "# Rather than rate some movies myself, I'll use what was built-in to the homework\n",
        "# (just so I can check my solutions)\n",
        "my_ratings = np.zeros((1682,1))\n",
        "my_ratings[0]   = 4\n",
        "my_ratings[97]  = 2\n",
        "my_ratings[6]   = 3\n",
        "my_ratings[11]  = 5\n",
        "my_ratings[53]  = 4\n",
        "my_ratings[63]  = 5\n",
        "my_ratings[65]  = 3\n",
        "my_ratings[68]  = 5\n",
        "my_ratings[182] = 4\n",
        "my_ratings[225] = 5\n",
        "my_ratings[354] = 5  "
      ],
      "execution_count": 0,
      "outputs": []
    },
    {
      "cell_type": "code",
      "metadata": {
        "id": "h0B6X-2UB49f",
        "colab_type": "code",
        "colab": {}
      },
      "source": [
        "datafile = 'ex8_movies.mat?raw=true'\n",
        "mat = scipy.io.loadmat( datafile )\n",
        "Y = mat['Y']\n",
        "R = mat['R']\n",
        "# We'll use 10 features\n",
        "num_features = 10"
      ],
      "execution_count": 0,
      "outputs": []
    },
    {
      "cell_type": "code",
      "metadata": {
        "id": "M7rc49rZCohR",
        "colab_type": "code",
        "colab": {}
      },
      "source": [
        "# Add my ratings to the Y matrix, and the relevant row to the R matrix\n",
        "myR_row = my_ratings > 0\n",
        "Y = np.hstack((Y,my_ratings))\n",
        "R = np.hstack((R,myR_row))\n",
        "num_movies, num_users = Y.shape"
      ],
      "execution_count": 0,
      "outputs": []
    },
    {
      "cell_type": "code",
      "metadata": {
        "id": "1gO7zh2yC43g",
        "colab_type": "code",
        "colab": {}
      },
      "source": [
        "def normalizeRatings(myY, myR):\n",
        "    \"\"\"\n",
        "    Preprocess data by subtracting mean rating for every movie (every row)\n",
        "    This is important because without this, a user who hasn't rated any movies\n",
        "    will have a predicted score of 0 for every movie, when in reality\n",
        "    they should have a predicted score of [average score of that movie].\n",
        "    \"\"\"\n",
        "\n",
        "    # The mean is only counting movies that were rated\n",
        "    Ymean = np.sum(myY,axis=1)/np.sum(myR,axis=1)\n",
        "    Ymean = Ymean.reshape((Ymean.shape[0],1))\n",
        "    \n",
        "    return myY-Ymean, Ymean"
      ],
      "execution_count": 0,
      "outputs": []
    },
    {
      "cell_type": "code",
      "metadata": {
        "id": "2Mwt1Ov6C954",
        "colab_type": "code",
        "colab": {}
      },
      "source": [
        "Ynorm, Ymean = normalizeRatings(Y,R)"
      ],
      "execution_count": 0,
      "outputs": []
    },
    {
      "cell_type": "code",
      "metadata": {
        "id": "BNDoK6DXDUfT",
        "colab_type": "code",
        "outputId": "816507c8-4e28-473e-e362-ca703fec7734",
        "colab": {
          "base_uri": "https://localhost:8080/",
          "height": 102
        }
      },
      "source": [
        "# Generate random initial parameters, Theta and X\n",
        "X = np.random.rand(num_movies,num_features)\n",
        "Theta = np.random.rand(num_users,num_features)\n",
        "myflat = flattenParams(X, Theta)\n",
        "\n",
        "# Regularization parameter of 10 is used (as used in the homework assignment)\n",
        "mylambda = 10.\n",
        "\n",
        "# Training the actual model with fmin_cg\n",
        "result = scipy.optimize.fmin_cg(cofiCostFunc, x0=myflat, fprime=cofiGrad, \\\n",
        "                               args=(Y,R,num_users,num_movies,num_features,mylambda), \\\n",
        "                                maxiter=50,disp=True,full_output=True)"
      ],
      "execution_count": 0,
      "outputs": [
        {
          "output_type": "stream",
          "text": [
            "Warning: Maximum number of iterations has been exceeded.\n",
            "         Current function value: 72732.095315\n",
            "         Iterations: 50\n",
            "         Function evaluations: 71\n",
            "         Gradient evaluations: 71\n"
          ],
          "name": "stdout"
        }
      ]
    },
    {
      "cell_type": "code",
      "metadata": {
        "id": "Y6rMNOkEEDA-",
        "colab_type": "code",
        "colab": {}
      },
      "source": [
        "# Reshape the trained output into sensible \"X\" and \"Theta\" matrices\n",
        "resX, resTheta = reshapeParams(result[0], num_movies, num_users, num_features)\n",
        "\n",
        "# After training the model, now make recommendations by computing\n",
        "# the predictions matrix\n",
        "prediction_matrix = resX.dot(resTheta.T)\n",
        "\n",
        "# Grab the last user's predictions (since I put my predictions at the\n",
        "# end of the Y matrix, not the front)\n",
        "# Add back in the mean movie ratings\n",
        "my_predictions = prediction_matrix[:,-1] + Ymean.flatten()"
      ],
      "execution_count": 0,
      "outputs": []
    },
    {
      "cell_type": "code",
      "metadata": {
        "id": "LtnKLV7EEVp1",
        "colab_type": "code",
        "outputId": "c43ce865-233a-46d4-d438-ea43de41df18",
        "colab": {
          "base_uri": "https://localhost:8080/",
          "height": 425
        }
      },
      "source": [
        "# Sort my predictions from highest to lowest\n",
        "pred_idxs_sorted = np.argsort(my_predictions)\n",
        "pred_idxs_sorted[:] = pred_idxs_sorted[::-1]\n",
        "\n",
        "print( \"Top recommendations for you:\" )\n",
        "for i in range(10):\n",
        "    print( 'Predicting rating %0.1f for movie %s.' % \\\n",
        "    (my_predictions[pred_idxs_sorted[i]],movies[pred_idxs_sorted[i]])  )\n",
        "    \n",
        "print( \"\\nOriginal ratings provided:\" )\n",
        "for i in range(len(my_ratings)):\n",
        "    if my_ratings[i] > 0:\n",
        "        print( 'Rated %d for movie %s.' % (my_ratings[i],movies[i])  )"
      ],
      "execution_count": 0,
      "outputs": [
        {
          "output_type": "stream",
          "text": [
            "Top recommendations for you:\n",
            "Predicting rating 8.4 for movie Shawshank Redemption, The (1994).\n",
            "Predicting rating 8.4 for movie Titanic (1997).\n",
            "Predicting rating 8.3 for movie Star Wars (1977).\n",
            "Predicting rating 8.3 for movie Schindler's List (1993).\n",
            "Predicting rating 8.2 for movie Raiders of the Lost Ark (1981).\n",
            "Predicting rating 8.1 for movie Usual Suspects, The (1995).\n",
            "Predicting rating 8.1 for movie Good Will Hunting (1997).\n",
            "Predicting rating 8.0 for movie Braveheart (1995).\n",
            "Predicting rating 8.0 for movie Wrong Trousers, The (1993).\n",
            "Predicting rating 8.0 for movie Empire Strikes Back, The (1980).\n",
            "\n",
            "Original ratings provided:\n",
            "Rated 4 for movie Toy Story (1995).\n",
            "Rated 3 for movie Twelve Monkeys (1995).\n",
            "Rated 5 for movie Usual Suspects, The (1995).\n",
            "Rated 4 for movie Outbreak (1995).\n",
            "Rated 5 for movie Shawshank Redemption, The (1994).\n",
            "Rated 3 for movie While You Were Sleeping (1995).\n",
            "Rated 5 for movie Forrest Gump (1994).\n",
            "Rated 2 for movie Silence of the Lambs, The (1991).\n",
            "Rated 4 for movie Alien (1979).\n",
            "Rated 5 for movie Die Hard 2 (1990).\n",
            "Rated 5 for movie Sphere (1998).\n"
          ],
          "name": "stdout"
        }
      ]
    },
    {
      "cell_type": "markdown",
      "metadata": {
        "id": "bfcVoonK7LGG",
        "colab_type": "text"
      },
      "source": [
        "## 3. MovieLens Dataset"
      ]
    },
    {
      "cell_type": "code",
      "metadata": {
        "id": "Zeurrtk07Uch",
        "colab_type": "code",
        "colab": {
          "base_uri": "https://localhost:8080/",
          "height": 690
        },
        "outputId": "01468ec9-868a-434f-c1f2-fc5b6af07a49"
      },
      "source": [
        "!wget \"http://files.grouplens.org/datasets/movielens/ml-100k.zip\"\n",
        "!unzip ml-100k.zip\n",
        "!ls"
      ],
      "execution_count": 10,
      "outputs": [
        {
          "output_type": "stream",
          "text": [
            "--2019-07-23 17:42:40--  http://files.grouplens.org/datasets/movielens/ml-100k.zip\n",
            "Resolving files.grouplens.org (files.grouplens.org)... 128.101.65.152\n",
            "Connecting to files.grouplens.org (files.grouplens.org)|128.101.65.152|:80... connected.\n",
            "HTTP request sent, awaiting response... 200 OK\n",
            "Length: 4924029 (4.7M) [application/zip]\n",
            "Saving to: ‘ml-100k.zip’\n",
            "\n",
            "ml-100k.zip         100%[===================>]   4.70M  12.3MB/s    in 0.4s    \n",
            "\n",
            "2019-07-23 17:42:41 (12.3 MB/s) - ‘ml-100k.zip’ saved [4924029/4924029]\n",
            "\n",
            "Archive:  ml-100k.zip\n",
            "   creating: ml-100k/\n",
            "  inflating: ml-100k/allbut.pl       \n",
            "  inflating: ml-100k/mku.sh          \n",
            "  inflating: ml-100k/README          \n",
            "  inflating: ml-100k/u.data          \n",
            "  inflating: ml-100k/u.genre         \n",
            "  inflating: ml-100k/u.info          \n",
            "  inflating: ml-100k/u.item          \n",
            "  inflating: ml-100k/u.occupation    \n",
            "  inflating: ml-100k/u.user          \n",
            "  inflating: ml-100k/u1.base         \n",
            "  inflating: ml-100k/u1.test         \n",
            "  inflating: ml-100k/u2.base         \n",
            "  inflating: ml-100k/u2.test         \n",
            "  inflating: ml-100k/u3.base         \n",
            "  inflating: ml-100k/u3.test         \n",
            "  inflating: ml-100k/u4.base         \n",
            "  inflating: ml-100k/u4.test         \n",
            "  inflating: ml-100k/u5.base         \n",
            "  inflating: ml-100k/u5.test         \n",
            "  inflating: ml-100k/ua.base         \n",
            "  inflating: ml-100k/ua.test         \n",
            "  inflating: ml-100k/ub.base         \n",
            "  inflating: ml-100k/ub.test         \n",
            "ml-100k  ml-100k.zip  sample_data\n"
          ],
          "name": "stdout"
        }
      ]
    },
    {
      "cell_type": "code",
      "metadata": {
        "id": "b8n4jeWW7h08",
        "colab_type": "code",
        "colab": {
          "base_uri": "https://localhost:8080/",
          "height": 72
        },
        "outputId": "015ed66c-9d43-49f1-9720-b4e6474a6844"
      },
      "source": [
        "!ls ml-100k/"
      ],
      "execution_count": 11,
      "outputs": [
        {
          "output_type": "stream",
          "text": [
            "allbut.pl  u1.base  u2.test  u4.base  u5.test  ub.base\tu.genre  u.occupation\n",
            "mku.sh\t   u1.test  u3.base  u4.test  ua.base  ub.test\tu.info\t u.user\n",
            "README\t   u2.base  u3.test  u5.base  ua.test  u.data\tu.item\n"
          ],
          "name": "stdout"
        }
      ]
    },
    {
      "cell_type": "code",
      "metadata": {
        "id": "F3Fi1-Ss7nV4",
        "colab_type": "code",
        "colab": {
          "base_uri": "https://localhost:8080/",
          "height": 198
        },
        "outputId": "c54fdff7-a00d-4834-c5c8-034d0c3d60d3"
      },
      "source": [
        "dataset = pd.read_csv(\"ml-100k/u.data\",sep='\\t',names=\"user_id,item_id,rating,timestamp\".split(\",\"))\n",
        "dataset.head()"
      ],
      "execution_count": 31,
      "outputs": [
        {
          "output_type": "execute_result",
          "data": {
            "text/html": [
              "<div>\n",
              "<style scoped>\n",
              "    .dataframe tbody tr th:only-of-type {\n",
              "        vertical-align: middle;\n",
              "    }\n",
              "\n",
              "    .dataframe tbody tr th {\n",
              "        vertical-align: top;\n",
              "    }\n",
              "\n",
              "    .dataframe thead th {\n",
              "        text-align: right;\n",
              "    }\n",
              "</style>\n",
              "<table border=\"1\" class=\"dataframe\">\n",
              "  <thead>\n",
              "    <tr style=\"text-align: right;\">\n",
              "      <th></th>\n",
              "      <th>user_id</th>\n",
              "      <th>item_id</th>\n",
              "      <th>rating</th>\n",
              "      <th>timestamp</th>\n",
              "    </tr>\n",
              "  </thead>\n",
              "  <tbody>\n",
              "    <tr>\n",
              "      <th>0</th>\n",
              "      <td>196</td>\n",
              "      <td>242</td>\n",
              "      <td>3</td>\n",
              "      <td>881250949</td>\n",
              "    </tr>\n",
              "    <tr>\n",
              "      <th>1</th>\n",
              "      <td>186</td>\n",
              "      <td>302</td>\n",
              "      <td>3</td>\n",
              "      <td>891717742</td>\n",
              "    </tr>\n",
              "    <tr>\n",
              "      <th>2</th>\n",
              "      <td>22</td>\n",
              "      <td>377</td>\n",
              "      <td>1</td>\n",
              "      <td>878887116</td>\n",
              "    </tr>\n",
              "    <tr>\n",
              "      <th>3</th>\n",
              "      <td>244</td>\n",
              "      <td>51</td>\n",
              "      <td>2</td>\n",
              "      <td>880606923</td>\n",
              "    </tr>\n",
              "    <tr>\n",
              "      <th>4</th>\n",
              "      <td>166</td>\n",
              "      <td>346</td>\n",
              "      <td>1</td>\n",
              "      <td>886397596</td>\n",
              "    </tr>\n",
              "  </tbody>\n",
              "</table>\n",
              "</div>"
            ],
            "text/plain": [
              "   user_id  item_id  rating  timestamp\n",
              "0      196      242       3  881250949\n",
              "1      186      302       3  891717742\n",
              "2       22      377       1  878887116\n",
              "3      244       51       2  880606923\n",
              "4      166      346       1  886397596"
            ]
          },
          "metadata": {
            "tags": []
          },
          "execution_count": 31
        }
      ]
    },
    {
      "cell_type": "code",
      "metadata": {
        "id": "iCYdWJ5w7saW",
        "colab_type": "code",
        "colab": {
          "base_uri": "https://localhost:8080/",
          "height": 35
        },
        "outputId": "f028ca5b-2db3-4622-fbdb-4193d9400127"
      },
      "source": [
        "#Set user_id starting from 0 - number_users-1, and same for item_id\n",
        "dataset.user_id = dataset.user_id.astype('category').cat.codes.values\n",
        "dataset.item_id = dataset.item_id.astype('category').cat.codes.values\n",
        "\n",
        "number_users, number_items = len(dataset.user_id.unique()), len(dataset.item_id.unique())\n",
        "print(\"Number of Users:\", number_users, \"; Number of Items:\", number_items, \"; Rating is from\", dataset.rating.min(), \"to\", dataset.rating.max())"
      ],
      "execution_count": 32,
      "outputs": [
        {
          "output_type": "stream",
          "text": [
            "Number of Users: 943 ; Number of Items: 1682 ; Rating is from 1 to 5\n"
          ],
          "name": "stdout"
        }
      ]
    },
    {
      "cell_type": "code",
      "metadata": {
        "id": "pqlyYHMK-x6d",
        "colab_type": "code",
        "colab": {}
      },
      "source": [
        "y = np.zeros((number_items, number_users))\n",
        "\n",
        "for index, row in dataset.iterrows():\n",
        "     # access data using column names\n",
        "     i_item = row['item_id']\n",
        "     i_user = row['user_id']\n",
        "     i_rating = row['rating']\n",
        "     y[i_item,i_user] = i_rating\n"
      ],
      "execution_count": 0,
      "outputs": []
    },
    {
      "cell_type": "code",
      "metadata": {
        "id": "2S1rkGktFR05",
        "colab_type": "code",
        "colab": {}
      },
      "source": [
        "fig = plt.figure(figsize=(10,10*(1682./943.)))\n",
        "plt.imshow(y)\n",
        "plt.colorbar()\n",
        "plt.ylabel('Movies (%d)'%number_items,fontsize=20)\n",
        "plt.xlabel('Users (%d)'%number_users,fontsize=20)\n",
        "plt.show()"
      ],
      "execution_count": 0,
      "outputs": []
    },
    {
      "cell_type": "code",
      "metadata": {
        "id": "TGFiBZTnFnPI",
        "colab_type": "code",
        "colab": {}
      },
      "source": [
        "r = (y>=1)"
      ],
      "execution_count": 0,
      "outputs": []
    },
    {
      "cell_type": "code",
      "metadata": {
        "id": "SiU89eg7HMjI",
        "colab_type": "code",
        "colab": {
          "base_uri": "https://localhost:8080/",
          "height": 374
        },
        "outputId": "4241e5ec-30cc-432e-d7cc-89015953c2a8"
      },
      "source": [
        "items = pd.read_csv(\"ml-100k/u.item\",\n",
        "                    sep='|',\n",
        "                    names=\"movie id|movie title|release date|video release date|IMDb URL|unknown|Action|Adventure|Animation|Children's|Comedy|Crime|Documentary|Drama|Fantasy|Film-Noir|Horror|Musical|Mystery|Romance|Sci-Fi|Thriller|War|Western|\".split(\"|\"),\n",
        "                    encoding=\"latin-1\")\n",
        "items.head()"
      ],
      "execution_count": 58,
      "outputs": [
        {
          "output_type": "execute_result",
          "data": {
            "text/html": [
              "<div>\n",
              "<style scoped>\n",
              "    .dataframe tbody tr th:only-of-type {\n",
              "        vertical-align: middle;\n",
              "    }\n",
              "\n",
              "    .dataframe tbody tr th {\n",
              "        vertical-align: top;\n",
              "    }\n",
              "\n",
              "    .dataframe thead th {\n",
              "        text-align: right;\n",
              "    }\n",
              "</style>\n",
              "<table border=\"1\" class=\"dataframe\">\n",
              "  <thead>\n",
              "    <tr style=\"text-align: right;\">\n",
              "      <th></th>\n",
              "      <th>movie id</th>\n",
              "      <th>movie title</th>\n",
              "      <th>release date</th>\n",
              "      <th>video release date</th>\n",
              "      <th>IMDb URL</th>\n",
              "      <th>unknown</th>\n",
              "      <th>Action</th>\n",
              "      <th>Adventure</th>\n",
              "      <th>Animation</th>\n",
              "      <th>Children's</th>\n",
              "      <th>Comedy</th>\n",
              "      <th>Crime</th>\n",
              "      <th>Documentary</th>\n",
              "      <th>Drama</th>\n",
              "      <th>Fantasy</th>\n",
              "      <th>Film-Noir</th>\n",
              "      <th>Horror</th>\n",
              "      <th>Musical</th>\n",
              "      <th>Mystery</th>\n",
              "      <th>Romance</th>\n",
              "      <th>Sci-Fi</th>\n",
              "      <th>Thriller</th>\n",
              "      <th>War</th>\n",
              "      <th>Western</th>\n",
              "      <th></th>\n",
              "    </tr>\n",
              "  </thead>\n",
              "  <tbody>\n",
              "    <tr>\n",
              "      <th>0</th>\n",
              "      <td>1</td>\n",
              "      <td>Toy Story (1995)</td>\n",
              "      <td>01-Jan-1995</td>\n",
              "      <td>NaN</td>\n",
              "      <td>http://us.imdb.com/M/title-exact?Toy%20Story%2...</td>\n",
              "      <td>0</td>\n",
              "      <td>0</td>\n",
              "      <td>0</td>\n",
              "      <td>1</td>\n",
              "      <td>1</td>\n",
              "      <td>1</td>\n",
              "      <td>0</td>\n",
              "      <td>0</td>\n",
              "      <td>0</td>\n",
              "      <td>0</td>\n",
              "      <td>0</td>\n",
              "      <td>0</td>\n",
              "      <td>0</td>\n",
              "      <td>0</td>\n",
              "      <td>0</td>\n",
              "      <td>0</td>\n",
              "      <td>0</td>\n",
              "      <td>0</td>\n",
              "      <td>0</td>\n",
              "      <td>NaN</td>\n",
              "    </tr>\n",
              "    <tr>\n",
              "      <th>1</th>\n",
              "      <td>2</td>\n",
              "      <td>GoldenEye (1995)</td>\n",
              "      <td>01-Jan-1995</td>\n",
              "      <td>NaN</td>\n",
              "      <td>http://us.imdb.com/M/title-exact?GoldenEye%20(...</td>\n",
              "      <td>0</td>\n",
              "      <td>1</td>\n",
              "      <td>1</td>\n",
              "      <td>0</td>\n",
              "      <td>0</td>\n",
              "      <td>0</td>\n",
              "      <td>0</td>\n",
              "      <td>0</td>\n",
              "      <td>0</td>\n",
              "      <td>0</td>\n",
              "      <td>0</td>\n",
              "      <td>0</td>\n",
              "      <td>0</td>\n",
              "      <td>0</td>\n",
              "      <td>0</td>\n",
              "      <td>0</td>\n",
              "      <td>1</td>\n",
              "      <td>0</td>\n",
              "      <td>0</td>\n",
              "      <td>NaN</td>\n",
              "    </tr>\n",
              "    <tr>\n",
              "      <th>2</th>\n",
              "      <td>3</td>\n",
              "      <td>Four Rooms (1995)</td>\n",
              "      <td>01-Jan-1995</td>\n",
              "      <td>NaN</td>\n",
              "      <td>http://us.imdb.com/M/title-exact?Four%20Rooms%...</td>\n",
              "      <td>0</td>\n",
              "      <td>0</td>\n",
              "      <td>0</td>\n",
              "      <td>0</td>\n",
              "      <td>0</td>\n",
              "      <td>0</td>\n",
              "      <td>0</td>\n",
              "      <td>0</td>\n",
              "      <td>0</td>\n",
              "      <td>0</td>\n",
              "      <td>0</td>\n",
              "      <td>0</td>\n",
              "      <td>0</td>\n",
              "      <td>0</td>\n",
              "      <td>0</td>\n",
              "      <td>0</td>\n",
              "      <td>1</td>\n",
              "      <td>0</td>\n",
              "      <td>0</td>\n",
              "      <td>NaN</td>\n",
              "    </tr>\n",
              "    <tr>\n",
              "      <th>3</th>\n",
              "      <td>4</td>\n",
              "      <td>Get Shorty (1995)</td>\n",
              "      <td>01-Jan-1995</td>\n",
              "      <td>NaN</td>\n",
              "      <td>http://us.imdb.com/M/title-exact?Get%20Shorty%...</td>\n",
              "      <td>0</td>\n",
              "      <td>1</td>\n",
              "      <td>0</td>\n",
              "      <td>0</td>\n",
              "      <td>0</td>\n",
              "      <td>1</td>\n",
              "      <td>0</td>\n",
              "      <td>0</td>\n",
              "      <td>1</td>\n",
              "      <td>0</td>\n",
              "      <td>0</td>\n",
              "      <td>0</td>\n",
              "      <td>0</td>\n",
              "      <td>0</td>\n",
              "      <td>0</td>\n",
              "      <td>0</td>\n",
              "      <td>0</td>\n",
              "      <td>0</td>\n",
              "      <td>0</td>\n",
              "      <td>NaN</td>\n",
              "    </tr>\n",
              "    <tr>\n",
              "      <th>4</th>\n",
              "      <td>5</td>\n",
              "      <td>Copycat (1995)</td>\n",
              "      <td>01-Jan-1995</td>\n",
              "      <td>NaN</td>\n",
              "      <td>http://us.imdb.com/M/title-exact?Copycat%20(1995)</td>\n",
              "      <td>0</td>\n",
              "      <td>0</td>\n",
              "      <td>0</td>\n",
              "      <td>0</td>\n",
              "      <td>0</td>\n",
              "      <td>0</td>\n",
              "      <td>1</td>\n",
              "      <td>0</td>\n",
              "      <td>1</td>\n",
              "      <td>0</td>\n",
              "      <td>0</td>\n",
              "      <td>0</td>\n",
              "      <td>0</td>\n",
              "      <td>0</td>\n",
              "      <td>0</td>\n",
              "      <td>0</td>\n",
              "      <td>1</td>\n",
              "      <td>0</td>\n",
              "      <td>0</td>\n",
              "      <td>NaN</td>\n",
              "    </tr>\n",
              "  </tbody>\n",
              "</table>\n",
              "</div>"
            ],
            "text/plain": [
              "   movie id        movie title release date  ...  War Western    \n",
              "0         1   Toy Story (1995)  01-Jan-1995  ...    0       0 NaN\n",
              "1         2   GoldenEye (1995)  01-Jan-1995  ...    0       0 NaN\n",
              "2         3  Four Rooms (1995)  01-Jan-1995  ...    0       0 NaN\n",
              "3         4  Get Shorty (1995)  01-Jan-1995  ...    0       0 NaN\n",
              "4         5     Copycat (1995)  01-Jan-1995  ...    0       0 NaN\n",
              "\n",
              "[5 rows x 25 columns]"
            ]
          },
          "metadata": {
            "tags": []
          },
          "execution_count": 58
        }
      ]
    }
  ]
}