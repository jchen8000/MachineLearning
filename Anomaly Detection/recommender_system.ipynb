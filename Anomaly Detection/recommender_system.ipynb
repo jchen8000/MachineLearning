{
  "nbformat": 4,
  "nbformat_minor": 0,
  "metadata": {
    "colab": {
      "name": "recommender_system.ipynb",
      "version": "0.3.2",
      "provenance": [],
      "include_colab_link": true
    },
    "kernelspec": {
      "name": "python3",
      "display_name": "Python 3"
    }
  },
  "cells": [
    {
      "cell_type": "markdown",
      "metadata": {
        "id": "view-in-github",
        "colab_type": "text"
      },
      "source": [
        "<a href=\"https://colab.research.google.com/github/jchen8000/MachineLearning/blob/master/Anomaly%20Detection/recommender_system.ipynb\" target=\"_parent\"><img src=\"https://colab.research.google.com/assets/colab-badge.svg\" alt=\"Open In Colab\"/></a>"
      ]
    },
    {
      "cell_type": "markdown",
      "metadata": {
        "id": "VCRIblOx49nO",
        "colab_type": "text"
      },
      "source": [
        "# Recommender System\n",
        "\n",
        "\n",
        "https://sdsawtelle.github.io/blog/output/week9-recommender-andrew-ng-machine-learning-with-python.html\n",
        "\n",
        "https://github.com/kaleko/CourseraML/tree/master/ex8\n",
        "\n",
        "https://towardsdatascience.com/how-to-build-a-simple-recommender-system-in-python-375093c3fb7d"
      ]
    },
    {
      "cell_type": "markdown",
      "metadata": {
        "id": "R5IoQbge9my5",
        "colab_type": "text"
      },
      "source": [
        "## 1. Collaborative Filtering Algorithm\n",
        "\n",
        "$r(i,j) = 1 $: if user $j$ has rated movie $i$ ($0$ otherwise)\n",
        "\n",
        "$y^{(i,j)} = $ rating by user $j$ on movie $i$ (if defined)\n",
        "\n",
        "$\\theta^{(j)} = $ parameter vector for user $j$, $ \\qquad\\theta^{(j)}\\in \\mathbb{R}^{n+1} $ \n",
        "\n",
        "$x^{(i)} = $feature vector for movie $i$\n",
        "\n"
      ]
    },
    {
      "cell_type": "markdown",
      "metadata": {
        "id": "Nwj3TIsQL-6m",
        "colab_type": "text"
      },
      "source": [
        "### 1.1 Collaborative Filtering cost function\n",
        "\n",
        "1. Given $x^{(1)},...,x^{(n_m)}, \\textrm{ estimate  }\\theta^{(1)},...,\\theta^{(n_u)} \\textrm{:}$\n",
        "\n",
        "$\\qquad \\displaystyle\\min_{\\theta^{(1)},...,\\theta^{(n_u)} } J = \\frac{1}{2}\\sum_{j=1}^{n_u}\\sum_{i:r(i,j)=1}((\\theta^{(j)})^Tx^{(i)}-y^{(i,j)})^2 + \\frac{\\lambda}{2}\\sum_{j=1}^{n_u}\\sum_{k=1}^n(\\theta_k^{(j)})^2$\n",
        "\n",
        "2. Given $\\theta^{(1)},...,\\theta^{(n_u)}, \\textrm{ estimate  } x^{(1)},...,x^{(n_m)}\\textrm{:}$\n",
        "\n",
        "$\\qquad \\displaystyle\\min_{x^{(1)},...,x^{(n_m)}} J = \\frac{1}{2}\\sum_{i=1}^{n_m}\\sum_{j:r(i,j)=1}((\\theta^{(j)})^Tx^{(i)}-y^{(i,j)})^2 + \\frac{\\lambda}{2}\\sum_{i=1}^{n_m}\\sum_{k=1}^n(x_k^{(i)})^2$\n",
        "\n",
        "\n",
        "3. Minimizing  $x^{(1)},...,x^{(n_m)}, \\textrm{ and  }\\theta^{(1)},...,\\theta^{(n_u)} \\textrm{ simultaneously:}$\n",
        "$ J(x^{(1)},...,x^{(n_m)},\\theta^{(1)},...,\\theta^{(n_u)}) = \\displaystyle\\frac{1}{2}\\sum_{(i,j):r(i,j)=1}((\\theta^{(j)})^Tx^{(i)}-y^{(i,j)})^2 +\\frac{\\lambda}{2}\\sum_{j=1}^{n_u}\\sum_{k=1}^n(\\theta_k^{(j)})^2 +  \\frac{\\lambda}{2}\\sum_{i=1}^{n_m}\\sum_{k=1}^n(x_k^{(i)})^2$\n",
        "\n",
        "$\\qquad \\displaystyle\\min_{\\theta^{(1)},...,\\theta^{(n_u)},x^{(1)},...,x^{(n_m)} }J(x^{(1)},...,x^{(n_m)},\\theta^{(1)},...,\\theta^{(n_u)}) $"
      ]
    },
    {
      "cell_type": "markdown",
      "metadata": {
        "id": "uGXeERMSMRPk",
        "colab_type": "text"
      },
      "source": [
        "### 1.2 Collaborative Filtering gradient\n",
        "\n",
        "$\\qquad \\displaystyle\\frac{\\partial J}{\\partial x_k^{(i)}} = \\sum_{j:r(i,j)=1}((\\theta^{(j)})^Tx^{(i)}-y^{(i,j)})\\theta_k^{(j)}+\\lambda x_k^{(i)}$\n",
        "\n",
        "$\\qquad \\displaystyle\\frac{\\partial J}{\\partial \\theta_k^{(j)}} = \\sum_{j:r(i,j)=1}((\\theta^{(j)})^Tx^{(i)}-y^{(i,j)})x_k^{(i)}+\\lambda \\theta_k^{(j)}$"
      ]
    },
    {
      "cell_type": "code",
      "metadata": {
        "id": "H-hWwcJHBvrY",
        "colab_type": "code",
        "colab": {}
      },
      "source": [
        "%matplotlib inline\n",
        "import pandas as pd\n",
        "import numpy as np\n",
        "import matplotlib.pyplot as plt\n",
        "import scipy.io \n",
        "import scipy.optimize #Use for fmincg\n"
      ],
      "execution_count": 0,
      "outputs": []
    },
    {
      "cell_type": "code",
      "metadata": {
        "id": "S1842feb48mD",
        "colab_type": "code",
        "outputId": "8eeb23fd-3506-40c2-fa9e-1ba16eaf951b",
        "colab": {
          "base_uri": "https://localhost:8080/",
          "height": 74
        }
      },
      "source": [
        "USER_DATA_FILE = 'https://raw.githubusercontent.com/khanhnamle1994/movielens/master/dat/users.dat'\n",
        "MOVIE_DATA_FILE = 'https://raw.githubusercontent.com/khanhnamle1994/movielens/master/dat/movies.dat'\n",
        "RATING_DATA_FILE = 'https://raw.githubusercontent.com/khanhnamle1994/movielens/master/dat/ratings.dat'\n",
        "\n",
        "u_cols = ['user_id', 'age', 'sex', 'occupation', 'zip_code']\n",
        "users = pd.read_csv(USER_DATA_FILE, sep='::', names=u_cols, encoding='latin-1')\n",
        "\n",
        "\n",
        "  "
      ],
      "execution_count": 0,
      "outputs": [
        {
          "output_type": "stream",
          "text": [
            "/usr/local/lib/python3.6/dist-packages/ipykernel_launcher.py:6: ParserWarning: Falling back to the 'python' engine because the 'c' engine does not support regex separators (separators > 1 char and different from '\\s+' are interpreted as regex); you can avoid this warning by specifying engine='python'.\n",
            "  \n"
          ],
          "name": "stderr"
        }
      ]
    },
    {
      "cell_type": "code",
      "metadata": {
        "id": "t7BEK9jO6cZA",
        "colab_type": "code",
        "outputId": "ed498e34-fb9f-421c-b860-533495084a09",
        "colab": {
          "base_uri": "https://localhost:8080/",
          "height": 74
        }
      },
      "source": [
        "r_cols = ['user_id', 'movie_id', 'rating', 'unix_timestamp']\n",
        "ratings = pd.read_csv(RATING_DATA_FILE, sep='::', names=r_cols,  encoding='latin-1')\n"
      ],
      "execution_count": 0,
      "outputs": [
        {
          "output_type": "stream",
          "text": [
            "/usr/local/lib/python3.6/dist-packages/ipykernel_launcher.py:2: ParserWarning: Falling back to the 'python' engine because the 'c' engine does not support regex separators (separators > 1 char and different from '\\s+' are interpreted as regex); you can avoid this warning by specifying engine='python'.\n",
            "  \n"
          ],
          "name": "stderr"
        }
      ]
    },
    {
      "cell_type": "code",
      "metadata": {
        "id": "EPtMovP07Qzl",
        "colab_type": "code",
        "outputId": "1446cdc5-e081-44d0-913a-75f3c682bd71",
        "colab": {
          "base_uri": "https://localhost:8080/",
          "height": 74
        }
      },
      "source": [
        "i_cols = ['movie id', 'movie title' ,'release date','video release date', 'IMDb URL', 'unknown', 'Action', 'Adventure',\n",
        " 'Animation', 'Children\\'s', 'Comedy', 'Crime', 'Documentary', 'Drama', 'Fantasy',\n",
        " 'Film-Noir', 'Horror', 'Musical', 'Mystery', 'Romance', 'Sci-Fi', 'Thriller', 'War', 'Western']\n",
        "items = pd.read_csv(MOVIE_DATA_FILE, sep='::', names=i_cols, encoding='latin-1')"
      ],
      "execution_count": 0,
      "outputs": [
        {
          "output_type": "stream",
          "text": [
            "/usr/local/lib/python3.6/dist-packages/ipykernel_launcher.py:4: ParserWarning: Falling back to the 'python' engine because the 'c' engine does not support regex separators (separators > 1 char and different from '\\s+' are interpreted as regex); you can avoid this warning by specifying engine='python'.\n",
            "  after removing the cwd from sys.path.\n"
          ],
          "name": "stderr"
        }
      ]
    },
    {
      "cell_type": "markdown",
      "metadata": {
        "id": "eZGOnnsLA0wa",
        "colab_type": "text"
      },
      "source": [
        "## 2. Movie ratings dataset\n",
        "\n",
        "https://stevenpzchan.github.io/ml_dl_coursera_Andrew_Ng/python/machine-learning-ex8"
      ]
    },
    {
      "cell_type": "code",
      "metadata": {
        "id": "xEhl-koBAN9Z",
        "colab_type": "code",
        "outputId": "1dbae9f3-d1e4-4e04-e07b-645c59da3803",
        "colab": {
          "base_uri": "https://localhost:8080/",
          "height": 884
        }
      },
      "source": [
        "!wget https://github.com/jchen8000/MachineLearning/blob/master/Anomaly%20Detection/ex8_movies.mat?raw=true\n",
        "  \n",
        "!wget https://github.com/jchen8000/MachineLearning/blob/master/Anomaly%20Detection/ex8_movieParams.mat?raw=true  \n",
        "  \n",
        "!wget https://raw.githubusercontent.com/jchen8000/MachineLearning/master/Anomaly%20Detection/movie_ids.txt  "
      ],
      "execution_count": 5,
      "outputs": [
        {
          "output_type": "stream",
          "text": [
            "--2019-07-22 23:21:49--  https://github.com/jchen8000/MachineLearning/blob/master/Anomaly%20Detection/ex8_movies.mat?raw=true\n",
            "Resolving github.com (github.com)... 140.82.114.4\n",
            "Connecting to github.com (github.com)|140.82.114.4|:443... connected.\n",
            "HTTP request sent, awaiting response... 302 Found\n",
            "Location: https://github.com/jchen8000/MachineLearning/raw/master/Anomaly%20Detection/ex8_movies.mat [following]\n",
            "--2019-07-22 23:21:49--  https://github.com/jchen8000/MachineLearning/raw/master/Anomaly%20Detection/ex8_movies.mat\n",
            "Reusing existing connection to github.com:443.\n",
            "HTTP request sent, awaiting response... 302 Found\n",
            "Location: https://raw.githubusercontent.com/jchen8000/MachineLearning/master/Anomaly%20Detection/ex8_movies.mat [following]\n",
            "--2019-07-22 23:21:50--  https://raw.githubusercontent.com/jchen8000/MachineLearning/master/Anomaly%20Detection/ex8_movies.mat\n",
            "Resolving raw.githubusercontent.com (raw.githubusercontent.com)... 151.101.0.133, 151.101.64.133, 151.101.128.133, ...\n",
            "Connecting to raw.githubusercontent.com (raw.githubusercontent.com)|151.101.0.133|:443... connected.\n",
            "HTTP request sent, awaiting response... 200 OK\n",
            "Length: 223396 (218K) [application/octet-stream]\n",
            "Saving to: ‘ex8_movies.mat?raw=true’\n",
            "\n",
            "ex8_movies.mat?raw= 100%[===================>] 218.16K  --.-KB/s    in 0.05s   \n",
            "\n",
            "2019-07-22 23:21:50 (4.46 MB/s) - ‘ex8_movies.mat?raw=true’ saved [223396/223396]\n",
            "\n",
            "--2019-07-22 23:21:50--  https://github.com/jchen8000/MachineLearning/blob/master/Anomaly%20Detection/ex8_movieParams.mat?raw=true\n",
            "Resolving github.com (github.com)... 140.82.114.4\n",
            "Connecting to github.com (github.com)|140.82.114.4|:443... connected.\n",
            "HTTP request sent, awaiting response... 302 Found\n",
            "Location: https://github.com/jchen8000/MachineLearning/raw/master/Anomaly%20Detection/ex8_movieParams.mat [following]\n",
            "--2019-07-22 23:21:50--  https://github.com/jchen8000/MachineLearning/raw/master/Anomaly%20Detection/ex8_movieParams.mat\n",
            "Reusing existing connection to github.com:443.\n",
            "HTTP request sent, awaiting response... 302 Found\n",
            "Location: https://raw.githubusercontent.com/jchen8000/MachineLearning/master/Anomaly%20Detection/ex8_movieParams.mat [following]\n",
            "--2019-07-22 23:21:50--  https://raw.githubusercontent.com/jchen8000/MachineLearning/master/Anomaly%20Detection/ex8_movieParams.mat\n",
            "Resolving raw.githubusercontent.com (raw.githubusercontent.com)... 151.101.0.133, 151.101.64.133, 151.101.128.133, ...\n",
            "Connecting to raw.githubusercontent.com (raw.githubusercontent.com)|151.101.0.133|:443... connected.\n",
            "HTTP request sent, awaiting response... 200 OK\n",
            "Length: 201196 (196K) [application/octet-stream]\n",
            "Saving to: ‘ex8_movieParams.mat?raw=true’\n",
            "\n",
            "ex8_movieParams.mat 100%[===================>] 196.48K  --.-KB/s    in 0.04s   \n",
            "\n",
            "2019-07-22 23:21:51 (4.93 MB/s) - ‘ex8_movieParams.mat?raw=true’ saved [201196/201196]\n",
            "\n",
            "--2019-07-22 23:21:51--  https://raw.githubusercontent.com/jchen8000/MachineLearning/master/Anomaly%20Detection/movie_ids.txt\n",
            "Resolving raw.githubusercontent.com (raw.githubusercontent.com)... 151.101.0.133, 151.101.64.133, 151.101.128.133, ...\n",
            "Connecting to raw.githubusercontent.com (raw.githubusercontent.com)|151.101.0.133|:443... connected.\n",
            "HTTP request sent, awaiting response... 200 OK\n",
            "Length: 50126 (49K) [text/plain]\n",
            "Saving to: ‘movie_ids.txt’\n",
            "\n",
            "movie_ids.txt       100%[===================>]  48.95K  --.-KB/s    in 0.02s   \n",
            "\n",
            "2019-07-22 23:21:51 (1.95 MB/s) - ‘movie_ids.txt’ saved [50126/50126]\n",
            "\n"
          ],
          "name": "stdout"
        }
      ]
    },
    {
      "cell_type": "code",
      "metadata": {
        "id": "RErNJe-uATTE",
        "colab_type": "code",
        "outputId": "11d081c4-2418-4ce9-9c83-f369202cae7d",
        "colab": {
          "base_uri": "https://localhost:8080/",
          "height": 51
        }
      },
      "source": [
        "!ls\n"
      ],
      "execution_count": 6,
      "outputs": [
        {
          "output_type": "stream",
          "text": [
            "'ex8_movieParams.mat?raw=true'\t movie_ids.txt\n",
            "'ex8_movies.mat?raw=true'\t sample_data\n"
          ],
          "name": "stdout"
        }
      ]
    },
    {
      "cell_type": "code",
      "metadata": {
        "id": "moYzJaVd6w5T",
        "colab_type": "code",
        "colab": {}
      },
      "source": [
        "datafile = 'ex8_movies.mat?raw=true'\n",
        "mat = scipy.io.loadmat( datafile )\n",
        "Y = mat['Y']    #Y is a 1682x943 matrix, containing ratings (1-5) of 1682 movies on 943 users\n",
        "R = mat['R']    #R is a 1682x943 matrix, where R(i,j) = 1 if and only if user j gave a rating to movie i\n",
        "nm, nu = Y.shape"
      ],
      "execution_count": 0,
      "outputs": []
    },
    {
      "cell_type": "code",
      "metadata": {
        "id": "D0qOvIjNBaiX",
        "colab_type": "code",
        "outputId": "f6446c43-9469-4828-d40e-46beebf0d364",
        "colab": {
          "base_uri": "https://localhost:8080/",
          "height": 623
        }
      },
      "source": [
        "fig = plt.figure(figsize=(6,6*(1682./943.)))\n",
        "plt.imshow(Y)\n",
        "plt.colorbar()\n",
        "plt.ylabel('Movies (%d)'%nm,fontsize=20)\n",
        "plt.xlabel('Users (%d)'%nu,fontsize=20)\n",
        "plt.show()\n"
      ],
      "execution_count": 8,
      "outputs": [
        {
          "output_type": "display_data",
          "data": {
            "image/png": "[encoded data removed]",
            "text/plain": [
              "<Figure size 432x770.545 with 2 Axes>"
            ]
          },
          "metadata": {
            "tags": []
          }
        }
      ]
    },
    {
      "cell_type": "code",
      "metadata": {
        "id": "groW8nqVCEzs",
        "colab_type": "code",
        "colab": {}
      },
      "source": [
        "datafile = 'ex8_movieParams.mat?raw=true'\n",
        "mat = scipy.io.loadmat( datafile )\n",
        "X = mat['X']\n",
        "Theta = mat['Theta']\n",
        "num_users = int(mat['num_users'])\n",
        "num_movies = int(mat['num_movies'])\n",
        "num_features = int(mat['num_features'])"
      ],
      "execution_count": 0,
      "outputs": []
    },
    {
      "cell_type": "code",
      "metadata": {
        "id": "LUcZYUCzD92J",
        "colab_type": "code",
        "colab": {}
      },
      "source": [
        "#  Reduce the data set size so that this runs faster\n",
        "num_users = 4\n",
        "num_movies = 5\n",
        "num_features = 3\n",
        "X = X[:num_movies, :num_features]\n",
        "Theta = Theta[:num_users, :num_features]\n",
        "Y = Y[:num_movies, :num_users]\n",
        "R = R[:num_movies, :num_users]"
      ],
      "execution_count": 0,
      "outputs": []
    },
    {
      "cell_type": "code",
      "metadata": {
        "id": "5xpz0PbYEY9i",
        "colab_type": "code",
        "colab": {}
      },
      "source": [
        "def flattenParams(myX, myTheta):\n",
        "    \"\"\"\n",
        "    Hand this function an X matrix and a Theta matrix and it will flatten\n",
        "    it into into one long (nm*nf + nu*nf,1) shaped numpy array\n",
        "    \"\"\"\n",
        "    return np.concatenate((myX.flatten(),myTheta.flatten()))\n",
        "\n",
        "# A utility function to re-shape the X and Theta will probably come in handy\n",
        "def reshapeParams(flattened_XandTheta, mynm, mynu, mynf):\n",
        "    assert flattened_XandTheta.shape[0] == int(num_movies*num_features+num_users*num_features)\n",
        "    \n",
        "    reX = flattened_XandTheta[:int(mynm*mynf)].reshape((mynm,mynf))\n",
        "    reTheta = flattened_XandTheta[int(mynm*mynf):].reshape((mynu,mynf))\n",
        "    \n",
        "    return reX, reTheta"
      ],
      "execution_count": 0,
      "outputs": []
    },
    {
      "cell_type": "code",
      "metadata": {
        "id": "DNyvKJQxFSE_",
        "colab_type": "code",
        "colab": {}
      },
      "source": [
        "def cofiCostFunc(myparams, myY, myR, mynu, mynm, mynf, mylambda = 0.):\n",
        "    \n",
        "    # Unfold the X and Theta matrices from the flattened params\n",
        "    myX, myTheta = reshapeParams(myparams, mynm, mynu, mynf)\n",
        "  \n",
        "    # Note: \n",
        "    # X Shape is (nm x nf), Theta shape is (nu x nf), Y and R shape is (nm x nu)\n",
        "    # Behold! Complete vectorization\n",
        "    \n",
        "    # First dot theta and X together such that you get a matrix the same shape as Y\n",
        "    term1 = myX.dot(myTheta.T)\n",
        "    \n",
        "    # Then element-wise multiply that matrix by the R matrix\n",
        "    # so only terms from movies which that user rated are counted in the cost\n",
        "    term1 = np.multiply(term1,myR)\n",
        "    \n",
        "    # Then subtract the Y- matrix (which has 0 entries for non-rated\n",
        "    # movies by each user, so no need to multiply that by myR... though, if\n",
        "    # a user could rate a movie \"0 stars\" then myY would have to be element-\n",
        "    # wise multiplied by myR as well) \n",
        "    # also square that whole term, sum all elements in the resulting matrix,\n",
        "    # and multiply by 0.5 to get the cost\n",
        "    cost = 0.5 * np.sum( np.square(term1-myY) )\n",
        "    \n",
        "    # Regularization stuff\n",
        "    cost += (mylambda/2.) * np.sum(np.square(myTheta))\n",
        "    cost += (mylambda/2.) * np.sum(np.square(myX))\n",
        "    \n",
        "    return cost"
      ],
      "execution_count": 0,
      "outputs": []
    },
    {
      "cell_type": "code",
      "metadata": {
        "id": "T8ux91HYFXsM",
        "colab_type": "code",
        "outputId": "22afbcd3-005f-474a-da77-ac44d20058d7",
        "colab": {
          "base_uri": "https://localhost:8080/",
          "height": 51
        }
      },
      "source": [
        "# \"...run your cost function. You should expect to see an output of 22.22.\"\n",
        "print( 'Cost with nu = 4, nm = 5, nf = 3 is %0.2f.' % cofiCostFunc(flattenParams(X,Theta),Y,R,num_users,num_movies,num_features) )\n",
        "    \n",
        "# \"...with lambda = 1.5 you should expect to see an output of 31.34.\"\n",
        "print( 'Cost with nu = 4, nm = 5, nf = 3 (and lambda = 1.5) is %0.2f.' % cofiCostFunc(flattenParams(X,Theta),Y,R,num_users,num_movies,num_features,mylambda=1.5) )"
      ],
      "execution_count": 13,
      "outputs": [
        {
          "output_type": "stream",
          "text": [
            "Cost with nu = 4, nm = 5, nf = 3 is 22.22.\n",
            "Cost with nu = 4, nm = 5, nf = 3 (and lambda = 1.5) is 31.34.\n"
          ],
          "name": "stdout"
        }
      ]
    },
    {
      "cell_type": "code",
      "metadata": {
        "id": "hxGqqpYrGuv_",
        "colab_type": "code",
        "colab": {}
      },
      "source": [
        "def cofiGrad(myparams, myY, myR, mynu, mynm, mynf, mylambda = 0.):\n",
        "    \n",
        "    # Unfold the X and Theta matrices from the flattened params\n",
        "    myX, myTheta = reshapeParams(myparams, mynm, mynu, mynf)\n",
        "\n",
        "    # First the X gradient term \n",
        "    # First dot theta and X together such that you get a matrix the same shape as Y\n",
        "    term1 = myX.dot(myTheta.T)\n",
        "    # Then multiply this term by myR to remove any components from movies that\n",
        "    # weren't rated by that user\n",
        "    term1 = np.multiply(term1,myR)\n",
        "    # Now subtract the y matrix (which already has 0 for nonrated movies)\n",
        "    term1 -= myY\n",
        "    # Lastly dot this with Theta such that the resulting matrix has the\n",
        "    # same shape as the X matrix\n",
        "    Xgrad = term1.dot(myTheta)\n",
        "    \n",
        "    # Now the Theta gradient term (reusing the \"term1\" variable)\n",
        "    Thetagrad = term1.T.dot(myX)\n",
        "\n",
        "    # Regularization stuff\n",
        "    Xgrad += mylambda * myX\n",
        "    Thetagrad += mylambda * myTheta\n",
        "    \n",
        "    return flattenParams(Xgrad, Thetagrad)"
      ],
      "execution_count": 0,
      "outputs": []
    },
    {
      "cell_type": "code",
      "metadata": {
        "id": "3h_shsGsGzBL",
        "colab_type": "code",
        "colab": {}
      },
      "source": [
        "def checkGradient(myparams, myY, myR, mynu, mynm, mynf, mylambda = 0.):\n",
        "    \n",
        "    print( 'Numerical Gradient \\t cofiGrad \\t\\t Difference' )\n",
        "    \n",
        "    # Compute a numerical gradient with an epsilon perturbation vector\n",
        "    myeps = 0.0001\n",
        "    nparams = len(myparams)\n",
        "    epsvec = np.zeros(nparams)\n",
        "    # These are my implemented gradient solutions\n",
        "    mygrads = cofiGrad(myparams,myY,myR,mynu,mynm,mynf,mylambda)\n",
        "\n",
        "    # Choose 10 random elements of my combined (X, Theta) param vector\n",
        "    # and compute the numerical gradient for each... print to screen\n",
        "    # the numerical gradient next to the my cofiGradient to inspect\n",
        "    \n",
        "    for i in range(10):\n",
        "        idx = np.random.randint(0,nparams)\n",
        "        epsvec[idx] = myeps\n",
        "        loss1 = cofiCostFunc(myparams-epsvec,myY,myR,mynu,mynm,mynf,mylambda)\n",
        "        loss2 = cofiCostFunc(myparams+epsvec,myY,myR,mynu,mynm,mynf,mylambda)\n",
        "        mygrad = (loss2 - loss1) / (2*myeps)\n",
        "        epsvec[idx] = 0\n",
        "        print( '%0.15f \\t %0.15f \\t %0.15f' % (mygrad, mygrads[idx],mygrad - mygrads[idx]) )"
      ],
      "execution_count": 0,
      "outputs": []
    },
    {
      "cell_type": "code",
      "metadata": {
        "id": "viyq-l1gHFAw",
        "colab_type": "code",
        "outputId": "a52bffed-4ade-4d16-e349-665fc1a52a71",
        "colab": {
          "base_uri": "https://localhost:8080/",
          "height": 442
        }
      },
      "source": [
        "print( \"Checking gradient with lambda = 0...\" )\n",
        "checkGradient(flattenParams(X,Theta),Y,R,num_users,num_movies,num_features)\n",
        "\n",
        "print( \"\\nChecking gradient with lambda = 1.5...\" )\n",
        "checkGradient(flattenParams(X,Theta),Y,R,num_users,num_movies,num_features,mylambda = 1.5)"
      ],
      "execution_count": 16,
      "outputs": [
        {
          "output_type": "stream",
          "text": [
            "Checking gradient with lambda = 0...\n",
            "Numerical Gradient \t cofiGrad \t\t Difference\n",
            "1.164413669449971 \t 1.164413669446225 \t 0.000000000003746\n",
            "-1.899790261372658 \t -1.899790261386604 \t 0.000000000013946\n",
            "4.627760190007990 \t 4.627760190006159 \t 0.000000000001831\n",
            "-0.353340482881492 \t -0.353340482875070 \t -0.000000000006423\n",
            "-3.474107886720645 \t -3.474107886729185 \t 0.000000000008539\n",
            "-0.568195965513496 \t -0.568195965515757 \t 0.000000000002261\n",
            "-0.383582784628800 \t -0.383582784622124 \t -0.000000000006676\n",
            "3.352650312855587 \t 3.352650312849549 \t 0.000000000006038\n",
            "7.575703079698570 \t 7.575703079709334 \t -0.000000000010764\n",
            "0.000000000000000 \t 0.000000000000000 \t 0.000000000000000\n",
            "\n",
            "Checking gradient with lambda = 1.5...\n",
            "Numerical Gradient \t cofiGrad \t\t Difference\n",
            "1.270066658634050 \t 1.270066658643917 \t -0.000000000009867\n",
            "-0.718206734191540 \t -0.718206734196469 \t 0.000000000004929\n",
            "2.774211446130437 \t 2.774211446124338 \t 0.000000000006099\n",
            "-0.407840857938879 \t -0.407840857935279 \t -0.000000000003600\n",
            "-0.197479281052182 \t -0.197479281036198 \t -0.000000000015984\n",
            "0.602526771817935 \t 0.602526771833594 \t -0.000000000015659\n",
            "-0.108611088780464 \t -0.108611088785302 \t 0.000000000004839\n",
            "0.667381444650061 \t 0.667381444654644 \t -0.000000000004583\n",
            "-0.718206734191540 \t -0.718206734196469 \t 0.000000000004929\n",
            "1.092897577699148 \t 1.092897577688307 \t 0.000000000010841\n"
          ],
          "name": "stdout"
        }
      ]
    },
    {
      "cell_type": "code",
      "metadata": {
        "id": "q6KvB7-8-kgV",
        "colab_type": "code",
        "colab": {}
      },
      "source": [
        "datafile = 'movie_ids.txt'\n",
        "  \n",
        "  \n",
        "# So, this file has the list of movies and their respective index in the Y vector\n",
        "# Let's make a list of strings to reference later\n",
        "movies = []\n",
        "with open(datafile, mode=\"r\", encoding=\"latin-1\") as f:\n",
        "    for line in f:\n",
        "        movies.append(' '.join(line.strip('\\n').split(' ')[1:]))\n",
        "\n",
        "# Rather than rate some movies myself, I'll use what was built-in to the homework\n",
        "# (just so I can check my solutions)\n",
        "my_ratings = np.zeros((1682,1))\n",
        "my_ratings[0]   = 4\n",
        "my_ratings[97]  = 2\n",
        "my_ratings[6]   = 3\n",
        "my_ratings[11]  = 5\n",
        "my_ratings[53]  = 4\n",
        "my_ratings[63]  = 5\n",
        "my_ratings[65]  = 3\n",
        "my_ratings[68]  = 5\n",
        "my_ratings[182] = 4\n",
        "my_ratings[225] = 5\n",
        "my_ratings[354] = 5  "
      ],
      "execution_count": 0,
      "outputs": []
    },
    {
      "cell_type": "code",
      "metadata": {
        "id": "h0B6X-2UB49f",
        "colab_type": "code",
        "colab": {}
      },
      "source": [
        "datafile = 'ex8_movies.mat?raw=true'\n",
        "mat = scipy.io.loadmat( datafile )\n",
        "Y = mat['Y']\n",
        "R = mat['R']\n",
        "# We'll use 10 features\n",
        "num_features = 10"
      ],
      "execution_count": 0,
      "outputs": []
    },
    {
      "cell_type": "code",
      "metadata": {
        "id": "M7rc49rZCohR",
        "colab_type": "code",
        "colab": {}
      },
      "source": [
        "# Add my ratings to the Y matrix, and the relevant row to the R matrix\n",
        "myR_row = my_ratings > 0\n",
        "Y = np.hstack((Y,my_ratings))\n",
        "R = np.hstack((R,myR_row))\n",
        "num_movies, num_users = Y.shape"
      ],
      "execution_count": 0,
      "outputs": []
    },
    {
      "cell_type": "code",
      "metadata": {
        "id": "1gO7zh2yC43g",
        "colab_type": "code",
        "colab": {}
      },
      "source": [
        "def normalizeRatings(myY, myR):\n",
        "    \"\"\"\n",
        "    Preprocess data by subtracting mean rating for every movie (every row)\n",
        "    This is important because without this, a user who hasn't rated any movies\n",
        "    will have a predicted score of 0 for every movie, when in reality\n",
        "    they should have a predicted score of [average score of that movie].\n",
        "    \"\"\"\n",
        "\n",
        "    # The mean is only counting movies that were rated\n",
        "    Ymean = np.sum(myY,axis=1)/np.sum(myR,axis=1)\n",
        "    Ymean = Ymean.reshape((Ymean.shape[0],1))\n",
        "    \n",
        "    return myY-Ymean, Ymean"
      ],
      "execution_count": 0,
      "outputs": []
    },
    {
      "cell_type": "code",
      "metadata": {
        "id": "2Mwt1Ov6C954",
        "colab_type": "code",
        "colab": {}
      },
      "source": [
        "Ynorm, Ymean = normalizeRatings(Y,R)"
      ],
      "execution_count": 0,
      "outputs": []
    },
    {
      "cell_type": "code",
      "metadata": {
        "id": "BNDoK6DXDUfT",
        "colab_type": "code",
        "colab": {
          "base_uri": "https://localhost:8080/",
          "height": 102
        },
        "outputId": "816507c8-4e28-473e-e362-ca703fec7734"
      },
      "source": [
        "# Generate random initial parameters, Theta and X\n",
        "X = np.random.rand(num_movies,num_features)\n",
        "Theta = np.random.rand(num_users,num_features)\n",
        "myflat = flattenParams(X, Theta)\n",
        "\n",
        "# Regularization parameter of 10 is used (as used in the homework assignment)\n",
        "mylambda = 10.\n",
        "\n",
        "# Training the actual model with fmin_cg\n",
        "result = scipy.optimize.fmin_cg(cofiCostFunc, x0=myflat, fprime=cofiGrad, \\\n",
        "                               args=(Y,R,num_users,num_movies,num_features,mylambda), \\\n",
        "                                maxiter=50,disp=True,full_output=True)"
      ],
      "execution_count": 29,
      "outputs": [
        {
          "output_type": "stream",
          "text": [
            "Warning: Maximum number of iterations has been exceeded.\n",
            "         Current function value: 72732.095315\n",
            "         Iterations: 50\n",
            "         Function evaluations: 71\n",
            "         Gradient evaluations: 71\n"
          ],
          "name": "stdout"
        }
      ]
    },
    {
      "cell_type": "code",
      "metadata": {
        "id": "Y6rMNOkEEDA-",
        "colab_type": "code",
        "colab": {}
      },
      "source": [
        "# Reshape the trained output into sensible \"X\" and \"Theta\" matrices\n",
        "resX, resTheta = reshapeParams(result[0], num_movies, num_users, num_features)\n",
        "\n",
        "# After training the model, now make recommendations by computing\n",
        "# the predictions matrix\n",
        "prediction_matrix = resX.dot(resTheta.T)\n",
        "\n",
        "# Grab the last user's predictions (since I put my predictions at the\n",
        "# end of the Y matrix, not the front)\n",
        "# Add back in the mean movie ratings\n",
        "my_predictions = prediction_matrix[:,-1] + Ymean.flatten()"
      ],
      "execution_count": 0,
      "outputs": []
    },
    {
      "cell_type": "code",
      "metadata": {
        "id": "LtnKLV7EEVp1",
        "colab_type": "code",
        "colab": {
          "base_uri": "https://localhost:8080/",
          "height": 425
        },
        "outputId": "c43ce865-233a-46d4-d438-ea43de41df18"
      },
      "source": [
        "# Sort my predictions from highest to lowest\n",
        "pred_idxs_sorted = np.argsort(my_predictions)\n",
        "pred_idxs_sorted[:] = pred_idxs_sorted[::-1]\n",
        "\n",
        "print( \"Top recommendations for you:\" )\n",
        "for i in range(10):\n",
        "    print( 'Predicting rating %0.1f for movie %s.' % \\\n",
        "    (my_predictions[pred_idxs_sorted[i]],movies[pred_idxs_sorted[i]])  )\n",
        "    \n",
        "print( \"\\nOriginal ratings provided:\" )\n",
        "for i in range(len(my_ratings)):\n",
        "    if my_ratings[i] > 0:\n",
        "        print( 'Rated %d for movie %s.' % (my_ratings[i],movies[i])  )"
      ],
      "execution_count": 33,
      "outputs": [
        {
          "output_type": "stream",
          "text": [
            "Top recommendations for you:\n",
            "Predicting rating 8.4 for movie Shawshank Redemption, The (1994).\n",
            "Predicting rating 8.4 for movie Titanic (1997).\n",
            "Predicting rating 8.3 for movie Star Wars (1977).\n",
            "Predicting rating 8.3 for movie Schindler's List (1993).\n",
            "Predicting rating 8.2 for movie Raiders of the Lost Ark (1981).\n",
            "Predicting rating 8.1 for movie Usual Suspects, The (1995).\n",
            "Predicting rating 8.1 for movie Good Will Hunting (1997).\n",
            "Predicting rating 8.0 for movie Braveheart (1995).\n",
            "Predicting rating 8.0 for movie Wrong Trousers, The (1993).\n",
            "Predicting rating 8.0 for movie Empire Strikes Back, The (1980).\n",
            "\n",
            "Original ratings provided:\n",
            "Rated 4 for movie Toy Story (1995).\n",
            "Rated 3 for movie Twelve Monkeys (1995).\n",
            "Rated 5 for movie Usual Suspects, The (1995).\n",
            "Rated 4 for movie Outbreak (1995).\n",
            "Rated 5 for movie Shawshank Redemption, The (1994).\n",
            "Rated 3 for movie While You Were Sleeping (1995).\n",
            "Rated 5 for movie Forrest Gump (1994).\n",
            "Rated 2 for movie Silence of the Lambs, The (1991).\n",
            "Rated 4 for movie Alien (1979).\n",
            "Rated 5 for movie Die Hard 2 (1990).\n",
            "Rated 5 for movie Sphere (1998).\n"
          ],
          "name": "stdout"
        }
      ]
    }
  ]
}