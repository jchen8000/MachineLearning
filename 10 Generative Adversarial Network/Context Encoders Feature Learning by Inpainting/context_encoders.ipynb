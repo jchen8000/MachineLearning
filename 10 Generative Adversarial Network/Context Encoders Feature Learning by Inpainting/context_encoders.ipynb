{
  "nbformat": 4,
  "nbformat_minor": 0,
  "metadata": {
    "colab": {
      "name": "context_encoders.ipynb",
      "version": "0.3.2",
      "provenance": [],
      "include_colab_link": true
    },
    "kernelspec": {
      "name": "python3",
      "display_name": "Python 3"
    }
  },
  "cells": [
    {
      "cell_type": "markdown",
      "metadata": {
        "id": "view-in-github",
        "colab_type": "text"
      },
      "source": [
        "<a href=\"https://colab.research.google.com/github/jchen8000/MachineLearning/blob/master/10%20Generative%20Adversarial%20Network/Context%20Encoders%20Feature%20Learning%20by%20Inpainting/context_encoders.ipynb\" target=\"_parent\"><img src=\"https://colab.research.google.com/assets/colab-badge.svg\" alt=\"Open In Colab\"/></a>"
      ]
    },
    {
      "cell_type": "markdown",
      "metadata": {
        "id": "eU0M2UMNIG2k",
        "colab_type": "text"
      },
      "source": [
        "# Context Encoders Feature Learning by Inpainting"
      ]
    },
    {
      "cell_type": "code",
      "metadata": {
        "id": "TVCuEWHGH745",
        "colab_type": "code",
        "colab": {}
      },
      "source": [
        "from keras.models import model_from_json\n",
        "import numpy as np\n",
        "import matplotlib.pyplot as plt"
      ],
      "execution_count": 0,
      "outputs": []
    },
    {
      "cell_type": "code",
      "metadata": {
        "id": "SbHS_V8OIQFY",
        "colab_type": "code",
        "colab": {}
      },
      "source": [
        "!wget https://raw.githubusercontent.com/jchen8000/MachineLearning/master/10%20Generative%20Adversarial%20Network/Context%20Encoders%20Feature%20Learning%20by%20Inpainting/saved_model/generator.json\n",
        "!wget https://raw.githubusercontent.com/jchen8000/MachineLearning/master/10%20Generative%20Adversarial%20Network/Context%20Encoders%20Feature%20Learning%20by%20Inpainting/saved_model/generator_weights.hdf5\n"
      ],
      "execution_count": 0,
      "outputs": []
    },
    {
      "cell_type": "code",
      "metadata": {
        "id": "Q4ysxDn7I1CI",
        "colab_type": "code",
        "colab": {}
      },
      "source": [
        "def load_model(model_name):\n",
        "    model_path = \"%s.json\" % model_name\n",
        "    weights_path = \"%s_weights.hdf5\" % model_name\n",
        "    \n",
        "    \n",
        "    json_file = open(model_path, 'r')\n",
        "    loaded_model_json = json_file.read()\n",
        "    json_file.close()\n",
        "    loaded_model = model_from_json(loaded_model_json)\n",
        "    loaded_model.load_weights(weights_path)\n",
        "    \n",
        "    return loaded_model\n",
        "  \n",
        "\n",
        "generator = load_model(\"bigan_generator\")\n",
        "#discriminator = load_model(\"bigan_discriminator\")"
      ],
      "execution_count": 0,
      "outputs": []
    },
    {
      "cell_type": "code",
      "metadata": {
        "id": "XIMX-7hjJJFO",
        "colab_type": "code",
        "colab": {}
      },
      "source": [
        "def sample_images(imgs):\n",
        "    r, c = 3, 6\n",
        "\n",
        "    masked_imgs, missing_parts, (y1, y2, x1, x2) = mask_randomly(imgs)\n",
        "    gen_missing = generator.predict(masked_imgs)\n",
        "\n",
        "    imgs = 0.5 * imgs + 0.5\n",
        "    masked_imgs = 0.5 * masked_imgs + 0.5\n",
        "    gen_missing = 0.5 * gen_missing + 0.5\n",
        "\n",
        "    fig, axs = plt.subplots(r, c)\n",
        "    for i in range(c):\n",
        "        axs[0,i].imshow(imgs[i, :,:])\n",
        "        axs[0,i].axis('off')\n",
        "        axs[1,i].imshow(masked_imgs[i, :,:])\n",
        "        axs[1,i].axis('off')\n",
        "        filled_in = imgs[i].copy()\n",
        "        filled_in[y1[i]:y2[i], x1[i]:x2[i], :] = gen_missing[i]\n",
        "        axs[2,i].imshow(filled_in)\n",
        "        axs[2,i].axis('off')\n",
        "    plt.show()\n",
        "    \n",
        "    \n",
        "idx = np.random.randint(0, X_train.shape[0], 6)\n",
        "imgs = X_train[idx]    "
      ],
      "execution_count": 0,
      "outputs": []
    }
  ]
}