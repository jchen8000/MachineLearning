{
  "nbformat": 4,
  "nbformat_minor": 0,
  "metadata": {
    "colab": {
      "name": "auxiliary_classifier_GAN.ipynb",
      "version": "0.3.2",
      "provenance": [],
      "include_colab_link": true
    },
    "kernelspec": {
      "name": "python3",
      "display_name": "Python 3"
    }
  },
  "cells": [
    {
      "cell_type": "markdown",
      "metadata": {
        "id": "view-in-github",
        "colab_type": "text"
      },
      "source": [
        "<a href=\"https://colab.research.google.com/github/jchen8000/MachineLearning/blob/master/10%20Generative%20Adversarial%20Network/Auxiliary%20Classifier%20GAN/auxiliary_classifier_GAN.ipynb\" target=\"_parent\"><img src=\"https://colab.research.google.com/assets/colab-badge.svg\" alt=\"Open In Colab\"/></a>"
      ]
    },
    {
      "cell_type": "markdown",
      "metadata": {
        "id": "86EVRA9A_iwV",
        "colab_type": "text"
      },
      "source": [
        "# Auxiliary Classifier Generative Adversarial Network\n",
        "\n",
        "acgan.py is from https://github.com/eriklindernoren/Keras-GAN, and trained at a local machine for 5 - 8 hours. In this practice we will load the saved models and make predictions.\n",
        "\n"
      ]
    },
    {
      "cell_type": "code",
      "metadata": {
        "id": "anoiM9a3_Wqo",
        "colab_type": "code",
        "colab": {}
      },
      "source": [
        "from keras.models import model_from_json\n",
        "import numpy as np\n",
        "import matplotlib.pyplot as plt"
      ],
      "execution_count": 0,
      "outputs": []
    },
    {
      "cell_type": "code",
      "metadata": {
        "id": "eq1P8H5IASLt",
        "colab_type": "code",
        "colab": {}
      },
      "source": [
        "def load_model(model_name):\n",
        "    model_path = \"saved_model/%s.json\" % model_name\n",
        "    weights_path = \"saved_model/%s_weights.hdf5\" % model_name\n",
        "    \n",
        "    \n",
        "    json_file = open(model_path, 'r')\n",
        "    loaded_model_json = json_file.read()\n",
        "    json_file.close()\n",
        "    loaded_model = model_from_json(loaded_model_json)\n",
        "    loaded_model.load_weights(weights_path)\n",
        "    \n",
        "    return loaded_model\n",
        "\n",
        "\n",
        "def predicted_images():\n",
        "    r, c = 10, 10\n",
        "    noise = np.random.normal(0, 1, (r * c, 100))\n",
        "    sampled_labels = np.array([2 for _ in range(r) for num in range(c)])\n",
        "    gen_imgs = generator.predict([noise, sampled_labels])\n",
        "    # Rescale images 0 - 1\n",
        "    gen_imgs = 0.5 * gen_imgs + 0.5\n",
        "\n",
        "    fig, axs = plt.subplots(r, c)\n",
        "    cnt = 0\n",
        "    for i in range(r):\n",
        "        for j in range(c):\n",
        "            axs[i,j].imshow(gen_imgs[cnt,:,:,0], cmap='gray')\n",
        "            axs[i,j].axis('off')\n",
        "            cnt += 1\n",
        "    plt.show()\n",
        "    "
      ],
      "execution_count": 0,
      "outputs": []
    },
    {
      "cell_type": "code",
      "metadata": {
        "id": "t5wSufMpAWoV",
        "colab_type": "code",
        "colab": {}
      },
      "source": [
        "#Load saved models\n",
        "generator = load_model(\"generator\")\n",
        "discriminator = load_model(\"discriminator\")\n",
        "\n",
        "#Make predictions and plot the results\n",
        "predicted_images()"
      ],
      "execution_count": 0,
      "outputs": []
    }
  ]
}