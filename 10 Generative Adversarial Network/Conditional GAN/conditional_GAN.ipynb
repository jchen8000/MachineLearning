{
  "nbformat": 4,
  "nbformat_minor": 0,
  "metadata": {
    "colab": {
      "name": "conditional_GAN.ipynb",
      "version": "0.3.2",
      "provenance": [],
      "include_colab_link": true
    },
    "kernelspec": {
      "name": "python3",
      "display_name": "Python 3"
    }
  },
  "cells": [
    {
      "cell_type": "markdown",
      "metadata": {
        "id": "view-in-github",
        "colab_type": "text"
      },
      "source": [
        "<a href=\"https://colab.research.google.com/github/jchen8000/MachineLearning/blob/master/10%20Generative%20Adversarial%20Network/Conditional%20GAN/conditional_GAN.ipynb\" target=\"_parent\"><img src=\"https://colab.research.google.com/assets/colab-badge.svg\" alt=\"Open In Colab\"/></a>"
      ]
    },
    {
      "cell_type": "markdown",
      "metadata": {
        "id": "ISLXPEFdmSm_",
        "colab_type": "text"
      },
      "source": [
        "# Conditional Generative Adversarial Network\n",
        "\n",
        "\n",
        "The conditional generative adversarial network, or cGAN for short, is a type of GAN that involves the conditional generation of images by a generator model. Image generation can be conditional on a class label, if available, allowing the targeted generated of images of a given type."
      ]
    },
    {
      "cell_type": "code",
      "metadata": {
        "id": "xeLsvDHYmJ_q",
        "colab_type": "code",
        "colab": {
          "base_uri": "https://localhost:8080/",
          "height": 35
        },
        "outputId": "6fd8f794-3ee2-4a4c-ad55-c6ce62ff94fe"
      },
      "source": [
        "from keras.models import model_from_json\n",
        "import numpy as np\n",
        "import matplotlib.pyplot as plt"
      ],
      "execution_count": 1,
      "outputs": [
        {
          "output_type": "stream",
          "text": [
            "Using TensorFlow backend.\n"
          ],
          "name": "stderr"
        }
      ]
    },
    {
      "cell_type": "code",
      "metadata": {
        "id": "SXSmCzUXmiuz",
        "colab_type": "code",
        "colab": {
          "base_uri": "https://localhost:8080/",
          "height": 837
        },
        "outputId": "6f017413-2390-4f27-f758-c305a29ab863"
      },
      "source": [
        "!wget https://raw.githubusercontent.com/jchen8000/MachineLearning/master/10%20Generative%20Adversarial%20Network/Conditional%20GAN/saved_model/cgan_discriminator.json\n",
        "!wget https://raw.githubusercontent.com/jchen8000/MachineLearning/master/10%20Generative%20Adversarial%20Network/Conditional%20GAN/saved_model/cgan_generator.json\n",
        "!wget https://raw.githubusercontent.com/jchen8000/MachineLearning/master/10%20Generative%20Adversarial%20Network/Conditional%20GAN/saved_model/cgan_discriminator_weights.hdf5\n",
        "!wget https://raw.githubusercontent.com/jchen8000/MachineLearning/master/10%20Generative%20Adversarial%20Network/Conditional%20GAN/saved_model/cgan_generator_weights.hdf5"
      ],
      "execution_count": 2,
      "outputs": [
        {
          "output_type": "stream",
          "text": [
            "--2019-09-04 15:32:02--  https://raw.githubusercontent.com/jchen8000/MachineLearning/master/10%20Generative%20Adversarial%20Network/Conditional%20GAN/saved_model/cgan_discriminator.json\n",
            "Resolving raw.githubusercontent.com (raw.githubusercontent.com)... 151.101.0.133, 151.101.64.133, 151.101.128.133, ...\n",
            "Connecting to raw.githubusercontent.com (raw.githubusercontent.com)|151.101.0.133|:443... connected.\n",
            "HTTP request sent, awaiting response... 200 OK\n",
            "Length: 4263 (4.2K) [text/plain]\n",
            "Saving to: ‘cgan_discriminator.json’\n",
            "\n",
            "\rcgan_discriminator.   0%[                    ]       0  --.-KB/s               \rcgan_discriminator. 100%[===================>]   4.16K  --.-KB/s    in 0s      \n",
            "\n",
            "2019-09-04 15:32:02 (81.0 MB/s) - ‘cgan_discriminator.json’ saved [4263/4263]\n",
            "\n",
            "--2019-09-04 15:32:03--  https://raw.githubusercontent.com/jchen8000/MachineLearning/master/10%20Generative%20Adversarial%20Network/Conditional%20GAN/saved_model/cgan_generator.json\n",
            "Resolving raw.githubusercontent.com (raw.githubusercontent.com)... 151.101.0.133, 151.101.64.133, 151.101.128.133, ...\n",
            "Connecting to raw.githubusercontent.com (raw.githubusercontent.com)|151.101.0.133|:443... connected.\n",
            "HTTP request sent, awaiting response... 200 OK\n",
            "Length: 5544 (5.4K) [text/plain]\n",
            "Saving to: ‘cgan_generator.json’\n",
            "\n",
            "cgan_generator.json 100%[===================>]   5.41K  --.-KB/s    in 0s      \n",
            "\n",
            "2019-09-04 15:32:03 (96.2 MB/s) - ‘cgan_generator.json’ saved [5544/5544]\n",
            "\n",
            "--2019-09-04 15:32:04--  https://raw.githubusercontent.com/jchen8000/MachineLearning/master/10%20Generative%20Adversarial%20Network/Conditional%20GAN/saved_model/cgan_discriminator_weights.hdf5\n",
            "Resolving raw.githubusercontent.com (raw.githubusercontent.com)... 151.101.0.133, 151.101.64.133, 151.101.128.133, ...\n",
            "Connecting to raw.githubusercontent.com (raw.githubusercontent.com)|151.101.0.133|:443... connected.\n",
            "HTTP request sent, awaiting response... 200 OK\n",
            "Length: 3763428 (3.6M) [application/octet-stream]\n",
            "Saving to: ‘cgan_discriminator_weights.hdf5’\n",
            "\n",
            "cgan_discriminator_ 100%[===================>]   3.59M  --.-KB/s    in 0.06s   \n",
            "\n",
            "2019-09-04 15:32:04 (57.4 MB/s) - ‘cgan_discriminator_weights.hdf5’ saved [3763428/3763428]\n",
            "\n",
            "--2019-09-04 15:32:05--  https://raw.githubusercontent.com/jchen8000/MachineLearning/master/10%20Generative%20Adversarial%20Network/Conditional%20GAN/saved_model/cgan_generator_weights.hdf5\n",
            "Resolving raw.githubusercontent.com (raw.githubusercontent.com)... 151.101.0.133, 151.101.64.133, 151.101.128.133, ...\n",
            "Connecting to raw.githubusercontent.com (raw.githubusercontent.com)|151.101.0.133|:443... connected.\n",
            "HTTP request sent, awaiting response... 200 OK\n",
            "Length: 6004960 (5.7M) [application/octet-stream]\n",
            "Saving to: ‘cgan_generator_weights.hdf5’\n",
            "\n",
            "cgan_generator_weig 100%[===================>]   5.73M  --.-KB/s    in 0.07s   \n",
            "\n",
            "2019-09-04 15:32:05 (84.2 MB/s) - ‘cgan_generator_weights.hdf5’ saved [6004960/6004960]\n",
            "\n"
          ],
          "name": "stdout"
        }
      ]
    },
    {
      "cell_type": "code",
      "metadata": {
        "id": "AVb8KEbynPNj",
        "colab_type": "code",
        "colab": {
          "base_uri": "https://localhost:8080/",
          "height": 54
        },
        "outputId": "3ae49263-6290-4814-f5a6-8e59a3eb6ec2"
      },
      "source": [
        "!ls"
      ],
      "execution_count": 3,
      "outputs": [
        {
          "output_type": "stream",
          "text": [
            "cgan_discriminator.json\t\t cgan_generator.json\t      sample_data\n",
            "cgan_discriminator_weights.hdf5  cgan_generator_weights.hdf5\n"
          ],
          "name": "stdout"
        }
      ]
    },
    {
      "cell_type": "code",
      "metadata": {
        "id": "7U9H0YarnTKG",
        "colab_type": "code",
        "colab": {}
      },
      "source": [
        "def load_model(model_name):\n",
        "    model_path = \"%s.json\" % model_name\n",
        "    weights_path = \"%s_weights.hdf5\" % model_name\n",
        "    \n",
        "    \n",
        "    json_file = open(model_path, 'r')\n",
        "    loaded_model_json = json_file.read()\n",
        "    json_file.close()\n",
        "    loaded_model = model_from_json(loaded_model_json)\n",
        "    loaded_model.load_weights(weights_path)\n",
        "    \n",
        "    return loaded_model\n",
        "\n",
        "def sample_images():\n",
        "    r, c = 2, 5\n",
        "    noise = np.random.normal(0, 1, (r * c, 100))\n",
        "    sampled_labels = np.arange(0, 10).reshape(-1, 1)\n",
        "\n",
        "    gen_imgs = generator.predict([noise, sampled_labels])\n",
        "\n",
        "    # Rescale images 0 - 1\n",
        "    gen_imgs = 0.5 * gen_imgs + 0.5\n",
        "\n",
        "    fig, axs = plt.subplots(r, c)\n",
        "    cnt = 0\n",
        "    for i in range(r):\n",
        "        for j in range(c):\n",
        "            axs[i,j].imshow(gen_imgs[cnt,:,:,0], cmap='gray')\n",
        "            axs[i,j].set_title(\"Digit: %d\" % sampled_labels[cnt])\n",
        "            axs[i,j].axis('off')\n",
        "            cnt += 1\n",
        "    plt.show()"
      ],
      "execution_count": 0,
      "outputs": []
    },
    {
      "cell_type": "code",
      "metadata": {
        "id": "x-mMvqElncC9",
        "colab_type": "code",
        "colab": {}
      },
      "source": [
        "#Load saved models\n",
        "generator = load_model(\"cgan_generator\")\n",
        "#discriminator = load_model(\"discriminator\")\n"
      ],
      "execution_count": 0,
      "outputs": []
    },
    {
      "cell_type": "code",
      "metadata": {
        "id": "XSMWovHu4yvN",
        "colab_type": "code",
        "colab": {
          "base_uri": "https://localhost:8080/",
          "height": 240
        },
        "outputId": "4de7d41b-69b9-4242-cb11-31f6dacc4905"
      },
      "source": [
        "sample_images()        "
      ],
      "execution_count": 11,
      "outputs": [
        {
          "output_type": "display_data",
          "data": {
            "image/png": "[encoded data removed]",
            "text/plain": [
              "<Figure size 432x288 with 10 Axes>"
            ]
          },
          "metadata": {
            "tags": []
          }
        }
      ]
    }
  ]
}