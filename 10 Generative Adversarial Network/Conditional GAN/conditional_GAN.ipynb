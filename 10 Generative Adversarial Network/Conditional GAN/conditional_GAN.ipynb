{
  "nbformat": 4,
  "nbformat_minor": 0,
  "metadata": {
    "colab": {
      "name": "conditional_GAN.ipynb",
      "version": "0.3.2",
      "provenance": [],
      "include_colab_link": true
    },
    "kernelspec": {
      "name": "python3",
      "display_name": "Python 3"
    }
  },
  "cells": [
    {
      "cell_type": "markdown",
      "metadata": {
        "id": "view-in-github",
        "colab_type": "text"
      },
      "source": [
        "<a href=\"https://colab.research.google.com/github/jchen8000/MachineLearning/blob/master/10%20Generative%20Adversarial%20Network/Conditional%20GAN/conditional_GAN.ipynb\" target=\"_parent\"><img src=\"https://colab.research.google.com/assets/colab-badge.svg\" alt=\"Open In Colab\"/></a>"
      ]
    },
    {
      "cell_type": "markdown",
      "metadata": {
        "id": "ISLXPEFdmSm_",
        "colab_type": "text"
      },
      "source": [
        "# Conditional Generative Adversarial Network"
      ]
    },
    {
      "cell_type": "code",
      "metadata": {
        "id": "xeLsvDHYmJ_q",
        "colab_type": "code",
        "colab": {}
      },
      "source": [
        "from keras.models import model_from_json\n",
        "import numpy as np\n",
        "import matplotlib.pyplot as plt"
      ],
      "execution_count": 0,
      "outputs": []
    },
    {
      "cell_type": "code",
      "metadata": {
        "id": "SXSmCzUXmiuz",
        "colab_type": "code",
        "colab": {}
      },
      "source": [
        "!wget https://raw.githubusercontent.com/jchen8000/MachineLearning/master/10%20Generative%20Adversarial%20Network/Conditional%20GAN/saved_model/cgan_discriminator.json\n",
        "!wget https://raw.githubusercontent.com/jchen8000/MachineLearning/master/10%20Generative%20Adversarial%20Network/Conditional%20GAN/saved_model/cgan_generator.json\n",
        "!wget https://raw.githubusercontent.com/jchen8000/MachineLearning/master/10%20Generative%20Adversarial%20Network/Conditional%20GAN/saved_model/cgan_discriminator_weights.hdf5\n",
        "!wget https://raw.githubusercontent.com/jchen8000/MachineLearning/master/10%20Generative%20Adversarial%20Network/Conditional%20GAN/saved_model/cgan_generator_weights.hdf5"
      ],
      "execution_count": 0,
      "outputs": []
    },
    {
      "cell_type": "code",
      "metadata": {
        "id": "AVb8KEbynPNj",
        "colab_type": "code",
        "colab": {}
      },
      "source": [
        "!ls"
      ],
      "execution_count": 0,
      "outputs": []
    },
    {
      "cell_type": "code",
      "metadata": {
        "id": "7U9H0YarnTKG",
        "colab_type": "code",
        "colab": {}
      },
      "source": [
        "def load_model(model_name):\n",
        "    model_path = \"%s.json\" % model_name\n",
        "    weights_path = \"%s_weights.hdf5\" % model_name\n",
        "    \n",
        "    \n",
        "    json_file = open(model_path, 'r')\n",
        "    loaded_model_json = json_file.read()\n",
        "    json_file.close()\n",
        "    loaded_model = model_from_json(loaded_model_json)\n",
        "    loaded_model.load_weights(weights_path)\n",
        "    \n",
        "    return loaded_model\n",
        "\n",
        "  \n",
        "def load_model(model_name):\n",
        "    model_path = \"%s.json\" % model_name\n",
        "    weights_path = \"%s_weights.hdf5\" % model_name\n",
        "    \n",
        "    \n",
        "    json_file = open(model_path, 'r')\n",
        "    loaded_model_json = json_file.read()\n",
        "    json_file.close()\n",
        "    loaded_model = model_from_json(loaded_model_json)\n",
        "    loaded_model.load_weights(weights_path)\n",
        "    \n",
        "    return loaded_model\n"
      ],
      "execution_count": 0,
      "outputs": []
    },
    {
      "cell_type": "code",
      "metadata": {
        "id": "x-mMvqElncC9",
        "colab_type": "code",
        "colab": {}
      },
      "source": [
        "#Load saved models\n",
        "generator = load_model(\"generator\")\n",
        "discriminator = load_model(\"discriminator\")\n"
      ],
      "execution_count": 0,
      "outputs": []
    }
  ]
}