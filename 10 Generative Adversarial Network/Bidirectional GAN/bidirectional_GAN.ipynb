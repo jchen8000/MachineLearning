{
  "nbformat": 4,
  "nbformat_minor": 0,
  "metadata": {
    "colab": {
      "name": "bidirectional GAN.ipynb",
      "version": "0.3.2",
      "provenance": [],
      "include_colab_link": true
    },
    "kernelspec": {
      "name": "python3",
      "display_name": "Python 3"
    }
  },
  "cells": [
    {
      "cell_type": "markdown",
      "metadata": {
        "id": "view-in-github",
        "colab_type": "text"
      },
      "source": [
        "<a href=\"https://colab.research.google.com/github/jchen8000/MachineLearning/blob/master/10%20Generative%20Adversarial%20Network/Bidirectional%20GAN/bidirectional_GAN.ipynb\" target=\"_parent\"><img src=\"https://colab.research.google.com/assets/colab-badge.svg\" alt=\"Open In Colab\"/></a>"
      ]
    },
    {
      "cell_type": "markdown",
      "metadata": {
        "id": "np9xIMbaym_U",
        "colab_type": "text"
      },
      "source": [
        "# BiDirectional Generative Adversarial Network"
      ]
    },
    {
      "cell_type": "code",
      "metadata": {
        "id": "yghCD9B2yARC",
        "colab_type": "code",
        "colab": {
          "base_uri": "https://localhost:8080/",
          "height": 35
        },
        "outputId": "10b5235f-ed61-421c-d0bc-a87ae06927a9"
      },
      "source": [
        "from keras.models import model_from_json\n",
        "import numpy as np\n",
        "import matplotlib.pyplot as plt"
      ],
      "execution_count": 1,
      "outputs": [
        {
          "output_type": "stream",
          "text": [
            "Using TensorFlow backend.\n"
          ],
          "name": "stderr"
        }
      ]
    },
    {
      "cell_type": "code",
      "metadata": {
        "id": "w0yyzHjSytgI",
        "colab_type": "code",
        "colab": {
          "base_uri": "https://localhost:8080/",
          "height": 837
        },
        "outputId": "5ee55365-9f2e-4fea-dd5b-c96db6e72852"
      },
      "source": [
        "!wget https://raw.githubusercontent.com/jchen8000/MachineLearning/master/10%20Generative%20Adversarial%20Network/Bidirectional%20GAN/saved_model/bigan_discriminator.json\n",
        "!wget https://raw.githubusercontent.com/jchen8000/MachineLearning/master/10%20Generative%20Adversarial%20Network/Bidirectional%20GAN/saved_model/bigan_discriminator_weights.hdf5\n",
        "!wget https://raw.githubusercontent.com/jchen8000/MachineLearning/master/10%20Generative%20Adversarial%20Network/Bidirectional%20GAN/saved_model/bigan_generator.json\n",
        "!wget https://raw.githubusercontent.com/jchen8000/MachineLearning/master/10%20Generative%20Adversarial%20Network/Bidirectional%20GAN/saved_model/bigan_generator_weights.hdf5"
      ],
      "execution_count": 2,
      "outputs": [
        {
          "output_type": "stream",
          "text": [
            "--2019-09-06 18:21:25--  https://raw.githubusercontent.com/jchen8000/MachineLearning/master/10%20Generative%20Adversarial%20Network/Bidirectional%20GAN/saved_model/bigan_discriminator.json\n",
            "Resolving raw.githubusercontent.com (raw.githubusercontent.com)... 151.101.0.133, 151.101.64.133, 151.101.128.133, ...\n",
            "Connecting to raw.githubusercontent.com (raw.githubusercontent.com)|151.101.0.133|:443... connected.\n",
            "HTTP request sent, awaiting response... 200 OK\n",
            "Length: 4218 (4.1K) [text/plain]\n",
            "Saving to: ‘bigan_discriminator.json’\n",
            "\n",
            "\rbigan_discriminator   0%[                    ]       0  --.-KB/s               \rbigan_discriminator 100%[===================>]   4.12K  --.-KB/s    in 0s      \n",
            "\n",
            "2019-09-06 18:21:25 (87.3 MB/s) - ‘bigan_discriminator.json’ saved [4218/4218]\n",
            "\n",
            "--2019-09-06 18:21:26--  https://raw.githubusercontent.com/jchen8000/MachineLearning/master/10%20Generative%20Adversarial%20Network/Bidirectional%20GAN/saved_model/bigan_discriminator_weights.hdf5\n",
            "Resolving raw.githubusercontent.com (raw.githubusercontent.com)... 151.101.0.133, 151.101.64.133, 151.101.128.133, ...\n",
            "Connecting to raw.githubusercontent.com (raw.githubusercontent.com)|151.101.0.133|:443... connected.\n",
            "HTTP request sent, awaiting response... 200 OK\n",
            "Length: 12053372 (11M) [application/octet-stream]\n",
            "Saving to: ‘bigan_discriminator_weights.hdf5’\n",
            "\n",
            "bigan_discriminator 100%[===================>]  11.49M  --.-KB/s    in 0.1s    \n",
            "\n",
            "2019-09-06 18:21:26 (117 MB/s) - ‘bigan_discriminator_weights.hdf5’ saved [12053372/12053372]\n",
            "\n",
            "--2019-09-06 18:21:27--  https://raw.githubusercontent.com/jchen8000/MachineLearning/master/10%20Generative%20Adversarial%20Network/Bidirectional%20GAN/saved_model/bigan_generator.json\n",
            "Resolving raw.githubusercontent.com (raw.githubusercontent.com)... 151.101.0.133, 151.101.64.133, 151.101.128.133, ...\n",
            "Connecting to raw.githubusercontent.com (raw.githubusercontent.com)|151.101.0.133|:443... connected.\n",
            "HTTP request sent, awaiting response... 200 OK\n",
            "Length: 3386 (3.3K) [text/plain]\n",
            "Saving to: ‘bigan_generator.json’\n",
            "\n",
            "bigan_generator.jso 100%[===================>]   3.31K  --.-KB/s    in 0s      \n",
            "\n",
            "2019-09-06 18:21:27 (50.9 MB/s) - ‘bigan_generator.json’ saved [3386/3386]\n",
            "\n",
            "--2019-09-06 18:21:27--  https://raw.githubusercontent.com/jchen8000/MachineLearning/master/10%20Generative%20Adversarial%20Network/Bidirectional%20GAN/saved_model/bigan_generator_weights.hdf5\n",
            "Resolving raw.githubusercontent.com (raw.githubusercontent.com)... 151.101.0.133, 151.101.64.133, 151.101.128.133, ...\n",
            "Connecting to raw.githubusercontent.com (raw.githubusercontent.com)|151.101.0.133|:443... connected.\n",
            "HTTP request sent, awaiting response... 200 OK\n",
            "Length: 2900208 (2.8M) [application/octet-stream]\n",
            "Saving to: ‘bigan_generator_weights.hdf5’\n",
            "\n",
            "bigan_generator_wei 100%[===================>]   2.77M  --.-KB/s    in 0.08s   \n",
            "\n",
            "2019-09-06 18:21:28 (33.8 MB/s) - ‘bigan_generator_weights.hdf5’ saved [2900208/2900208]\n",
            "\n"
          ],
          "name": "stdout"
        }
      ]
    },
    {
      "cell_type": "code",
      "metadata": {
        "id": "yOIx1B_hzJtu",
        "colab_type": "code",
        "colab": {
          "base_uri": "https://localhost:8080/",
          "height": 54
        },
        "outputId": "44bbc079-f8d0-41f9-8773-d20f140fb7ec"
      },
      "source": [
        "!ls"
      ],
      "execution_count": 3,
      "outputs": [
        {
          "output_type": "stream",
          "text": [
            "bigan_discriminator.json\t  bigan_generator.json\t\tsample_data\n",
            "bigan_discriminator_weights.hdf5  bigan_generator_weights.hdf5\n"
          ],
          "name": "stdout"
        }
      ]
    },
    {
      "cell_type": "code",
      "metadata": {
        "id": "XtxhD5-xzMxt",
        "colab_type": "code",
        "colab": {
          "base_uri": "https://localhost:8080/",
          "height": 219
        },
        "outputId": "f4e39841-2401-44da-c020-77d03ff91feb"
      },
      "source": [
        "def load_model(model_name):\n",
        "    model_path = \"%s.json\" % model_name\n",
        "    weights_path = \"%s_weights.hdf5\" % model_name\n",
        "    \n",
        "    \n",
        "    json_file = open(model_path, 'r')\n",
        "    loaded_model_json = json_file.read()\n",
        "    json_file.close()\n",
        "    loaded_model = model_from_json(loaded_model_json)\n",
        "    loaded_model.load_weights(weights_path)\n",
        "    \n",
        "    return loaded_model\n",
        "  \n",
        "\n",
        "generator = load_model(\"bigan_generator\")\n",
        "#discriminator = load_model(\"bigan_discriminator\")\n"
      ],
      "execution_count": 4,
      "outputs": [
        {
          "output_type": "stream",
          "text": [
            "WARNING:tensorflow:From /usr/local/lib/python3.6/dist-packages/keras/backend/tensorflow_backend.py:541: The name tf.placeholder is deprecated. Please use tf.compat.v1.placeholder instead.\n",
            "\n",
            "WARNING:tensorflow:From /usr/local/lib/python3.6/dist-packages/keras/backend/tensorflow_backend.py:4432: The name tf.random_uniform is deprecated. Please use tf.random.uniform instead.\n",
            "\n",
            "WARNING:tensorflow:From /usr/local/lib/python3.6/dist-packages/keras/backend/tensorflow_backend.py:66: The name tf.get_default_graph is deprecated. Please use tf.compat.v1.get_default_graph instead.\n",
            "\n",
            "WARNING:tensorflow:From /usr/local/lib/python3.6/dist-packages/keras/backend/tensorflow_backend.py:148: The name tf.placeholder_with_default is deprecated. Please use tf.compat.v1.placeholder_with_default instead.\n",
            "\n",
            "WARNING:tensorflow:From /usr/local/lib/python3.6/dist-packages/keras/backend/tensorflow_backend.py:190: The name tf.get_default_session is deprecated. Please use tf.compat.v1.get_default_session instead.\n",
            "\n"
          ],
          "name": "stdout"
        }
      ]
    },
    {
      "cell_type": "code",
      "metadata": {
        "id": "E0GFOrKBzi67",
        "colab_type": "code",
        "colab": {
          "base_uri": "https://localhost:8080/",
          "height": 269
        },
        "outputId": "a72db6aa-ae90-4f29-cc0a-db02433b8176"
      },
      "source": [
        "latent_dim = 100\n",
        "\n",
        "def sample_images():\n",
        "      r, c = 5, 5\n",
        "      z = np.random.normal(size=(25, latent_dim))\n",
        "      gen_imgs = generator.predict(z)\n",
        "\n",
        "      gen_imgs = 0.5 * gen_imgs + 0.5\n",
        "\n",
        "      fig, axs = plt.subplots(r, c)\n",
        "      cnt = 0\n",
        "      for i in range(r):\n",
        "          for j in range(c):\n",
        "              axs[i,j].imshow(gen_imgs[cnt, :,:,0], cmap='gray')\n",
        "              axs[i,j].axis('off')\n",
        "              cnt += 1\n",
        "      plt.show()\n",
        "      \n",
        "      \n",
        "sample_images()"
      ],
      "execution_count": 7,
      "outputs": [
        {
          "output_type": "display_data",
          "data": {
            "image/png": "[encoded data removed]",
            "text/plain": [
              "<Figure size 432x288 with 25 Axes>"
            ]
          },
          "metadata": {
            "tags": []
          }
        }
      ]
    }
  ]
}