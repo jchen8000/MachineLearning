{
  "nbformat": 4,
  "nbformat_minor": 0,
  "metadata": {
    "colab": {
      "name": "coupled_GAN.ipynb",
      "version": "0.3.2",
      "provenance": [],
      "include_colab_link": true
    },
    "kernelspec": {
      "name": "python3",
      "display_name": "Python 3"
    }
  },
  "cells": [
    {
      "cell_type": "markdown",
      "metadata": {
        "id": "view-in-github",
        "colab_type": "text"
      },
      "source": [
        "<a href=\"https://colab.research.google.com/github/jchen8000/MachineLearning/blob/master/10%20Generative%20Adversarial%20Network/Coupled%20GAN/coupled_GAN.ipynb\" target=\"_parent\"><img src=\"https://colab.research.google.com/assets/colab-badge.svg\" alt=\"Open In Colab\"/></a>"
      ]
    },
    {
      "cell_type": "markdown",
      "metadata": {
        "id": "N2kllPn6LeF1",
        "colab_type": "text"
      },
      "source": [
        "# Coupled GAN"
      ]
    },
    {
      "cell_type": "code",
      "metadata": {
        "id": "obSjj05qLW1l",
        "colab_type": "code",
        "colab": {
          "base_uri": "https://localhost:8080/",
          "height": 34
        },
        "outputId": "fef219bb-6811-431f-d739-7b7ec38dd456"
      },
      "source": [
        "from keras.models import model_from_json\n",
        "import numpy as np\n",
        "import matplotlib.pyplot as plt"
      ],
      "execution_count": 1,
      "outputs": [
        {
          "output_type": "stream",
          "text": [
            "Using TensorFlow backend.\n"
          ],
          "name": "stderr"
        }
      ]
    },
    {
      "cell_type": "code",
      "metadata": {
        "id": "bbDu9LuHLjBf",
        "colab_type": "code",
        "colab": {
          "base_uri": "https://localhost:8080/",
          "height": 785
        },
        "outputId": "1abbeadc-2c6d-485c-c6ec-91ab43f9d23c"
      },
      "source": [
        "!wget https://raw.githubusercontent.com/jchen8000/MachineLearning/master/10%20Generative%20Adversarial%20Network/Coupled%20GAN/saved_model/cogan_generator1.json\n",
        "!wget https://raw.githubusercontent.com/jchen8000/MachineLearning/master/10%20Generative%20Adversarial%20Network/Coupled%20GAN/saved_model/cogan_generator2.json\n",
        "!wget https://raw.githubusercontent.com/jchen8000/MachineLearning/master/10%20Generative%20Adversarial%20Network/Coupled%20GAN/saved_model/cogan_generator1_weights.hdf5\n",
        "!wget https://raw.githubusercontent.com/jchen8000/MachineLearning/master/10%20Generative%20Adversarial%20Network/Coupled%20GAN/saved_model/cogan_generator2_weights.hdf5  \n"
      ],
      "execution_count": 2,
      "outputs": [
        {
          "output_type": "stream",
          "text": [
            "--2019-09-07 01:04:11--  https://raw.githubusercontent.com/jchen8000/MachineLearning/master/10%20Generative%20Adversarial%20Network/Coupled%20GAN/saved_model/cogan_generator1.json\n",
            "Resolving raw.githubusercontent.com (raw.githubusercontent.com)... 151.101.0.133, 151.101.64.133, 151.101.128.133, ...\n",
            "Connecting to raw.githubusercontent.com (raw.githubusercontent.com)|151.101.0.133|:443... connected.\n",
            "HTTP request sent, awaiting response... 200 OK\n",
            "Length: 4867 (4.8K) [text/plain]\n",
            "Saving to: ‘cogan_generator1.json’\n",
            "\n",
            "\rcogan_generator1.js   0%[                    ]       0  --.-KB/s               \rcogan_generator1.js 100%[===================>]   4.75K  --.-KB/s    in 0s      \n",
            "\n",
            "2019-09-07 01:04:11 (64.3 MB/s) - ‘cogan_generator1.json’ saved [4867/4867]\n",
            "\n",
            "--2019-09-07 01:04:12--  https://raw.githubusercontent.com/jchen8000/MachineLearning/master/10%20Generative%20Adversarial%20Network/Coupled%20GAN/saved_model/cogan_generator2.json\n",
            "Resolving raw.githubusercontent.com (raw.githubusercontent.com)... 151.101.0.133, 151.101.64.133, 151.101.128.133, ...\n",
            "Connecting to raw.githubusercontent.com (raw.githubusercontent.com)|151.101.0.133|:443... connected.\n",
            "HTTP request sent, awaiting response... 200 OK\n",
            "Length: 4870 (4.8K) [text/plain]\n",
            "Saving to: ‘cogan_generator2.json’\n",
            "\n",
            "cogan_generator2.js 100%[===================>]   4.76K  --.-KB/s    in 0s      \n",
            "\n",
            "2019-09-07 01:04:12 (77.6 MB/s) - ‘cogan_generator2.json’ saved [4870/4870]\n",
            "\n",
            "--2019-09-07 01:04:13--  https://raw.githubusercontent.com/jchen8000/MachineLearning/master/10%20Generative%20Adversarial%20Network/Coupled%20GAN/saved_model/cogan_generator1_weights.hdf5\n",
            "Resolving raw.githubusercontent.com (raw.githubusercontent.com)... 151.101.0.133, 151.101.64.133, 151.101.128.133, ...\n",
            "Connecting to raw.githubusercontent.com (raw.githubusercontent.com)|151.101.0.133|:443... connected.\n",
            "HTTP request sent, awaiting response... 200 OK\n",
            "Length: 6000344 (5.7M) [application/octet-stream]\n",
            "Saving to: ‘cogan_generator1_weights.hdf5’\n",
            "\n",
            "cogan_generator1_we 100%[===================>]   5.72M  --.-KB/s    in 0.07s   \n",
            "\n",
            "2019-09-07 01:04:13 (76.5 MB/s) - ‘cogan_generator1_weights.hdf5’ saved [6000344/6000344]\n",
            "\n",
            "--2019-09-07 01:04:14--  https://raw.githubusercontent.com/jchen8000/MachineLearning/master/10%20Generative%20Adversarial%20Network/Coupled%20GAN/saved_model/cogan_generator2_weights.hdf5\n",
            "Resolving raw.githubusercontent.com (raw.githubusercontent.com)... 151.101.0.133, 151.101.64.133, 151.101.128.133, ...\n",
            "Connecting to raw.githubusercontent.com (raw.githubusercontent.com)|151.101.0.133|:443... connected.\n",
            "HTTP request sent, awaiting response... 200 OK\n",
            "Length: 6000344 (5.7M) [application/octet-stream]\n",
            "Saving to: ‘cogan_generator2_weights.hdf5’\n",
            "\n",
            "cogan_generator2_we 100%[===================>]   5.72M  --.-KB/s    in 0.07s   \n",
            "\n",
            "2019-09-07 01:04:14 (80.7 MB/s) - ‘cogan_generator2_weights.hdf5’ saved [6000344/6000344]\n",
            "\n"
          ],
          "name": "stdout"
        }
      ]
    },
    {
      "cell_type": "code",
      "metadata": {
        "id": "DaRcpWXNL6ED",
        "colab_type": "code",
        "colab": {
          "base_uri": "https://localhost:8080/",
          "height": 207
        },
        "outputId": "f654573c-b6d9-421a-e5c3-92ea380ce872"
      },
      "source": [
        "def load_model(model_name):\n",
        "    model_path = \"%s.json\" % model_name\n",
        "    weights_path = \"%s_weights.hdf5\" % model_name\n",
        "    \n",
        "    \n",
        "    json_file = open(model_path, 'r')\n",
        "    loaded_model_json = json_file.read()\n",
        "    json_file.close()\n",
        "    loaded_model = model_from_json(loaded_model_json)\n",
        "    loaded_model.load_weights(weights_path)\n",
        "    \n",
        "    return loaded_model\n",
        "  \n",
        "\n",
        "g1 = load_model(\"cogan_generator1\")\n",
        "g2 = load_model(\"cogan_generator2\")\n"
      ],
      "execution_count": 3,
      "outputs": [
        {
          "output_type": "stream",
          "text": [
            "WARNING:tensorflow:From /usr/local/lib/python3.6/dist-packages/keras/backend/tensorflow_backend.py:541: The name tf.placeholder is deprecated. Please use tf.compat.v1.placeholder instead.\n",
            "\n",
            "WARNING:tensorflow:From /usr/local/lib/python3.6/dist-packages/keras/backend/tensorflow_backend.py:4432: The name tf.random_uniform is deprecated. Please use tf.random.uniform instead.\n",
            "\n",
            "WARNING:tensorflow:From /usr/local/lib/python3.6/dist-packages/keras/backend/tensorflow_backend.py:66: The name tf.get_default_graph is deprecated. Please use tf.compat.v1.get_default_graph instead.\n",
            "\n",
            "WARNING:tensorflow:From /usr/local/lib/python3.6/dist-packages/keras/backend/tensorflow_backend.py:148: The name tf.placeholder_with_default is deprecated. Please use tf.compat.v1.placeholder_with_default instead.\n",
            "\n",
            "WARNING:tensorflow:From /usr/local/lib/python3.6/dist-packages/keras/backend/tensorflow_backend.py:190: The name tf.get_default_session is deprecated. Please use tf.compat.v1.get_default_session instead.\n",
            "\n"
          ],
          "name": "stdout"
        }
      ]
    },
    {
      "cell_type": "code",
      "metadata": {
        "id": "gVsjqLxdMZZJ",
        "colab_type": "code",
        "colab": {
          "base_uri": "https://localhost:8080/",
          "height": 268
        },
        "outputId": "6f7ff10f-7f8a-4573-e515-384928094292"
      },
      "source": [
        "def sample_images():\n",
        "    r, c = 4, 8\n",
        "    noise = np.random.normal(0, 1, (r * int(c/2), 100))\n",
        "    gen_imgs1 = g1.predict(noise)\n",
        "    gen_imgs2 = g2.predict(noise)\n",
        "\n",
        "    gen_imgs = np.concatenate([gen_imgs1, gen_imgs2])\n",
        "\n",
        "    # Rescale images 0 - 1\n",
        "    gen_imgs = 0.5 * gen_imgs + 0.5\n",
        "\n",
        "    fig, axs = plt.subplots(r, c, figsize=(8,4))\n",
        "    cnt = 0\n",
        "    for i in range(r):\n",
        "        for j in range(c):\n",
        "            axs[i,j].imshow(gen_imgs[cnt, :,:,0], cmap='gray')\n",
        "            axs[i,j].axis('off')\n",
        "            cnt += 1\n",
        "    plt.show()\n",
        "    \n",
        "    \n",
        "sample_images()    "
      ],
      "execution_count": 10,
      "outputs": [
        {
          "output_type": "display_data",
          "data": {
            "image/png": "[encoded data removed]",
            "text/plain": [
              "<Figure size 576x288 with 32 Axes>"
            ]
          },
          "metadata": {
            "tags": []
          }
        }
      ]
    }
  ]
}