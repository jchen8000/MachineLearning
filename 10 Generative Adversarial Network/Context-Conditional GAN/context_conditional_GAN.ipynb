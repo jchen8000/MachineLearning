{
  "nbformat": 4,
  "nbformat_minor": 0,
  "metadata": {
    "colab": {
      "name": "context_conditional_GAN.ipynb",
      "version": "0.3.2",
      "provenance": [],
      "include_colab_link": true
    },
    "kernelspec": {
      "name": "python3",
      "display_name": "Python 3"
    }
  },
  "cells": [
    {
      "cell_type": "markdown",
      "metadata": {
        "id": "view-in-github",
        "colab_type": "text"
      },
      "source": [
        "<a href=\"https://colab.research.google.com/github/jchen8000/MachineLearning/blob/master/10%20Generative%20Adversarial%20Network/Context-Conditional%20GAN/context_conditional_GAN.ipynb\" target=\"_parent\"><img src=\"https://colab.research.google.com/assets/colab-badge.svg\" alt=\"Open In Colab\"/></a>"
      ]
    },
    {
      "cell_type": "markdown",
      "metadata": {
        "id": "N2kllPn6LeF1",
        "colab_type": "text"
      },
      "source": [
        "# Context-Conditional GAN"
      ]
    },
    {
      "cell_type": "code",
      "metadata": {
        "id": "obSjj05qLW1l",
        "colab_type": "code",
        "colab": {}
      },
      "source": [
        "from keras.models import model_from_json\n",
        "import numpy as np\n",
        "import matplotlib.pyplot as plt"
      ],
      "execution_count": 0,
      "outputs": []
    },
    {
      "cell_type": "code",
      "metadata": {
        "id": "bbDu9LuHLjBf",
        "colab_type": "code",
        "colab": {}
      },
      "source": [
        "!wget https://raw.githubusercontent.com/jchen8000/MachineLearning/master/10%20Generative%20Adversarial%20Network/Context-Conditional%20GAN/saved_model/ccgan_generator.json\n",
        "!wget https://raw.githubusercontent.com/jchen8000/MachineLearning/master/10%20Generative%20Adversarial%20Network/Context-Conditional%20GAN/saved_model/ccgan_generator_weights.hdf5\n"
      ],
      "execution_count": 0,
      "outputs": []
    },
    {
      "cell_type": "code",
      "metadata": {
        "id": "DaRcpWXNL6ED",
        "colab_type": "code",
        "colab": {}
      },
      "source": [
        "def load_model(model_name):\n",
        "    model_path = \"%s.json\" % model_name\n",
        "    weights_path = \"%s_weights.hdf5\" % model_name\n",
        "    \n",
        "    \n",
        "    json_file = open(model_path, 'r')\n",
        "    loaded_model_json = json_file.read()\n",
        "    json_file.close()\n",
        "    loaded_model = model_from_json(loaded_model_json)\n",
        "    loaded_model.load_weights(weights_path)\n",
        "    \n",
        "    return loaded_model\n",
        "  \n",
        "\n",
        "generator = load_model(\"ccgan_generator\")\n",
        "#discriminator = load_model(\"ccgan_discriminator\")\n"
      ],
      "execution_count": 0,
      "outputs": []
    },
    {
      "cell_type": "code",
      "metadata": {
        "id": "gVsjqLxdMZZJ",
        "colab_type": "code",
        "colab": {}
      },
      "source": [
        "\n",
        "def sample_images(self, epoch, imgs):\n",
        "    r, c = 3, 6\n",
        "\n",
        "    masked_imgs = self.mask_randomly(imgs)\n",
        "    gen_imgs = self.generator.predict(masked_imgs)\n",
        "\n",
        "    imgs = (imgs + 1.0) * 0.5\n",
        "    masked_imgs = (masked_imgs + 1.0) * 0.5\n",
        "    gen_imgs = (gen_imgs + 1.0) * 0.5\n",
        "\n",
        "    gen_imgs = np.where(gen_imgs < 0, 0, gen_imgs)\n",
        "\n",
        "    fig, axs = plt.subplots(r, c)\n",
        "    for i in range(c):\n",
        "        axs[0,i].imshow(imgs[i, :, :, 0], cmap='gray')\n",
        "        axs[0,i].axis('off')\n",
        "        axs[1,i].imshow(masked_imgs[i, :, :, 0], cmap='gray')\n",
        "        axs[1,i].axis('off')\n",
        "        axs[2,i].imshow(gen_imgs[i, :, :, 0], cmap='gray')\n",
        "        axs[2,i].axis('off')\n",
        "    plt.show()"
      ],
      "execution_count": 0,
      "outputs": []
    }
  ]
}