{
  "nbformat": 4,
  "nbformat_minor": 0,
  "metadata": {
    "colab": {
      "name": "context_conditional_GAN.ipynb",
      "version": "0.3.2",
      "provenance": [],
      "include_colab_link": true
    },
    "kernelspec": {
      "name": "python3",
      "display_name": "Python 3"
    }
  },
  "cells": [
    {
      "cell_type": "markdown",
      "metadata": {
        "id": "view-in-github",
        "colab_type": "text"
      },
      "source": [
        "<a href=\"https://colab.research.google.com/github/jchen8000/MachineLearning/blob/master/10%20Generative%20Adversarial%20Network/Context-Conditional%20GAN/context_conditional_GAN.ipynb\" target=\"_parent\"><img src=\"https://colab.research.google.com/assets/colab-badge.svg\" alt=\"Open In Colab\"/></a>"
      ]
    },
    {
      "cell_type": "markdown",
      "metadata": {
        "id": "N2kllPn6LeF1",
        "colab_type": "text"
      },
      "source": [
        "# Context-Conditional GAN"
      ]
    },
    {
      "cell_type": "code",
      "metadata": {
        "id": "obSjj05qLW1l",
        "colab_type": "code",
        "colab": {
          "base_uri": "https://localhost:8080/",
          "height": 34
        },
        "outputId": "327df34c-154c-43d1-f04d-afe7e1aaac88"
      },
      "source": [
        "from keras.datasets import mnist\n",
        "from keras.models import model_from_json\n",
        "import numpy as np\n",
        "import matplotlib.pyplot as plt\n",
        "import scipy"
      ],
      "execution_count": 1,
      "outputs": [
        {
          "output_type": "stream",
          "text": [
            "Using TensorFlow backend.\n"
          ],
          "name": "stderr"
        }
      ]
    },
    {
      "cell_type": "code",
      "metadata": {
        "id": "bbDu9LuHLjBf",
        "colab_type": "code",
        "colab": {
          "base_uri": "https://localhost:8080/",
          "height": 411
        },
        "outputId": "62d2973b-6c4d-4182-c8d4-174fc3546a0f"
      },
      "source": [
        "!wget https://raw.githubusercontent.com/jchen8000/MachineLearning/master/10%20Generative%20Adversarial%20Network/Context-Conditional%20GAN/saved_model/ccgan_generator.json\n",
        "!wget https://raw.githubusercontent.com/jchen8000/MachineLearning/master/10%20Generative%20Adversarial%20Network/Context-Conditional%20GAN/saved_model/ccgan_generator_weights.hdf5\n"
      ],
      "execution_count": 2,
      "outputs": [
        {
          "output_type": "stream",
          "text": [
            "--2019-09-08 00:11:59--  https://raw.githubusercontent.com/jchen8000/MachineLearning/master/10%20Generative%20Adversarial%20Network/Context-Conditional%20GAN/saved_model/ccgan_generator.json\n",
            "Resolving raw.githubusercontent.com (raw.githubusercontent.com)... 151.101.0.133, 151.101.64.133, 151.101.128.133, ...\n",
            "Connecting to raw.githubusercontent.com (raw.githubusercontent.com)|151.101.0.133|:443... connected.\n",
            "HTTP request sent, awaiting response... 200 OK\n",
            "Length: 11746 (11K) [text/plain]\n",
            "Saving to: ‘ccgan_generator.json’\n",
            "\n",
            "\rccgan_generator.jso   0%[                    ]       0  --.-KB/s               \rccgan_generator.jso 100%[===================>]  11.47K  --.-KB/s    in 0s      \n",
            "\n",
            "2019-09-08 00:11:59 (144 MB/s) - ‘ccgan_generator.json’ saved [11746/11746]\n",
            "\n",
            "--2019-09-08 00:12:00--  https://raw.githubusercontent.com/jchen8000/MachineLearning/master/10%20Generative%20Adversarial%20Network/Context-Conditional%20GAN/saved_model/ccgan_generator_weights.hdf5\n",
            "Resolving raw.githubusercontent.com (raw.githubusercontent.com)... 151.101.0.133, 151.101.64.133, 151.101.128.133, ...\n",
            "Connecting to raw.githubusercontent.com (raw.githubusercontent.com)|151.101.0.133|:443... connected.\n",
            "HTTP request sent, awaiting response... 200 OK\n",
            "Length: 6241544 (6.0M) [application/octet-stream]\n",
            "Saving to: ‘ccgan_generator_weights.hdf5’\n",
            "\n",
            "ccgan_generator_wei 100%[===================>]   5.95M  --.-KB/s    in 0.1s    \n",
            "\n",
            "2019-09-08 00:12:00 (52.7 MB/s) - ‘ccgan_generator_weights.hdf5’ saved [6241544/6241544]\n",
            "\n"
          ],
          "name": "stdout"
        }
      ]
    },
    {
      "cell_type": "code",
      "metadata": {
        "id": "DaRcpWXNL6ED",
        "colab_type": "code",
        "colab": {
          "base_uri": "https://localhost:8080/",
          "height": 275
        },
        "outputId": "f75507dc-c9f4-417b-8b1c-da906ac42d24"
      },
      "source": [
        "def load_model(model_name):\n",
        "    model_path = \"%s.json\" % model_name\n",
        "    weights_path = \"%s_weights.hdf5\" % model_name\n",
        "    \n",
        "    \n",
        "    json_file = open(model_path, 'r')\n",
        "    loaded_model_json = json_file.read()\n",
        "    json_file.close()\n",
        "    loaded_model = model_from_json(loaded_model_json)\n",
        "    loaded_model.load_weights(weights_path)\n",
        "    \n",
        "    return loaded_model\n",
        "  \n",
        "\n",
        "generator = load_model(\"ccgan_generator\")\n",
        "#discriminator = load_model(\"ccgan_discriminator\")\n"
      ],
      "execution_count": 3,
      "outputs": [
        {
          "output_type": "stream",
          "text": [
            "WARNING:tensorflow:From /usr/local/lib/python3.6/dist-packages/keras/backend/tensorflow_backend.py:541: The name tf.placeholder is deprecated. Please use tf.compat.v1.placeholder instead.\n",
            "\n",
            "WARNING:tensorflow:From /usr/local/lib/python3.6/dist-packages/keras/backend/tensorflow_backend.py:4432: The name tf.random_uniform is deprecated. Please use tf.random.uniform instead.\n",
            "\n",
            "WARNING:tensorflow:From /usr/local/lib/python3.6/dist-packages/keras/backend/tensorflow_backend.py:66: The name tf.get_default_graph is deprecated. Please use tf.compat.v1.get_default_graph instead.\n",
            "\n",
            "WARNING:tensorflow:From /usr/local/lib/python3.6/dist-packages/keras/backend/tensorflow_backend.py:190: The name tf.get_default_session is deprecated. Please use tf.compat.v1.get_default_session instead.\n",
            "\n",
            "WARNING:tensorflow:From /usr/local/lib/python3.6/dist-packages/keras/backend/tensorflow_backend.py:197: The name tf.ConfigProto is deprecated. Please use tf.compat.v1.ConfigProto instead.\n",
            "\n",
            "WARNING:tensorflow:From /usr/local/lib/python3.6/dist-packages/keras/backend/tensorflow_backend.py:2041: The name tf.nn.fused_batch_norm is deprecated. Please use tf.compat.v1.nn.fused_batch_norm instead.\n",
            "\n",
            "WARNING:tensorflow:From /usr/local/lib/python3.6/dist-packages/keras/backend/tensorflow_backend.py:2239: The name tf.image.resize_nearest_neighbor is deprecated. Please use tf.compat.v1.image.resize_nearest_neighbor instead.\n",
            "\n"
          ],
          "name": "stdout"
        }
      ]
    },
    {
      "cell_type": "code",
      "metadata": {
        "id": "gVsjqLxdMZZJ",
        "colab_type": "code",
        "colab": {}
      },
      "source": [
        "img_rows = 32\n",
        "img_cols = 32\n",
        "channels = 1\n",
        "img_shape = (img_rows, img_cols, channels)\n",
        "mask_height = 10\n",
        "mask_width = 10\n",
        "num_classes = 10\n",
        "        \n",
        "        \n",
        "        \n",
        "def mask_randomly(imgs):\n",
        "    y1 = np.random.randint(0, img_rows - mask_height, imgs.shape[0])\n",
        "    y2 = y1 + mask_height\n",
        "    x1 = np.random.randint(0, img_rows - mask_width, imgs.shape[0])\n",
        "    x2 = x1 + mask_width\n",
        "\n",
        "    masked_imgs = np.empty_like(imgs)\n",
        "    for i, img in enumerate(imgs):\n",
        "        masked_img = img.copy()\n",
        "        _y1, _y2, _x1, _x2 = y1[i], y2[i], x1[i], x2[i],\n",
        "        masked_img[_y1:_y2, _x1:_x2, :] = 0\n",
        "        masked_imgs[i] = masked_img\n",
        "    return masked_imgs\n",
        "\n",
        "\n",
        "def sample_images(imgs):\n",
        "    r, c = 3, 6\n",
        "\n",
        "    masked_imgs = mask_randomly(imgs)\n",
        "    gen_imgs = generator.predict(masked_imgs)\n",
        "\n",
        "    imgs = (imgs + 1.0) * 0.5\n",
        "    masked_imgs = (masked_imgs + 1.0) * 0.5\n",
        "    gen_imgs = (gen_imgs + 1.0) * 0.5\n",
        "\n",
        "    gen_imgs = np.where(gen_imgs < 0, 0, gen_imgs)\n",
        "\n",
        "    fig, axs = plt.subplots(r, c)\n",
        "    for i in range(c):\n",
        "        axs[0,i].imshow(imgs[i, :, :, 0], cmap='gray')\n",
        "        axs[0,i].axis('off')\n",
        "        axs[1,i].imshow(masked_imgs[i, :, :, 0], cmap='gray')\n",
        "        axs[1,i].axis('off')\n",
        "        axs[2,i].imshow(gen_imgs[i, :, :, 0], cmap='gray')\n",
        "        axs[2,i].axis('off')\n",
        "    plt.show()"
      ],
      "execution_count": 0,
      "outputs": []
    },
    {
      "cell_type": "code",
      "metadata": {
        "id": "nuglQ_xXJMb7",
        "colab_type": "code",
        "colab": {}
      },
      "source": [
        "import scipy.misc\n",
        "\n",
        "# Load the dataset\n",
        "(X_train, y_train), (_, _) = mnist.load_data()\n",
        "\n",
        "# Rescale MNIST to 32x32\n",
        "X_train = np.array([scipy.misc.imresize(x, [img_rows, img_cols]) for x in X_train])\n",
        "\n",
        "# Rescale -1 to 1\n",
        "X_train = (X_train.astype(np.float32) - 127.5) / 127.5\n",
        "X_train = np.expand_dims(X_train, axis=3)\n",
        "y_train = y_train.reshape(-1, 1)\n",
        "\n",
        "\n",
        "idx = np.random.randint(0, X_train.shape[0], 6)\n",
        "imgs = X_train[idx]"
      ],
      "execution_count": 0,
      "outputs": []
    }
  ]
}