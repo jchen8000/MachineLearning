{
  "nbformat": 4,
  "nbformat_minor": 0,
  "metadata": {
    "colab": {
      "name": "Untitled1.ipynb",
      "version": "0.3.2",
      "provenance": [],
      "collapsed_sections": []
    },
    "kernelspec": {
      "name": "python3",
      "display_name": "Python 3"
    },
    "accelerator": "GPU"
  },
  "cells": [
    {
      "cell_type": "markdown",
      "metadata": {
        "id": "kxwGLgBfo-XH",
        "colab_type": "text"
      },
      "source": [
        "# Generative Adversarial Network(GAN)\n",
        "\n",
        "***ABSTRACT***\n",
        "\n",
        "This is a hands-on practice of using Keras and Tensorflow to build and train a Generative Adversarial Network(GAN) against MNIST dataset which has handwritten digit black/white images with 28x28 pixels. This dataset is widely known for for machine learning purpose. We first load the dataset from Keras library and pre-process it. Then we build a Generator and a Discriminator, we also build a GAN which connect the Generator with the Discriminator. We take 10 digit image from the MNIST handwritten dataset as ground truth sample to train our GAN. We create a random noise vector with Gaussian distribution and feed it to the Generator to create a number of generated images and label them as 0, we also use the ground truth images and label them as 1, we use these images to feed to  Discriminator and train it. After the Discriminator is trained, we again create random noise and label them as 1 to fool the Discriminator, and train the GAN with Discriminator frozen, the purpose of this is to train the Generator and fool the Discriminator to make it think the generated image are real. We run these steps repeatly until a number of epoches, during running we visulize the generated images which give an animated effect to show how the generated images are improved as the training process is going.\n",
        "\n"
      ]
    },
    {
      "cell_type": "code",
      "metadata": {
        "id": "ZTWi7dTDnZlq",
        "colab_type": "code",
        "colab": {}
      },
      "source": [
        "import numpy as np\n",
        "import pandas as pd\n",
        "import matplotlib.pyplot as plt\n",
        "%matplotlib inline\n",
        "import keras\n",
        "from keras.layers import Dense, Dropout, Input\n",
        "from keras.models import Model,Sequential\n",
        "from keras.datasets import mnist\n",
        "from tqdm import tqdm\n",
        "from keras.layers.advanced_activations import LeakyReLU\n",
        "from keras.optimizers import Adam"
      ],
      "execution_count": 0,
      "outputs": []
    },
    {
      "cell_type": "markdown",
      "metadata": {
        "id": "1xB_SWfrJVhd",
        "colab_type": "text"
      },
      "source": [
        "# 1. MNIST Dataset\n",
        "\n",
        "The MNIST database is a well known dataset that contains thousands of handwritten digits for machine learning purpose."
      ]
    },
    {
      "cell_type": "markdown",
      "metadata": {
        "id": "i9HPpldFJiII",
        "colab_type": "text"
      },
      "source": [
        "## 1.1 Load MNIST dataset from tensorflow library\n",
        "When we load the dataset below, X_train and X_test will contain the images, and y_train and y_test will contain the digits that those images represent."
      ]
    },
    {
      "cell_type": "code",
      "metadata": {
        "id": "fTVn7gokJW_3",
        "colab_type": "code",
        "colab": {}
      },
      "source": [
        "#(X_train, y_train), (X_test, y_test) = tf.keras.datasets.mnist.load_data()\n",
        "#print(\"X_train\", X_train.shape)\n",
        "#print(\"y_train\", y_train.shape)\n",
        "#print(\"X_test\", X_test.shape)\n",
        "#print(\"y_test\", y_test.shape)\n"
      ],
      "execution_count": 0,
      "outputs": []
    },
    {
      "cell_type": "code",
      "metadata": {
        "id": "KcsuLmltphGU",
        "colab_type": "code",
        "outputId": "cfd695d5-522a-4139-bb86-9f61a02c656f",
        "colab": {
          "base_uri": "https://localhost:8080/",
          "height": 35
        }
      },
      "source": [
        "def load_data():\n",
        "    (x_train, y_train), (x_test, y_test) = mnist.load_data()\n",
        "    x_train = (x_train.astype(np.float32) - 127.5)/127.5\n",
        "\n",
        "    \n",
        "    # convert shape of x_train from (60000, 28, 28) to (60000, 784) \n",
        "    # 784 columns per row\n",
        "    x_train = x_train.reshape(60000, 784)\n",
        "    return (x_train, y_train, x_test, y_test)\n",
        "  \n",
        "(X_train, y_train,X_test, y_test)=load_data()\n",
        "print(X_train.shape)"
      ],
      "execution_count": 20,
      "outputs": [
        {
          "output_type": "stream",
          "text": [
            "(60000, 784)\n"
          ],
          "name": "stdout"
        }
      ]
    },
    {
      "cell_type": "markdown",
      "metadata": {
        "id": "jt8lSXbKJxGJ",
        "colab_type": "text"
      },
      "source": [
        "## 1.2 Pre-process the data"
      ]
    },
    {
      "cell_type": "code",
      "metadata": {
        "id": "uKSZFbZjJ-5q",
        "colab_type": "code",
        "colab": {}
      },
      "source": [
        "#X_train = X_train.astype(np.float32).reshape(X_train.shape[0], height, width, channels)\n",
        "#X_test = X_test.astype(np.float32).reshape(X_test.shape[0], height, width, channels)\n",
        "#input_shape = (height, width, 1)"
      ],
      "execution_count": 0,
      "outputs": []
    },
    {
      "cell_type": "markdown",
      "metadata": {
        "id": "Y8O38k3kMevZ",
        "colab_type": "text"
      },
      "source": [
        "# 2. Build Generative Adversarial Network(GAN)"
      ]
    },
    {
      "cell_type": "markdown",
      "metadata": {
        "id": "sZ1eglWxMoOQ",
        "colab_type": "text"
      },
      "source": [
        "## 2.1 Build a Generator"
      ]
    },
    {
      "cell_type": "code",
      "metadata": {
        "id": "jxhMxWEvptHM",
        "colab_type": "code",
        "colab": {}
      },
      "source": [
        "def adam_optimizer():\n",
        "    return Adam(lr=0.0002, beta_1=0.5)"
      ],
      "execution_count": 0,
      "outputs": []
    },
    {
      "cell_type": "code",
      "metadata": {
        "id": "S_TW1z0kpxPE",
        "colab_type": "code",
        "outputId": "cb99791d-7d55-4d36-859d-f58178a374b7",
        "colab": {
          "base_uri": "https://localhost:8080/",
          "height": 399
        }
      },
      "source": [
        "def create_generator():\n",
        "    generator=Sequential()\n",
        "    generator.add(Dense(units=256,input_dim=100))\n",
        "    generator.add(LeakyReLU(0.2))\n",
        "    \n",
        "    generator.add(Dense(units=512))\n",
        "    generator.add(LeakyReLU(0.2))\n",
        "    \n",
        "    generator.add(Dense(units=1024))\n",
        "    generator.add(LeakyReLU(0.2))\n",
        "    \n",
        "    generator.add(Dense(units=784, activation='tanh'))\n",
        "    \n",
        "    generator.compile(loss='binary_crossentropy', optimizer=adam_optimizer())\n",
        "    return generator\n",
        "  \n",
        "theGenerator = create_generator()\n",
        "theGenerator.summary()"
      ],
      "execution_count": 23,
      "outputs": [
        {
          "output_type": "stream",
          "text": [
            "_________________________________________________________________\n",
            "Layer (type)                 Output Shape              Param #   \n",
            "=================================================================\n",
            "dense_9 (Dense)              (None, 256)               25856     \n",
            "_________________________________________________________________\n",
            "leaky_re_lu_7 (LeakyReLU)    (None, 256)               0         \n",
            "_________________________________________________________________\n",
            "dense_10 (Dense)             (None, 512)               131584    \n",
            "_________________________________________________________________\n",
            "leaky_re_lu_8 (LeakyReLU)    (None, 512)               0         \n",
            "_________________________________________________________________\n",
            "dense_11 (Dense)             (None, 1024)              525312    \n",
            "_________________________________________________________________\n",
            "leaky_re_lu_9 (LeakyReLU)    (None, 1024)              0         \n",
            "_________________________________________________________________\n",
            "dense_12 (Dense)             (None, 784)               803600    \n",
            "=================================================================\n",
            "Total params: 1,486,352\n",
            "Trainable params: 1,486,352\n",
            "Non-trainable params: 0\n",
            "_________________________________________________________________\n"
          ],
          "name": "stdout"
        }
      ]
    },
    {
      "cell_type": "markdown",
      "metadata": {
        "id": "xMT1ebD7Mw6q",
        "colab_type": "text"
      },
      "source": [
        "## 2.2 Build a Discriminator"
      ]
    },
    {
      "cell_type": "code",
      "metadata": {
        "id": "UpgroTCTqVzr",
        "colab_type": "code",
        "outputId": "b44f4030-e1a0-45c9-cc9f-89c8f60befbf",
        "colab": {
          "base_uri": "https://localhost:8080/",
          "height": 472
        }
      },
      "source": [
        "def create_discriminator():\n",
        "    discriminator=Sequential()\n",
        "    discriminator.add(Dense(units=1024,input_dim=784))\n",
        "    discriminator.add(LeakyReLU(0.2))\n",
        "    discriminator.add(Dropout(0.3))\n",
        "       \n",
        "    \n",
        "    discriminator.add(Dense(units=512))\n",
        "    discriminator.add(LeakyReLU(0.2))\n",
        "    discriminator.add(Dropout(0.3))\n",
        "       \n",
        "    discriminator.add(Dense(units=256))\n",
        "    discriminator.add(LeakyReLU(0.2))\n",
        "    \n",
        "    discriminator.add(Dense(units=1, activation='sigmoid'))\n",
        "    \n",
        "    discriminator.compile(loss='binary_crossentropy', optimizer=adam_optimizer())\n",
        "    return discriminator\n",
        "  \n",
        "theDiscriminator = create_discriminator()\n",
        "theDiscriminator.summary()"
      ],
      "execution_count": 24,
      "outputs": [
        {
          "output_type": "stream",
          "text": [
            "_________________________________________________________________\n",
            "Layer (type)                 Output Shape              Param #   \n",
            "=================================================================\n",
            "dense_13 (Dense)             (None, 1024)              803840    \n",
            "_________________________________________________________________\n",
            "leaky_re_lu_10 (LeakyReLU)   (None, 1024)              0         \n",
            "_________________________________________________________________\n",
            "dropout_3 (Dropout)          (None, 1024)              0         \n",
            "_________________________________________________________________\n",
            "dense_14 (Dense)             (None, 512)               524800    \n",
            "_________________________________________________________________\n",
            "leaky_re_lu_11 (LeakyReLU)   (None, 512)               0         \n",
            "_________________________________________________________________\n",
            "dropout_4 (Dropout)          (None, 512)               0         \n",
            "_________________________________________________________________\n",
            "dense_15 (Dense)             (None, 256)               131328    \n",
            "_________________________________________________________________\n",
            "leaky_re_lu_12 (LeakyReLU)   (None, 256)               0         \n",
            "_________________________________________________________________\n",
            "dense_16 (Dense)             (None, 1)                 257       \n",
            "=================================================================\n",
            "Total params: 1,460,225\n",
            "Trainable params: 1,460,225\n",
            "Non-trainable params: 0\n",
            "_________________________________________________________________\n"
          ],
          "name": "stdout"
        }
      ]
    },
    {
      "cell_type": "markdown",
      "metadata": {
        "id": "RCRzOqXWM6xC",
        "colab_type": "text"
      },
      "source": [
        "## 2.3 Build the GAN by connecting the Generator and Discriminator"
      ]
    },
    {
      "cell_type": "code",
      "metadata": {
        "id": "5HKzMKfhqfXI",
        "colab_type": "code",
        "outputId": "3a1de14c-8735-47b0-f0c8-0414295b4f7f",
        "colab": {
          "base_uri": "https://localhost:8080/",
          "height": 254
        }
      },
      "source": [
        "def create_gan(discriminator, generator):\n",
        "    discriminator.trainable=False\n",
        "    gan_input = Input(shape=(100,))\n",
        "    x = generator(gan_input)\n",
        "    gan_output= discriminator(x)\n",
        "    gan= Model(inputs=gan_input, outputs=gan_output)\n",
        "    gan.compile(loss='binary_crossentropy', optimizer='adam')\n",
        "    return gan\n",
        "  \n",
        "theGan = create_gan(theDiscriminator, theGenerator)\n",
        "theGan.summary()"
      ],
      "execution_count": 25,
      "outputs": [
        {
          "output_type": "stream",
          "text": [
            "_________________________________________________________________\n",
            "Layer (type)                 Output Shape              Param #   \n",
            "=================================================================\n",
            "input_2 (InputLayer)         (None, 100)               0         \n",
            "_________________________________________________________________\n",
            "sequential_3 (Sequential)    (None, 784)               1486352   \n",
            "_________________________________________________________________\n",
            "sequential_4 (Sequential)    (None, 1)                 1460225   \n",
            "=================================================================\n",
            "Total params: 2,946,577\n",
            "Trainable params: 1,486,352\n",
            "Non-trainable params: 1,460,225\n",
            "_________________________________________________________________\n"
          ],
          "name": "stdout"
        }
      ]
    },
    {
      "cell_type": "markdown",
      "metadata": {
        "id": "uT_-G8FINPo8",
        "colab_type": "text"
      },
      "source": [
        "# 3. Training the GAN"
      ]
    },
    {
      "cell_type": "markdown",
      "metadata": {
        "id": "hS4gjLhDNUWN",
        "colab_type": "text"
      },
      "source": [
        "## 3.1 Visualize the original images and generated images"
      ]
    },
    {
      "cell_type": "code",
      "metadata": {
        "id": "hAsYUS_P30n9",
        "colab_type": "code",
        "colab": {}
      },
      "source": [
        "import numpy as np\n",
        "from IPython.display import SVG, display\n",
        "from PIL import Image\n",
        "\n",
        "def invert_image(img):\n",
        "    return( np.invert(img)  )\n",
        "\n",
        "  \n",
        "def denomalize_image(img, invert=False):\n",
        "    if img.dtype is np.dtype(np.float32):\n",
        "      image = img * 255\n",
        "      image = image.astype('uint8')\n",
        "    else:\n",
        "      image = img\n",
        "    \n",
        "    if invert == True:\n",
        "      image = invert_image( image )\n",
        "\n",
        "    return( image )\n",
        "    \n",
        "\n",
        "def init_display(img, zoom=1):\n",
        "    height, width = img.shape\n",
        "    img_array=denomalize_image(img, invert=True)\n",
        "    img_disp = Image.fromarray(img_array,mode='P')\n",
        "    if zoom == 1:\n",
        "      out = display(img_disp, display_id=True)\n",
        "    else:\n",
        "      out = display(img_disp.resize((width*zoom,height*zoom)), display_id=True)\n",
        "    return( out )\n",
        "\n",
        "\n",
        "def update_display(out, img, zoom=1):\n",
        "    height, width = img.shape\n",
        "    img_array=denomalize_image(img, invert=True)\n",
        "    img_disp = Image.fromarray(img_array,mode='P')\n",
        "    if zoom == 1:\n",
        "      out.update(img_disp)\n",
        "    else:\n",
        "      out.update(img_disp.resize((width*zoom,height*zoom)))\n",
        "\n",
        "\n",
        "      \n",
        "def plot_output( epoch, generator, examples=16, initial=False, out=None ):\n",
        "    noise= np.random.normal(loc=0, scale=1, size=[examples, 100])\n",
        "    generated_images = generator.predict(noise)\n",
        "    generated_images = generated_images.reshape(examples,28,28)\n",
        "    plot_image = np.concatenate(generated_images, axis = 1)\n",
        "    if initial == False:\n",
        "      update_display(out, plot_image)\n",
        "    else:\n",
        "      output = init_display(plot_image)\n",
        "      return( output )\n",
        "    \n",
        "\n",
        "def plot_sample( sample ):\n",
        "    plot_image = np.concatenate(sample.reshape(sample.shape[0],28,28), axis = 1)\n",
        "    output = init_display(plot_image)\n",
        "    return( output )\n",
        "        \n",
        "    \n",
        "    "
      ],
      "execution_count": 0,
      "outputs": []
    },
    {
      "cell_type": "markdown",
      "metadata": {
        "id": "gXLwcVhpNdu7",
        "colab_type": "text"
      },
      "source": [
        "## 3.2 Train the GAN"
      ]
    },
    {
      "cell_type": "code",
      "metadata": {
        "id": "AlAuiMAfqvZx",
        "colab_type": "code",
        "outputId": "f622e9f9-65b8-464e-df97-db84032659e9",
        "colab": {
          "base_uri": "https://localhost:8080/",
          "height": 1000
        }
      },
      "source": [
        "epochs = 1000\n",
        "batch_size = 64\n",
        "sample_size = 10\n",
        "\n",
        "#Pick the sample images -- each one from number 0 to 9\n",
        "sample = np.empty(shape=sample_size).astype('uint8')\n",
        "for i in range(0,sample_size):\n",
        "  sample[i] = np.where(y_train==i)[0][1]\n",
        "\n",
        "#Show the sample images\n",
        "sample_image = X_train[sample]\n",
        "plot_sample( sample_image )\n",
        "\n",
        "\n",
        "#Display the initial generator generated images\n",
        "display_output = plot_output( 0, theGenerator, examples=16, initial=True )\n",
        "\n",
        "\n",
        "#\n",
        "# Main loop for training the GAN\n",
        "#\n",
        "for e in range(1,epochs+1 ):\n",
        "\n",
        "    pbar = tqdm(range(batch_size))\n",
        "    for _ in pbar:\n",
        "      \n",
        "        pbar.set_description(\"Epoch %d\" % e)      \n",
        "      \n",
        "        #generate random noise as an input to initialize the generator\n",
        "        noise= np.random.normal(0,1, [batch_size, 100])\n",
        "        generated_images = theGenerator.predict(noise)\n",
        "\n",
        "        # Make the ground truth images from the sample images, \n",
        "        # randomly create them by the number of batch_size \n",
        "        #image_batch = X_train[np.random.choice(sample, size=batch_size)]\n",
        "        image_batch = sample_image\n",
        "\n",
        "        #Mix the ground truth images with the generated images,\n",
        "        #and label them 1 for ground truth and 0 for generated ones\n",
        "        X_gan = np.concatenate([image_batch, generated_images])\n",
        "        y_gan = np.concatenate([np.ones(image_batch.shape[0]), np.zeros(generated_images.shape[0])])\n",
        "        y_gan = y_gan.astype(np.float32)\n",
        "\n",
        "        #First train the discriminator. \n",
        "        theDiscriminator.trainable=True\n",
        "        theDiscriminator.train_on_batch(X_gan, y_gan)\n",
        "\n",
        "        #Tricking the noised input of the Generator as real data\n",
        "        noise= np.random.normal(0,1, [batch_size, 100])\n",
        "        y_gen = np.ones(batch_size)\n",
        "\n",
        "        # During the training of gan, \n",
        "        # the weights of discriminator should be fixed. \n",
        "        #We can enforce that by setting the trainable flag\n",
        "        theDiscriminator.trainable=False\n",
        "\n",
        "        #training  the GAN by alternating the training of the Discriminator \n",
        "        #and training the chained GAN model with Discriminator’s weights freezed.\n",
        "        theGan.train_on_batch(noise, y_gen)\n",
        "\n",
        "    if e == 1 or e % 2 == 0:\n",
        "        #plot_generated_images(e, generator)\n",
        "        plot_output( e, theGenerator, out=display_output )\n",
        "\n"
      ],
      "execution_count": 27,
      "outputs": [
        {
          "output_type": "display_data",
          "data": {
            "image/png": "[encoded data removed]",
            "text/plain": [
              "<PIL.Image.Image image mode=P size=280x28 at 0x7F411357B2E8>"
            ]
          },
          "metadata": {
            "tags": []
          }
        },
        {
          "output_type": "display_data",
          "data": {
            "image/png": "[encoded data removed]",
            "text/plain": [
              "<PIL.Image.Image image mode=P size=448x28 at 0x7F41128C94A8>"
            ]
          },
          "metadata": {
            "tags": []
          }
        },
        {
          "output_type": "stream",
          "text": [
            "Epoch 1: 100%|██████████| 64/64 [00:02<00:00, 10.96it/s]\n",
            "Epoch 2: 100%|██████████| 64/64 [00:00<00:00, 68.34it/s]\n",
            "Epoch 3: 100%|██████████| 64/64 [00:00<00:00, 68.70it/s]\n",
            "Epoch 4: 100%|██████████| 64/64 [00:00<00:00, 69.45it/s]\n",
            "Epoch 5: 100%|██████████| 64/64 [00:00<00:00, 69.17it/s]\n",
            "Epoch 6: 100%|██████████| 64/64 [00:00<00:00, 67.53it/s]\n",
            "Epoch 7: 100%|██████████| 64/64 [00:00<00:00, 68.96it/s]\n",
            "Epoch 8: 100%|██████████| 64/64 [00:00<00:00, 69.41it/s]\n",
            "Epoch 9: 100%|██████████| 64/64 [00:00<00:00, 69.85it/s]\n",
            "Epoch 10: 100%|██████████| 64/64 [00:00<00:00, 69.38it/s]\n",
            "Epoch 11: 100%|██████████| 64/64 [00:00<00:00, 67.25it/s]\n",
            "Epoch 12: 100%|██████████| 64/64 [00:00<00:00, 68.39it/s]\n",
            "Epoch 13: 100%|██████████| 64/64 [00:00<00:00, 70.90it/s]\n",
            "Epoch 14: 100%|██████████| 64/64 [00:00<00:00, 69.08it/s]\n",
            "Epoch 15: 100%|██████████| 64/64 [00:00<00:00, 70.22it/s]\n",
            "Epoch 16: 100%|██████████| 64/64 [00:00<00:00, 69.00it/s]\n",
            "Epoch 17: 100%|██████████| 64/64 [00:00<00:00, 69.47it/s]\n",
            "Epoch 18: 100%|██████████| 64/64 [00:00<00:00, 69.26it/s]\n",
            "Epoch 19: 100%|██████████| 64/64 [00:00<00:00, 70.78it/s]\n",
            "Epoch 20: 100%|██████████| 64/64 [00:00<00:00, 69.81it/s]\n",
            "Epoch 21: 100%|██████████| 64/64 [00:00<00:00, 70.06it/s]\n",
            "Epoch 22: 100%|██████████| 64/64 [00:00<00:00, 70.10it/s]\n",
            "Epoch 23: 100%|██████████| 64/64 [00:00<00:00, 70.94it/s]\n",
            "Epoch 24: 100%|██████████| 64/64 [00:00<00:00, 70.95it/s]\n",
            "Epoch 25: 100%|██████████| 64/64 [00:00<00:00, 70.65it/s]\n",
            "Epoch 26: 100%|██████████| 64/64 [00:00<00:00, 70.81it/s]\n",
            "Epoch 27: 100%|██████████| 64/64 [00:00<00:00, 70.43it/s]\n",
            "Epoch 28: 100%|██████████| 64/64 [00:00<00:00, 70.31it/s]\n",
            "Epoch 29: 100%|██████████| 64/64 [00:00<00:00, 70.60it/s]\n",
            "Epoch 30: 100%|██████████| 64/64 [00:00<00:00, 70.51it/s]\n",
            "Epoch 31: 100%|██████████| 64/64 [00:00<00:00, 70.16it/s]\n",
            "Epoch 32: 100%|██████████| 64/64 [00:00<00:00, 70.58it/s]\n",
            "Epoch 33: 100%|██████████| 64/64 [00:00<00:00, 70.29it/s]\n",
            "Epoch 34: 100%|██████████| 64/64 [00:00<00:00, 71.38it/s]\n",
            "Epoch 35: 100%|██████████| 64/64 [00:00<00:00, 71.24it/s]\n",
            "Epoch 36: 100%|██████████| 64/64 [00:00<00:00, 70.79it/s]\n",
            "Epoch 37: 100%|██████████| 64/64 [00:00<00:00, 71.74it/s]\n",
            "Epoch 38: 100%|██████████| 64/64 [00:00<00:00, 71.72it/s]\n",
            "Epoch 39: 100%|██████████| 64/64 [00:00<00:00, 70.72it/s]\n",
            "Epoch 40: 100%|██████████| 64/64 [00:00<00:00, 71.71it/s]\n",
            "Epoch 41: 100%|██████████| 64/64 [00:00<00:00, 73.03it/s]\n",
            "Epoch 42: 100%|██████████| 64/64 [00:00<00:00, 71.36it/s]\n",
            "Epoch 43: 100%|██████████| 64/64 [00:00<00:00, 71.88it/s]\n",
            "Epoch 44: 100%|██████████| 64/64 [00:00<00:00, 70.90it/s]\n",
            "Epoch 45: 100%|██████████| 64/64 [00:00<00:00, 71.06it/s]\n",
            "Epoch 46: 100%|██████████| 64/64 [00:00<00:00, 70.31it/s]\n",
            "Epoch 47: 100%|██████████| 64/64 [00:00<00:00, 70.41it/s]\n",
            "Epoch 48: 100%|██████████| 64/64 [00:00<00:00, 70.80it/s]\n",
            "Epoch 49: 100%|██████████| 64/64 [00:00<00:00, 70.30it/s]\n",
            "Epoch 50: 100%|██████████| 64/64 [00:00<00:00, 70.72it/s]\n",
            "Epoch 51: 100%|██████████| 64/64 [00:00<00:00, 70.09it/s]\n",
            "Epoch 52: 100%|██████████| 64/64 [00:00<00:00, 70.30it/s]\n",
            "Epoch 53: 100%|██████████| 64/64 [00:00<00:00, 70.98it/s]\n",
            "Epoch 54: 100%|██████████| 64/64 [00:00<00:00, 70.15it/s]\n",
            "Epoch 55: 100%|██████████| 64/64 [00:00<00:00, 70.39it/s]\n",
            "Epoch 56: 100%|██████████| 64/64 [00:00<00:00, 68.69it/s]\n",
            "Epoch 57: 100%|██████████| 64/64 [00:00<00:00, 70.70it/s]\n",
            "Epoch 58: 100%|██████████| 64/64 [00:00<00:00, 70.17it/s]\n",
            "Epoch 59: 100%|██████████| 64/64 [00:00<00:00, 70.35it/s]\n",
            "Epoch 60: 100%|██████████| 64/64 [00:00<00:00, 70.61it/s]\n",
            "Epoch 61: 100%|██████████| 64/64 [00:00<00:00, 70.40it/s]\n",
            "Epoch 62: 100%|██████████| 64/64 [00:00<00:00, 71.16it/s]\n",
            "Epoch 63: 100%|██████████| 64/64 [00:00<00:00, 70.29it/s]\n",
            "Epoch 64: 100%|██████████| 64/64 [00:00<00:00, 70.11it/s]\n",
            "Epoch 65: 100%|██████████| 64/64 [00:00<00:00, 69.80it/s]\n",
            "Epoch 66: 100%|██████████| 64/64 [00:00<00:00, 70.91it/s]\n",
            "Epoch 67: 100%|██████████| 64/64 [00:00<00:00, 70.08it/s]\n",
            "Epoch 68: 100%|██████████| 64/64 [00:00<00:00, 71.67it/s]\n",
            "Epoch 69: 100%|██████████| 64/64 [00:00<00:00, 72.24it/s]\n",
            "Epoch 70: 100%|██████████| 64/64 [00:00<00:00, 71.83it/s]\n",
            "Epoch 71: 100%|██████████| 64/64 [00:00<00:00, 71.87it/s]\n",
            "Epoch 72: 100%|██████████| 64/64 [00:00<00:00, 72.37it/s]\n",
            "Epoch 73: 100%|██████████| 64/64 [00:00<00:00, 72.25it/s]\n",
            "Epoch 74: 100%|██████████| 64/64 [00:00<00:00, 72.57it/s]\n",
            "Epoch 75: 100%|██████████| 64/64 [00:00<00:00, 71.21it/s]\n",
            "Epoch 76: 100%|██████████| 64/64 [00:00<00:00, 71.94it/s]\n",
            "Epoch 77: 100%|██████████| 64/64 [00:00<00:00, 73.99it/s]\n",
            "Epoch 78: 100%|██████████| 64/64 [00:00<00:00, 69.65it/s]\n",
            "Epoch 79: 100%|██████████| 64/64 [00:00<00:00, 69.86it/s]\n",
            "Epoch 80: 100%|██████████| 64/64 [00:00<00:00, 70.94it/s]\n",
            "Epoch 81: 100%|██████████| 64/64 [00:00<00:00, 70.85it/s]\n",
            "Epoch 82: 100%|██████████| 64/64 [00:00<00:00, 70.49it/s]\n",
            "Epoch 83: 100%|██████████| 64/64 [00:00<00:00, 70.52it/s]\n",
            "Epoch 84: 100%|██████████| 64/64 [00:00<00:00, 70.52it/s]\n",
            "Epoch 85: 100%|██████████| 64/64 [00:00<00:00, 69.88it/s]\n",
            "Epoch 86: 100%|██████████| 64/64 [00:00<00:00, 70.24it/s]\n",
            "Epoch 87: 100%|██████████| 64/64 [00:00<00:00, 70.85it/s]\n",
            "Epoch 88: 100%|██████████| 64/64 [00:00<00:00, 70.62it/s]\n",
            "Epoch 89: 100%|██████████| 64/64 [00:00<00:00, 71.14it/s]\n",
            "Epoch 90: 100%|██████████| 64/64 [00:00<00:00, 69.33it/s]\n",
            "Epoch 91: 100%|██████████| 64/64 [00:00<00:00, 70.52it/s]\n",
            "Epoch 92: 100%|██████████| 64/64 [00:00<00:00, 70.18it/s]\n",
            "Epoch 93: 100%|██████████| 64/64 [00:00<00:00, 69.55it/s]\n",
            "Epoch 94: 100%|██████████| 64/64 [00:00<00:00, 69.90it/s]\n",
            "Epoch 95: 100%|██████████| 64/64 [00:00<00:00, 70.15it/s]\n",
            "Epoch 96: 100%|██████████| 64/64 [00:00<00:00, 69.41it/s]\n",
            "Epoch 97: 100%|██████████| 64/64 [00:00<00:00, 69.22it/s]\n",
            "Epoch 98: 100%|██████████| 64/64 [00:00<00:00, 69.99it/s]\n",
            "Epoch 99: 100%|██████████| 64/64 [00:00<00:00, 69.60it/s]\n",
            "Epoch 100: 100%|██████████| 64/64 [00:00<00:00, 70.89it/s]\n",
            "Epoch 101: 100%|██████████| 64/64 [00:00<00:00, 71.09it/s]\n",
            "Epoch 102: 100%|██████████| 64/64 [00:00<00:00, 71.19it/s]\n",
            "Epoch 103: 100%|██████████| 64/64 [00:00<00:00, 69.70it/s]\n",
            "Epoch 104: 100%|██████████| 64/64 [00:00<00:00, 72.03it/s]\n",
            "Epoch 105: 100%|██████████| 64/64 [00:00<00:00, 73.49it/s]\n",
            "Epoch 106: 100%|██████████| 64/64 [00:00<00:00, 71.95it/s]\n",
            "Epoch 107: 100%|██████████| 64/64 [00:00<00:00, 71.72it/s]\n",
            "Epoch 108: 100%|██████████| 64/64 [00:00<00:00, 71.97it/s]\n",
            "Epoch 109: 100%|██████████| 64/64 [00:00<00:00, 71.91it/s]\n",
            "Epoch 110: 100%|██████████| 64/64 [00:00<00:00, 72.25it/s]\n",
            "Epoch 111: 100%|██████████| 64/64 [00:00<00:00, 71.23it/s]\n",
            "Epoch 112: 100%|██████████| 64/64 [00:00<00:00, 69.12it/s]\n",
            "Epoch 113: 100%|██████████| 64/64 [00:00<00:00, 71.44it/s]\n",
            "Epoch 114: 100%|██████████| 64/64 [00:00<00:00, 71.98it/s]\n",
            "Epoch 115: 100%|██████████| 64/64 [00:00<00:00, 70.14it/s]\n",
            "Epoch 116: 100%|██████████| 64/64 [00:00<00:00, 70.94it/s]\n",
            "Epoch 117: 100%|██████████| 64/64 [00:00<00:00, 70.48it/s]\n",
            "Epoch 118: 100%|██████████| 64/64 [00:00<00:00, 70.34it/s]\n",
            "Epoch 119: 100%|██████████| 64/64 [00:00<00:00, 70.45it/s]\n",
            "Epoch 120: 100%|██████████| 64/64 [00:00<00:00, 70.36it/s]\n",
            "Epoch 121: 100%|██████████| 64/64 [00:00<00:00, 70.50it/s]\n",
            "Epoch 122: 100%|██████████| 64/64 [00:00<00:00, 70.97it/s]\n",
            "Epoch 123: 100%|██████████| 64/64 [00:00<00:00, 70.19it/s]\n",
            "Epoch 124: 100%|██████████| 64/64 [00:00<00:00, 71.22it/s]\n",
            "Epoch 125: 100%|██████████| 64/64 [00:00<00:00, 72.30it/s]\n",
            "Epoch 126: 100%|██████████| 64/64 [00:00<00:00, 69.64it/s]\n",
            "Epoch 127: 100%|██████████| 64/64 [00:00<00:00, 71.77it/s]\n",
            "Epoch 128: 100%|██████████| 64/64 [00:00<00:00, 71.35it/s]\n",
            "Epoch 129: 100%|██████████| 64/64 [00:00<00:00, 72.04it/s]\n",
            "Epoch 130: 100%|██████████| 64/64 [00:00<00:00, 70.48it/s]\n",
            "Epoch 131: 100%|██████████| 64/64 [00:00<00:00, 70.79it/s]\n",
            "Epoch 132: 100%|██████████| 64/64 [00:00<00:00, 73.58it/s]\n",
            "Epoch 133: 100%|██████████| 64/64 [00:00<00:00, 70.98it/s]\n",
            "Epoch 134: 100%|██████████| 64/64 [00:00<00:00, 72.49it/s]\n",
            "Epoch 135: 100%|██████████| 64/64 [00:00<00:00, 71.04it/s]\n",
            "Epoch 136: 100%|██████████| 64/64 [00:00<00:00, 71.71it/s]\n",
            "Epoch 137: 100%|██████████| 64/64 [00:00<00:00, 72.02it/s]\n",
            "Epoch 138: 100%|██████████| 64/64 [00:00<00:00, 72.39it/s]\n",
            "Epoch 139: 100%|██████████| 64/64 [00:00<00:00, 71.51it/s]\n",
            "Epoch 140: 100%|██████████| 64/64 [00:00<00:00, 72.48it/s]\n",
            "Epoch 141: 100%|██████████| 64/64 [00:00<00:00, 72.48it/s]\n",
            "Epoch 142: 100%|██████████| 64/64 [00:00<00:00, 73.89it/s]\n",
            "Epoch 143: 100%|██████████| 64/64 [00:00<00:00, 71.65it/s]\n",
            "Epoch 144: 100%|██████████| 64/64 [00:00<00:00, 72.06it/s]\n",
            "Epoch 145: 100%|██████████| 64/64 [00:00<00:00, 71.30it/s]\n",
            "Epoch 146: 100%|██████████| 64/64 [00:00<00:00, 70.92it/s]\n",
            "Epoch 147: 100%|██████████| 64/64 [00:00<00:00, 69.90it/s]\n",
            "Epoch 148: 100%|██████████| 64/64 [00:00<00:00, 70.60it/s]\n",
            "Epoch 149: 100%|██████████| 64/64 [00:00<00:00, 70.87it/s]\n",
            "Epoch 150: 100%|██████████| 64/64 [00:00<00:00, 71.04it/s]\n",
            "Epoch 151: 100%|██████████| 64/64 [00:00<00:00, 71.35it/s]\n",
            "Epoch 152: 100%|██████████| 64/64 [00:00<00:00, 72.13it/s]\n",
            "Epoch 153: 100%|██████████| 64/64 [00:00<00:00, 69.68it/s]\n",
            "Epoch 154: 100%|██████████| 64/64 [00:00<00:00, 70.37it/s]\n",
            "Epoch 155: 100%|██████████| 64/64 [00:00<00:00, 70.78it/s]\n",
            "Epoch 156: 100%|██████████| 64/64 [00:00<00:00, 70.79it/s]\n",
            "Epoch 157: 100%|██████████| 64/64 [00:00<00:00, 69.76it/s]\n",
            "Epoch 158: 100%|██████████| 64/64 [00:00<00:00, 71.85it/s]\n",
            "Epoch 159: 100%|██████████| 64/64 [00:00<00:00, 70.54it/s]\n",
            "Epoch 160: 100%|██████████| 64/64 [00:00<00:00, 70.83it/s]\n",
            "Epoch 161: 100%|██████████| 64/64 [00:00<00:00, 69.70it/s]\n",
            "Epoch 162: 100%|██████████| 64/64 [00:00<00:00, 70.56it/s]\n",
            "Epoch 163: 100%|██████████| 64/64 [00:00<00:00, 70.15it/s]\n",
            "Epoch 164: 100%|██████████| 64/64 [00:00<00:00, 70.76it/s]\n",
            "Epoch 165: 100%|██████████| 64/64 [00:00<00:00, 68.72it/s]\n",
            "Epoch 166: 100%|██████████| 64/64 [00:00<00:00, 67.48it/s]\n",
            "Epoch 167: 100%|██████████| 64/64 [00:00<00:00, 71.03it/s]\n",
            "Epoch 168: 100%|██████████| 64/64 [00:00<00:00, 71.30it/s]\n",
            "Epoch 169: 100%|██████████| 64/64 [00:00<00:00, 70.67it/s]\n",
            "Epoch 170: 100%|██████████| 64/64 [00:00<00:00, 71.77it/s]\n",
            "Epoch 171: 100%|██████████| 64/64 [00:00<00:00, 72.54it/s]\n",
            "Epoch 172: 100%|██████████| 64/64 [00:00<00:00, 72.41it/s]\n",
            "Epoch 173: 100%|██████████| 64/64 [00:00<00:00, 72.85it/s]\n",
            "Epoch 174: 100%|██████████| 64/64 [00:00<00:00, 71.63it/s]\n",
            "Epoch 175: 100%|██████████| 64/64 [00:00<00:00, 74.09it/s]\n",
            "Epoch 176: 100%|██████████| 64/64 [00:00<00:00, 72.35it/s]\n",
            "Epoch 177: 100%|██████████| 64/64 [00:00<00:00, 71.25it/s]\n",
            "Epoch 178: 100%|██████████| 64/64 [00:00<00:00, 71.11it/s]\n",
            "Epoch 179: 100%|██████████| 64/64 [00:00<00:00, 69.90it/s]\n",
            "Epoch 180: 100%|██████████| 64/64 [00:00<00:00, 68.98it/s]\n",
            "Epoch 181: 100%|██████████| 64/64 [00:00<00:00, 69.58it/s]\n",
            "Epoch 182: 100%|██████████| 64/64 [00:00<00:00, 70.07it/s]\n",
            "Epoch 183: 100%|██████████| 64/64 [00:00<00:00, 69.51it/s]\n",
            "Epoch 184: 100%|██████████| 64/64 [00:00<00:00, 69.92it/s]\n",
            "Epoch 185: 100%|██████████| 64/64 [00:00<00:00, 70.04it/s]\n",
            "Epoch 186: 100%|██████████| 64/64 [00:00<00:00, 68.97it/s]\n",
            "Epoch 187: 100%|██████████| 64/64 [00:00<00:00, 67.88it/s]\n",
            "Epoch 188: 100%|██████████| 64/64 [00:00<00:00, 69.73it/s]\n",
            "Epoch 189: 100%|██████████| 64/64 [00:00<00:00, 69.08it/s]\n",
            "Epoch 190: 100%|██████████| 64/64 [00:00<00:00, 70.89it/s]\n",
            "Epoch 191: 100%|██████████| 64/64 [00:00<00:00, 69.49it/s]\n",
            "Epoch 192: 100%|██████████| 64/64 [00:00<00:00, 70.21it/s]\n",
            "Epoch 193: 100%|██████████| 64/64 [00:00<00:00, 70.35it/s]\n",
            "Epoch 194: 100%|██████████| 64/64 [00:00<00:00, 70.24it/s]\n",
            "Epoch 195: 100%|██████████| 64/64 [00:00<00:00, 69.91it/s]\n",
            "Epoch 196: 100%|██████████| 64/64 [00:00<00:00, 70.37it/s]\n",
            "Epoch 197: 100%|██████████| 64/64 [00:00<00:00, 70.82it/s]\n",
            "Epoch 198: 100%|██████████| 64/64 [00:00<00:00, 70.04it/s]\n",
            "Epoch 199: 100%|██████████| 64/64 [00:00<00:00, 70.65it/s]\n",
            "Epoch 200: 100%|██████████| 64/64 [00:00<00:00, 72.52it/s]\n",
            "Epoch 201: 100%|██████████| 64/64 [00:00<00:00, 72.22it/s]\n",
            "Epoch 202: 100%|██████████| 64/64 [00:00<00:00, 71.22it/s]\n",
            "Epoch 203: 100%|██████████| 64/64 [00:00<00:00, 72.37it/s]\n",
            "Epoch 204: 100%|██████████| 64/64 [00:00<00:00, 73.25it/s]\n",
            "Epoch 205: 100%|██████████| 64/64 [00:00<00:00, 72.42it/s]\n",
            "Epoch 206: 100%|██████████| 64/64 [00:00<00:00, 73.14it/s]\n",
            "Epoch 207: 100%|██████████| 64/64 [00:00<00:00, 72.86it/s]\n",
            "Epoch 208: 100%|██████████| 64/64 [00:00<00:00, 71.88it/s]\n",
            "Epoch 209: 100%|██████████| 64/64 [00:00<00:00, 72.33it/s]\n",
            "Epoch 210: 100%|██████████| 64/64 [00:00<00:00, 72.03it/s]\n",
            "Epoch 211: 100%|██████████| 64/64 [00:00<00:00, 70.50it/s]\n",
            "Epoch 212: 100%|██████████| 64/64 [00:00<00:00, 71.26it/s]\n",
            "Epoch 213: 100%|██████████| 64/64 [00:00<00:00, 71.54it/s]\n",
            "Epoch 214: 100%|██████████| 64/64 [00:00<00:00, 69.09it/s]\n",
            "Epoch 215: 100%|██████████| 64/64 [00:00<00:00, 70.64it/s]\n",
            "Epoch 216: 100%|██████████| 64/64 [00:00<00:00, 71.18it/s]\n",
            "Epoch 217: 100%|██████████| 64/64 [00:00<00:00, 70.74it/s]\n",
            "Epoch 218: 100%|██████████| 64/64 [00:00<00:00, 69.92it/s]\n",
            "Epoch 219: 100%|██████████| 64/64 [00:00<00:00, 70.38it/s]\n",
            "Epoch 220: 100%|██████████| 64/64 [00:00<00:00, 69.97it/s]\n",
            "Epoch 221: 100%|██████████| 64/64 [00:00<00:00, 66.19it/s]\n",
            "Epoch 222: 100%|██████████| 64/64 [00:00<00:00, 70.59it/s]\n",
            "Epoch 223: 100%|██████████| 64/64 [00:00<00:00, 70.27it/s]\n",
            "Epoch 224: 100%|██████████| 64/64 [00:00<00:00, 70.73it/s]\n",
            "Epoch 225: 100%|██████████| 64/64 [00:00<00:00, 69.30it/s]\n",
            "Epoch 226: 100%|██████████| 64/64 [00:00<00:00, 70.98it/s]\n",
            "Epoch 227: 100%|██████████| 64/64 [00:00<00:00, 70.25it/s]\n",
            "Epoch 228: 100%|██████████| 64/64 [00:00<00:00, 70.00it/s]\n",
            "Epoch 229: 100%|██████████| 64/64 [00:00<00:00, 70.18it/s]\n",
            "Epoch 230: 100%|██████████| 64/64 [00:00<00:00, 69.92it/s]\n",
            "Epoch 231: 100%|██████████| 64/64 [00:00<00:00, 71.99it/s]\n",
            "Epoch 232: 100%|██████████| 64/64 [00:00<00:00, 73.14it/s]\n",
            "Epoch 233: 100%|██████████| 64/64 [00:00<00:00, 71.98it/s]\n",
            "Epoch 234: 100%|██████████| 64/64 [00:00<00:00, 72.54it/s]\n",
            "Epoch 235: 100%|██████████| 64/64 [00:00<00:00, 70.54it/s]\n",
            "Epoch 236: 100%|██████████| 64/64 [00:00<00:00, 71.20it/s]\n",
            "Epoch 237: 100%|██████████| 64/64 [00:00<00:00, 72.97it/s]\n",
            "Epoch 238: 100%|██████████| 64/64 [00:00<00:00, 71.91it/s]\n",
            "Epoch 239: 100%|██████████| 64/64 [00:00<00:00, 72.18it/s]\n",
            "Epoch 240: 100%|██████████| 64/64 [00:00<00:00, 72.10it/s]\n",
            "Epoch 241: 100%|██████████| 64/64 [00:00<00:00, 72.04it/s]\n",
            "Epoch 242: 100%|██████████| 64/64 [00:00<00:00, 71.57it/s]\n",
            "Epoch 243: 100%|██████████| 64/64 [00:00<00:00, 71.70it/s]\n",
            "Epoch 244: 100%|██████████| 64/64 [00:00<00:00, 70.45it/s]\n",
            "Epoch 245: 100%|██████████| 64/64 [00:00<00:00, 70.49it/s]\n",
            "Epoch 246: 100%|██████████| 64/64 [00:00<00:00, 69.68it/s]\n",
            "Epoch 247: 100%|██████████| 64/64 [00:00<00:00, 70.81it/s]\n",
            "Epoch 248: 100%|██████████| 64/64 [00:00<00:00, 71.40it/s]\n",
            "Epoch 249: 100%|██████████| 64/64 [00:00<00:00, 70.66it/s]\n",
            "Epoch 250: 100%|██████████| 64/64 [00:00<00:00, 70.79it/s]\n",
            "Epoch 251: 100%|██████████| 64/64 [00:00<00:00, 70.76it/s]\n",
            "Epoch 252: 100%|██████████| 64/64 [00:00<00:00, 68.64it/s]\n",
            "Epoch 253: 100%|██████████| 64/64 [00:00<00:00, 68.18it/s]\n",
            "Epoch 254: 100%|██████████| 64/64 [00:00<00:00, 67.46it/s]\n",
            "Epoch 255: 100%|██████████| 64/64 [00:00<00:00, 66.74it/s]\n",
            "Epoch 256: 100%|██████████| 64/64 [00:00<00:00, 67.38it/s]\n",
            "Epoch 257: 100%|██████████| 64/64 [00:00<00:00, 67.45it/s]\n",
            "Epoch 258: 100%|██████████| 64/64 [00:00<00:00, 66.76it/s]\n",
            "Epoch 259: 100%|██████████| 64/64 [00:00<00:00, 65.56it/s]\n",
            "Epoch 260: 100%|██████████| 64/64 [00:00<00:00, 66.58it/s]\n",
            "Epoch 261: 100%|██████████| 64/64 [00:00<00:00, 67.90it/s]\n",
            "Epoch 262: 100%|██████████| 64/64 [00:00<00:00, 67.16it/s]\n",
            "Epoch 263: 100%|██████████| 64/64 [00:00<00:00, 68.95it/s]\n",
            "Epoch 264: 100%|██████████| 64/64 [00:00<00:00, 69.44it/s]\n",
            "Epoch 265: 100%|██████████| 64/64 [00:00<00:00, 72.91it/s]\n",
            "Epoch 266: 100%|██████████| 64/64 [00:00<00:00, 71.21it/s]\n",
            "Epoch 267: 100%|██████████| 64/64 [00:00<00:00, 70.54it/s]\n",
            "Epoch 268: 100%|██████████| 64/64 [00:00<00:00, 70.33it/s]\n",
            "Epoch 269: 100%|██████████| 64/64 [00:00<00:00, 71.19it/s]\n",
            "Epoch 270: 100%|██████████| 64/64 [00:00<00:00, 71.63it/s]\n",
            "Epoch 271: 100%|██████████| 64/64 [00:00<00:00, 72.30it/s]\n",
            "Epoch 272: 100%|██████████| 64/64 [00:00<00:00, 71.18it/s]\n",
            "Epoch 273: 100%|██████████| 64/64 [00:00<00:00, 71.35it/s]\n",
            "Epoch 274: 100%|██████████| 64/64 [00:00<00:00, 70.96it/s]\n",
            "Epoch 275: 100%|██████████| 64/64 [00:00<00:00, 70.38it/s]\n",
            "Epoch 276: 100%|██████████| 64/64 [00:00<00:00, 70.23it/s]\n",
            "Epoch 277: 100%|██████████| 64/64 [00:00<00:00, 69.70it/s]\n",
            "Epoch 278: 100%|██████████| 64/64 [00:00<00:00, 70.90it/s]\n",
            "Epoch 279: 100%|██████████| 64/64 [00:00<00:00, 70.17it/s]\n",
            "Epoch 280: 100%|██████████| 64/64 [00:00<00:00, 70.67it/s]\n",
            "Epoch 281: 100%|██████████| 64/64 [00:00<00:00, 69.20it/s]\n",
            "Epoch 282: 100%|██████████| 64/64 [00:00<00:00, 70.36it/s]\n",
            "Epoch 283: 100%|██████████| 64/64 [00:00<00:00, 69.93it/s]\n",
            "Epoch 284: 100%|██████████| 64/64 [00:00<00:00, 70.86it/s]\n",
            "Epoch 285: 100%|██████████| 64/64 [00:00<00:00, 70.43it/s]\n",
            "Epoch 286: 100%|██████████| 64/64 [00:00<00:00, 70.34it/s]\n",
            "Epoch 287: 100%|██████████| 64/64 [00:00<00:00, 67.88it/s]\n",
            "Epoch 288: 100%|██████████| 64/64 [00:00<00:00, 70.10it/s]\n",
            "Epoch 289: 100%|██████████| 64/64 [00:00<00:00, 70.70it/s]\n",
            "Epoch 290: 100%|██████████| 64/64 [00:00<00:00, 71.37it/s]\n",
            "Epoch 291: 100%|██████████| 64/64 [00:00<00:00, 70.52it/s]\n",
            "Epoch 292: 100%|██████████| 64/64 [00:00<00:00, 70.19it/s]\n",
            "Epoch 293: 100%|██████████| 64/64 [00:00<00:00, 70.67it/s]\n",
            "Epoch 294: 100%|██████████| 64/64 [00:00<00:00, 70.50it/s]\n",
            "Epoch 295: 100%|██████████| 64/64 [00:00<00:00, 70.09it/s]\n",
            "Epoch 296: 100%|██████████| 64/64 [00:00<00:00, 70.78it/s]\n",
            "Epoch 297: 100%|██████████| 64/64 [00:00<00:00, 71.35it/s]\n",
            "Epoch 298: 100%|██████████| 64/64 [00:00<00:00, 71.11it/s]\n",
            "Epoch 299: 100%|██████████| 64/64 [00:00<00:00, 72.94it/s]\n",
            "Epoch 300: 100%|██████████| 64/64 [00:00<00:00, 71.92it/s]\n",
            "Epoch 301: 100%|██████████| 64/64 [00:00<00:00, 70.38it/s]\n",
            "Epoch 302: 100%|██████████| 64/64 [00:00<00:00, 72.16it/s]\n",
            "Epoch 303: 100%|██████████| 64/64 [00:00<00:00, 71.36it/s]\n",
            "Epoch 304: 100%|██████████| 64/64 [00:00<00:00, 70.53it/s]\n",
            "Epoch 305: 100%|██████████| 64/64 [00:00<00:00, 69.98it/s]\n",
            "Epoch 306: 100%|██████████| 64/64 [00:00<00:00, 70.86it/s]\n",
            "Epoch 307: 100%|██████████| 64/64 [00:00<00:00, 70.65it/s]\n",
            "Epoch 308: 100%|██████████| 64/64 [00:00<00:00, 71.35it/s]\n",
            "Epoch 309: 100%|██████████| 64/64 [00:00<00:00, 68.60it/s]\n",
            "Epoch 310: 100%|██████████| 64/64 [00:00<00:00, 68.94it/s]\n",
            "Epoch 311: 100%|██████████| 64/64 [00:00<00:00, 70.46it/s]\n",
            "Epoch 312: 100%|██████████| 64/64 [00:00<00:00, 71.25it/s]\n",
            "Epoch 313: 100%|██████████| 64/64 [00:00<00:00, 70.94it/s]\n",
            "Epoch 314: 100%|██████████| 64/64 [00:00<00:00, 69.19it/s]\n",
            "Epoch 315: 100%|██████████| 64/64 [00:00<00:00, 70.51it/s]\n",
            "Epoch 316: 100%|██████████| 64/64 [00:00<00:00, 70.39it/s]\n",
            "Epoch 317: 100%|██████████| 64/64 [00:00<00:00, 70.99it/s]\n",
            "Epoch 318: 100%|██████████| 64/64 [00:00<00:00, 71.12it/s]\n",
            "Epoch 319: 100%|██████████| 64/64 [00:00<00:00, 71.07it/s]\n",
            "Epoch 320: 100%|██████████| 64/64 [00:00<00:00, 70.60it/s]\n",
            "Epoch 321: 100%|██████████| 64/64 [00:00<00:00, 69.22it/s]\n",
            "Epoch 322: 100%|██████████| 64/64 [00:00<00:00, 70.51it/s]\n",
            "Epoch 323: 100%|██████████| 64/64 [00:00<00:00, 69.16it/s]\n",
            "Epoch 324: 100%|██████████| 64/64 [00:00<00:00, 69.94it/s]\n",
            "Epoch 325: 100%|██████████| 64/64 [00:00<00:00, 70.22it/s]\n",
            "Epoch 326: 100%|██████████| 64/64 [00:00<00:00, 70.49it/s]\n",
            "Epoch 327: 100%|██████████| 64/64 [00:00<00:00, 71.36it/s]\n",
            "Epoch 328: 100%|██████████| 64/64 [00:00<00:00, 71.29it/s]\n",
            "Epoch 329: 100%|██████████| 64/64 [00:00<00:00, 70.83it/s]\n",
            "Epoch 330: 100%|██████████| 64/64 [00:00<00:00, 70.89it/s]\n",
            "Epoch 331: 100%|██████████| 64/64 [00:00<00:00, 71.90it/s]\n",
            "Epoch 332: 100%|██████████| 64/64 [00:00<00:00, 72.77it/s]\n",
            "Epoch 333: 100%|██████████| 64/64 [00:00<00:00, 72.99it/s]\n",
            "Epoch 334: 100%|██████████| 64/64 [00:00<00:00, 72.76it/s]\n",
            "Epoch 335: 100%|██████████| 64/64 [00:00<00:00, 73.03it/s]\n",
            "Epoch 336: 100%|██████████| 64/64 [00:00<00:00, 71.89it/s]\n",
            "Epoch 337: 100%|██████████| 64/64 [00:00<00:00, 71.28it/s]\n",
            "Epoch 338: 100%|██████████| 64/64 [00:00<00:00, 71.56it/s]\n",
            "Epoch 339: 100%|██████████| 64/64 [00:00<00:00, 71.81it/s]\n",
            "Epoch 340: 100%|██████████| 64/64 [00:00<00:00, 71.54it/s]\n",
            "Epoch 341: 100%|██████████| 64/64 [00:00<00:00, 71.42it/s]\n",
            "Epoch 342: 100%|██████████| 64/64 [00:00<00:00, 69.68it/s]\n",
            "Epoch 343: 100%|██████████| 64/64 [00:00<00:00, 69.42it/s]\n",
            "Epoch 344: 100%|██████████| 64/64 [00:00<00:00, 70.51it/s]\n",
            "Epoch 345: 100%|██████████| 64/64 [00:00<00:00, 70.34it/s]\n",
            "Epoch 346: 100%|██████████| 64/64 [00:00<00:00, 70.17it/s]\n",
            "Epoch 347: 100%|██████████| 64/64 [00:00<00:00, 70.01it/s]\n",
            "Epoch 348: 100%|██████████| 64/64 [00:00<00:00, 69.47it/s]\n",
            "Epoch 349: 100%|██████████| 64/64 [00:00<00:00, 71.03it/s]\n",
            "Epoch 350: 100%|██████████| 64/64 [00:00<00:00, 70.36it/s]\n",
            "Epoch 351: 100%|██████████| 64/64 [00:00<00:00, 70.57it/s]\n",
            "Epoch 352: 100%|██████████| 64/64 [00:00<00:00, 70.00it/s]\n",
            "Epoch 353: 100%|██████████| 64/64 [00:00<00:00, 71.34it/s]\n",
            "Epoch 354: 100%|██████████| 64/64 [00:00<00:00, 70.36it/s]\n",
            "Epoch 355: 100%|██████████| 64/64 [00:00<00:00, 68.83it/s]\n",
            "Epoch 356: 100%|██████████| 64/64 [00:00<00:00, 69.49it/s]\n",
            "Epoch 357: 100%|██████████| 64/64 [00:00<00:00, 69.57it/s]\n",
            "Epoch 358: 100%|██████████| 64/64 [00:00<00:00, 69.05it/s]\n",
            "Epoch 359: 100%|██████████| 64/64 [00:00<00:00, 68.37it/s]\n",
            "Epoch 360: 100%|██████████| 64/64 [00:00<00:00, 69.26it/s]\n",
            "Epoch 361: 100%|██████████| 64/64 [00:00<00:00, 68.65it/s]\n",
            "Epoch 362: 100%|██████████| 64/64 [00:00<00:00, 69.20it/s]\n",
            "Epoch 363: 100%|██████████| 64/64 [00:00<00:00, 70.38it/s]\n",
            "Epoch 364: 100%|██████████| 64/64 [00:00<00:00, 70.08it/s]\n",
            "Epoch 365: 100%|██████████| 64/64 [00:00<00:00, 71.31it/s]\n",
            "Epoch 366: 100%|██████████| 64/64 [00:00<00:00, 70.56it/s]\n",
            "Epoch 367: 100%|██████████| 64/64 [00:00<00:00, 71.59it/s]\n",
            "Epoch 368: 100%|██████████| 64/64 [00:00<00:00, 71.73it/s]\n",
            "Epoch 369: 100%|██████████| 64/64 [00:00<00:00, 71.15it/s]\n",
            "Epoch 370: 100%|██████████| 64/64 [00:00<00:00, 72.01it/s]\n",
            "Epoch 371: 100%|██████████| 64/64 [00:00<00:00, 70.49it/s]\n",
            "Epoch 372: 100%|██████████| 64/64 [00:00<00:00, 71.71it/s]\n",
            "Epoch 373: 100%|██████████| 64/64 [00:00<00:00, 71.82it/s]\n",
            "Epoch 374: 100%|██████████| 64/64 [00:00<00:00, 70.89it/s]\n",
            "Epoch 375: 100%|██████████| 64/64 [00:00<00:00, 70.67it/s]\n",
            "Epoch 376: 100%|██████████| 64/64 [00:00<00:00, 69.69it/s]\n",
            "Epoch 377: 100%|██████████| 64/64 [00:00<00:00, 70.34it/s]\n",
            "Epoch 378: 100%|██████████| 64/64 [00:00<00:00, 69.43it/s]\n",
            "Epoch 379: 100%|██████████| 64/64 [00:00<00:00, 70.80it/s]\n",
            "Epoch 380: 100%|██████████| 64/64 [00:00<00:00, 71.41it/s]\n",
            "Epoch 381: 100%|██████████| 64/64 [00:00<00:00, 70.78it/s]\n",
            "Epoch 382: 100%|██████████| 64/64 [00:00<00:00, 69.98it/s]\n",
            "Epoch 383: 100%|██████████| 64/64 [00:00<00:00, 70.10it/s]\n",
            "Epoch 384: 100%|██████████| 64/64 [00:00<00:00, 69.46it/s]\n",
            "Epoch 385: 100%|██████████| 64/64 [00:00<00:00, 69.98it/s]\n",
            "Epoch 386: 100%|██████████| 64/64 [00:00<00:00, 70.24it/s]\n",
            "Epoch 387: 100%|██████████| 64/64 [00:00<00:00, 70.34it/s]\n",
            "Epoch 388: 100%|██████████| 64/64 [00:00<00:00, 70.71it/s]\n",
            "Epoch 389: 100%|██████████| 64/64 [00:00<00:00, 68.99it/s]\n",
            "Epoch 390: 100%|██████████| 64/64 [00:00<00:00, 69.85it/s]\n",
            "Epoch 391: 100%|██████████| 64/64 [00:00<00:00, 70.25it/s]\n",
            "Epoch 392: 100%|██████████| 64/64 [00:00<00:00, 70.77it/s]\n",
            "Epoch 393: 100%|██████████| 64/64 [00:00<00:00, 69.37it/s]\n",
            "Epoch 394: 100%|██████████| 64/64 [00:00<00:00, 71.00it/s]\n",
            "Epoch 395: 100%|██████████| 64/64 [00:00<00:00, 70.88it/s]\n",
            "Epoch 396: 100%|██████████| 64/64 [00:00<00:00, 69.91it/s]\n",
            "Epoch 397: 100%|██████████| 64/64 [00:00<00:00, 71.35it/s]\n",
            "Epoch 398: 100%|██████████| 64/64 [00:00<00:00, 71.06it/s]\n",
            "Epoch 399: 100%|██████████| 64/64 [00:00<00:00, 71.34it/s]\n",
            "Epoch 400: 100%|██████████| 64/64 [00:00<00:00, 71.70it/s]\n",
            "Epoch 401: 100%|██████████| 64/64 [00:00<00:00, 71.81it/s]\n",
            "Epoch 402: 100%|██████████| 64/64 [00:00<00:00, 71.31it/s]\n",
            "Epoch 403: 100%|██████████| 64/64 [00:00<00:00, 71.26it/s]\n",
            "Epoch 404: 100%|██████████| 64/64 [00:00<00:00, 71.08it/s]\n",
            "Epoch 405: 100%|██████████| 64/64 [00:00<00:00, 72.59it/s]\n",
            "Epoch 406: 100%|██████████| 64/64 [00:00<00:00, 71.74it/s]\n",
            "Epoch 407: 100%|██████████| 64/64 [00:00<00:00, 71.61it/s]\n",
            "Epoch 408: 100%|██████████| 64/64 [00:00<00:00, 70.33it/s]\n",
            "Epoch 409: 100%|██████████| 64/64 [00:00<00:00, 69.69it/s]\n",
            "Epoch 410: 100%|██████████| 64/64 [00:00<00:00, 70.58it/s]\n",
            "Epoch 411: 100%|██████████| 64/64 [00:00<00:00, 70.16it/s]\n",
            "Epoch 412: 100%|██████████| 64/64 [00:00<00:00, 70.93it/s]\n",
            "Epoch 413: 100%|██████████| 64/64 [00:00<00:00, 69.91it/s]\n",
            "Epoch 414: 100%|██████████| 64/64 [00:00<00:00, 70.34it/s]\n",
            "Epoch 415: 100%|██████████| 64/64 [00:00<00:00, 69.35it/s]\n",
            "Epoch 416: 100%|██████████| 64/64 [00:00<00:00, 69.50it/s]\n",
            "Epoch 417: 100%|██████████| 64/64 [00:00<00:00, 70.40it/s]\n",
            "Epoch 418: 100%|██████████| 64/64 [00:00<00:00, 69.77it/s]\n",
            "Epoch 419: 100%|██████████| 64/64 [00:00<00:00, 70.57it/s]\n",
            "Epoch 420: 100%|██████████| 64/64 [00:00<00:00, 70.32it/s]\n",
            "Epoch 421: 100%|██████████| 64/64 [00:00<00:00, 71.23it/s]\n",
            "Epoch 422: 100%|██████████| 64/64 [00:00<00:00, 69.38it/s]\n",
            "Epoch 423: 100%|██████████| 64/64 [00:00<00:00, 71.44it/s]\n",
            "Epoch 424: 100%|██████████| 64/64 [00:00<00:00, 70.77it/s]\n",
            "Epoch 425: 100%|██████████| 64/64 [00:00<00:00, 68.88it/s]\n",
            "Epoch 426: 100%|██████████| 64/64 [00:00<00:00, 70.25it/s]\n",
            "Epoch 427: 100%|██████████| 64/64 [00:00<00:00, 70.33it/s]\n",
            "Epoch 428: 100%|██████████| 64/64 [00:00<00:00, 71.30it/s]\n",
            "Epoch 429: 100%|██████████| 64/64 [00:00<00:00, 72.31it/s]\n",
            "Epoch 430: 100%|██████████| 64/64 [00:00<00:00, 72.19it/s]\n",
            "Epoch 431: 100%|██████████| 64/64 [00:00<00:00, 70.21it/s]\n",
            "Epoch 432: 100%|██████████| 64/64 [00:00<00:00, 71.05it/s]\n",
            "Epoch 433: 100%|██████████| 64/64 [00:00<00:00, 70.81it/s]\n",
            "Epoch 434: 100%|██████████| 64/64 [00:00<00:00, 70.84it/s]\n",
            "Epoch 435: 100%|██████████| 64/64 [00:00<00:00, 71.14it/s]\n",
            "Epoch 436: 100%|██████████| 64/64 [00:00<00:00, 71.98it/s]\n",
            "Epoch 437: 100%|██████████| 64/64 [00:00<00:00, 72.24it/s]\n",
            "Epoch 438: 100%|██████████| 64/64 [00:00<00:00, 71.23it/s]\n",
            "Epoch 439: 100%|██████████| 64/64 [00:00<00:00, 72.23it/s]\n",
            "Epoch 440: 100%|██████████| 64/64 [00:00<00:00, 70.25it/s]\n",
            "Epoch 441: 100%|██████████| 64/64 [00:00<00:00, 70.38it/s]\n",
            "Epoch 442: 100%|██████████| 64/64 [00:00<00:00, 70.08it/s]\n",
            "Epoch 443: 100%|██████████| 64/64 [00:00<00:00, 68.42it/s]\n",
            "Epoch 444: 100%|██████████| 64/64 [00:00<00:00, 69.47it/s]\n",
            "Epoch 445: 100%|██████████| 64/64 [00:00<00:00, 69.06it/s]\n",
            "Epoch 446: 100%|██████████| 64/64 [00:00<00:00, 69.97it/s]\n",
            "Epoch 447: 100%|██████████| 64/64 [00:00<00:00, 68.88it/s]\n",
            "Epoch 448: 100%|██████████| 64/64 [00:00<00:00, 70.43it/s]\n",
            "Epoch 449: 100%|██████████| 64/64 [00:00<00:00, 67.96it/s]\n",
            "Epoch 450: 100%|██████████| 64/64 [00:00<00:00, 69.65it/s]\n",
            "Epoch 451: 100%|██████████| 64/64 [00:00<00:00, 68.91it/s]\n",
            "Epoch 452: 100%|██████████| 64/64 [00:00<00:00, 68.74it/s]\n",
            "Epoch 453: 100%|██████████| 64/64 [00:00<00:00, 68.81it/s]\n",
            "Epoch 454: 100%|██████████| 64/64 [00:00<00:00, 70.01it/s]\n",
            "Epoch 455: 100%|██████████| 64/64 [00:00<00:00, 69.84it/s]\n",
            "Epoch 456: 100%|██████████| 64/64 [00:00<00:00, 68.60it/s]\n",
            "Epoch 457: 100%|██████████| 64/64 [00:00<00:00, 70.08it/s]\n",
            "Epoch 458: 100%|██████████| 64/64 [00:00<00:00, 71.40it/s]\n",
            "Epoch 459: 100%|██████████| 64/64 [00:00<00:00, 70.84it/s]\n",
            "Epoch 460: 100%|██████████| 64/64 [00:00<00:00, 69.34it/s]\n",
            "Epoch 461: 100%|██████████| 64/64 [00:00<00:00, 69.17it/s]\n",
            "Epoch 462: 100%|██████████| 64/64 [00:00<00:00, 72.36it/s]\n",
            "Epoch 463: 100%|██████████| 64/64 [00:00<00:00, 72.41it/s]\n",
            "Epoch 464: 100%|██████████| 64/64 [00:00<00:00, 72.10it/s]\n",
            "Epoch 465: 100%|██████████| 64/64 [00:00<00:00, 71.58it/s]\n",
            "Epoch 466: 100%|██████████| 64/64 [00:00<00:00, 72.01it/s]\n",
            "Epoch 467: 100%|██████████| 64/64 [00:00<00:00, 73.05it/s]\n",
            "Epoch 468: 100%|██████████| 64/64 [00:00<00:00, 73.14it/s]\n",
            "Epoch 469: 100%|██████████| 64/64 [00:00<00:00, 71.18it/s]\n",
            "Epoch 470: 100%|██████████| 64/64 [00:00<00:00, 71.70it/s]\n",
            "Epoch 471: 100%|██████████| 64/64 [00:00<00:00, 72.01it/s]\n",
            "Epoch 472: 100%|██████████| 64/64 [00:00<00:00, 71.01it/s]\n",
            "Epoch 473: 100%|██████████| 64/64 [00:00<00:00, 70.71it/s]\n",
            "Epoch 474: 100%|██████████| 64/64 [00:00<00:00, 70.71it/s]\n",
            "Epoch 475: 100%|██████████| 64/64 [00:00<00:00, 70.30it/s]\n",
            "Epoch 476: 100%|██████████| 64/64 [00:00<00:00, 71.07it/s]\n",
            "Epoch 477: 100%|██████████| 64/64 [00:00<00:00, 69.55it/s]\n",
            "Epoch 478: 100%|██████████| 64/64 [00:00<00:00, 70.10it/s]\n",
            "Epoch 479: 100%|██████████| 64/64 [00:00<00:00, 68.41it/s]\n",
            "Epoch 480: 100%|██████████| 64/64 [00:00<00:00, 70.42it/s]\n",
            "Epoch 481: 100%|██████████| 64/64 [00:00<00:00, 69.77it/s]\n",
            "Epoch 482: 100%|██████████| 64/64 [00:00<00:00, 69.63it/s]\n",
            "Epoch 483: 100%|██████████| 64/64 [00:00<00:00, 69.80it/s]\n",
            "Epoch 484: 100%|██████████| 64/64 [00:00<00:00, 69.69it/s]\n",
            "Epoch 485: 100%|██████████| 64/64 [00:00<00:00, 69.95it/s]\n",
            "Epoch 486: 100%|██████████| 64/64 [00:00<00:00, 72.29it/s]\n",
            "Epoch 487: 100%|██████████| 64/64 [00:00<00:00, 70.25it/s]\n",
            "Epoch 488: 100%|██████████| 64/64 [00:00<00:00, 70.49it/s]\n",
            "Epoch 489: 100%|██████████| 64/64 [00:00<00:00, 67.55it/s]\n",
            "Epoch 490: 100%|██████████| 64/64 [00:00<00:00, 71.12it/s]\n",
            "Epoch 491: 100%|██████████| 64/64 [00:00<00:00, 69.23it/s]\n",
            "Epoch 492: 100%|██████████| 64/64 [00:00<00:00, 70.15it/s]\n",
            "Epoch 493: 100%|██████████| 64/64 [00:00<00:00, 69.99it/s]\n",
            "Epoch 494: 100%|██████████| 64/64 [00:00<00:00, 70.06it/s]\n",
            "Epoch 495: 100%|██████████| 64/64 [00:00<00:00, 71.14it/s]\n",
            "Epoch 496: 100%|██████████| 64/64 [00:00<00:00, 73.60it/s]\n",
            "Epoch 497: 100%|██████████| 64/64 [00:00<00:00, 72.17it/s]\n",
            "Epoch 498: 100%|██████████| 64/64 [00:00<00:00, 71.68it/s]\n",
            "Epoch 499: 100%|██████████| 64/64 [00:00<00:00, 71.99it/s]\n",
            "Epoch 500: 100%|██████████| 64/64 [00:00<00:00, 71.54it/s]\n",
            "Epoch 501: 100%|██████████| 64/64 [00:00<00:00, 71.65it/s]\n",
            "Epoch 502: 100%|██████████| 64/64 [00:00<00:00, 72.80it/s]\n",
            "Epoch 503: 100%|██████████| 64/64 [00:00<00:00, 72.58it/s]\n",
            "Epoch 504: 100%|██████████| 64/64 [00:00<00:00, 71.37it/s]\n",
            "Epoch 505: 100%|██████████| 64/64 [00:00<00:00, 71.75it/s]\n",
            "Epoch 506: 100%|██████████| 64/64 [00:00<00:00, 69.94it/s]\n",
            "Epoch 507: 100%|██████████| 64/64 [00:00<00:00, 69.57it/s]\n",
            "Epoch 508: 100%|██████████| 64/64 [00:00<00:00, 69.94it/s]\n",
            "Epoch 509: 100%|██████████| 64/64 [00:00<00:00, 70.93it/s]\n",
            "Epoch 510: 100%|██████████| 64/64 [00:00<00:00, 70.02it/s]\n",
            "Epoch 511: 100%|██████████| 64/64 [00:00<00:00, 69.95it/s]\n",
            "Epoch 512: 100%|██████████| 64/64 [00:00<00:00, 70.42it/s]\n",
            "Epoch 513: 100%|██████████| 64/64 [00:00<00:00, 70.23it/s]\n",
            "Epoch 514: 100%|██████████| 64/64 [00:00<00:00, 70.31it/s]\n",
            "Epoch 515: 100%|██████████| 64/64 [00:00<00:00, 69.70it/s]\n",
            "Epoch 516: 100%|██████████| 64/64 [00:00<00:00, 69.35it/s]\n",
            "Epoch 517: 100%|██████████| 64/64 [00:00<00:00, 69.99it/s]\n",
            "Epoch 518: 100%|██████████| 64/64 [00:00<00:00, 70.30it/s]\n",
            "Epoch 519: 100%|██████████| 64/64 [00:00<00:00, 68.25it/s]\n",
            "Epoch 520: 100%|██████████| 64/64 [00:00<00:00, 69.56it/s]\n",
            "Epoch 521: 100%|██████████| 64/64 [00:00<00:00, 70.17it/s]\n",
            "Epoch 522: 100%|██████████| 64/64 [00:00<00:00, 70.53it/s]\n",
            "Epoch 523: 100%|██████████| 64/64 [00:00<00:00, 69.54it/s]\n",
            "Epoch 524: 100%|██████████| 64/64 [00:00<00:00, 70.37it/s]\n",
            "Epoch 525: 100%|██████████| 64/64 [00:00<00:00, 70.81it/s]\n",
            "Epoch 526: 100%|██████████| 64/64 [00:00<00:00, 70.79it/s]\n",
            "Epoch 527: 100%|██████████| 64/64 [00:00<00:00, 70.54it/s]\n",
            "Epoch 528: 100%|██████████| 64/64 [00:00<00:00, 70.83it/s]\n",
            "Epoch 529: 100%|██████████| 64/64 [00:00<00:00, 72.07it/s]\n",
            "Epoch 530: 100%|██████████| 64/64 [00:00<00:00, 71.93it/s]\n",
            "Epoch 531: 100%|██████████| 64/64 [00:00<00:00, 70.25it/s]\n",
            "Epoch 532: 100%|██████████| 64/64 [00:00<00:00, 70.89it/s]\n",
            "Epoch 533: 100%|██████████| 64/64 [00:00<00:00, 70.74it/s]\n",
            "Epoch 534: 100%|██████████| 64/64 [00:00<00:00, 71.23it/s]\n",
            "Epoch 535: 100%|██████████| 64/64 [00:00<00:00, 71.12it/s]\n",
            "Epoch 536: 100%|██████████| 64/64 [00:00<00:00, 71.43it/s]\n",
            "Epoch 537: 100%|██████████| 64/64 [00:00<00:00, 71.56it/s]\n",
            "Epoch 538: 100%|██████████| 64/64 [00:00<00:00, 70.90it/s]\n",
            "Epoch 539: 100%|██████████| 64/64 [00:00<00:00, 68.90it/s]\n",
            "Epoch 540: 100%|██████████| 64/64 [00:00<00:00, 69.88it/s]\n",
            "Epoch 541: 100%|██████████| 64/64 [00:00<00:00, 69.84it/s]\n",
            "Epoch 542: 100%|██████████| 64/64 [00:00<00:00, 69.34it/s]\n",
            "Epoch 543: 100%|██████████| 64/64 [00:00<00:00, 70.52it/s]\n",
            "Epoch 544: 100%|██████████| 64/64 [00:00<00:00, 69.92it/s]\n",
            "Epoch 545: 100%|██████████| 64/64 [00:00<00:00, 70.35it/s]\n",
            "Epoch 546: 100%|██████████| 64/64 [00:00<00:00, 70.10it/s]\n",
            "Epoch 547: 100%|██████████| 64/64 [00:00<00:00, 70.68it/s]\n",
            "Epoch 548: 100%|██████████| 64/64 [00:00<00:00, 68.53it/s]\n",
            "Epoch 549: 100%|██████████| 64/64 [00:00<00:00, 66.99it/s]\n",
            "Epoch 550: 100%|██████████| 64/64 [00:00<00:00, 68.29it/s]\n",
            "Epoch 551: 100%|██████████| 64/64 [00:00<00:00, 71.43it/s]\n",
            "Epoch 552: 100%|██████████| 64/64 [00:00<00:00, 71.19it/s]\n",
            "Epoch 553: 100%|██████████| 64/64 [00:00<00:00, 70.74it/s]\n",
            "Epoch 554: 100%|██████████| 64/64 [00:00<00:00, 70.94it/s]\n",
            "Epoch 555: 100%|██████████| 64/64 [00:00<00:00, 70.02it/s]\n",
            "Epoch 556: 100%|██████████| 64/64 [00:00<00:00, 69.28it/s]\n",
            "Epoch 557: 100%|██████████| 64/64 [00:00<00:00, 70.51it/s]\n",
            "Epoch 558: 100%|██████████| 64/64 [00:00<00:00, 70.68it/s]\n",
            "Epoch 559: 100%|██████████| 64/64 [00:00<00:00, 68.30it/s]\n",
            "Epoch 560: 100%|██████████| 64/64 [00:00<00:00, 71.23it/s]\n",
            "Epoch 561: 100%|██████████| 64/64 [00:00<00:00, 70.27it/s]\n",
            "Epoch 562: 100%|██████████| 64/64 [00:00<00:00, 71.55it/s]\n",
            "Epoch 563: 100%|██████████| 64/64 [00:00<00:00, 72.28it/s]\n",
            "Epoch 564: 100%|██████████| 64/64 [00:00<00:00, 73.16it/s]\n",
            "Epoch 565: 100%|██████████| 64/64 [00:00<00:00, 71.67it/s]\n",
            "Epoch 566: 100%|██████████| 64/64 [00:00<00:00, 72.48it/s]\n",
            "Epoch 567: 100%|██████████| 64/64 [00:00<00:00, 72.14it/s]\n",
            "Epoch 568: 100%|██████████| 64/64 [00:00<00:00, 71.42it/s]\n",
            "Epoch 569: 100%|██████████| 64/64 [00:00<00:00, 71.98it/s]\n",
            "Epoch 570: 100%|██████████| 64/64 [00:00<00:00, 72.89it/s]\n",
            "Epoch 571: 100%|██████████| 64/64 [00:00<00:00, 71.53it/s]\n",
            "Epoch 572: 100%|██████████| 64/64 [00:00<00:00, 71.64it/s]\n",
            "Epoch 573: 100%|██████████| 64/64 [00:00<00:00, 70.03it/s]\n",
            "Epoch 574: 100%|██████████| 64/64 [00:00<00:00, 69.64it/s]\n",
            "Epoch 575: 100%|██████████| 64/64 [00:00<00:00, 70.09it/s]\n",
            "Epoch 576: 100%|██████████| 64/64 [00:00<00:00, 69.74it/s]\n",
            "Epoch 577: 100%|██████████| 64/64 [00:00<00:00, 71.05it/s]\n",
            "Epoch 578: 100%|██████████| 64/64 [00:00<00:00, 69.78it/s]\n",
            "Epoch 579: 100%|██████████| 64/64 [00:00<00:00, 70.58it/s]\n",
            "Epoch 580: 100%|██████████| 64/64 [00:00<00:00, 69.61it/s]\n",
            "Epoch 581: 100%|██████████| 64/64 [00:00<00:00, 70.32it/s]\n",
            "Epoch 582: 100%|██████████| 64/64 [00:00<00:00, 70.09it/s]\n",
            "Epoch 583: 100%|██████████| 64/64 [00:00<00:00, 69.14it/s]\n",
            "Epoch 584: 100%|██████████| 64/64 [00:00<00:00, 69.58it/s]\n",
            "Epoch 585: 100%|██████████| 64/64 [00:00<00:00, 69.87it/s]\n",
            "Epoch 586: 100%|██████████| 64/64 [00:00<00:00, 70.49it/s]\n",
            "Epoch 587: 100%|██████████| 64/64 [00:00<00:00, 70.98it/s]\n",
            "Epoch 588: 100%|██████████| 64/64 [00:00<00:00, 69.79it/s]\n",
            "Epoch 589: 100%|██████████| 64/64 [00:00<00:00, 71.52it/s]\n",
            "Epoch 590: 100%|██████████| 64/64 [00:00<00:00, 68.59it/s]\n",
            "Epoch 591: 100%|██████████| 64/64 [00:00<00:00, 69.84it/s]\n",
            "Epoch 592: 100%|██████████| 64/64 [00:00<00:00, 66.70it/s]\n",
            "Epoch 593: 100%|██████████| 64/64 [00:00<00:00, 67.45it/s]\n",
            "Epoch 594: 100%|██████████| 64/64 [00:00<00:00, 69.76it/s]\n",
            "Epoch 595: 100%|██████████| 64/64 [00:00<00:00, 68.84it/s]\n",
            "Epoch 596: 100%|██████████| 64/64 [00:00<00:00, 68.53it/s]\n",
            "Epoch 597: 100%|██████████| 64/64 [00:00<00:00, 67.84it/s]\n",
            "Epoch 598: 100%|██████████| 64/64 [00:00<00:00, 68.22it/s]\n",
            "Epoch 599: 100%|██████████| 64/64 [00:00<00:00, 67.04it/s]\n",
            "Epoch 600: 100%|██████████| 64/64 [00:00<00:00, 66.45it/s]\n",
            "Epoch 601: 100%|██████████| 64/64 [00:00<00:00, 69.00it/s]\n",
            "Epoch 602: 100%|██████████| 64/64 [00:00<00:00, 69.24it/s]\n",
            "Epoch 603: 100%|██████████| 64/64 [00:00<00:00, 71.46it/s]\n",
            "Epoch 604: 100%|██████████| 64/64 [00:00<00:00, 70.63it/s]\n",
            "Epoch 605: 100%|██████████| 64/64 [00:00<00:00, 70.43it/s]\n",
            "Epoch 606: 100%|██████████| 64/64 [00:00<00:00, 69.05it/s]\n",
            "Epoch 607: 100%|██████████| 64/64 [00:00<00:00, 69.51it/s]\n",
            "Epoch 608: 100%|██████████| 64/64 [00:00<00:00, 69.66it/s]\n",
            "Epoch 609: 100%|██████████| 64/64 [00:00<00:00, 70.76it/s]\n",
            "Epoch 610: 100%|██████████| 64/64 [00:00<00:00, 70.19it/s]\n",
            "Epoch 611: 100%|██████████| 64/64 [00:00<00:00, 71.12it/s]\n",
            "Epoch 612: 100%|██████████| 64/64 [00:00<00:00, 70.31it/s]\n",
            "Epoch 613: 100%|██████████| 64/64 [00:00<00:00, 70.48it/s]\n",
            "Epoch 614: 100%|██████████| 64/64 [00:00<00:00, 70.43it/s]\n",
            "Epoch 615: 100%|██████████| 64/64 [00:00<00:00, 70.44it/s]\n",
            "Epoch 616: 100%|██████████| 64/64 [00:00<00:00, 69.57it/s]\n",
            "Epoch 617: 100%|██████████| 64/64 [00:00<00:00, 69.67it/s]\n",
            "Epoch 618: 100%|██████████| 64/64 [00:00<00:00, 70.21it/s]\n",
            "Epoch 619: 100%|██████████| 64/64 [00:00<00:00, 70.78it/s]\n",
            "Epoch 620: 100%|██████████| 64/64 [00:00<00:00, 70.49it/s]\n",
            "Epoch 621: 100%|██████████| 64/64 [00:00<00:00, 70.09it/s]\n",
            "Epoch 622: 100%|██████████| 64/64 [00:00<00:00, 69.32it/s]\n",
            "Epoch 623: 100%|██████████| 64/64 [00:00<00:00, 68.70it/s]\n",
            "Epoch 624: 100%|██████████| 64/64 [00:00<00:00, 69.77it/s]\n",
            "Epoch 625: 100%|██████████| 64/64 [00:00<00:00, 70.80it/s]\n",
            "Epoch 626: 100%|██████████| 64/64 [00:00<00:00, 71.52it/s]\n",
            "Epoch 627: 100%|██████████| 64/64 [00:00<00:00, 70.33it/s]\n",
            "Epoch 628: 100%|██████████| 64/64 [00:00<00:00, 70.01it/s]\n",
            "Epoch 629: 100%|██████████| 64/64 [00:00<00:00, 68.34it/s]\n",
            "Epoch 630: 100%|██████████| 64/64 [00:00<00:00, 72.49it/s]\n",
            "Epoch 631: 100%|██████████| 64/64 [00:00<00:00, 72.69it/s]\n",
            "Epoch 632: 100%|██████████| 64/64 [00:00<00:00, 71.88it/s]\n",
            "Epoch 633: 100%|██████████| 64/64 [00:00<00:00, 71.76it/s]\n",
            "Epoch 634: 100%|██████████| 64/64 [00:00<00:00, 71.80it/s]\n",
            "Epoch 635: 100%|██████████| 64/64 [00:00<00:00, 72.41it/s]\n",
            "Epoch 636: 100%|██████████| 64/64 [00:00<00:00, 71.79it/s]\n",
            "Epoch 637: 100%|██████████| 64/64 [00:00<00:00, 70.94it/s]\n",
            "Epoch 638: 100%|██████████| 64/64 [00:00<00:00, 68.65it/s]\n",
            "Epoch 639: 100%|██████████| 64/64 [00:00<00:00, 68.78it/s]\n",
            "Epoch 640: 100%|██████████| 64/64 [00:00<00:00, 67.94it/s]\n",
            "Epoch 641: 100%|██████████| 64/64 [00:00<00:00, 68.37it/s]\n",
            "Epoch 642: 100%|██████████| 64/64 [00:00<00:00, 67.86it/s]\n",
            "Epoch 643: 100%|██████████| 64/64 [00:00<00:00, 68.49it/s]\n",
            "Epoch 644: 100%|██████████| 64/64 [00:00<00:00, 68.70it/s]\n",
            "Epoch 645: 100%|██████████| 64/64 [00:00<00:00, 70.68it/s]\n",
            "Epoch 646: 100%|██████████| 64/64 [00:00<00:00, 70.22it/s]\n",
            "Epoch 647: 100%|██████████| 64/64 [00:00<00:00, 71.22it/s]\n",
            "Epoch 648: 100%|██████████| 64/64 [00:00<00:00, 69.97it/s]\n",
            "Epoch 649: 100%|██████████| 64/64 [00:00<00:00, 70.39it/s]\n",
            "Epoch 650: 100%|██████████| 64/64 [00:00<00:00, 69.70it/s]\n",
            "Epoch 651: 100%|██████████| 64/64 [00:00<00:00, 68.79it/s]\n",
            "Epoch 652: 100%|██████████| 64/64 [00:00<00:00, 70.61it/s]\n",
            "Epoch 653: 100%|██████████| 64/64 [00:00<00:00, 70.45it/s]\n",
            "Epoch 654: 100%|██████████| 64/64 [00:00<00:00, 70.28it/s]\n",
            "Epoch 655: 100%|██████████| 64/64 [00:00<00:00, 71.07it/s]\n",
            "Epoch 656: 100%|██████████| 64/64 [00:00<00:00, 70.50it/s]\n",
            "Epoch 657: 100%|██████████| 64/64 [00:00<00:00, 69.84it/s]\n",
            "Epoch 658: 100%|██████████| 64/64 [00:00<00:00, 70.38it/s]\n",
            "Epoch 659: 100%|██████████| 64/64 [00:00<00:00, 73.18it/s]\n",
            "Epoch 660: 100%|██████████| 64/64 [00:00<00:00, 71.99it/s]\n",
            "Epoch 661: 100%|██████████| 64/64 [00:00<00:00, 71.89it/s]\n",
            "Epoch 662: 100%|██████████| 64/64 [00:00<00:00, 69.31it/s]\n",
            "Epoch 663: 100%|██████████| 64/64 [00:00<00:00, 72.38it/s]\n",
            "Epoch 664: 100%|██████████| 64/64 [00:00<00:00, 72.25it/s]\n",
            "Epoch 665: 100%|██████████| 64/64 [00:00<00:00, 72.49it/s]\n",
            "Epoch 666: 100%|██████████| 64/64 [00:00<00:00, 73.01it/s]\n",
            "Epoch 667: 100%|██████████| 64/64 [00:00<00:00, 72.53it/s]\n",
            "Epoch 668: 100%|██████████| 64/64 [00:00<00:00, 72.07it/s]\n",
            "Epoch 669: 100%|██████████| 64/64 [00:00<00:00, 70.69it/s]\n",
            "Epoch 670: 100%|██████████| 64/64 [00:00<00:00, 71.36it/s]\n",
            "Epoch 671: 100%|██████████| 64/64 [00:00<00:00, 70.38it/s]\n",
            "Epoch 672: 100%|██████████| 64/64 [00:00<00:00, 70.04it/s]\n",
            "Epoch 673: 100%|██████████| 64/64 [00:00<00:00, 69.26it/s]\n",
            "Epoch 674: 100%|██████████| 64/64 [00:00<00:00, 69.40it/s]\n",
            "Epoch 675: 100%|██████████| 64/64 [00:00<00:00, 70.12it/s]\n",
            "Epoch 676: 100%|██████████| 64/64 [00:00<00:00, 70.38it/s]\n",
            "Epoch 677: 100%|██████████| 64/64 [00:00<00:00, 71.11it/s]\n",
            "Epoch 678: 100%|██████████| 64/64 [00:00<00:00, 70.48it/s]\n",
            "Epoch 679: 100%|██████████| 64/64 [00:00<00:00, 70.31it/s]\n",
            "Epoch 680: 100%|██████████| 64/64 [00:00<00:00, 71.29it/s]\n",
            "Epoch 681: 100%|██████████| 64/64 [00:00<00:00, 70.85it/s]\n",
            "Epoch 682: 100%|██████████| 64/64 [00:00<00:00, 70.25it/s]\n",
            "Epoch 683: 100%|██████████| 64/64 [00:00<00:00, 70.34it/s]\n",
            "Epoch 684: 100%|██████████| 64/64 [00:00<00:00, 68.92it/s]\n",
            "Epoch 685: 100%|██████████| 64/64 [00:00<00:00, 70.54it/s]\n",
            "Epoch 686: 100%|██████████| 64/64 [00:00<00:00, 70.91it/s]\n",
            "Epoch 687: 100%|██████████| 64/64 [00:00<00:00, 71.00it/s]\n",
            "Epoch 688: 100%|██████████| 64/64 [00:00<00:00, 70.05it/s]\n",
            "Epoch 689: 100%|██████████| 64/64 [00:00<00:00, 69.31it/s]\n",
            "Epoch 690: 100%|██████████| 64/64 [00:00<00:00, 69.24it/s]\n",
            "Epoch 691: 100%|██████████| 64/64 [00:00<00:00, 70.75it/s]\n",
            "Epoch 692: 100%|██████████| 64/64 [00:00<00:00, 71.92it/s]\n",
            "Epoch 693: 100%|██████████| 64/64 [00:00<00:00, 71.65it/s]\n",
            "Epoch 694: 100%|██████████| 64/64 [00:00<00:00, 71.73it/s]\n",
            "Epoch 695: 100%|██████████| 64/64 [00:00<00:00, 71.67it/s]\n",
            "Epoch 696: 100%|██████████| 64/64 [00:00<00:00, 70.55it/s]\n",
            "Epoch 697: 100%|██████████| 64/64 [00:00<00:00, 72.92it/s]\n",
            "Epoch 698: 100%|██████████| 64/64 [00:00<00:00, 72.24it/s]\n",
            "Epoch 699: 100%|██████████| 64/64 [00:00<00:00, 71.63it/s]\n",
            "Epoch 700: 100%|██████████| 64/64 [00:00<00:00, 70.95it/s]\n",
            "Epoch 701: 100%|██████████| 64/64 [00:00<00:00, 71.58it/s]\n",
            "Epoch 702: 100%|██████████| 64/64 [00:00<00:00, 71.63it/s]\n",
            "Epoch 703: 100%|██████████| 64/64 [00:00<00:00, 70.36it/s]\n",
            "Epoch 704: 100%|██████████| 64/64 [00:00<00:00, 70.75it/s]\n",
            "Epoch 705: 100%|██████████| 64/64 [00:00<00:00, 70.22it/s]\n",
            "Epoch 706: 100%|██████████| 64/64 [00:00<00:00, 69.85it/s]\n",
            "Epoch 707: 100%|██████████| 64/64 [00:00<00:00, 68.03it/s]\n",
            "Epoch 708: 100%|██████████| 64/64 [00:00<00:00, 69.42it/s]\n",
            "Epoch 709: 100%|██████████| 64/64 [00:00<00:00, 64.05it/s]\n",
            "Epoch 710: 100%|██████████| 64/64 [00:00<00:00, 69.62it/s]\n",
            "Epoch 711: 100%|██████████| 64/64 [00:00<00:00, 67.82it/s]\n",
            "Epoch 712: 100%|██████████| 64/64 [00:00<00:00, 68.65it/s]\n",
            "Epoch 713: 100%|██████████| 64/64 [00:00<00:00, 69.22it/s]\n",
            "Epoch 714: 100%|██████████| 64/64 [00:00<00:00, 68.46it/s]\n",
            "Epoch 715: 100%|██████████| 64/64 [00:00<00:00, 68.74it/s]\n",
            "Epoch 716: 100%|██████████| 64/64 [00:00<00:00, 69.64it/s]\n",
            "Epoch 717: 100%|██████████| 64/64 [00:00<00:00, 68.74it/s]\n",
            "Epoch 718: 100%|██████████| 64/64 [00:00<00:00, 69.34it/s]\n",
            "Epoch 719: 100%|██████████| 64/64 [00:00<00:00, 69.18it/s]\n",
            "Epoch 720: 100%|██████████| 64/64 [00:00<00:00, 69.91it/s]\n",
            "Epoch 721: 100%|██████████| 64/64 [00:00<00:00, 70.72it/s]\n",
            "Epoch 722: 100%|██████████| 64/64 [00:00<00:00, 70.31it/s]\n",
            "Epoch 723: 100%|██████████| 64/64 [00:00<00:00, 67.73it/s]\n",
            "Epoch 724: 100%|██████████| 64/64 [00:00<00:00, 71.67it/s]\n",
            "Epoch 725: 100%|██████████| 64/64 [00:00<00:00, 72.38it/s]\n",
            "Epoch 726: 100%|██████████| 64/64 [00:00<00:00, 72.33it/s]\n",
            "Epoch 727: 100%|██████████| 64/64 [00:00<00:00, 71.09it/s]\n",
            "Epoch 728: 100%|██████████| 64/64 [00:00<00:00, 72.24it/s]\n",
            "Epoch 729: 100%|██████████| 64/64 [00:00<00:00, 71.31it/s]\n",
            "Epoch 730: 100%|██████████| 64/64 [00:00<00:00, 71.88it/s]\n",
            "Epoch 731: 100%|██████████| 64/64 [00:00<00:00, 72.28it/s]\n",
            "Epoch 732: 100%|██████████| 64/64 [00:00<00:00, 72.51it/s]\n",
            "Epoch 733: 100%|██████████| 64/64 [00:00<00:00, 71.81it/s]\n",
            "Epoch 734: 100%|██████████| 64/64 [00:00<00:00, 72.59it/s]\n",
            "Epoch 735: 100%|██████████| 64/64 [00:00<00:00, 70.65it/s]\n",
            "Epoch 736: 100%|██████████| 64/64 [00:00<00:00, 70.42it/s]\n",
            "Epoch 737: 100%|██████████| 64/64 [00:00<00:00, 69.24it/s]\n",
            "Epoch 738: 100%|██████████| 64/64 [00:00<00:00, 68.92it/s]\n",
            "Epoch 739: 100%|██████████| 64/64 [00:00<00:00, 69.93it/s]\n",
            "Epoch 740: 100%|██████████| 64/64 [00:00<00:00, 68.45it/s]\n",
            "Epoch 741: 100%|██████████| 64/64 [00:00<00:00, 69.36it/s]\n",
            "Epoch 742: 100%|██████████| 64/64 [00:00<00:00, 70.51it/s]\n",
            "Epoch 743: 100%|██████████| 64/64 [00:00<00:00, 70.50it/s]\n",
            "Epoch 744: 100%|██████████| 64/64 [00:00<00:00, 70.90it/s]\n",
            "Epoch 745: 100%|██████████| 64/64 [00:00<00:00, 70.08it/s]\n",
            "Epoch 746: 100%|██████████| 64/64 [00:00<00:00, 70.08it/s]\n",
            "Epoch 747: 100%|██████████| 64/64 [00:00<00:00, 69.95it/s]\n",
            "Epoch 748: 100%|██████████| 64/64 [00:00<00:00, 70.28it/s]\n",
            "Epoch 749: 100%|██████████| 64/64 [00:00<00:00, 69.87it/s]\n",
            "Epoch 750: 100%|██████████| 64/64 [00:00<00:00, 70.87it/s]\n",
            "Epoch 751: 100%|██████████| 64/64 [00:00<00:00, 68.57it/s]\n",
            "Epoch 752: 100%|██████████| 64/64 [00:00<00:00, 70.19it/s]\n",
            "Epoch 753: 100%|██████████| 64/64 [00:00<00:00, 70.45it/s]\n",
            "Epoch 754: 100%|██████████| 64/64 [00:00<00:00, 69.83it/s]\n",
            "Epoch 755: 100%|██████████| 64/64 [00:00<00:00, 70.53it/s]\n",
            "Epoch 756: 100%|██████████| 64/64 [00:00<00:00, 70.33it/s]\n",
            "Epoch 757: 100%|██████████| 64/64 [00:00<00:00, 71.86it/s]\n",
            "Epoch 758: 100%|██████████| 64/64 [00:00<00:00, 72.59it/s]\n",
            "Epoch 759: 100%|██████████| 64/64 [00:00<00:00, 72.04it/s]\n",
            "Epoch 760: 100%|██████████| 64/64 [00:00<00:00, 72.84it/s]\n",
            "Epoch 761: 100%|██████████| 64/64 [00:00<00:00, 71.82it/s]\n",
            "Epoch 762: 100%|██████████| 64/64 [00:00<00:00, 72.51it/s]\n",
            "Epoch 763: 100%|██████████| 64/64 [00:00<00:00, 72.53it/s]\n",
            "Epoch 764: 100%|██████████| 64/64 [00:00<00:00, 72.35it/s]\n",
            "Epoch 765: 100%|██████████| 64/64 [00:00<00:00, 73.00it/s]\n",
            "Epoch 766: 100%|██████████| 64/64 [00:00<00:00, 71.94it/s]\n",
            "Epoch 767: 100%|██████████| 64/64 [00:00<00:00, 71.47it/s]\n",
            "Epoch 768: 100%|██████████| 64/64 [00:00<00:00, 70.69it/s]\n",
            "Epoch 769: 100%|██████████| 64/64 [00:00<00:00, 70.81it/s]\n",
            "Epoch 770: 100%|██████████| 64/64 [00:00<00:00, 70.47it/s]\n",
            "Epoch 771: 100%|██████████| 64/64 [00:00<00:00, 70.47it/s]\n",
            "Epoch 772: 100%|██████████| 64/64 [00:00<00:00, 70.62it/s]\n",
            "Epoch 773: 100%|██████████| 64/64 [00:00<00:00, 70.27it/s]\n",
            "Epoch 774: 100%|██████████| 64/64 [00:00<00:00, 69.88it/s]\n",
            "Epoch 775: 100%|██████████| 64/64 [00:00<00:00, 71.16it/s]\n",
            "Epoch 776: 100%|██████████| 64/64 [00:00<00:00, 70.08it/s]\n",
            "Epoch 777: 100%|██████████| 64/64 [00:00<00:00, 70.63it/s]\n",
            "Epoch 778: 100%|██████████| 64/64 [00:00<00:00, 70.31it/s]\n",
            "Epoch 779: 100%|██████████| 64/64 [00:00<00:00, 70.61it/s]\n",
            "Epoch 780: 100%|██████████| 64/64 [00:00<00:00, 71.39it/s]\n",
            "Epoch 781: 100%|██████████| 64/64 [00:00<00:00, 71.16it/s]\n",
            "Epoch 782: 100%|██████████| 64/64 [00:00<00:00, 70.60it/s]\n",
            "Epoch 783: 100%|██████████| 64/64 [00:00<00:00, 70.22it/s]\n",
            "Epoch 784: 100%|██████████| 64/64 [00:00<00:00, 71.31it/s]\n",
            "Epoch 785: 100%|██████████| 64/64 [00:00<00:00, 69.98it/s]\n",
            "Epoch 786: 100%|██████████| 64/64 [00:00<00:00, 70.39it/s]\n",
            "Epoch 787: 100%|██████████| 64/64 [00:00<00:00, 70.42it/s]\n",
            "Epoch 788: 100%|██████████| 64/64 [00:00<00:00, 71.26it/s]\n",
            "Epoch 789: 100%|██████████| 64/64 [00:00<00:00, 70.24it/s]\n",
            "Epoch 790: 100%|██████████| 64/64 [00:00<00:00, 72.31it/s]\n",
            "Epoch 791: 100%|██████████| 64/64 [00:00<00:00, 71.59it/s]\n",
            "Epoch 792: 100%|██████████| 64/64 [00:00<00:00, 72.06it/s]\n",
            "Epoch 793: 100%|██████████| 64/64 [00:00<00:00, 71.81it/s]\n",
            "Epoch 794: 100%|██████████| 64/64 [00:00<00:00, 71.20it/s]\n",
            "Epoch 795: 100%|██████████| 64/64 [00:00<00:00, 72.54it/s]\n",
            "Epoch 796: 100%|██████████| 64/64 [00:00<00:00, 70.60it/s]\n",
            "Epoch 797: 100%|██████████| 64/64 [00:00<00:00, 70.61it/s]\n",
            "Epoch 798: 100%|██████████| 64/64 [00:00<00:00, 71.62it/s]\n",
            "Epoch 799: 100%|██████████| 64/64 [00:00<00:00, 71.89it/s]\n",
            "Epoch 800: 100%|██████████| 64/64 [00:00<00:00, 71.66it/s]\n",
            "Epoch 801: 100%|██████████| 64/64 [00:00<00:00, 70.04it/s]\n",
            "Epoch 802: 100%|██████████| 64/64 [00:00<00:00, 69.89it/s]\n",
            "Epoch 803: 100%|██████████| 64/64 [00:00<00:00, 69.97it/s]\n",
            "Epoch 804: 100%|██████████| 64/64 [00:00<00:00, 69.71it/s]\n",
            "Epoch 805: 100%|██████████| 64/64 [00:00<00:00, 70.30it/s]\n",
            "Epoch 806: 100%|██████████| 64/64 [00:00<00:00, 70.74it/s]\n",
            "Epoch 807: 100%|██████████| 64/64 [00:00<00:00, 70.61it/s]\n",
            "Epoch 808: 100%|██████████| 64/64 [00:00<00:00, 70.23it/s]\n",
            "Epoch 809: 100%|██████████| 64/64 [00:00<00:00, 70.27it/s]\n",
            "Epoch 810: 100%|██████████| 64/64 [00:00<00:00, 70.64it/s]\n",
            "Epoch 811: 100%|██████████| 64/64 [00:00<00:00, 69.84it/s]\n",
            "Epoch 812: 100%|██████████| 64/64 [00:00<00:00, 70.51it/s]\n",
            "Epoch 813: 100%|██████████| 64/64 [00:00<00:00, 70.29it/s]\n",
            "Epoch 814: 100%|██████████| 64/64 [00:00<00:00, 70.86it/s]\n",
            "Epoch 815: 100%|██████████| 64/64 [00:00<00:00, 69.77it/s]\n",
            "Epoch 816: 100%|██████████| 64/64 [00:00<00:00, 70.78it/s]\n",
            "Epoch 817: 100%|██████████| 64/64 [00:00<00:00, 71.90it/s]\n",
            "Epoch 818: 100%|██████████| 64/64 [00:00<00:00, 70.79it/s]\n",
            "Epoch 819: 100%|██████████| 64/64 [00:00<00:00, 69.63it/s]\n",
            "Epoch 820: 100%|██████████| 64/64 [00:00<00:00, 70.03it/s]\n",
            "Epoch 821: 100%|██████████| 64/64 [00:00<00:00, 70.69it/s]\n",
            "Epoch 822: 100%|██████████| 64/64 [00:00<00:00, 71.37it/s]\n",
            "Epoch 823: 100%|██████████| 64/64 [00:00<00:00, 71.69it/s]\n",
            "Epoch 824: 100%|██████████| 64/64 [00:00<00:00, 72.06it/s]\n",
            "Epoch 825: 100%|██████████| 64/64 [00:00<00:00, 73.72it/s]\n",
            "Epoch 826: 100%|██████████| 64/64 [00:00<00:00, 72.25it/s]\n",
            "Epoch 827: 100%|██████████| 64/64 [00:00<00:00, 71.89it/s]\n",
            "Epoch 828: 100%|██████████| 64/64 [00:00<00:00, 71.27it/s]\n",
            "Epoch 829: 100%|██████████| 64/64 [00:00<00:00, 72.14it/s]\n",
            "Epoch 830: 100%|██████████| 64/64 [00:00<00:00, 71.47it/s]\n",
            "Epoch 831: 100%|██████████| 64/64 [00:00<00:00, 71.27it/s]\n",
            "Epoch 832: 100%|██████████| 64/64 [00:00<00:00, 71.46it/s]\n",
            "Epoch 833: 100%|██████████| 64/64 [00:00<00:00, 72.01it/s]\n",
            "Epoch 834: 100%|██████████| 64/64 [00:00<00:00, 71.98it/s]\n",
            "Epoch 835: 100%|██████████| 64/64 [00:00<00:00, 70.05it/s]\n",
            "Epoch 836: 100%|██████████| 64/64 [00:00<00:00, 71.51it/s]\n",
            "Epoch 837: 100%|██████████| 64/64 [00:00<00:00, 70.32it/s]\n",
            "Epoch 838: 100%|██████████| 64/64 [00:00<00:00, 70.63it/s]\n",
            "Epoch 839: 100%|██████████| 64/64 [00:00<00:00, 71.30it/s]\n",
            "Epoch 840: 100%|██████████| 64/64 [00:00<00:00, 71.22it/s]\n",
            "Epoch 841: 100%|██████████| 64/64 [00:00<00:00, 67.35it/s]\n",
            "Epoch 842: 100%|██████████| 64/64 [00:00<00:00, 70.02it/s]\n",
            "Epoch 843: 100%|██████████| 64/64 [00:00<00:00, 70.58it/s]\n",
            "Epoch 844: 100%|██████████| 64/64 [00:00<00:00, 70.35it/s]\n",
            "Epoch 845: 100%|██████████| 64/64 [00:00<00:00, 70.49it/s]\n",
            "Epoch 846: 100%|██████████| 64/64 [00:00<00:00, 70.73it/s]\n",
            "Epoch 847: 100%|██████████| 64/64 [00:00<00:00, 71.02it/s]\n",
            "Epoch 848: 100%|██████████| 64/64 [00:00<00:00, 70.71it/s]\n",
            "Epoch 849: 100%|██████████| 64/64 [00:00<00:00, 69.91it/s]\n",
            "Epoch 850: 100%|██████████| 64/64 [00:00<00:00, 71.35it/s]\n",
            "Epoch 851: 100%|██████████| 64/64 [00:00<00:00, 71.24it/s]\n",
            "Epoch 852: 100%|██████████| 64/64 [00:00<00:00, 70.94it/s]\n",
            "Epoch 853: 100%|██████████| 64/64 [00:00<00:00, 69.51it/s]\n",
            "Epoch 854: 100%|██████████| 64/64 [00:00<00:00, 70.64it/s]\n",
            "Epoch 855: 100%|██████████| 64/64 [00:00<00:00, 69.09it/s]\n",
            "Epoch 856: 100%|██████████| 64/64 [00:00<00:00, 73.34it/s]\n",
            "Epoch 857: 100%|██████████| 64/64 [00:00<00:00, 71.21it/s]\n",
            "Epoch 858: 100%|██████████| 64/64 [00:00<00:00, 72.39it/s]\n",
            "Epoch 859: 100%|██████████| 64/64 [00:00<00:00, 70.95it/s]\n",
            "Epoch 860: 100%|██████████| 64/64 [00:00<00:00, 71.99it/s]\n",
            "Epoch 861: 100%|██████████| 64/64 [00:00<00:00, 72.53it/s]\n",
            "Epoch 862: 100%|██████████| 64/64 [00:00<00:00, 71.57it/s]\n",
            "Epoch 863: 100%|██████████| 64/64 [00:00<00:00, 71.72it/s]\n",
            "Epoch 864: 100%|██████████| 64/64 [00:00<00:00, 71.89it/s]\n",
            "Epoch 865: 100%|██████████| 64/64 [00:00<00:00, 72.79it/s]\n",
            "Epoch 866: 100%|██████████| 64/64 [00:00<00:00, 72.32it/s]\n",
            "Epoch 867: 100%|██████████| 64/64 [00:00<00:00, 71.25it/s]\n",
            "Epoch 868: 100%|██████████| 64/64 [00:00<00:00, 70.81it/s]\n",
            "Epoch 869: 100%|██████████| 64/64 [00:00<00:00, 71.95it/s]\n",
            "Epoch 870: 100%|██████████| 64/64 [00:00<00:00, 70.64it/s]\n",
            "Epoch 871: 100%|██████████| 64/64 [00:00<00:00, 69.82it/s]\n",
            "Epoch 872: 100%|██████████| 64/64 [00:00<00:00, 71.32it/s]\n",
            "Epoch 873: 100%|██████████| 64/64 [00:00<00:00, 71.99it/s]\n",
            "Epoch 874: 100%|██████████| 64/64 [00:00<00:00, 70.76it/s]\n",
            "Epoch 875: 100%|██████████| 64/64 [00:00<00:00, 71.35it/s]\n",
            "Epoch 876: 100%|██████████| 64/64 [00:00<00:00, 71.20it/s]\n",
            "Epoch 877: 100%|██████████| 64/64 [00:00<00:00, 65.57it/s]\n",
            "Epoch 878: 100%|██████████| 64/64 [00:00<00:00, 70.85it/s]\n",
            "Epoch 879: 100%|██████████| 64/64 [00:00<00:00, 71.38it/s]\n",
            "Epoch 880: 100%|██████████| 64/64 [00:00<00:00, 70.87it/s]\n",
            "Epoch 881: 100%|██████████| 64/64 [00:00<00:00, 71.16it/s]\n",
            "Epoch 882: 100%|██████████| 64/64 [00:00<00:00, 70.47it/s]\n",
            "Epoch 883: 100%|██████████| 64/64 [00:00<00:00, 69.94it/s]\n",
            "Epoch 884: 100%|██████████| 64/64 [00:00<00:00, 70.94it/s]\n",
            "Epoch 885: 100%|██████████| 64/64 [00:00<00:00, 69.88it/s]\n",
            "Epoch 886: 100%|██████████| 64/64 [00:00<00:00, 70.54it/s]\n",
            "Epoch 887: 100%|██████████| 64/64 [00:00<00:00, 70.36it/s]\n",
            "Epoch 888: 100%|██████████| 64/64 [00:00<00:00, 70.78it/s]\n",
            "Epoch 889: 100%|██████████| 64/64 [00:00<00:00, 71.20it/s]\n",
            "Epoch 890: 100%|██████████| 64/64 [00:00<00:00, 69.64it/s]\n",
            "Epoch 891: 100%|██████████| 64/64 [00:00<00:00, 69.11it/s]\n",
            "Epoch 892: 100%|██████████| 64/64 [00:00<00:00, 69.98it/s]\n",
            "Epoch 893: 100%|██████████| 64/64 [00:00<00:00, 69.93it/s]\n",
            "Epoch 894: 100%|██████████| 64/64 [00:00<00:00, 70.90it/s]\n",
            "Epoch 895: 100%|██████████| 64/64 [00:00<00:00, 72.08it/s]\n",
            "Epoch 896: 100%|██████████| 64/64 [00:00<00:00, 71.73it/s]\n",
            "Epoch 897: 100%|██████████| 64/64 [00:00<00:00, 71.85it/s]\n",
            "Epoch 898: 100%|██████████| 64/64 [00:00<00:00, 71.02it/s]\n",
            "Epoch 899: 100%|██████████| 64/64 [00:00<00:00, 71.81it/s]\n",
            "Epoch 900: 100%|██████████| 64/64 [00:00<00:00, 71.05it/s]\n",
            "Epoch 901: 100%|██████████| 64/64 [00:00<00:00, 70.06it/s]\n",
            "Epoch 902: 100%|██████████| 64/64 [00:00<00:00, 70.56it/s]\n",
            "Epoch 903: 100%|██████████| 64/64 [00:00<00:00, 69.93it/s]\n",
            "Epoch 904: 100%|██████████| 64/64 [00:00<00:00, 69.88it/s]\n",
            "Epoch 905: 100%|██████████| 64/64 [00:00<00:00, 70.57it/s]\n",
            "Epoch 906: 100%|██████████| 64/64 [00:00<00:00, 71.37it/s]\n",
            "Epoch 907: 100%|██████████| 64/64 [00:00<00:00, 69.18it/s]\n",
            "Epoch 908: 100%|██████████| 64/64 [00:00<00:00, 70.22it/s]\n",
            "Epoch 909: 100%|██████████| 64/64 [00:00<00:00, 69.97it/s]\n",
            "Epoch 910: 100%|██████████| 64/64 [00:00<00:00, 69.58it/s]\n",
            "Epoch 911: 100%|██████████| 64/64 [00:00<00:00, 69.93it/s]\n",
            "Epoch 912: 100%|██████████| 64/64 [00:00<00:00, 70.53it/s]\n",
            "Epoch 913: 100%|██████████| 64/64 [00:00<00:00, 70.81it/s]\n",
            "Epoch 914: 100%|██████████| 64/64 [00:00<00:00, 70.05it/s]\n",
            "Epoch 915: 100%|██████████| 64/64 [00:00<00:00, 70.47it/s]\n",
            "Epoch 916: 100%|██████████| 64/64 [00:00<00:00, 71.16it/s]\n",
            "Epoch 917: 100%|██████████| 64/64 [00:00<00:00, 71.08it/s]\n",
            "Epoch 918: 100%|██████████| 64/64 [00:00<00:00, 71.67it/s]\n",
            "Epoch 919: 100%|██████████| 64/64 [00:00<00:00, 71.48it/s]\n",
            "Epoch 920: 100%|██████████| 64/64 [00:00<00:00, 70.78it/s]\n",
            "Epoch 921: 100%|██████████| 64/64 [00:00<00:00, 70.88it/s]\n",
            "Epoch 922: 100%|██████████| 64/64 [00:00<00:00, 72.91it/s]\n",
            "Epoch 923: 100%|██████████| 64/64 [00:00<00:00, 72.34it/s]\n",
            "Epoch 924: 100%|██████████| 64/64 [00:00<00:00, 72.07it/s]\n",
            "Epoch 925: 100%|██████████| 64/64 [00:00<00:00, 70.80it/s]\n",
            "Epoch 926: 100%|██████████| 64/64 [00:00<00:00, 71.27it/s]\n",
            "Epoch 927: 100%|██████████| 64/64 [00:00<00:00, 71.71it/s]\n",
            "Epoch 928: 100%|██████████| 64/64 [00:00<00:00, 72.15it/s]\n",
            "Epoch 929: 100%|██████████| 64/64 [00:00<00:00, 72.20it/s]\n",
            "Epoch 930: 100%|██████████| 64/64 [00:00<00:00, 72.61it/s]\n",
            "Epoch 931: 100%|██████████| 64/64 [00:00<00:00, 71.28it/s]\n",
            "Epoch 932: 100%|██████████| 64/64 [00:00<00:00, 67.16it/s]\n",
            "Epoch 933: 100%|██████████| 64/64 [00:00<00:00, 68.35it/s]\n",
            "Epoch 934: 100%|██████████| 64/64 [00:00<00:00, 67.45it/s]\n",
            "Epoch 935: 100%|██████████| 64/64 [00:00<00:00, 66.76it/s]\n",
            "Epoch 936: 100%|██████████| 64/64 [00:00<00:00, 67.34it/s]\n",
            "Epoch 937: 100%|██████████| 64/64 [00:00<00:00, 66.37it/s]\n",
            "Epoch 938: 100%|██████████| 64/64 [00:00<00:00, 66.50it/s]\n",
            "Epoch 939: 100%|██████████| 64/64 [00:00<00:00, 66.06it/s]\n",
            "Epoch 940: 100%|██████████| 64/64 [00:00<00:00, 67.78it/s]\n",
            "Epoch 941: 100%|██████████| 64/64 [00:00<00:00, 65.65it/s]\n",
            "Epoch 942: 100%|██████████| 64/64 [00:00<00:00, 67.92it/s]\n",
            "Epoch 943: 100%|██████████| 64/64 [00:00<00:00, 69.26it/s]\n",
            "Epoch 944: 100%|██████████| 64/64 [00:00<00:00, 69.93it/s]\n",
            "Epoch 945: 100%|██████████| 64/64 [00:00<00:00, 70.22it/s]\n",
            "Epoch 946: 100%|██████████| 64/64 [00:00<00:00, 69.91it/s]\n",
            "Epoch 947: 100%|██████████| 64/64 [00:00<00:00, 70.38it/s]\n",
            "Epoch 948: 100%|██████████| 64/64 [00:00<00:00, 70.96it/s]\n",
            "Epoch 949: 100%|██████████| 64/64 [00:00<00:00, 70.74it/s]\n",
            "Epoch 950: 100%|██████████| 64/64 [00:00<00:00, 70.81it/s]\n",
            "Epoch 951: 100%|██████████| 64/64 [00:00<00:00, 70.87it/s]\n",
            "Epoch 952: 100%|██████████| 64/64 [00:00<00:00, 70.54it/s]\n",
            "Epoch 953: 100%|██████████| 64/64 [00:00<00:00, 70.26it/s]\n",
            "Epoch 954: 100%|██████████| 64/64 [00:00<00:00, 70.68it/s]\n",
            "Epoch 955: 100%|██████████| 64/64 [00:00<00:00, 71.87it/s]\n",
            "Epoch 956: 100%|██████████| 64/64 [00:00<00:00, 72.77it/s]\n",
            "Epoch 957: 100%|██████████| 64/64 [00:00<00:00, 70.43it/s]\n",
            "Epoch 958: 100%|██████████| 64/64 [00:00<00:00, 71.66it/s]\n",
            "Epoch 959: 100%|██████████| 64/64 [00:00<00:00, 72.66it/s]\n",
            "Epoch 960: 100%|██████████| 64/64 [00:00<00:00, 72.37it/s]\n",
            "Epoch 961: 100%|██████████| 64/64 [00:00<00:00, 72.52it/s]\n",
            "Epoch 962: 100%|██████████| 64/64 [00:00<00:00, 71.69it/s]\n",
            "Epoch 963: 100%|██████████| 64/64 [00:00<00:00, 72.54it/s]\n",
            "Epoch 964: 100%|██████████| 64/64 [00:00<00:00, 73.79it/s]\n",
            "Epoch 965: 100%|██████████| 64/64 [00:00<00:00, 71.54it/s]\n",
            "Epoch 966: 100%|██████████| 64/64 [00:00<00:00, 69.38it/s]\n",
            "Epoch 967: 100%|██████████| 64/64 [00:00<00:00, 70.42it/s]\n",
            "Epoch 968: 100%|██████████| 64/64 [00:00<00:00, 70.06it/s]\n",
            "Epoch 969: 100%|██████████| 64/64 [00:00<00:00, 71.38it/s]\n",
            "Epoch 970: 100%|██████████| 64/64 [00:00<00:00, 69.54it/s]\n",
            "Epoch 971: 100%|██████████| 64/64 [00:00<00:00, 70.18it/s]\n",
            "Epoch 972: 100%|██████████| 64/64 [00:00<00:00, 65.37it/s]\n",
            "Epoch 973: 100%|██████████| 64/64 [00:00<00:00, 67.52it/s]\n",
            "Epoch 974: 100%|██████████| 64/64 [00:00<00:00, 68.35it/s]\n",
            "Epoch 975: 100%|██████████| 64/64 [00:00<00:00, 67.33it/s]\n",
            "Epoch 976: 100%|██████████| 64/64 [00:00<00:00, 66.76it/s]\n",
            "Epoch 977: 100%|██████████| 64/64 [00:00<00:00, 67.71it/s]\n",
            "Epoch 978: 100%|██████████| 64/64 [00:00<00:00, 68.66it/s]\n",
            "Epoch 979: 100%|██████████| 64/64 [00:00<00:00, 68.21it/s]\n",
            "Epoch 980: 100%|██████████| 64/64 [00:00<00:00, 69.12it/s]\n",
            "Epoch 981: 100%|██████████| 64/64 [00:00<00:00, 69.46it/s]\n",
            "Epoch 982: 100%|██████████| 64/64 [00:00<00:00, 70.74it/s]\n",
            "Epoch 983: 100%|██████████| 64/64 [00:00<00:00, 71.17it/s]\n",
            "Epoch 984: 100%|██████████| 64/64 [00:00<00:00, 70.49it/s]\n",
            "Epoch 985: 100%|██████████| 64/64 [00:00<00:00, 70.93it/s]\n",
            "Epoch 986: 100%|██████████| 64/64 [00:00<00:00, 69.54it/s]\n",
            "Epoch 987: 100%|██████████| 64/64 [00:00<00:00, 71.66it/s]\n",
            "Epoch 988: 100%|██████████| 64/64 [00:00<00:00, 70.87it/s]\n",
            "Epoch 989: 100%|██████████| 64/64 [00:00<00:00, 71.90it/s]\n",
            "Epoch 990: 100%|██████████| 64/64 [00:00<00:00, 71.69it/s]\n",
            "Epoch 991: 100%|██████████| 64/64 [00:00<00:00, 71.30it/s]\n",
            "Epoch 992: 100%|██████████| 64/64 [00:00<00:00, 71.48it/s]\n",
            "Epoch 993: 100%|██████████| 64/64 [00:00<00:00, 72.56it/s]\n",
            "Epoch 994: 100%|██████████| 64/64 [00:00<00:00, 73.95it/s]\n",
            "Epoch 995: 100%|██████████| 64/64 [00:00<00:00, 72.08it/s]\n",
            "Epoch 996: 100%|██████████| 64/64 [00:00<00:00, 72.12it/s]\n",
            "Epoch 997: 100%|██████████| 64/64 [00:00<00:00, 71.95it/s]\n",
            "Epoch 998: 100%|██████████| 64/64 [00:00<00:00, 71.33it/s]\n",
            "Epoch 999: 100%|██████████| 64/64 [00:00<00:00, 69.87it/s]\n",
            "Epoch 1000: 100%|██████████| 64/64 [00:00<00:00, 71.39it/s]\n"
          ],
          "name": "stderr"
        }
      ]
    },
    {
      "cell_type": "markdown",
      "metadata": {
        "id": "0LxVum1fgJps",
        "colab_type": "text"
      },
      "source": [
        "## 3.3 Display the results"
      ]
    },
    {
      "cell_type": "code",
      "metadata": {
        "id": "Ir-d9FFwgHIo",
        "colab_type": "code",
        "outputId": "f398d8ab-395f-42e4-b027-73233267488b",
        "colab": {
          "base_uri": "https://localhost:8080/",
          "height": 496
        }
      },
      "source": [
        "plot_sample( sample_image )\n",
        "\n",
        "for i in range(16):\n",
        "  plot_output( 0, theGenerator, examples=16, initial=True )"
      ],
      "execution_count": 28,
      "outputs": [
        {
          "output_type": "display_data",
          "data": {
            "image/png": "[encoded data removed]",
            "text/plain": [
              "<PIL.Image.Image image mode=P size=280x28 at 0x7F4113501D30>"
            ]
          },
          "metadata": {
            "tags": []
          }
        },
        {
          "output_type": "display_data",
          "data": {
            "image/png": "[encoded data removed]",
            "text/plain": [
              "<PIL.Image.Image image mode=P size=448x28 at 0x7F4113501D30>"
            ]
          },
          "metadata": {
            "tags": []
          }
        },
        {
          "output_type": "display_data",
          "data": {
            "image/png": "[encoded data removed]",
            "text/plain": [
              "<PIL.Image.Image image mode=P size=448x28 at 0x7F4113501E80>"
            ]
          },
          "metadata": {
            "tags": []
          }
        },
        {
          "output_type": "display_data",
          "data": {
            "image/png": "[encoded data removed]",
            "text/plain": [
              "<PIL.Image.Image image mode=P size=448x28 at 0x7F4113501F60>"
            ]
          },
          "metadata": {
            "tags": []
          }
        },
        {
          "output_type": "display_data",
          "data": {
            "image/png": "[encoded data removed]",
            "text/plain": [
              "<PIL.Image.Image image mode=P size=448x28 at 0x7F4113501D30>"
            ]
          },
          "metadata": {
            "tags": []
          }
        },
        {
          "output_type": "display_data",
          "data": {
            "image/png": "[encoded data removed]",
            "text/plain": [
              "<PIL.Image.Image image mode=P size=448x28 at 0x7F4113501E48>"
            ]
          },
          "metadata": {
            "tags": []
          }
        },
        {
          "output_type": "display_data",
          "data": {
            "image/png": "[encoded data removed]",
            "text/plain": [
              "<PIL.Image.Image image mode=P size=448x28 at 0x7F4113501FD0>"
            ]
          },
          "metadata": {
            "tags": []
          }
        },
        {
          "output_type": "display_data",
          "data": {
            "image/png": "[encoded data removed]",
            "text/plain": [
              "<PIL.Image.Image image mode=P size=448x28 at 0x7F4113501F98>"
            ]
          },
          "metadata": {
            "tags": []
          }
        },
        {
          "output_type": "display_data",
          "data": {
            "image/png": "[encoded data removed]",
            "text/plain": [
              "<PIL.Image.Image image mode=P size=448x28 at 0x7F41135010B8>"
            ]
          },
          "metadata": {
            "tags": []
          }
        },
        {
          "output_type": "display_data",
          "data": {
            "image/png": "[encoded data removed]",
            "text/plain": [
              "<PIL.Image.Image image mode=P size=448x28 at 0x7F4113501E80>"
            ]
          },
          "metadata": {
            "tags": []
          }
        },
        {
          "output_type": "display_data",
          "data": {
            "image/png": "[encoded data removed]",
            "text/plain": [
              "<PIL.Image.Image image mode=P size=448x28 at 0x7F4113501F60>"
            ]
          },
          "metadata": {
            "tags": []
          }
        },
        {
          "output_type": "display_data",
          "data": {
            "image/png": "[encoded data removed]",
            "text/plain": [
              "<PIL.Image.Image image mode=P size=448x28 at 0x7F4113501D30>"
            ]
          },
          "metadata": {
            "tags": []
          }
        },
        {
          "output_type": "display_data",
          "data": {
            "image/png": "[encoded data removed]",
            "text/plain": [
              "<PIL.Image.Image image mode=P size=448x28 at 0x7F4113501E48>"
            ]
          },
          "metadata": {
            "tags": []
          }
        },
        {
          "output_type": "display_data",
          "data": {
            "image/png": "[encoded data removed]",
            "text/plain": [
              "<PIL.Image.Image image mode=P size=448x28 at 0x7F4113501FD0>"
            ]
          },
          "metadata": {
            "tags": []
          }
        },
        {
          "output_type": "display_data",
          "data": {
            "image/png": "[encoded data removed]",
            "text/plain": [
              "<PIL.Image.Image image mode=P size=448x28 at 0x7F4113501E48>"
            ]
          },
          "metadata": {
            "tags": []
          }
        },
        {
          "output_type": "display_data",
          "data": {
            "image/png": "[encoded data removed]",
            "text/plain": [
              "<PIL.Image.Image image mode=P size=448x28 at 0x7F4113501F60>"
            ]
          },
          "metadata": {
            "tags": []
          }
        },
        {
          "output_type": "display_data",
          "data": {
            "image/png": "[encoded data removed]",
            "text/plain": [
              "<PIL.Image.Image image mode=P size=448x28 at 0x7F4113501E48>"
            ]
          },
          "metadata": {
            "tags": []
          }
        }
      ]
    },
    {
      "cell_type": "markdown",
      "metadata": {
        "id": "KexCjfZlpsts",
        "colab_type": "text"
      },
      "source": [
        "# 4. Save the model to Google Drive\n",
        "\n"
      ]
    },
    {
      "cell_type": "code",
      "metadata": {
        "id": "ytXyE8QQp9mm",
        "colab_type": "code",
        "colab": {
          "base_uri": "https://localhost:8080/",
          "height": 55
        },
        "outputId": "5ec7c4c6-3227-405f-bb02-3494453b8750"
      },
      "source": [
        "from google.colab import drive\n",
        "drive.mount('/content/gdrive')\n"
      ],
      "execution_count": 29,
      "outputs": [
        {
          "output_type": "stream",
          "text": [
            "Drive already mounted at /content/gdrive; to attempt to forcibly remount, call drive.mount(\"/content/gdrive\", force_remount=True).\n"
          ],
          "name": "stdout"
        }
      ]
    },
    {
      "cell_type": "code",
      "metadata": {
        "id": "Fhi2RvkVz9E8",
        "colab_type": "code",
        "colab": {}
      },
      "source": [
        "GDrivePath = F\"/content/gdrive/'My Drive'/MachineLearning/'10 Generative Adversarial Network'\" \n",
        "\n",
        "theGan.save('theGan.h5')\n",
        "theDiscriminator.save('theDiscriminator.h5')\n",
        "theGenerator.save('theGenerator.h5')\n"
      ],
      "execution_count": 0,
      "outputs": []
    },
    {
      "cell_type": "code",
      "metadata": {
        "id": "QAGPwDB_1vM_",
        "colab_type": "code",
        "colab": {
          "base_uri": "https://localhost:8080/",
          "height": 35
        },
        "outputId": "13ee154c-cfd3-432b-c06e-def9639cfd78"
      },
      "source": [
        "!cp *.h5 $GDrivePath\n",
        "!ls $GDrivePath"
      ],
      "execution_count": 31,
      "outputs": [
        {
          "output_type": "stream",
          "text": [
            "theDiscriminator.h5  theGan.h5\ttheGenerator.h5\n"
          ],
          "name": "stdout"
        }
      ]
    },
    {
      "cell_type": "markdown",
      "metadata": {
        "id": "GY_0SPW7fep_",
        "colab_type": "text"
      },
      "source": [
        "# 5. Others, for testing purpose\n",
        "\n",
        "\n",
        "Reference:\n",
        "* https://medium.com/datadriveninvestor/generative-adversarial-network-gan-using-keras-ce1c05cfdfd3\n",
        "* https://blog.insightdatascience.com/generating-custom-photo-realistic-faces-using-ai-d170b1b59255\n",
        "\n",
        "\n"
      ]
    },
    {
      "cell_type": "code",
      "metadata": {
        "id": "X9uV0y59a4iZ",
        "colab_type": "code",
        "outputId": "5aa01719-de55-464e-b9f2-aa0751a69e47",
        "colab": {
          "base_uri": "https://localhost:8080/",
          "height": 299
        }
      },
      "source": [
        "#Pick the sample images\n",
        "for j in range(0,10):\n",
        "  sample = np.empty(shape=10).astype('uint8')\n",
        "  for i in range(0,10):\n",
        "    sample[i] = np.where(y_train==i)[0][j]\n",
        "\n",
        "  image_batch = X_train[sample]\n",
        "  plot_sample( image_batch )\n"
      ],
      "execution_count": 32,
      "outputs": [
        {
          "output_type": "display_data",
          "data": {
            "image/png": "[encoded data removed]",
            "text/plain": [
              "<PIL.Image.Image image mode=P size=280x28 at 0x7F41134C61D0>"
            ]
          },
          "metadata": {
            "tags": []
          }
        },
        {
          "output_type": "display_data",
          "data": {
            "image/png": "[encoded data removed]",
            "text/plain": [
              "<PIL.Image.Image image mode=P size=280x28 at 0x7F41134C6208>"
            ]
          },
          "metadata": {
            "tags": []
          }
        },
        {
          "output_type": "display_data",
          "data": {
            "image/png": "[encoded data removed]",
            "text/plain": [
              "<PIL.Image.Image image mode=P size=280x28 at 0x7F41134C6278>"
            ]
          },
          "metadata": {
            "tags": []
          }
        },
        {
          "output_type": "display_data",
          "data": {
            "image/png": "[encoded data removed]",
            "text/plain": [
              "<PIL.Image.Image image mode=P size=280x28 at 0x7F41134C6160>"
            ]
          },
          "metadata": {
            "tags": []
          }
        },
        {
          "output_type": "display_data",
          "data": {
            "image/png": "[encoded data removed]",
            "text/plain": [
              "<PIL.Image.Image image mode=P size=280x28 at 0x7F41134C6198>"
            ]
          },
          "metadata": {
            "tags": []
          }
        },
        {
          "output_type": "display_data",
          "data": {
            "image/png": "[encoded data removed]",
            "text/plain": [
              "<PIL.Image.Image image mode=P size=280x28 at 0x7F41134C61D0>"
            ]
          },
          "metadata": {
            "tags": []
          }
        },
        {
          "output_type": "display_data",
          "data": {
            "image/png": "[encoded data removed]",
            "text/plain": [
              "<PIL.Image.Image image mode=P size=280x28 at 0x7F41134C6208>"
            ]
          },
          "metadata": {
            "tags": []
          }
        },
        {
          "output_type": "display_data",
          "data": {
            "image/png": "[encoded data removed]",
            "text/plain": [
              "<PIL.Image.Image image mode=P size=280x28 at 0x7F41134C6278>"
            ]
          },
          "metadata": {
            "tags": []
          }
        },
        {
          "output_type": "display_data",
          "data": {
            "image/png": "[encoded data removed]",
            "text/plain": [
              "<PIL.Image.Image image mode=P size=280x28 at 0x7F41134C6160>"
            ]
          },
          "metadata": {
            "tags": []
          }
        },
        {
          "output_type": "display_data",
          "data": {
            "image/png": "[encoded data removed]",
            "text/plain": [
              "<PIL.Image.Image image mode=P size=280x28 at 0x7F41134C62B0>"
            ]
          },
          "metadata": {
            "tags": []
          }
        }
      ]
    },
    {
      "cell_type": "code",
      "metadata": {
        "id": "u11Kw8VdTmpC",
        "colab_type": "code",
        "outputId": "6a01d8d4-7d5d-4c8c-cb7f-cedbfb24a29a",
        "colab": {
          "base_uri": "https://localhost:8080/",
          "height": 64
        }
      },
      "source": [
        "plot_sample( X_gan[0:20,:] )"
      ],
      "execution_count": 33,
      "outputs": [
        {
          "output_type": "display_data",
          "data": {
            "image/png": "[encoded data removed]",
            "text/plain": [
              "<PIL.Image.Image image mode=P size=560x28 at 0x7F41134C6710>"
            ]
          },
          "metadata": {
            "tags": []
          }
        },
        {
          "output_type": "execute_result",
          "data": {
            "text/plain": [
              "<DisplayHandle display_id=4132575413ce95db131eb56c505e53af>"
            ]
          },
          "metadata": {
            "tags": []
          },
          "execution_count": 33
        }
      ]
    },
    {
      "cell_type": "code",
      "metadata": {
        "id": "RLjHW0pMVcWX",
        "colab_type": "code",
        "outputId": "0815d12c-5c62-4de0-8c53-51dc00e7a6ce",
        "colab": {
          "base_uri": "https://localhost:8080/",
          "height": 108
        }
      },
      "source": [
        "y_gan"
      ],
      "execution_count": 34,
      "outputs": [
        {
          "output_type": "execute_result",
          "data": {
            "text/plain": [
              "array([1., 1., 1., 1., 1., 1., 1., 1., 1., 1., 0., 0., 0., 0., 0., 0., 0.,\n",
              "       0., 0., 0., 0., 0., 0., 0., 0., 0., 0., 0., 0., 0., 0., 0., 0., 0.,\n",
              "       0., 0., 0., 0., 0., 0., 0., 0., 0., 0., 0., 0., 0., 0., 0., 0., 0.,\n",
              "       0., 0., 0., 0., 0., 0., 0., 0., 0., 0., 0., 0., 0., 0., 0., 0., 0.,\n",
              "       0., 0., 0., 0., 0., 0.], dtype=float32)"
            ]
          },
          "metadata": {
            "tags": []
          },
          "execution_count": 34
        }
      ]
    }
  ]
}